{
 "cells": [
  {
   "cell_type": "markdown",
   "id": "4caea227",
   "metadata": {},
   "source": [
    "### 1. Data Wrangling of Audible Dataset"
   ]
  },
  {
   "cell_type": "code",
   "execution_count": 1,
   "id": "0978eb1f",
   "metadata": {},
   "outputs": [],
   "source": [
    "import pandas as pd\n",
    "import numpy as np\n",
    "import matplotlib.pyplot as plt"
   ]
  },
  {
   "cell_type": "code",
   "execution_count": 2,
   "id": "52743588",
   "metadata": {},
   "outputs": [],
   "source": [
    "pd.options.display.max_rows = 50000"
   ]
  },
  {
   "cell_type": "code",
   "execution_count": 2,
   "id": "1ffe21d3",
   "metadata": {},
   "outputs": [],
   "source": [
    "#import ydata_profiling as yp"
   ]
  },
  {
   "cell_type": "code",
   "execution_count": 12,
   "id": "d151d95f",
   "metadata": {},
   "outputs": [],
   "source": [
    "#read data\n",
    "audible_data = pd.read_csv(\"data/audible_dataset/audible_uncleaned.csv\")"
   ]
  },
  {
   "cell_type": "markdown",
   "id": "5916cd42",
   "metadata": {},
   "source": [
    "Below, I've tried out **`ydata-profiling`** pacakge to generate a basic overview report on the datafile. It highlights a lot of features in the dataset like number of duplicates, missing values, encoding, language consistency etc.  \n",
    "[This](https://www.blog.datahut.co/post/data-cleaning-techniques) is a great blog on cleaning scraped data."
   ]
  },
  {
   "cell_type": "code",
   "execution_count": 4,
   "id": "550d44e8",
   "metadata": {},
   "outputs": [],
   "source": [
    "#original_report = yp.ProfileReport(audible_data, title = \"Prelim Analysis\")\n",
    "#original_report.to_file(\"audible_prelim_report.html\")"
   ]
  },
  {
   "cell_type": "code",
   "execution_count": 4,
   "id": "9bd106d6",
   "metadata": {},
   "outputs": [
    {
     "data": {
      "text/html": [
       "<div>\n",
       "<style scoped>\n",
       "    .dataframe tbody tr th:only-of-type {\n",
       "        vertical-align: middle;\n",
       "    }\n",
       "\n",
       "    .dataframe tbody tr th {\n",
       "        vertical-align: top;\n",
       "    }\n",
       "\n",
       "    .dataframe thead th {\n",
       "        text-align: right;\n",
       "    }\n",
       "</style>\n",
       "<table border=\"1\" class=\"dataframe\">\n",
       "  <thead>\n",
       "    <tr style=\"text-align: right;\">\n",
       "      <th></th>\n",
       "      <th>name</th>\n",
       "      <th>author</th>\n",
       "      <th>narrator</th>\n",
       "      <th>time</th>\n",
       "      <th>releasedate</th>\n",
       "      <th>language</th>\n",
       "      <th>stars</th>\n",
       "      <th>price</th>\n",
       "    </tr>\n",
       "  </thead>\n",
       "  <tbody>\n",
       "    <tr>\n",
       "      <th>82306</th>\n",
       "      <td>The White Silence</td>\n",
       "      <td>Writtenby:JackLondon</td>\n",
       "      <td>Narratedby:JohnChatty</td>\n",
       "      <td>24 mins</td>\n",
       "      <td>25-06-07</td>\n",
       "      <td>English</td>\n",
       "      <td>Not rated yet</td>\n",
       "      <td>65.00</td>\n",
       "    </tr>\n",
       "    <tr>\n",
       "      <th>10069</th>\n",
       "      <td>Ivy</td>\n",
       "      <td>Writtenby:KatherineCoville</td>\n",
       "      <td>Narratedby:CarmenVivianoCrafts,CynthiaBishop,H...</td>\n",
       "      <td>2 hrs and 3 mins</td>\n",
       "      <td>21-06-21</td>\n",
       "      <td>English</td>\n",
       "      <td>Not rated yet</td>\n",
       "      <td>305.00</td>\n",
       "    </tr>\n",
       "    <tr>\n",
       "      <th>81870</th>\n",
       "      <td>Open Mic</td>\n",
       "      <td>Writtenby:MitaliPerkins</td>\n",
       "      <td>Narratedby:MitaliPerkins,ToddHaberkorn,JDJackson,</td>\n",
       "      <td>2 hrs and 48 mins</td>\n",
       "      <td>10-09-13</td>\n",
       "      <td>English</td>\n",
       "      <td>Not rated yet</td>\n",
       "      <td>352.00</td>\n",
       "    </tr>\n",
       "    <tr>\n",
       "      <th>5885</th>\n",
       "      <td>The Negro Leagues</td>\n",
       "      <td>Writtenby:MattDoeden</td>\n",
       "      <td>Narratedby:BookBuddyDigitalMedia</td>\n",
       "      <td>1 hr and 11 mins</td>\n",
       "      <td>06-05-21</td>\n",
       "      <td>English</td>\n",
       "      <td>Not rated yet</td>\n",
       "      <td>469.00</td>\n",
       "    </tr>\n",
       "  </tbody>\n",
       "</table>\n",
       "</div>"
      ],
      "text/plain": [
       "                    name                      author  \\\n",
       "82306  The White Silence        Writtenby:JackLondon   \n",
       "10069                Ivy  Writtenby:KatherineCoville   \n",
       "81870           Open Mic     Writtenby:MitaliPerkins   \n",
       "5885   The Negro Leagues        Writtenby:MattDoeden   \n",
       "\n",
       "                                                narrator               time  \\\n",
       "82306                              Narratedby:JohnChatty            24 mins   \n",
       "10069  Narratedby:CarmenVivianoCrafts,CynthiaBishop,H...   2 hrs and 3 mins   \n",
       "81870  Narratedby:MitaliPerkins,ToddHaberkorn,JDJackson,  2 hrs and 48 mins   \n",
       "5885                    Narratedby:BookBuddyDigitalMedia   1 hr and 11 mins   \n",
       "\n",
       "      releasedate language          stars   price  \n",
       "82306    25-06-07  English  Not rated yet   65.00  \n",
       "10069    21-06-21  English  Not rated yet  305.00  \n",
       "81870    10-09-13  English  Not rated yet  352.00  \n",
       "5885     06-05-21  English  Not rated yet  469.00  "
      ]
     },
     "execution_count": 4,
     "metadata": {},
     "output_type": "execute_result"
    }
   ],
   "source": [
    "audible_data.sample(4)"
   ]
  },
  {
   "cell_type": "code",
   "execution_count": 13,
   "id": "7c04cff3",
   "metadata": {},
   "outputs": [
    {
     "name": "stdout",
     "output_type": "stream",
     "text": [
      "<class 'pandas.core.frame.DataFrame'>\n",
      "RangeIndex: 87489 entries, 0 to 87488\n",
      "Data columns (total 8 columns):\n",
      " #   Column       Non-Null Count  Dtype \n",
      "---  ------       --------------  ----- \n",
      " 0   name         87489 non-null  object\n",
      " 1   author       87489 non-null  object\n",
      " 2   narrator     87489 non-null  object\n",
      " 3   time         87489 non-null  object\n",
      " 4   releasedate  87489 non-null  object\n",
      " 5   language     87489 non-null  object\n",
      " 6   stars        87489 non-null  object\n",
      " 7   price        87489 non-null  object\n",
      "dtypes: object(8)\n",
      "memory usage: 5.3+ MB\n"
     ]
    }
   ],
   "source": [
    "audible_data.info()"
   ]
  },
  {
   "cell_type": "code",
   "execution_count": 15,
   "id": "84cd5223",
   "metadata": {},
   "outputs": [
    {
     "data": {
      "text/html": [
       "<div>\n",
       "<style scoped>\n",
       "    .dataframe tbody tr th:only-of-type {\n",
       "        vertical-align: middle;\n",
       "    }\n",
       "\n",
       "    .dataframe tbody tr th {\n",
       "        vertical-align: top;\n",
       "    }\n",
       "\n",
       "    .dataframe thead th {\n",
       "        text-align: right;\n",
       "    }\n",
       "</style>\n",
       "<table border=\"1\" class=\"dataframe\">\n",
       "  <thead>\n",
       "    <tr style=\"text-align: right;\">\n",
       "      <th></th>\n",
       "      <th>name</th>\n",
       "      <th>author</th>\n",
       "      <th>narrator</th>\n",
       "      <th>time</th>\n",
       "      <th>releasedate</th>\n",
       "      <th>language</th>\n",
       "      <th>stars</th>\n",
       "      <th>price</th>\n",
       "    </tr>\n",
       "  </thead>\n",
       "  <tbody>\n",
       "    <tr>\n",
       "      <th>count</th>\n",
       "      <td>87489</td>\n",
       "      <td>87489</td>\n",
       "      <td>87489</td>\n",
       "      <td>87489</td>\n",
       "      <td>87489</td>\n",
       "      <td>87489</td>\n",
       "      <td>87489</td>\n",
       "      <td>87489</td>\n",
       "    </tr>\n",
       "    <tr>\n",
       "      <th>unique</th>\n",
       "      <td>82767</td>\n",
       "      <td>48374</td>\n",
       "      <td>29717</td>\n",
       "      <td>2284</td>\n",
       "      <td>5058</td>\n",
       "      <td>36</td>\n",
       "      <td>665</td>\n",
       "      <td>1011</td>\n",
       "    </tr>\n",
       "    <tr>\n",
       "      <th>top</th>\n",
       "      <td>The Art of War</td>\n",
       "      <td>Writtenby:矢島雅弘,石橋遊</td>\n",
       "      <td>Narratedby:anonymous</td>\n",
       "      <td>2 mins</td>\n",
       "      <td>16-05-18</td>\n",
       "      <td>English</td>\n",
       "      <td>Not rated yet</td>\n",
       "      <td>586.00</td>\n",
       "    </tr>\n",
       "    <tr>\n",
       "      <th>freq</th>\n",
       "      <td>20</td>\n",
       "      <td>874</td>\n",
       "      <td>1034</td>\n",
       "      <td>372</td>\n",
       "      <td>773</td>\n",
       "      <td>61884</td>\n",
       "      <td>72417</td>\n",
       "      <td>5533</td>\n",
       "    </tr>\n",
       "  </tbody>\n",
       "</table>\n",
       "</div>"
      ],
      "text/plain": [
       "                  name              author              narrator    time  \\\n",
       "count            87489               87489                 87489   87489   \n",
       "unique           82767               48374                 29717    2284   \n",
       "top     The Art of War  Writtenby:矢島雅弘,石橋遊  Narratedby:anonymous  2 mins   \n",
       "freq                20                 874                  1034     372   \n",
       "\n",
       "       releasedate language          stars   price  \n",
       "count        87489    87489          87489   87489  \n",
       "unique        5058       36            665    1011  \n",
       "top       16-05-18  English  Not rated yet  586.00  \n",
       "freq           773    61884          72417    5533  "
      ]
     },
     "execution_count": 15,
     "metadata": {},
     "output_type": "execute_result"
    }
   ],
   "source": [
    "audible_data.describe()"
   ]
  },
  {
   "cell_type": "markdown",
   "id": "0ff62ec3",
   "metadata": {},
   "source": [
    "From the `describe()` output, we can see that there are a total of 87,489 books but only 82,767 of them are unique entries. Some books have multiple rows maybe due to a different language of publication or a different narrator etc.  \n",
    "Below, I have listed out books with equal to or more than 10 entries in the dataset."
   ]
  },
  {
   "cell_type": "code",
   "execution_count": 16,
   "id": "50b7a3d1",
   "metadata": {},
   "outputs": [
    {
     "data": {
      "text/plain": [
       "The Art of War                 20\n",
       "Sterling Biographies           19\n",
       "The Odyssey                    16\n",
       "Sterling Point Books           16\n",
       "Hamlet                         15\n",
       "The Prophet                    14\n",
       "Pride and Prejudice            14\n",
       "A Christmas Carol              14\n",
       "The Iliad                      13\n",
       "As a Man Thinketh              13\n",
       "The Science of Getting Rich    13\n",
       "The Picture of Dorian Gray     12\n",
       "Abraham Lincoln                12\n",
       "Meditations                    11\n",
       "The Richest Man in Babylon     11\n",
       "The Raven                      11\n",
       "The Prince                     11\n",
       "Unstoppable                    10\n",
       "Name: name, dtype: int64"
      ]
     },
     "execution_count": 16,
     "metadata": {},
     "output_type": "execute_result"
    }
   ],
   "source": [
    "#checking number of occurances of same book\n",
    "book_counts = audible_data['name'].value_counts()\n",
    "book_counts[book_counts >= 10]"
   ]
  },
  {
   "cell_type": "markdown",
   "id": "0b9c140e",
   "metadata": {},
   "source": [
    "No duplicate rows found."
   ]
  },
  {
   "cell_type": "code",
   "execution_count": 17,
   "id": "0d8e5da2",
   "metadata": {},
   "outputs": [
    {
     "data": {
      "text/plain": [
       "0"
      ]
     },
     "execution_count": 17,
     "metadata": {},
     "output_type": "execute_result"
    }
   ],
   "source": [
    "#check for duplicate rows\n",
    "audible_data.duplicated().sum()"
   ]
  },
  {
   "cell_type": "code",
   "execution_count": 18,
   "id": "2bbb6f80",
   "metadata": {},
   "outputs": [
    {
     "data": {
      "text/html": [
       "<div>\n",
       "<style scoped>\n",
       "    .dataframe tbody tr th:only-of-type {\n",
       "        vertical-align: middle;\n",
       "    }\n",
       "\n",
       "    .dataframe tbody tr th {\n",
       "        vertical-align: top;\n",
       "    }\n",
       "\n",
       "    .dataframe thead th {\n",
       "        text-align: right;\n",
       "    }\n",
       "</style>\n",
       "<table border=\"1\" class=\"dataframe\">\n",
       "  <thead>\n",
       "    <tr style=\"text-align: right;\">\n",
       "      <th></th>\n",
       "      <th>name</th>\n",
       "      <th>author</th>\n",
       "      <th>narrator</th>\n",
       "      <th>time</th>\n",
       "      <th>releasedate</th>\n",
       "      <th>language</th>\n",
       "      <th>stars</th>\n",
       "      <th>price</th>\n",
       "    </tr>\n",
       "  </thead>\n",
       "  <tbody>\n",
       "    <tr>\n",
       "      <th>13355</th>\n",
       "      <td>Ecos Audio - Communicación virtual. 2/2021</td>\n",
       "      <td>Writtenby:CovadongaJiménez</td>\n",
       "      <td>Narratedby:div.</td>\n",
       "      <td>58 mins</td>\n",
       "      <td>02-02-21</td>\n",
       "      <td>german</td>\n",
       "      <td>Not rated yet</td>\n",
       "      <td>501.00</td>\n",
       "    </tr>\n",
       "    <tr>\n",
       "      <th>61523</th>\n",
       "      <td>Toddlers Are A**holes</td>\n",
       "      <td>Writtenby:BunmiLaditan</td>\n",
       "      <td>Narratedby:BahniTurpin</td>\n",
       "      <td>3 hrs and 24 mins</td>\n",
       "      <td>02-06-15</td>\n",
       "      <td>English</td>\n",
       "      <td>4 out of 5 stars2 ratings</td>\n",
       "      <td>502.00</td>\n",
       "    </tr>\n",
       "    <tr>\n",
       "      <th>42538</th>\n",
       "      <td>The $60,000 Dog</td>\n",
       "      <td>Writtenby:LaurenSlater</td>\n",
       "      <td>Narratedby:CassandraCampbell</td>\n",
       "      <td>11 hrs and 31 mins</td>\n",
       "      <td>20-11-12</td>\n",
       "      <td>English</td>\n",
       "      <td>Not rated yet</td>\n",
       "      <td>836.00</td>\n",
       "    </tr>\n",
       "    <tr>\n",
       "      <th>68887</th>\n",
       "      <td>花粉症の原型を見つけて、77%緩和するためのNLP瞑想</td>\n",
       "      <td>Writtenby:志麻絹依</td>\n",
       "      <td>Narratedby:志麻絹依</td>\n",
       "      <td>23 mins</td>\n",
       "      <td>06-11-17</td>\n",
       "      <td>japanese</td>\n",
       "      <td>Not rated yet</td>\n",
       "      <td>781.00</td>\n",
       "    </tr>\n",
       "  </tbody>\n",
       "</table>\n",
       "</div>"
      ],
      "text/plain": [
       "                                             name                      author  \\\n",
       "13355  Ecos Audio - Communicación virtual. 2/2021  Writtenby:CovadongaJiménez   \n",
       "61523                       Toddlers Are A**holes      Writtenby:BunmiLaditan   \n",
       "42538                             The $60,000 Dog      Writtenby:LaurenSlater   \n",
       "68887                 花粉症の原型を見つけて、77%緩和するためのNLP瞑想              Writtenby:志麻絹依   \n",
       "\n",
       "                           narrator                time releasedate  language  \\\n",
       "13355               Narratedby:div.             58 mins    02-02-21    german   \n",
       "61523        Narratedby:BahniTurpin   3 hrs and 24 mins    02-06-15   English   \n",
       "42538  Narratedby:CassandraCampbell  11 hrs and 31 mins    20-11-12   English   \n",
       "68887               Narratedby:志麻絹依             23 mins    06-11-17  japanese   \n",
       "\n",
       "                           stars   price  \n",
       "13355              Not rated yet  501.00  \n",
       "61523  4 out of 5 stars2 ratings  502.00  \n",
       "42538              Not rated yet  836.00  \n",
       "68887              Not rated yet  781.00  "
      ]
     },
     "execution_count": 18,
     "metadata": {},
     "output_type": "execute_result"
    }
   ],
   "source": [
    "#filter out all book names containing any special characters\n",
    "booknames_special_chars = audible_data[audible_data.name.str.contains(r'[@#$%+/*]')].drop_duplicates()\n",
    "booknames_special_chars.sample(4)"
   ]
  },
  {
   "cell_type": "code",
   "execution_count": 19,
   "id": "c6f9bf1d",
   "metadata": {},
   "outputs": [],
   "source": [
    "#Author column\n",
    "#remove the phrase \"Writtenby:\"\n",
    "audible_data['author'] = audible_data['author'].str.replace(pat = \"Writtenby:\", repl = \"\")"
   ]
  },
  {
   "cell_type": "code",
   "execution_count": 20,
   "id": "aa95eff2",
   "metadata": {},
   "outputs": [
    {
     "data": {
      "text/plain": [
       "0        GeronimoStilton\n",
       "1            RickRiordan\n",
       "2             JeffKinney\n",
       "3            RickRiordan\n",
       "4            RickRiordan\n",
       "              ...       \n",
       "87484       ChrisStewart\n",
       "87485      StephenO'Shea\n",
       "87486          MarkTwain\n",
       "87487     LaurenceSterne\n",
       "87488      MarkKurlansky\n",
       "Name: author, Length: 87489, dtype: object"
      ]
     },
     "execution_count": 20,
     "metadata": {},
     "output_type": "execute_result"
    }
   ],
   "source": [
    "audible_data.author"
   ]
  },
  {
   "cell_type": "markdown",
   "id": "cb811c9d",
   "metadata": {},
   "source": [
    "Stack overflow thread to understand the Regex: [SO](https://stackoverflow.com/questions/199059/a-pythonic-way-to-insert-a-space-before-capital-letters)"
   ]
  },
  {
   "cell_type": "code",
   "execution_count": 21,
   "id": "bdc1bdf7",
   "metadata": {},
   "outputs": [],
   "source": [
    "#Add space between the first, middle and last names of Authors.\n",
    "#e.g. JaneAustin becomes Jane Austin\n",
    "audible_data['author'] = audible_data['author'].str.replace(pat = r\"(\\w)([A-Z])\", repl = r\"\\1 \\2\", regex = True)"
   ]
  },
  {
   "cell_type": "markdown",
   "id": "e146ea44",
   "metadata": {},
   "source": [
    "Some books have multiple authors. So, below the 'author' column has been split into multiple columns with author1, author2, author3..etc. each column with a single name.  \n",
    "Separator \",\" has been used to split the column."
   ]
  },
  {
   "cell_type": "code",
   "execution_count": 23,
   "id": "91c8531e",
   "metadata": {},
   "outputs": [],
   "source": [
    "audible_data2 = pd.concat( [audible_data['name'], \n",
    "                            audible_data['author'].str.split(',', expand = True).add_prefix('author'),\n",
    "                            audible_data.loc[:,['narrator', 'time', 'releasedate', 'language', 'stars', 'price']]], \n",
    "                            axis = 1)"
   ]
  },
  {
   "cell_type": "code",
   "execution_count": 26,
   "id": "9a639456",
   "metadata": {},
   "outputs": [
    {
     "data": {
      "text/html": [
       "<div>\n",
       "<style scoped>\n",
       "    .dataframe tbody tr th:only-of-type {\n",
       "        vertical-align: middle;\n",
       "    }\n",
       "\n",
       "    .dataframe tbody tr th {\n",
       "        vertical-align: top;\n",
       "    }\n",
       "\n",
       "    .dataframe thead th {\n",
       "        text-align: right;\n",
       "    }\n",
       "</style>\n",
       "<table border=\"1\" class=\"dataframe\">\n",
       "  <thead>\n",
       "    <tr style=\"text-align: right;\">\n",
       "      <th></th>\n",
       "      <th>name</th>\n",
       "      <th>author0</th>\n",
       "      <th>author1</th>\n",
       "      <th>author2</th>\n",
       "      <th>author3</th>\n",
       "      <th>narrator</th>\n",
       "      <th>time</th>\n",
       "      <th>releasedate</th>\n",
       "      <th>language</th>\n",
       "      <th>stars</th>\n",
       "      <th>price</th>\n",
       "    </tr>\n",
       "  </thead>\n",
       "  <tbody>\n",
       "    <tr>\n",
       "      <th>87462</th>\n",
       "      <td>Up with the Larks</td>\n",
       "      <td>Tessa Hainsworth</td>\n",
       "      <td>None</td>\n",
       "      <td>None</td>\n",
       "      <td>None</td>\n",
       "      <td>Narratedby:AnnaBentinck</td>\n",
       "      <td>10 hrs and 4 mins</td>\n",
       "      <td>14-06-10</td>\n",
       "      <td>English</td>\n",
       "      <td>Not rated yet</td>\n",
       "      <td>531.00</td>\n",
       "    </tr>\n",
       "    <tr>\n",
       "      <th>2293</th>\n",
       "      <td>P'tit Loup ne veut pas dormir</td>\n",
       "      <td>Orianne Lallemand</td>\n",
       "      <td>None</td>\n",
       "      <td>None</td>\n",
       "      <td>None</td>\n",
       "      <td>Narratedby:WillProduction</td>\n",
       "      <td>3 mins</td>\n",
       "      <td>28-07-21</td>\n",
       "      <td>french</td>\n",
       "      <td>Not rated yet</td>\n",
       "      <td>74.00</td>\n",
       "    </tr>\n",
       "    <tr>\n",
       "      <th>602</th>\n",
       "      <td>Los Atrevidos</td>\n",
       "      <td>Elsa Punset</td>\n",
       "      <td>None</td>\n",
       "      <td>None</td>\n",
       "      <td>None</td>\n",
       "      <td>Narratedby:OliviaVives,SilviaGómezLasil</td>\n",
       "      <td>4 hrs and 57 mins</td>\n",
       "      <td>23-09-21</td>\n",
       "      <td>spanish</td>\n",
       "      <td>Not rated yet</td>\n",
       "      <td>268.00</td>\n",
       "    </tr>\n",
       "    <tr>\n",
       "      <th>5237</th>\n",
       "      <td>The Vampire Book</td>\n",
       "      <td>D K</td>\n",
       "      <td>None</td>\n",
       "      <td>None</td>\n",
       "      <td>None</td>\n",
       "      <td>Narratedby:BethEyre</td>\n",
       "      <td>1 hr and 43 mins</td>\n",
       "      <td>29-10-20</td>\n",
       "      <td>English</td>\n",
       "      <td>Not rated yet</td>\n",
       "      <td>410.00</td>\n",
       "    </tr>\n",
       "  </tbody>\n",
       "</table>\n",
       "</div>"
      ],
      "text/plain": [
       "                                name            author0 author1 author2  \\\n",
       "87462              Up with the Larks   Tessa Hainsworth    None    None   \n",
       "2293   P'tit Loup ne veut pas dormir  Orianne Lallemand    None    None   \n",
       "602                    Los Atrevidos        Elsa Punset    None    None   \n",
       "5237                The Vampire Book                D K    None    None   \n",
       "\n",
       "      author3                                 narrator               time  \\\n",
       "87462    None                  Narratedby:AnnaBentinck  10 hrs and 4 mins   \n",
       "2293     None                Narratedby:WillProduction             3 mins   \n",
       "602      None  Narratedby:OliviaVives,SilviaGómezLasil  4 hrs and 57 mins   \n",
       "5237     None                      Narratedby:BethEyre   1 hr and 43 mins   \n",
       "\n",
       "      releasedate language          stars   price  \n",
       "87462    14-06-10  English  Not rated yet  531.00  \n",
       "2293     28-07-21   french  Not rated yet   74.00  \n",
       "602      23-09-21  spanish  Not rated yet  268.00  \n",
       "5237     29-10-20  English  Not rated yet  410.00  "
      ]
     },
     "execution_count": 26,
     "metadata": {},
     "output_type": "execute_result"
    }
   ],
   "source": [
    "audible_data2.sample(4)"
   ]
  },
  {
   "cell_type": "markdown",
   "id": "46b933b8",
   "metadata": {},
   "source": [
    "In the following code, I just wanted to check how many of the new author name columns- author1, author2, author3 contain null values.  \n",
    "If most of the rows are vacant, then there's no point creating additional columns for the same."
   ]
  },
  {
   "cell_type": "code",
   "execution_count": 33,
   "id": "8b506376",
   "metadata": {
    "scrolled": true
   },
   "outputs": [
    {
     "data": {
      "text/plain": [
       "author0        0\n",
       "author1    73762\n",
       "author2    85135\n",
       "author3    86713\n",
       "dtype: int64"
      ]
     },
     "execution_count": 33,
     "metadata": {},
     "output_type": "execute_result"
    }
   ],
   "source": [
    "#number of missing values in author columns\n",
    "audible_data2.loc[:,['author0','author1','author2','author3']].isnull().sum()"
   ]
  },
  {
   "cell_type": "code",
   "execution_count": 34,
   "id": "1a326bd3",
   "metadata": {},
   "outputs": [],
   "source": [
    "#remove \"Narratedby:\" from Narrator column\n",
    "audible_data2['narrator'] = audible_data2['narrator'].str.replace(pat = \"Narratedby:\", repl = \"\")"
   ]
  },
  {
   "cell_type": "code",
   "execution_count": 35,
   "id": "62bfab0f",
   "metadata": {},
   "outputs": [],
   "source": [
    "#add space between first and last name of the Narrator\n",
    "#e.g. JaneAustin becomes Jane Austin\n",
    "audible_data2['narrator'] = audible_data2['narrator'].str.replace(pat = r\"(\\w)([A-Z])\", repl = r\"\\1 \\2\", regex = True)"
   ]
  },
  {
   "cell_type": "code",
   "execution_count": 36,
   "id": "5bedeba8",
   "metadata": {},
   "outputs": [
    {
     "data": {
      "text/html": [
       "<div>\n",
       "<style scoped>\n",
       "    .dataframe tbody tr th:only-of-type {\n",
       "        vertical-align: middle;\n",
       "    }\n",
       "\n",
       "    .dataframe tbody tr th {\n",
       "        vertical-align: top;\n",
       "    }\n",
       "\n",
       "    .dataframe thead th {\n",
       "        text-align: right;\n",
       "    }\n",
       "</style>\n",
       "<table border=\"1\" class=\"dataframe\">\n",
       "  <thead>\n",
       "    <tr style=\"text-align: right;\">\n",
       "      <th></th>\n",
       "      <th>name</th>\n",
       "      <th>author0</th>\n",
       "      <th>author1</th>\n",
       "      <th>author2</th>\n",
       "      <th>author3</th>\n",
       "      <th>narrator</th>\n",
       "      <th>time</th>\n",
       "      <th>releasedate</th>\n",
       "      <th>language</th>\n",
       "      <th>stars</th>\n",
       "      <th>price</th>\n",
       "    </tr>\n",
       "  </thead>\n",
       "  <tbody>\n",
       "    <tr>\n",
       "      <th>33347</th>\n",
       "      <td>RX 17 Series: Stop Drinking</td>\n",
       "      <td>Dick Sutphen</td>\n",
       "      <td>None</td>\n",
       "      <td>None</td>\n",
       "      <td>None</td>\n",
       "      <td>Dick Sutphen</td>\n",
       "      <td>59 mins</td>\n",
       "      <td>01-05-21</td>\n",
       "      <td>English</td>\n",
       "      <td>Not rated yet</td>\n",
       "      <td>258.00</td>\n",
       "    </tr>\n",
       "    <tr>\n",
       "      <th>11144</th>\n",
       "      <td>Speech Police</td>\n",
       "      <td>David Kaye</td>\n",
       "      <td>None</td>\n",
       "      <td>None</td>\n",
       "      <td>None</td>\n",
       "      <td>Andrew Eiden</td>\n",
       "      <td>3 hrs and 49 mins</td>\n",
       "      <td>04-06-19</td>\n",
       "      <td>English</td>\n",
       "      <td>Not rated yet</td>\n",
       "      <td>502.00</td>\n",
       "    </tr>\n",
       "    <tr>\n",
       "      <th>40538</th>\n",
       "      <td>God's Mighty Hand</td>\n",
       "      <td>Richard\"Little Bear\"Wheeler</td>\n",
       "      <td>None</td>\n",
       "      <td>None</td>\n",
       "      <td>None</td>\n",
       "      <td>Jim Hodges</td>\n",
       "      <td>12 hrs and 47 mins</td>\n",
       "      <td>20-06-17</td>\n",
       "      <td>English</td>\n",
       "      <td>Not rated yet</td>\n",
       "      <td>1,003.00</td>\n",
       "    </tr>\n",
       "    <tr>\n",
       "      <th>55079</th>\n",
       "      <td>Lulu</td>\n",
       "      <td>Nancy Friday</td>\n",
       "      <td>None</td>\n",
       "      <td>None</td>\n",
       "      <td>None</td>\n",
       "      <td>Karen White</td>\n",
       "      <td>6 hrs and 4 mins</td>\n",
       "      <td>01-05-18</td>\n",
       "      <td>English</td>\n",
       "      <td>Not rated yet</td>\n",
       "      <td>668.00</td>\n",
       "    </tr>\n",
       "    <tr>\n",
       "      <th>24609</th>\n",
       "      <td>Miracle for Jen</td>\n",
       "      <td>Linda Barrick</td>\n",
       "      <td>None</td>\n",
       "      <td>None</td>\n",
       "      <td>None</td>\n",
       "      <td>Kirsten Potter</td>\n",
       "      <td>7 hrs and 33 mins</td>\n",
       "      <td>01-03-12</td>\n",
       "      <td>English</td>\n",
       "      <td>Not rated yet</td>\n",
       "      <td>586.00</td>\n",
       "    </tr>\n",
       "  </tbody>\n",
       "</table>\n",
       "</div>"
      ],
      "text/plain": [
       "                              name                      author0 author1  \\\n",
       "33347  RX 17 Series: Stop Drinking                 Dick Sutphen    None   \n",
       "11144                Speech Police                   David Kaye    None   \n",
       "40538            God's Mighty Hand  Richard\"Little Bear\"Wheeler    None   \n",
       "55079                         Lulu                 Nancy Friday    None   \n",
       "24609              Miracle for Jen                Linda Barrick    None   \n",
       "\n",
       "      author2 author3        narrator                time releasedate  \\\n",
       "33347    None    None    Dick Sutphen             59 mins    01-05-21   \n",
       "11144    None    None    Andrew Eiden   3 hrs and 49 mins    04-06-19   \n",
       "40538    None    None      Jim Hodges  12 hrs and 47 mins    20-06-17   \n",
       "55079    None    None     Karen White    6 hrs and 4 mins    01-05-18   \n",
       "24609    None    None  Kirsten Potter   7 hrs and 33 mins    01-03-12   \n",
       "\n",
       "      language          stars     price  \n",
       "33347  English  Not rated yet    258.00  \n",
       "11144  English  Not rated yet    502.00  \n",
       "40538  English  Not rated yet  1,003.00  \n",
       "55079  English  Not rated yet    668.00  \n",
       "24609  English  Not rated yet    586.00  "
      ]
     },
     "execution_count": 36,
     "metadata": {},
     "output_type": "execute_result"
    }
   ],
   "source": [
    "audible_data2.sample(5)"
   ]
  },
  {
   "cell_type": "markdown",
   "id": "7b2b70e7",
   "metadata": {},
   "source": [
    "#### Time column\n",
    "\n",
    "'Time' column contains following formats:  \n",
    "1. 7 hrs and 54 mins\n",
    "2. 9 hrs\n",
    "3. 7 mins"
   ]
  },
  {
   "cell_type": "code",
   "execution_count": 37,
   "id": "b4f9a542",
   "metadata": {},
   "outputs": [],
   "source": [
    "#make a copy of time column to understand all kind of formats in which data is present\n",
    "time_column = audible_data2['time']"
   ]
  },
  {
   "cell_type": "code",
   "execution_count": 91,
   "id": "df200c3c",
   "metadata": {
    "scrolled": true
   },
   "outputs": [
    {
     "name": "stderr",
     "output_type": "stream",
     "text": [
      "C:\\Users\\shefa\\AppData\\Local\\Temp\\ipykernel_9292\\1088910445.py:2: FutureWarning: The default value of regex will change from True to False in a future version.\n",
      "  time_column = time_column.str.replace(pat = r'[0-9]', repl = '')\n"
     ]
    },
    {
     "data": {
      "text/plain": [
       "6663               mins\n",
       "70945     hrs and  mins\n",
       "74027     hrs and  mins\n",
       "86279     hrs and  mins\n",
       "46503     hrs and  mins\n",
       "87296      hr and  mins\n",
       "56718              mins\n",
       "3048               mins\n",
       "66370              mins\n",
       "13629      hr and  mins\n",
       "Name: time, dtype: object"
      ]
     },
     "execution_count": 91,
     "metadata": {},
     "output_type": "execute_result"
    }
   ],
   "source": [
    "#replace all numbers with blanks\n",
    "time_column = time_column.str.replace(pat = r'[0-9]', repl = '', regex = True)\n",
    "time_column.sample(10)"
   ]
  },
  {
   "cell_type": "markdown",
   "id": "b25a75aa",
   "metadata": {},
   "source": [
    "Now, retain only unique patterns in the **`time_column`** object.  \n",
    "I've done this to see all kinds of words present in the 'time' column of original dataframe.  \n",
    "As we can see, there are rows which contain **x hrs and y mins format**, others contain **x hr and y mins** (Note: hr is not plural here) and so on.  \n",
    "The intention is to convert these characters to the form **hh:mm**. "
   ]
  },
  {
   "cell_type": "code",
   "execution_count": 92,
   "id": "52adf417",
   "metadata": {},
   "outputs": [
    {
     "data": {
      "text/plain": [
       "0           hrs and  mins\n",
       "4                     hrs\n",
       "12           hrs and  min\n",
       "29           hr and  mins\n",
       "53                   mins\n",
       "227                    hr\n",
       "255           hr and  min\n",
       "1203                  min\n",
       "1401    Less than  minute\n",
       "Name: time, dtype: object"
      ]
     },
     "execution_count": 92,
     "metadata": {},
     "output_type": "execute_result"
    }
   ],
   "source": [
    "#keep only unique patterns\n",
    "time_column = time_column.drop_duplicates()\n",
    "time_column"
   ]
  },
  {
   "cell_type": "code",
   "execution_count": 87,
   "id": "94ff21fb",
   "metadata": {},
   "outputs": [
    {
     "data": {
      "text/plain": [
       "59945     7 hrs and 54 mins\n",
       "37645     6 hrs and 34 mins\n",
       "8889      2 hrs and 47 mins\n",
       "3648       1 hr and 13 mins\n",
       "48675                 9 hrs\n",
       "58188      13 hrs and 1 min\n",
       "6637      2 hrs and 17 mins\n",
       "67209     6 hrs and 14 mins\n",
       "49235     2 hrs and 29 mins\n",
       "4047                 7 mins\n",
       "46524     8 hrs and 37 mins\n",
       "76973     4 hrs and 15 mins\n",
       "40488     6 hrs and 44 mins\n",
       "9386       3 hrs and 6 mins\n",
       "72133     6 hrs and 58 mins\n",
       "68725               22 mins\n",
       "14976                7 mins\n",
       "64196     7 hrs and 45 mins\n",
       "18165               46 mins\n",
       "68426     8 hrs and 24 mins\n",
       "82085      4 hrs and 3 mins\n",
       "70099    14 hrs and 19 mins\n",
       "14871               58 mins\n",
       "50994      1 hr and 58 mins\n",
       "74554     9 hrs and 22 mins\n",
       "18040     6 hrs and 30 mins\n",
       "43299     9 hrs and 58 mins\n",
       "78901      5 hrs and 3 mins\n",
       "20484    13 hrs and 40 mins\n",
       "4046                 6 mins\n",
       "53701               36 mins\n",
       "74950     7 hrs and 10 mins\n",
       "43910     10 hrs and 3 mins\n",
       "79644    14 hrs and 19 mins\n",
       "62477     3 hrs and 32 mins\n",
       "37479    15 hrs and 17 mins\n",
       "46872     3 hrs and 47 mins\n",
       "46593     7 hrs and 19 mins\n",
       "29972     5 hrs and 37 mins\n",
       "51647    20 hrs and 58 mins\n",
       "52036     8 hrs and 56 mins\n",
       "30642     4 hrs and 45 mins\n",
       "2770       1 hr and 27 mins\n",
       "82513    10 hrs and 27 mins\n",
       "2057                 4 mins\n",
       "73382     7 hrs and 51 mins\n",
       "78777     8 hrs and 51 mins\n",
       "660       2 hrs and 15 mins\n",
       "81303                7 mins\n",
       "77001      6 hrs and 9 mins\n",
       "Name: time, dtype: object"
      ]
     },
     "execution_count": 87,
     "metadata": {},
     "output_type": "execute_result"
    }
   ],
   "source": [
    "audible_data2['time'].sample(50)"
   ]
  }
 ],
 "metadata": {
  "kernelspec": {
   "display_name": "Python 3 (ipykernel)",
   "language": "python",
   "name": "python3"
  },
  "language_info": {
   "codemirror_mode": {
    "name": "ipython",
    "version": 3
   },
   "file_extension": ".py",
   "mimetype": "text/x-python",
   "name": "python",
   "nbconvert_exporter": "python",
   "pygments_lexer": "ipython3",
   "version": "3.10.0"
  }
 },
 "nbformat": 4,
 "nbformat_minor": 5
}

{
 "cells": [
  {
   "cell_type": "markdown",
   "id": "4caea227",
   "metadata": {},
   "source": [
    "### 1. Data Wrangling of Audible Dataset"
   ]
  },
  {
   "cell_type": "code",
   "execution_count": 1,
   "id": "0978eb1f",
   "metadata": {},
   "outputs": [],
   "source": [
    "import pandas as pd\n",
    "import numpy as np\n",
    "import matplotlib.pyplot as plt"
   ]
  },
  {
   "cell_type": "code",
   "execution_count": null,
   "id": "52743588",
   "metadata": {},
   "outputs": [],
   "source": [
    "pd.options.display.max_rows = 50000"
   ]
  },
  {
   "cell_type": "code",
   "execution_count": null,
   "id": "1ffe21d3",
   "metadata": {},
   "outputs": [],
   "source": [
    "#import ydata_profiling as yp"
   ]
  },
  {
   "cell_type": "code",
   "execution_count": 2,
   "id": "d151d95f",
   "metadata": {},
   "outputs": [],
   "source": [
    "#read data\n",
    "audible_data = pd.read_csv(\"data/audible_dataset/audible_uncleaned.csv\")"
   ]
  },
  {
   "cell_type": "markdown",
   "id": "5916cd42",
   "metadata": {},
   "source": [
    "Below, I've tried out **`ydata-profiling`** pacakge to generate a basic overview report on the datafile. It highlights a lot of features in the dataset like number of duplicates, missing values, encoding, language consistency etc.  \n",
    "[This](https://www.blog.datahut.co/post/data-cleaning-techniques) is a great blog on cleaning scraped data."
   ]
  },
  {
   "cell_type": "code",
   "execution_count": null,
   "id": "550d44e8",
   "metadata": {},
   "outputs": [],
   "source": [
    "#original_report = yp.ProfileReport(audible_data, title = \"Prelim Analysis\")\n",
    "#original_report.to_file(\"audible_prelim_report.html\")"
   ]
  },
  {
   "cell_type": "code",
   "execution_count": 3,
   "id": "9bd106d6",
   "metadata": {},
   "outputs": [
    {
     "data": {
      "text/html": [
       "<div>\n",
       "<style scoped>\n",
       "    .dataframe tbody tr th:only-of-type {\n",
       "        vertical-align: middle;\n",
       "    }\n",
       "\n",
       "    .dataframe tbody tr th {\n",
       "        vertical-align: top;\n",
       "    }\n",
       "\n",
       "    .dataframe thead th {\n",
       "        text-align: right;\n",
       "    }\n",
       "</style>\n",
       "<table border=\"1\" class=\"dataframe\">\n",
       "  <thead>\n",
       "    <tr style=\"text-align: right;\">\n",
       "      <th></th>\n",
       "      <th>name</th>\n",
       "      <th>author</th>\n",
       "      <th>narrator</th>\n",
       "      <th>time</th>\n",
       "      <th>releasedate</th>\n",
       "      <th>language</th>\n",
       "      <th>stars</th>\n",
       "      <th>price</th>\n",
       "    </tr>\n",
       "  </thead>\n",
       "  <tbody>\n",
       "    <tr>\n",
       "      <th>47882</th>\n",
       "      <td>The Tiger Came to the Mountains</td>\n",
       "      <td>Writtenby:SilviaMoreno-Garcia</td>\n",
       "      <td>Narratedby:CynthiaFarrell</td>\n",
       "      <td>50 mins</td>\n",
       "      <td>24-02-22</td>\n",
       "      <td>English</td>\n",
       "      <td>Not rated yet</td>\n",
       "      <td>67.00</td>\n",
       "    </tr>\n",
       "    <tr>\n",
       "      <th>72831</th>\n",
       "      <td>Jewels of the Sun</td>\n",
       "      <td>Writtenby:NoraRoberts</td>\n",
       "      <td>Narratedby:PatriciaDaniels</td>\n",
       "      <td>10 hrs and 25 mins</td>\n",
       "      <td>10-06-08</td>\n",
       "      <td>English</td>\n",
       "      <td>5 out of 5 stars1 rating</td>\n",
       "      <td>1,008.00</td>\n",
       "    </tr>\n",
       "    <tr>\n",
       "      <th>26071</th>\n",
       "      <td>The Misbegotten Son</td>\n",
       "      <td>Writtenby:JackOlsen</td>\n",
       "      <td>Narratedby:KevinPierce</td>\n",
       "      <td>18 hrs and 11 mins</td>\n",
       "      <td>04-12-15</td>\n",
       "      <td>English</td>\n",
       "      <td>Not rated yet</td>\n",
       "      <td>836.00</td>\n",
       "    </tr>\n",
       "    <tr>\n",
       "      <th>14293</th>\n",
       "      <td>G/GESCHICHTE - Byzanz - Roms goldene Tochter</td>\n",
       "      <td>Writtenby:GGeschichte</td>\n",
       "      <td>Narratedby:KarstenWolf</td>\n",
       "      <td>2 hrs and 28 mins</td>\n",
       "      <td>23-12-21</td>\n",
       "      <td>german</td>\n",
       "      <td>Not rated yet</td>\n",
       "      <td>233.00</td>\n",
       "    </tr>\n",
       "  </tbody>\n",
       "</table>\n",
       "</div>"
      ],
      "text/plain": [
       "                                               name  \\\n",
       "47882               The Tiger Came to the Mountains   \n",
       "72831                             Jewels of the Sun   \n",
       "26071                           The Misbegotten Son   \n",
       "14293  G/GESCHICHTE - Byzanz - Roms goldene Tochter   \n",
       "\n",
       "                              author                    narrator  \\\n",
       "47882  Writtenby:SilviaMoreno-Garcia   Narratedby:CynthiaFarrell   \n",
       "72831          Writtenby:NoraRoberts  Narratedby:PatriciaDaniels   \n",
       "26071            Writtenby:JackOlsen      Narratedby:KevinPierce   \n",
       "14293          Writtenby:GGeschichte      Narratedby:KarstenWolf   \n",
       "\n",
       "                     time releasedate language                     stars  \\\n",
       "47882             50 mins    24-02-22  English             Not rated yet   \n",
       "72831  10 hrs and 25 mins    10-06-08  English  5 out of 5 stars1 rating   \n",
       "26071  18 hrs and 11 mins    04-12-15  English             Not rated yet   \n",
       "14293   2 hrs and 28 mins    23-12-21   german             Not rated yet   \n",
       "\n",
       "          price  \n",
       "47882     67.00  \n",
       "72831  1,008.00  \n",
       "26071    836.00  \n",
       "14293    233.00  "
      ]
     },
     "execution_count": 3,
     "metadata": {},
     "output_type": "execute_result"
    }
   ],
   "source": [
    "audible_data.sample(4)"
   ]
  },
  {
   "cell_type": "code",
   "execution_count": 4,
   "id": "7c04cff3",
   "metadata": {},
   "outputs": [
    {
     "name": "stdout",
     "output_type": "stream",
     "text": [
      "<class 'pandas.core.frame.DataFrame'>\n",
      "RangeIndex: 87489 entries, 0 to 87488\n",
      "Data columns (total 8 columns):\n",
      " #   Column       Non-Null Count  Dtype \n",
      "---  ------       --------------  ----- \n",
      " 0   name         87489 non-null  object\n",
      " 1   author       87489 non-null  object\n",
      " 2   narrator     87489 non-null  object\n",
      " 3   time         87489 non-null  object\n",
      " 4   releasedate  87489 non-null  object\n",
      " 5   language     87489 non-null  object\n",
      " 6   stars        87489 non-null  object\n",
      " 7   price        87489 non-null  object\n",
      "dtypes: object(8)\n",
      "memory usage: 5.3+ MB\n"
     ]
    }
   ],
   "source": [
    "audible_data.info()"
   ]
  },
  {
   "cell_type": "code",
   "execution_count": 5,
   "id": "84cd5223",
   "metadata": {},
   "outputs": [
    {
     "data": {
      "text/html": [
       "<div>\n",
       "<style scoped>\n",
       "    .dataframe tbody tr th:only-of-type {\n",
       "        vertical-align: middle;\n",
       "    }\n",
       "\n",
       "    .dataframe tbody tr th {\n",
       "        vertical-align: top;\n",
       "    }\n",
       "\n",
       "    .dataframe thead th {\n",
       "        text-align: right;\n",
       "    }\n",
       "</style>\n",
       "<table border=\"1\" class=\"dataframe\">\n",
       "  <thead>\n",
       "    <tr style=\"text-align: right;\">\n",
       "      <th></th>\n",
       "      <th>name</th>\n",
       "      <th>author</th>\n",
       "      <th>narrator</th>\n",
       "      <th>time</th>\n",
       "      <th>releasedate</th>\n",
       "      <th>language</th>\n",
       "      <th>stars</th>\n",
       "      <th>price</th>\n",
       "    </tr>\n",
       "  </thead>\n",
       "  <tbody>\n",
       "    <tr>\n",
       "      <th>count</th>\n",
       "      <td>87489</td>\n",
       "      <td>87489</td>\n",
       "      <td>87489</td>\n",
       "      <td>87489</td>\n",
       "      <td>87489</td>\n",
       "      <td>87489</td>\n",
       "      <td>87489</td>\n",
       "      <td>87489</td>\n",
       "    </tr>\n",
       "    <tr>\n",
       "      <th>unique</th>\n",
       "      <td>82767</td>\n",
       "      <td>48374</td>\n",
       "      <td>29717</td>\n",
       "      <td>2284</td>\n",
       "      <td>5058</td>\n",
       "      <td>36</td>\n",
       "      <td>665</td>\n",
       "      <td>1011</td>\n",
       "    </tr>\n",
       "    <tr>\n",
       "      <th>top</th>\n",
       "      <td>The Art of War</td>\n",
       "      <td>Writtenby:矢島雅弘,石橋遊</td>\n",
       "      <td>Narratedby:anonymous</td>\n",
       "      <td>2 mins</td>\n",
       "      <td>16-05-18</td>\n",
       "      <td>English</td>\n",
       "      <td>Not rated yet</td>\n",
       "      <td>586.00</td>\n",
       "    </tr>\n",
       "    <tr>\n",
       "      <th>freq</th>\n",
       "      <td>20</td>\n",
       "      <td>874</td>\n",
       "      <td>1034</td>\n",
       "      <td>372</td>\n",
       "      <td>773</td>\n",
       "      <td>61884</td>\n",
       "      <td>72417</td>\n",
       "      <td>5533</td>\n",
       "    </tr>\n",
       "  </tbody>\n",
       "</table>\n",
       "</div>"
      ],
      "text/plain": [
       "                  name              author              narrator    time  \\\n",
       "count            87489               87489                 87489   87489   \n",
       "unique           82767               48374                 29717    2284   \n",
       "top     The Art of War  Writtenby:矢島雅弘,石橋遊  Narratedby:anonymous  2 mins   \n",
       "freq                20                 874                  1034     372   \n",
       "\n",
       "       releasedate language          stars   price  \n",
       "count        87489    87489          87489   87489  \n",
       "unique        5058       36            665    1011  \n",
       "top       16-05-18  English  Not rated yet  586.00  \n",
       "freq           773    61884          72417    5533  "
      ]
     },
     "execution_count": 5,
     "metadata": {},
     "output_type": "execute_result"
    }
   ],
   "source": [
    "audible_data.describe()"
   ]
  },
  {
   "cell_type": "markdown",
   "id": "0ff62ec3",
   "metadata": {},
   "source": [
    "From the `describe()` output, we can see that there are a total of 87,489 books but only 82,767 of them are unique entries. Some books have multiple rows maybe due to a different language of publication or a different narrator etc.  \n",
    "Below, I have listed out books with equal to or more than 10 entries in the dataset."
   ]
  },
  {
   "cell_type": "code",
   "execution_count": 6,
   "id": "50b7a3d1",
   "metadata": {},
   "outputs": [
    {
     "data": {
      "text/plain": [
       "The Art of War                 20\n",
       "Sterling Biographies           19\n",
       "The Odyssey                    16\n",
       "Sterling Point Books           16\n",
       "Hamlet                         15\n",
       "The Prophet                    14\n",
       "Pride and Prejudice            14\n",
       "A Christmas Carol              14\n",
       "The Iliad                      13\n",
       "As a Man Thinketh              13\n",
       "The Science of Getting Rich    13\n",
       "The Picture of Dorian Gray     12\n",
       "Abraham Lincoln                12\n",
       "Meditations                    11\n",
       "The Richest Man in Babylon     11\n",
       "The Raven                      11\n",
       "The Prince                     11\n",
       "Unstoppable                    10\n",
       "Name: name, dtype: int64"
      ]
     },
     "execution_count": 6,
     "metadata": {},
     "output_type": "execute_result"
    }
   ],
   "source": [
    "#checking number of occurances of same book\n",
    "book_counts = audible_data['name'].value_counts()\n",
    "book_counts[book_counts >= 10]"
   ]
  },
  {
   "cell_type": "markdown",
   "id": "0b9c140e",
   "metadata": {},
   "source": [
    "No duplicate rows found."
   ]
  },
  {
   "cell_type": "code",
   "execution_count": 7,
   "id": "0d8e5da2",
   "metadata": {},
   "outputs": [
    {
     "data": {
      "text/plain": [
       "0"
      ]
     },
     "execution_count": 7,
     "metadata": {},
     "output_type": "execute_result"
    }
   ],
   "source": [
    "#check for duplicate rows\n",
    "audible_data.duplicated().sum()"
   ]
  },
  {
   "cell_type": "code",
   "execution_count": 8,
   "id": "2bbb6f80",
   "metadata": {},
   "outputs": [
    {
     "data": {
      "text/plain": [
       "(592, 8)"
      ]
     },
     "execution_count": 8,
     "metadata": {},
     "output_type": "execute_result"
    }
   ],
   "source": [
    "#filter out all book names containing any special characters\n",
    "booknames_special_chars = audible_data[audible_data.name.str.contains(r'[@#$%+/*]')].drop_duplicates()\n",
    "#number of books that contain special characters- 592 books\n",
    "booknames_special_chars.shape"
   ]
  },
  {
   "cell_type": "code",
   "execution_count": 9,
   "id": "5ed851c8",
   "metadata": {},
   "outputs": [
    {
     "data": {
      "text/html": [
       "<div>\n",
       "<style scoped>\n",
       "    .dataframe tbody tr th:only-of-type {\n",
       "        vertical-align: middle;\n",
       "    }\n",
       "\n",
       "    .dataframe tbody tr th {\n",
       "        vertical-align: top;\n",
       "    }\n",
       "\n",
       "    .dataframe thead th {\n",
       "        text-align: right;\n",
       "    }\n",
       "</style>\n",
       "<table border=\"1\" class=\"dataframe\">\n",
       "  <thead>\n",
       "    <tr style=\"text-align: right;\">\n",
       "      <th></th>\n",
       "      <th>name</th>\n",
       "      <th>author</th>\n",
       "      <th>narrator</th>\n",
       "      <th>time</th>\n",
       "      <th>releasedate</th>\n",
       "      <th>language</th>\n",
       "      <th>stars</th>\n",
       "      <th>price</th>\n",
       "    </tr>\n",
       "  </thead>\n",
       "  <tbody>\n",
       "    <tr>\n",
       "      <th>35522</th>\n",
       "      <td>Tinnitus Sound Therapy / Tinnitus Retraining T...</td>\n",
       "      <td>Writtenby:Dr.HannahLiebig</td>\n",
       "      <td>Narratedby:IanBrannan</td>\n",
       "      <td>7 hrs and 4 mins</td>\n",
       "      <td>15-07-21</td>\n",
       "      <td>English</td>\n",
       "      <td>5 out of 5 stars1 rating</td>\n",
       "      <td>669.00</td>\n",
       "    </tr>\n",
       "    <tr>\n",
       "      <th>49412</th>\n",
       "      <td>Véra / La Reine Ysabeau</td>\n",
       "      <td>Writtenby:AugustedeVilliersdeL'Isle-Adam</td>\n",
       "      <td>Narratedby:RafaëlReves</td>\n",
       "      <td>37 mins</td>\n",
       "      <td>30-08-10</td>\n",
       "      <td>french</td>\n",
       "      <td>Not rated yet</td>\n",
       "      <td>184.00</td>\n",
       "    </tr>\n",
       "    <tr>\n",
       "      <th>58764</th>\n",
       "      <td>The Top 1%</td>\n",
       "      <td>Writtenby:DanStrutzel</td>\n",
       "      <td>Narratedby:DanStrutzel</td>\n",
       "      <td>5 hrs and 10 mins</td>\n",
       "      <td>28-03-17</td>\n",
       "      <td>English</td>\n",
       "      <td>Not rated yet</td>\n",
       "      <td>656.00</td>\n",
       "    </tr>\n",
       "    <tr>\n",
       "      <th>902</th>\n",
       "      <td>Mercy Watson #3</td>\n",
       "      <td>Writtenby:KateDiCamillo</td>\n",
       "      <td>Narratedby:RonMcLarty</td>\n",
       "      <td>20 mins</td>\n",
       "      <td>08-06-07</td>\n",
       "      <td>English</td>\n",
       "      <td>5 out of 5 stars2 ratings</td>\n",
       "      <td>200.00</td>\n",
       "    </tr>\n",
       "  </tbody>\n",
       "</table>\n",
       "</div>"
      ],
      "text/plain": [
       "                                                    name  \\\n",
       "35522  Tinnitus Sound Therapy / Tinnitus Retraining T...   \n",
       "49412                            Véra / La Reine Ysabeau   \n",
       "58764                                         The Top 1%   \n",
       "902                                      Mercy Watson #3   \n",
       "\n",
       "                                         author                narrator  \\\n",
       "35522                 Writtenby:Dr.HannahLiebig   Narratedby:IanBrannan   \n",
       "49412  Writtenby:AugustedeVilliersdeL'Isle-Adam  Narratedby:RafaëlReves   \n",
       "58764                     Writtenby:DanStrutzel  Narratedby:DanStrutzel   \n",
       "902                     Writtenby:KateDiCamillo   Narratedby:RonMcLarty   \n",
       "\n",
       "                    time releasedate language                      stars  \\\n",
       "35522   7 hrs and 4 mins    15-07-21  English   5 out of 5 stars1 rating   \n",
       "49412            37 mins    30-08-10   french              Not rated yet   \n",
       "58764  5 hrs and 10 mins    28-03-17  English              Not rated yet   \n",
       "902              20 mins    08-06-07  English  5 out of 5 stars2 ratings   \n",
       "\n",
       "        price  \n",
       "35522  669.00  \n",
       "49412  184.00  \n",
       "58764  656.00  \n",
       "902    200.00  "
      ]
     },
     "execution_count": 9,
     "metadata": {},
     "output_type": "execute_result"
    }
   ],
   "source": [
    "booknames_special_chars.sample(4)"
   ]
  },
  {
   "cell_type": "code",
   "execution_count": 10,
   "id": "c6f9bf1d",
   "metadata": {},
   "outputs": [],
   "source": [
    "#Author column\n",
    "#remove the phrase \"Writtenby:\"\n",
    "audible_data['author'] = audible_data['author'].str.replace(pat = \"Writtenby:\", repl = \"\")"
   ]
  },
  {
   "cell_type": "code",
   "execution_count": 11,
   "id": "aa95eff2",
   "metadata": {},
   "outputs": [
    {
     "data": {
      "text/plain": [
       "0        GeronimoStilton\n",
       "1            RickRiordan\n",
       "2             JeffKinney\n",
       "3            RickRiordan\n",
       "4            RickRiordan\n",
       "              ...       \n",
       "87484       ChrisStewart\n",
       "87485      StephenO'Shea\n",
       "87486          MarkTwain\n",
       "87487     LaurenceSterne\n",
       "87488      MarkKurlansky\n",
       "Name: author, Length: 87489, dtype: object"
      ]
     },
     "execution_count": 11,
     "metadata": {},
     "output_type": "execute_result"
    }
   ],
   "source": [
    "audible_data.author"
   ]
  },
  {
   "cell_type": "markdown",
   "id": "cb811c9d",
   "metadata": {},
   "source": [
    "Stack overflow thread to understand the Regex: [SO](https://stackoverflow.com/questions/199059/a-pythonic-way-to-insert-a-space-before-capital-letters)"
   ]
  },
  {
   "cell_type": "markdown",
   "id": "02e16e83",
   "metadata": {},
   "source": [
    "The line below adds space between the first, middle (if any) and last name of all authors.  \n",
    "Ofc, this works only for names mentioned in English. We also have names in different languages."
   ]
  },
  {
   "cell_type": "code",
   "execution_count": 12,
   "id": "bdc1bdf7",
   "metadata": {},
   "outputs": [],
   "source": [
    "#Add space between the first, middle and last names of Authors.\n",
    "#e.g. JaneAustin becomes Jane Austin\n",
    "audible_data['author'] = audible_data['author'].str.replace(pat = r\"(\\w)([A-Z])\", repl = r\"\\1 \\2\", regex = True)"
   ]
  },
  {
   "cell_type": "markdown",
   "id": "e146ea44",
   "metadata": {},
   "source": [
    "Some books have multiple authors. So, below the 'author' column has been split into multiple columns with author1, author2, author3..etc. each column with a single name.  \n",
    "Separator \",\" has been used to split the column."
   ]
  },
  {
   "cell_type": "code",
   "execution_count": 13,
   "id": "91c8531e",
   "metadata": {},
   "outputs": [],
   "source": [
    "audible_data2 = pd.concat( [audible_data['name'], \n",
    "                            audible_data['author'].str.split(',', expand = True).add_prefix('author'),\n",
    "                            audible_data.loc[:,['narrator', 'time', 'releasedate', 'language', 'stars', 'price']]], \n",
    "                            axis = 1)"
   ]
  },
  {
   "cell_type": "code",
   "execution_count": 14,
   "id": "9a639456",
   "metadata": {},
   "outputs": [
    {
     "data": {
      "text/html": [
       "<div>\n",
       "<style scoped>\n",
       "    .dataframe tbody tr th:only-of-type {\n",
       "        vertical-align: middle;\n",
       "    }\n",
       "\n",
       "    .dataframe tbody tr th {\n",
       "        vertical-align: top;\n",
       "    }\n",
       "\n",
       "    .dataframe thead th {\n",
       "        text-align: right;\n",
       "    }\n",
       "</style>\n",
       "<table border=\"1\" class=\"dataframe\">\n",
       "  <thead>\n",
       "    <tr style=\"text-align: right;\">\n",
       "      <th></th>\n",
       "      <th>name</th>\n",
       "      <th>author0</th>\n",
       "      <th>author1</th>\n",
       "      <th>author2</th>\n",
       "      <th>author3</th>\n",
       "      <th>narrator</th>\n",
       "      <th>time</th>\n",
       "      <th>releasedate</th>\n",
       "      <th>language</th>\n",
       "      <th>stars</th>\n",
       "      <th>price</th>\n",
       "    </tr>\n",
       "  </thead>\n",
       "  <tbody>\n",
       "    <tr>\n",
       "      <th>5899</th>\n",
       "      <td>Good Morning, Gorillas</td>\n",
       "      <td>Mary Pope Osborne</td>\n",
       "      <td>None</td>\n",
       "      <td>None</td>\n",
       "      <td>None</td>\n",
       "      <td>Narratedby:MaryPopeOsborne</td>\n",
       "      <td>40 mins</td>\n",
       "      <td>09-06-07</td>\n",
       "      <td>English</td>\n",
       "      <td>Not rated yet</td>\n",
       "      <td>301.00</td>\n",
       "    </tr>\n",
       "    <tr>\n",
       "      <th>84250</th>\n",
       "      <td>Dangerous Destiny</td>\n",
       "      <td>Suzanne Brockmann</td>\n",
       "      <td>Melanie Brockmann</td>\n",
       "      <td>None</td>\n",
       "      <td>None</td>\n",
       "      <td>Narratedby:MelanieBrockmann</td>\n",
       "      <td>1 hr and 15 mins</td>\n",
       "      <td>07-10-14</td>\n",
       "      <td>English</td>\n",
       "      <td>Not rated yet</td>\n",
       "      <td>425.00</td>\n",
       "    </tr>\n",
       "    <tr>\n",
       "      <th>36273</th>\n",
       "      <td>The Neurotic Character</td>\n",
       "      <td>Alfred Adler</td>\n",
       "      <td>None</td>\n",
       "      <td>None</td>\n",
       "      <td>None</td>\n",
       "      <td>Narratedby:LeightonPugh</td>\n",
       "      <td>14 hrs and 13 mins</td>\n",
       "      <td>13-02-22</td>\n",
       "      <td>English</td>\n",
       "      <td>Not rated yet</td>\n",
       "      <td>1,074.00</td>\n",
       "    </tr>\n",
       "    <tr>\n",
       "      <th>60704</th>\n",
       "      <td>Die Insel</td>\n",
       "      <td>Andreas Zwengel</td>\n",
       "      <td>None</td>\n",
       "      <td>None</td>\n",
       "      <td>None</td>\n",
       "      <td>Narratedby:PeterBocek</td>\n",
       "      <td>4 hrs and 32 mins</td>\n",
       "      <td>04-01-22</td>\n",
       "      <td>german</td>\n",
       "      <td>Not rated yet</td>\n",
       "      <td>334.00</td>\n",
       "    </tr>\n",
       "  </tbody>\n",
       "</table>\n",
       "</div>"
      ],
      "text/plain": [
       "                         name            author0            author1 author2  \\\n",
       "5899   Good Morning, Gorillas  Mary Pope Osborne               None    None   \n",
       "84250       Dangerous Destiny  Suzanne Brockmann  Melanie Brockmann    None   \n",
       "36273  The Neurotic Character       Alfred Adler               None    None   \n",
       "60704               Die Insel    Andreas Zwengel               None    None   \n",
       "\n",
       "      author3                     narrator                time releasedate  \\\n",
       "5899     None   Narratedby:MaryPopeOsborne             40 mins    09-06-07   \n",
       "84250    None  Narratedby:MelanieBrockmann    1 hr and 15 mins    07-10-14   \n",
       "36273    None      Narratedby:LeightonPugh  14 hrs and 13 mins    13-02-22   \n",
       "60704    None        Narratedby:PeterBocek   4 hrs and 32 mins    04-01-22   \n",
       "\n",
       "      language          stars     price  \n",
       "5899   English  Not rated yet    301.00  \n",
       "84250  English  Not rated yet    425.00  \n",
       "36273  English  Not rated yet  1,074.00  \n",
       "60704   german  Not rated yet    334.00  "
      ]
     },
     "execution_count": 14,
     "metadata": {},
     "output_type": "execute_result"
    }
   ],
   "source": [
    "audible_data2.sample(4)"
   ]
  },
  {
   "cell_type": "markdown",
   "id": "46b933b8",
   "metadata": {},
   "source": [
    "In the following code, I just wanted to check how many of the new author name columns- author1, author2, author3 contain null values.  \n",
    "If most of the rows are vacant, then there's no point creating additional columns for the same.  \n",
    "I've kept this part in the notebook to show how split can be done if need arises!  \n"
   ]
  },
  {
   "cell_type": "code",
   "execution_count": 15,
   "id": "8b506376",
   "metadata": {
    "scrolled": true
   },
   "outputs": [
    {
     "data": {
      "text/plain": [
       "author0        0\n",
       "author1    73762\n",
       "author2    85135\n",
       "author3    86713\n",
       "dtype: int64"
      ]
     },
     "execution_count": 15,
     "metadata": {},
     "output_type": "execute_result"
    }
   ],
   "source": [
    "#number of missing values in author columns\n",
    "audible_data2.loc[:,['author0','author1','author2','author3']].isnull().sum()"
   ]
  },
  {
   "cell_type": "code",
   "execution_count": 16,
   "id": "1a326bd3",
   "metadata": {},
   "outputs": [],
   "source": [
    "#remove \"Narratedby:\" from Narrator column\n",
    "audible_data2['narrator'] = audible_data2['narrator'].str.replace(pat = \"Narratedby:\", repl = \"\")"
   ]
  },
  {
   "cell_type": "code",
   "execution_count": 17,
   "id": "62bfab0f",
   "metadata": {},
   "outputs": [],
   "source": [
    "#add space between first and last name of the Narrator\n",
    "#e.g. JaneAustin becomes Jane Austin\n",
    "audible_data2['narrator'] = audible_data2['narrator'].str.replace(pat = r\"(\\w)([A-Z])\", repl = r\"\\1 \\2\", regex = True)"
   ]
  },
  {
   "cell_type": "code",
   "execution_count": null,
   "id": "5bedeba8",
   "metadata": {},
   "outputs": [],
   "source": [
    "audible_data2.sample(5)"
   ]
  },
  {
   "cell_type": "markdown",
   "id": "7b2b70e7",
   "metadata": {},
   "source": [
    "## Time column\n",
    "\n",
    "References:  \n",
    "1. [SO: Convert string to HH:MM](https://stackoverflow.com/questions/47097447/convert-string-to-hhmm-time-in-python)  \n",
    "2. [SO: Separate time from date component](https://stackoverflow.com/questions/32375471/pandas-convert-strings-to-time-without-date)"
   ]
  },
  {
   "cell_type": "code",
   "execution_count": 18,
   "id": "b4f9a542",
   "metadata": {},
   "outputs": [],
   "source": [
    "#make a copy of time column to understand all kind of formats in which data is present\n",
    "time_column = audible_data2['time']\n",
    "time_column_copy = time_column.copy()"
   ]
  },
  {
   "cell_type": "markdown",
   "id": "2689d389",
   "metadata": {},
   "source": [
    "Since the 'time' column is of char type, first we need to see all distinct formats in which time has been mentioned.  \n",
    "For example, some rows might have a format- '7 hrs 22 mins' while others with '7 hr 22 mins' (note the missing 's' in hr), '9 hrs' and so on..  \n",
    "Depending on all formats, we figure out steps to be taken to clean this column.  \n",
    "The objective is to convert these values to the form **hh:mm**. "
   ]
  },
  {
   "cell_type": "code",
   "execution_count": null,
   "id": "df200c3c",
   "metadata": {
    "scrolled": true
   },
   "outputs": [],
   "source": [
    "#replace all numbers with blanks\n",
    "time_column_copy = time_column_copy.str.replace(pat = r'[0-9]', repl = '', regex = True)\n",
    "time_column_copy.sample(3)"
   ]
  },
  {
   "cell_type": "code",
   "execution_count": null,
   "id": "52adf417",
   "metadata": {},
   "outputs": [],
   "source": [
    "#keep only unique patterns\n",
    "time_column_copy = time_column_copy.drop_duplicates()\n",
    "time_column_copy"
   ]
  },
  {
   "cell_type": "markdown",
   "id": "80162f1b",
   "metadata": {},
   "source": [
    "'Time' column contains following formats:  \n",
    "1. 7 hrs and 54 mins\n",
    "2. 9 hrs\n",
    "3. 7 mins"
   ]
  },
  {
   "cell_type": "markdown",
   "id": "4f761bd4",
   "metadata": {},
   "source": [
    "### A series with some time values"
   ]
  },
  {
   "cell_type": "code",
   "execution_count": 21,
   "id": "15f7ce06",
   "metadata": {},
   "outputs": [],
   "source": [
    "bus_time = pd.Series(['7 hrs and 20 mins', '9 hrs', '12 hr and 30 min', '4 min', 'less than 1 min', 'less than 14 mins'])"
   ]
  },
  {
   "cell_type": "code",
   "execution_count": 70,
   "id": "7252bf31",
   "metadata": {},
   "outputs": [],
   "source": [
    "time_copy = bus_time.copy()"
   ]
  },
  {
   "cell_type": "markdown",
   "id": "7fda9854",
   "metadata": {},
   "source": [
    "### Rows containing 'and'"
   ]
  },
  {
   "cell_type": "code",
   "execution_count": 71,
   "id": "ae4cd0b7",
   "metadata": {},
   "outputs": [
    {
     "data": {
      "text/plain": [
       "0    7 hrs and 20 mins\n",
       "1                9 hrs\n",
       "2     12 hr and 30 min\n",
       "3                4 min\n",
       "4      less than 1 min\n",
       "5    less than 14 mins\n",
       "dtype: object"
      ]
     },
     "execution_count": 71,
     "metadata": {},
     "output_type": "execute_result"
    }
   ],
   "source": [
    "time_copy"
   ]
  },
  {
   "cell_type": "code",
   "execution_count": 72,
   "id": "19b1fa79",
   "metadata": {},
   "outputs": [],
   "source": [
    "#find the indices of rows containing format 'hrs and mins'\n",
    "and_row_index = time_copy[time_copy.str.contains('and')].index\n",
    "#replace all words with ''\n",
    "time_copy[and_row_index] = time_copy[and_row_index].str.replace(pat = ' and | hrs| hr| mins| min', repl = '', regex = True)\n",
    "#left-pad the remaining digits with 0 to get the pattern like 00:07 [hh:mm]\n",
    "time_copy[and_row_index] = time_copy[and_row_index].str.zfill(4)\n",
    "#add a colon between first 2 and last 2 digits to make the pattern hh:mm\n",
    "time_copy[and_row_index] = time_copy[and_row_index].str[:2] + ':' + time_copy[and_row_index].str[2:]"
   ]
  },
  {
   "cell_type": "code",
   "execution_count": 73,
   "id": "24cefb60",
   "metadata": {},
   "outputs": [
    {
     "data": {
      "text/plain": [
       "0                07:20\n",
       "1                9 hrs\n",
       "2                12:30\n",
       "3                4 min\n",
       "4      less than 1 min\n",
       "5    less than 14 mins\n",
       "dtype: object"
      ]
     },
     "execution_count": 73,
     "metadata": {},
     "output_type": "execute_result"
    }
   ],
   "source": [
    "time_copy"
   ]
  },
  {
   "cell_type": "code",
   "execution_count": 46,
   "id": "b771d37b",
   "metadata": {},
   "outputs": [],
   "source": [
    "#making a copy for minute rows manipulation\n",
    "time_copy2 = time_copy.copy()"
   ]
  },
  {
   "cell_type": "code",
   "execution_count": 47,
   "id": "5a7c44f4",
   "metadata": {},
   "outputs": [
    {
     "data": {
      "text/plain": [
       "0                07:20\n",
       "1                9 hrs\n",
       "2                12:30\n",
       "3                4 min\n",
       "4      less than 1 min\n",
       "5    less than 14 mins\n",
       "dtype: object"
      ]
     },
     "execution_count": 47,
     "metadata": {},
     "output_type": "execute_result"
    }
   ],
   "source": [
    "time_copy2"
   ]
  },
  {
   "cell_type": "markdown",
   "id": "d8d02a1c",
   "metadata": {},
   "source": [
    "### Rows containing 'less than'"
   ]
  },
  {
   "cell_type": "code",
   "execution_count": 74,
   "id": "a43f8639",
   "metadata": {},
   "outputs": [],
   "source": [
    "#rows with 'less than x minute'\n",
    "lt_row_index = time_copy[time_copy.str.contains('less than')].index\n",
    "time_copy[lt_row_index] = time_copy[lt_row_index].str.replace(pat = 'less than ', repl = '', regex = True)"
   ]
  },
  {
   "cell_type": "markdown",
   "id": "6cea6237",
   "metadata": {},
   "source": [
    "### Now, rows containing 'mins OR min'"
   ]
  },
  {
   "cell_type": "code",
   "execution_count": 75,
   "id": "dbacf3a1",
   "metadata": {},
   "outputs": [
    {
     "data": {
      "text/plain": [
       "0    07:20\n",
       "1    9 hrs\n",
       "2    12:30\n",
       "3    00:04\n",
       "4    00:01\n",
       "5    00:14\n",
       "dtype: object"
      ]
     },
     "execution_count": 75,
     "metadata": {},
     "output_type": "execute_result"
    }
   ],
   "source": [
    "min_row_index = time_copy[time_copy.str.contains('mins|min|minute')].index\n",
    "time_copy[min_row_index] = time_copy[min_row_index].str.replace(pat = ' mins| min', repl = '', regex = True)\n",
    "time_copy[min_row_index] = time_copy[min_row_index].str.zfill(4)\n",
    "time_copy[min_row_index] = time_copy[min_row_index].str[:2] + ':' + time_copy[min_row_index].str[2:]\n",
    "time_copy"
   ]
  },
  {
   "cell_type": "markdown",
   "id": "f6288ac4",
   "metadata": {},
   "source": [
    "### rows with 'hrs' or 'hr'"
   ]
  },
  {
   "cell_type": "code",
   "execution_count": 84,
   "id": "ecbc606b",
   "metadata": {},
   "outputs": [
    {
     "data": {
      "text/plain": [
       "Int64Index([1], dtype='int64')"
      ]
     },
     "execution_count": 84,
     "metadata": {},
     "output_type": "execute_result"
    }
   ],
   "source": [
    "time_copy2 = time_copy.copy()\n",
    "hrs_row_index = time_copy2[time_copy2.str.contains('hr')].index\n",
    "hrs_row_index"
   ]
  },
  {
   "cell_type": "code",
   "execution_count": 85,
   "id": "ad704ae3",
   "metadata": {},
   "outputs": [
    {
     "data": {
      "text/plain": [
       "0    07:20\n",
       "1        9\n",
       "2    12:30\n",
       "3    00:04\n",
       "4    00:01\n",
       "5    00:14\n",
       "dtype: object"
      ]
     },
     "execution_count": 85,
     "metadata": {},
     "output_type": "execute_result"
    }
   ],
   "source": [
    "#replace hrs or hr with ''\n",
    "time_copy2[hrs_row_index] = time_copy2[hrs_row_index].str.replace(pat = ' hrs| hr', repl = '', regex = True)\n",
    "time_copy2"
   ]
  },
  {
   "cell_type": "code",
   "execution_count": 86,
   "id": "12f7999e",
   "metadata": {},
   "outputs": [
    {
     "data": {
      "text/plain": [
       "1    9\n",
       "dtype: object"
      ]
     },
     "execution_count": 86,
     "metadata": {},
     "output_type": "execute_result"
    }
   ],
   "source": [
    "#check whether the digit is single or double. If between 1-9, then right-pad 2 zeros and left-pad 1 zero. e.g. 09:00\n",
    "#if double digit, then only right pad 2 zeros. e.g. 16:00\n",
    "time_copy2[hrs_row_index]"
   ]
  },
  {
   "cell_type": "code",
   "execution_count": 88,
   "id": "20dba31a",
   "metadata": {},
   "outputs": [
    {
     "ename": "ValueError",
     "evalue": "The truth value of a Series is ambiguous. Use a.empty, a.bool(), a.item(), a.any() or a.all().",
     "output_type": "error",
     "traceback": [
      "\u001b[1;31m---------------------------------------------------------------------------\u001b[0m",
      "\u001b[1;31mValueError\u001b[0m                                Traceback (most recent call last)",
      "Cell \u001b[1;32mIn[88], line 1\u001b[0m\n\u001b[1;32m----> 1\u001b[0m \u001b[38;5;28;01mif\u001b[39;00m \u001b[43mtime_copy2\u001b[49m\u001b[43m[\u001b[49m\u001b[43mhrs_row_index\u001b[49m\u001b[43m]\u001b[49m\u001b[38;5;241;43m.\u001b[39;49m\u001b[43mastype\u001b[49m\u001b[43m(\u001b[49m\u001b[38;5;28;43mint\u001b[39;49m\u001b[43m)\u001b[49m\u001b[43m \u001b[49m\u001b[38;5;241;43m<\u001b[39;49m\u001b[38;5;241;43m=\u001b[39;49m\u001b[43m \u001b[49m\u001b[38;5;241;43m9\u001b[39;49m:\n\u001b[0;32m      2\u001b[0m     time_copy2[hrs_row_index] \u001b[38;5;241m=\u001b[39m time_copy2[hrs_row_index]\u001b[38;5;241m.\u001b[39mstr\u001b[38;5;241m.\u001b[39mzfill(\u001b[38;5;241m2\u001b[39m)\n\u001b[0;32m      3\u001b[0m     time_copy2[hrs_row_index] \u001b[38;5;241m=\u001b[39m time_copy2[hrs_row_index]\u001b[38;5;241m.\u001b[39mstr\u001b[38;5;241m.\u001b[39mljust(\u001b[38;5;241m4\u001b[39m,\u001b[38;5;124m'\u001b[39m\u001b[38;5;124m0\u001b[39m\u001b[38;5;124m'\u001b[39m)\n",
      "File \u001b[1;32m~\\AppData\\Local\\Programs\\Python\\Python310\\lib\\site-packages\\pandas\\core\\generic.py:1535\u001b[0m, in \u001b[0;36mNDFrame.__nonzero__\u001b[1;34m(self)\u001b[0m\n\u001b[0;32m   1533\u001b[0m \u001b[38;5;129m@final\u001b[39m\n\u001b[0;32m   1534\u001b[0m \u001b[38;5;28;01mdef\u001b[39;00m \u001b[38;5;21m__nonzero__\u001b[39m(\u001b[38;5;28mself\u001b[39m):\n\u001b[1;32m-> 1535\u001b[0m     \u001b[38;5;28;01mraise\u001b[39;00m \u001b[38;5;167;01mValueError\u001b[39;00m(\n\u001b[0;32m   1536\u001b[0m         \u001b[38;5;124mf\u001b[39m\u001b[38;5;124m\"\u001b[39m\u001b[38;5;124mThe truth value of a \u001b[39m\u001b[38;5;132;01m{\u001b[39;00m\u001b[38;5;28mtype\u001b[39m(\u001b[38;5;28mself\u001b[39m)\u001b[38;5;241m.\u001b[39m\u001b[38;5;18m__name__\u001b[39m\u001b[38;5;132;01m}\u001b[39;00m\u001b[38;5;124m is ambiguous. \u001b[39m\u001b[38;5;124m\"\u001b[39m\n\u001b[0;32m   1537\u001b[0m         \u001b[38;5;124m\"\u001b[39m\u001b[38;5;124mUse a.empty, a.bool(), a.item(), a.any() or a.all().\u001b[39m\u001b[38;5;124m\"\u001b[39m\n\u001b[0;32m   1538\u001b[0m     )\n",
      "\u001b[1;31mValueError\u001b[0m: The truth value of a Series is ambiguous. Use a.empty, a.bool(), a.item(), a.any() or a.all()."
     ]
    }
   ],
   "source": [
    "if time_copy2[hrs_row_index].astype(int) <= 9:\n",
    "    time_copy2[hrs_row_index] = time_copy2[hrs_row_index].str.zfill(2)\n",
    "    time_copy2[hrs_row_index] = time_copy2[hrs_row_index].str.ljust(4,'0')\n",
    "else:\n",
    "    time_copy2[hrs_row_idex] = time_copy2[hrs_row_index].str.ljust(4, '0')"
   ]
  },
  {
   "cell_type": "code",
   "execution_count": 82,
   "id": "f3eefee5",
   "metadata": {},
   "outputs": [],
   "source": [
    "time_copy2[hrs_row_index] = time_copy2[hrs_row_index].str.ljust(4,'0')"
   ]
  },
  {
   "cell_type": "code",
   "execution_count": 69,
   "id": "0680c9ab",
   "metadata": {},
   "outputs": [
    {
     "data": {
      "text/plain": [
       "0    07:20\n",
       "1    00:09\n",
       "2    12:30\n",
       "3    00:04\n",
       "4    00:01\n",
       "5    00:14\n",
       "dtype: object"
      ]
     },
     "execution_count": 69,
     "metadata": {},
     "output_type": "execute_result"
    }
   ],
   "source": [
    "#add colon in between to resemble the format hh:mm\n",
    "#time_copy2[hrs_row_index] = time_copy2[hrs_row_index].str[:2] + ':' + time_copy2[hrs_row_index].str[2:]\n",
    "#time_copy2"
   ]
  },
  {
   "cell_type": "code",
   "execution_count": null,
   "id": "d3b4f1d1",
   "metadata": {
    "scrolled": true
   },
   "outputs": [],
   "source": [
    "time2 = pd.to_datetime(time, format = '%H:%M').dt.time\n",
    "time2.info()"
   ]
  }
 ],
 "metadata": {
  "kernelspec": {
   "display_name": "Python 3 (ipykernel)",
   "language": "python",
   "name": "python3"
  },
  "language_info": {
   "codemirror_mode": {
    "name": "ipython",
    "version": 3
   },
   "file_extension": ".py",
   "mimetype": "text/x-python",
   "name": "python",
   "nbconvert_exporter": "python",
   "pygments_lexer": "ipython3",
   "version": "3.10.0"
  }
 },
 "nbformat": 4,
 "nbformat_minor": 5
}

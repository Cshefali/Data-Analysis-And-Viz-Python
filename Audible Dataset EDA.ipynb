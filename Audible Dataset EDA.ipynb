{
 "cells": [
  {
   "cell_type": "markdown",
   "id": "4caea227",
   "metadata": {},
   "source": [
    "### 1. Data Wrangling of Audible Dataset"
   ]
  },
  {
   "cell_type": "code",
   "execution_count": 1,
   "id": "0978eb1f",
   "metadata": {},
   "outputs": [],
   "source": [
    "import pandas as pd\n",
    "import numpy as np\n",
    "import matplotlib.pyplot as plt"
   ]
  },
  {
   "cell_type": "code",
   "execution_count": 2,
   "id": "52743588",
   "metadata": {},
   "outputs": [],
   "source": [
    "pd.options.display.max_rows = 50000"
   ]
  },
  {
   "cell_type": "code",
   "execution_count": 2,
   "id": "1ffe21d3",
   "metadata": {},
   "outputs": [],
   "source": [
    "#import ydata_profiling as yp"
   ]
  },
  {
   "cell_type": "code",
   "execution_count": 3,
   "id": "d151d95f",
   "metadata": {},
   "outputs": [],
   "source": [
    "#read data\n",
    "audible_data = pd.read_csv(\"data/audible_dataset/audible_uncleaned.csv\")"
   ]
  },
  {
   "cell_type": "markdown",
   "id": "5916cd42",
   "metadata": {},
   "source": [
    "Below, I've tried out **`ydata-profiling`** pacakge to generate a basic overview report on the datafile. It highlights a lot of features in the dataset like number of duplicates, missing values, encoding, language consistency etc.  \n",
    "[This](https://www.blog.datahut.co/post/data-cleaning-techniques) is a great blog on cleaning scraped data."
   ]
  },
  {
   "cell_type": "code",
   "execution_count": 4,
   "id": "550d44e8",
   "metadata": {},
   "outputs": [],
   "source": [
    "#original_report = yp.ProfileReport(audible_data, title = \"Prelim Analysis\")\n",
    "#original_report.to_file(\"audible_prelim_report.html\")"
   ]
  },
  {
   "cell_type": "code",
   "execution_count": 4,
   "id": "9bd106d6",
   "metadata": {},
   "outputs": [
    {
     "data": {
      "text/html": [
       "<div>\n",
       "<style scoped>\n",
       "    .dataframe tbody tr th:only-of-type {\n",
       "        vertical-align: middle;\n",
       "    }\n",
       "\n",
       "    .dataframe tbody tr th {\n",
       "        vertical-align: top;\n",
       "    }\n",
       "\n",
       "    .dataframe thead th {\n",
       "        text-align: right;\n",
       "    }\n",
       "</style>\n",
       "<table border=\"1\" class=\"dataframe\">\n",
       "  <thead>\n",
       "    <tr style=\"text-align: right;\">\n",
       "      <th></th>\n",
       "      <th>name</th>\n",
       "      <th>author</th>\n",
       "      <th>narrator</th>\n",
       "      <th>time</th>\n",
       "      <th>releasedate</th>\n",
       "      <th>language</th>\n",
       "      <th>stars</th>\n",
       "      <th>price</th>\n",
       "    </tr>\n",
       "  </thead>\n",
       "  <tbody>\n",
       "    <tr>\n",
       "      <th>16274</th>\n",
       "      <td>新刊ラジオ第2部プレミアム　第281回</td>\n",
       "      <td>Writtenby:矢島雅弘,石橋遊</td>\n",
       "      <td>Narratedby:矢島雅弘,石橋遊</td>\n",
       "      <td>21 mins</td>\n",
       "      <td>16-05-18</td>\n",
       "      <td>japanese</td>\n",
       "      <td>Not rated yet</td>\n",
       "      <td>139.00</td>\n",
       "    </tr>\n",
       "    <tr>\n",
       "      <th>59890</th>\n",
       "      <td>331 metri al secondo</td>\n",
       "      <td>Writtenby:RosannaRubino</td>\n",
       "      <td>Narratedby:PaoloCarenzo</td>\n",
       "      <td>6 hrs and 29 mins</td>\n",
       "      <td>07-10-21</td>\n",
       "      <td>italian</td>\n",
       "      <td>Not rated yet</td>\n",
       "      <td>305.00</td>\n",
       "    </tr>\n",
       "    <tr>\n",
       "      <th>15787</th>\n",
       "      <td>第711回 新刊ラジオ第2部プレミアム</td>\n",
       "      <td>Writtenby:矢島雅弘,石橋遊</td>\n",
       "      <td>Narratedby:矢島雅弘,石橋遊</td>\n",
       "      <td>19 mins</td>\n",
       "      <td>15-05-18</td>\n",
       "      <td>japanese</td>\n",
       "      <td>Not rated yet</td>\n",
       "      <td>139.00</td>\n",
       "    </tr>\n",
       "    <tr>\n",
       "      <th>53350</th>\n",
       "      <td>The Conference of the Birds</td>\n",
       "      <td>Writtenby:Attar,SholehWolpé-Translatedby</td>\n",
       "      <td>Narratedby:FajerAl-Kaisi</td>\n",
       "      <td>8 hrs and 8 mins</td>\n",
       "      <td>28-09-21</td>\n",
       "      <td>English</td>\n",
       "      <td>Not rated yet</td>\n",
       "      <td>586.00</td>\n",
       "    </tr>\n",
       "  </tbody>\n",
       "</table>\n",
       "</div>"
      ],
      "text/plain": [
       "                              name                                    author  \\\n",
       "16274          新刊ラジオ第2部プレミアム　第281回                        Writtenby:矢島雅弘,石橋遊   \n",
       "59890         331 metri al secondo                   Writtenby:RosannaRubino   \n",
       "15787         第711回 新刊ラジオ第2部プレミアム　                        Writtenby:矢島雅弘,石橋遊   \n",
       "53350  The Conference of the Birds  Writtenby:Attar,SholehWolpé-Translatedby   \n",
       "\n",
       "                       narrator               time releasedate  language  \\\n",
       "16274       Narratedby:矢島雅弘,石橋遊            21 mins    16-05-18  japanese   \n",
       "59890   Narratedby:PaoloCarenzo  6 hrs and 29 mins    07-10-21   italian   \n",
       "15787       Narratedby:矢島雅弘,石橋遊            19 mins    15-05-18  japanese   \n",
       "53350  Narratedby:FajerAl-Kaisi   8 hrs and 8 mins    28-09-21   English   \n",
       "\n",
       "               stars   price  \n",
       "16274  Not rated yet  139.00  \n",
       "59890  Not rated yet  305.00  \n",
       "15787  Not rated yet  139.00  \n",
       "53350  Not rated yet  586.00  "
      ]
     },
     "execution_count": 4,
     "metadata": {},
     "output_type": "execute_result"
    }
   ],
   "source": [
    "audible_data.sample(4)"
   ]
  },
  {
   "cell_type": "code",
   "execution_count": 13,
   "id": "7c04cff3",
   "metadata": {},
   "outputs": [
    {
     "name": "stdout",
     "output_type": "stream",
     "text": [
      "<class 'pandas.core.frame.DataFrame'>\n",
      "RangeIndex: 87489 entries, 0 to 87488\n",
      "Data columns (total 8 columns):\n",
      " #   Column       Non-Null Count  Dtype \n",
      "---  ------       --------------  ----- \n",
      " 0   name         87489 non-null  object\n",
      " 1   author       87489 non-null  object\n",
      " 2   narrator     87489 non-null  object\n",
      " 3   time         87489 non-null  object\n",
      " 4   releasedate  87489 non-null  object\n",
      " 5   language     87489 non-null  object\n",
      " 6   stars        87489 non-null  object\n",
      " 7   price        87489 non-null  object\n",
      "dtypes: object(8)\n",
      "memory usage: 5.3+ MB\n"
     ]
    }
   ],
   "source": [
    "audible_data.info()"
   ]
  },
  {
   "cell_type": "code",
   "execution_count": 15,
   "id": "84cd5223",
   "metadata": {},
   "outputs": [
    {
     "data": {
      "text/html": [
       "<div>\n",
       "<style scoped>\n",
       "    .dataframe tbody tr th:only-of-type {\n",
       "        vertical-align: middle;\n",
       "    }\n",
       "\n",
       "    .dataframe tbody tr th {\n",
       "        vertical-align: top;\n",
       "    }\n",
       "\n",
       "    .dataframe thead th {\n",
       "        text-align: right;\n",
       "    }\n",
       "</style>\n",
       "<table border=\"1\" class=\"dataframe\">\n",
       "  <thead>\n",
       "    <tr style=\"text-align: right;\">\n",
       "      <th></th>\n",
       "      <th>name</th>\n",
       "      <th>author</th>\n",
       "      <th>narrator</th>\n",
       "      <th>time</th>\n",
       "      <th>releasedate</th>\n",
       "      <th>language</th>\n",
       "      <th>stars</th>\n",
       "      <th>price</th>\n",
       "    </tr>\n",
       "  </thead>\n",
       "  <tbody>\n",
       "    <tr>\n",
       "      <th>count</th>\n",
       "      <td>87489</td>\n",
       "      <td>87489</td>\n",
       "      <td>87489</td>\n",
       "      <td>87489</td>\n",
       "      <td>87489</td>\n",
       "      <td>87489</td>\n",
       "      <td>87489</td>\n",
       "      <td>87489</td>\n",
       "    </tr>\n",
       "    <tr>\n",
       "      <th>unique</th>\n",
       "      <td>82767</td>\n",
       "      <td>48374</td>\n",
       "      <td>29717</td>\n",
       "      <td>2284</td>\n",
       "      <td>5058</td>\n",
       "      <td>36</td>\n",
       "      <td>665</td>\n",
       "      <td>1011</td>\n",
       "    </tr>\n",
       "    <tr>\n",
       "      <th>top</th>\n",
       "      <td>The Art of War</td>\n",
       "      <td>Writtenby:矢島雅弘,石橋遊</td>\n",
       "      <td>Narratedby:anonymous</td>\n",
       "      <td>2 mins</td>\n",
       "      <td>16-05-18</td>\n",
       "      <td>English</td>\n",
       "      <td>Not rated yet</td>\n",
       "      <td>586.00</td>\n",
       "    </tr>\n",
       "    <tr>\n",
       "      <th>freq</th>\n",
       "      <td>20</td>\n",
       "      <td>874</td>\n",
       "      <td>1034</td>\n",
       "      <td>372</td>\n",
       "      <td>773</td>\n",
       "      <td>61884</td>\n",
       "      <td>72417</td>\n",
       "      <td>5533</td>\n",
       "    </tr>\n",
       "  </tbody>\n",
       "</table>\n",
       "</div>"
      ],
      "text/plain": [
       "                  name              author              narrator    time  \\\n",
       "count            87489               87489                 87489   87489   \n",
       "unique           82767               48374                 29717    2284   \n",
       "top     The Art of War  Writtenby:矢島雅弘,石橋遊  Narratedby:anonymous  2 mins   \n",
       "freq                20                 874                  1034     372   \n",
       "\n",
       "       releasedate language          stars   price  \n",
       "count        87489    87489          87489   87489  \n",
       "unique        5058       36            665    1011  \n",
       "top       16-05-18  English  Not rated yet  586.00  \n",
       "freq           773    61884          72417    5533  "
      ]
     },
     "execution_count": 15,
     "metadata": {},
     "output_type": "execute_result"
    }
   ],
   "source": [
    "audible_data.describe()"
   ]
  },
  {
   "cell_type": "markdown",
   "id": "0ff62ec3",
   "metadata": {},
   "source": [
    "From the `describe()` output, we can see that there are a total of 87,489 books but only 82,767 of them are unique entries. Some books have multiple rows maybe due to a different language of publication or a different narrator etc.  \n",
    "Below, I have listed out books with equal to or more than 10 entries in the dataset."
   ]
  },
  {
   "cell_type": "code",
   "execution_count": 5,
   "id": "50b7a3d1",
   "metadata": {},
   "outputs": [
    {
     "data": {
      "text/plain": [
       "The Art of War                 20\n",
       "Sterling Biographies           19\n",
       "The Odyssey                    16\n",
       "Sterling Point Books           16\n",
       "Hamlet                         15\n",
       "The Prophet                    14\n",
       "Pride and Prejudice            14\n",
       "A Christmas Carol              14\n",
       "The Iliad                      13\n",
       "As a Man Thinketh              13\n",
       "The Science of Getting Rich    13\n",
       "The Picture of Dorian Gray     12\n",
       "Abraham Lincoln                12\n",
       "Meditations                    11\n",
       "The Richest Man in Babylon     11\n",
       "The Raven                      11\n",
       "The Prince                     11\n",
       "Unstoppable                    10\n",
       "Name: name, dtype: int64"
      ]
     },
     "execution_count": 5,
     "metadata": {},
     "output_type": "execute_result"
    }
   ],
   "source": [
    "#checking number of occurances of same book\n",
    "book_counts = audible_data['name'].value_counts()\n",
    "book_counts[book_counts >= 10]"
   ]
  },
  {
   "cell_type": "markdown",
   "id": "0b9c140e",
   "metadata": {},
   "source": [
    "No duplicate rows found."
   ]
  },
  {
   "cell_type": "code",
   "execution_count": 17,
   "id": "0d8e5da2",
   "metadata": {},
   "outputs": [
    {
     "data": {
      "text/plain": [
       "0"
      ]
     },
     "execution_count": 17,
     "metadata": {},
     "output_type": "execute_result"
    }
   ],
   "source": [
    "#check for duplicate rows\n",
    "audible_data.duplicated().sum()"
   ]
  },
  {
   "cell_type": "code",
   "execution_count": 6,
   "id": "2bbb6f80",
   "metadata": {},
   "outputs": [
    {
     "data": {
      "text/html": [
       "<div>\n",
       "<style scoped>\n",
       "    .dataframe tbody tr th:only-of-type {\n",
       "        vertical-align: middle;\n",
       "    }\n",
       "\n",
       "    .dataframe tbody tr th {\n",
       "        vertical-align: top;\n",
       "    }\n",
       "\n",
       "    .dataframe thead th {\n",
       "        text-align: right;\n",
       "    }\n",
       "</style>\n",
       "<table border=\"1\" class=\"dataframe\">\n",
       "  <thead>\n",
       "    <tr style=\"text-align: right;\">\n",
       "      <th></th>\n",
       "      <th>name</th>\n",
       "      <th>author</th>\n",
       "      <th>narrator</th>\n",
       "      <th>time</th>\n",
       "      <th>releasedate</th>\n",
       "      <th>language</th>\n",
       "      <th>stars</th>\n",
       "      <th>price</th>\n",
       "    </tr>\n",
       "  </thead>\n",
       "  <tbody>\n",
       "    <tr>\n",
       "      <th>12694</th>\n",
       "      <td>English Grammar Master - New Edition - Grammar...</td>\n",
       "      <td>Writtenby:DorotaGuzik,DominikaTkaczyk</td>\n",
       "      <td>Narratedby:LaraKalenik,TadeuszZ.Wolański,Maybe...</td>\n",
       "      <td>3 hrs and 38 mins</td>\n",
       "      <td>27-03-18</td>\n",
       "      <td>English</td>\n",
       "      <td>5 out of 5 stars1 rating</td>\n",
       "      <td>401.00</td>\n",
       "    </tr>\n",
       "    <tr>\n",
       "      <th>47675</th>\n",
       "      <td>Die Maske des roten Todes / Die schwarze Katze</td>\n",
       "      <td>Writtenby:EdgarAllanPoe</td>\n",
       "      <td>Narratedby:ArndtSchmöle</td>\n",
       "      <td>51 mins</td>\n",
       "      <td>21-09-21</td>\n",
       "      <td>german</td>\n",
       "      <td>Not rated yet</td>\n",
       "      <td>166.00</td>\n",
       "    </tr>\n",
       "    <tr>\n",
       "      <th>87121</th>\n",
       "      <td>高橋御山人の百社巡礼/其之十一 愛媛・石鎚山 西日本最高峰に 究極の天狗あり</td>\n",
       "      <td>Writtenby:高橋御山人</td>\n",
       "      <td>Narratedby:高橋御山人</td>\n",
       "      <td>26 mins</td>\n",
       "      <td>15-05-18</td>\n",
       "      <td>japanese</td>\n",
       "      <td>Not rated yet</td>\n",
       "      <td>418.00</td>\n",
       "    </tr>\n",
       "    <tr>\n",
       "      <th>12579</th>\n",
       "      <td>Business Spotlight Audio - Elon Musk: a contro...</td>\n",
       "      <td>Writtenby:MelitaCameron-Wood</td>\n",
       "      <td>Narratedby:DavidIngram,ElisaMoolecherry,Melita...</td>\n",
       "      <td>1 hr and 4 mins</td>\n",
       "      <td>30-03-22</td>\n",
       "      <td>german</td>\n",
       "      <td>Not rated yet</td>\n",
       "      <td>501.00</td>\n",
       "    </tr>\n",
       "  </tbody>\n",
       "</table>\n",
       "</div>"
      ],
      "text/plain": [
       "                                                    name  \\\n",
       "12694  English Grammar Master - New Edition - Grammar...   \n",
       "47675     Die Maske des roten Todes / Die schwarze Katze   \n",
       "87121             高橋御山人の百社巡礼/其之十一 愛媛・石鎚山 西日本最高峰に 究極の天狗あり   \n",
       "12579  Business Spotlight Audio - Elon Musk: a contro...   \n",
       "\n",
       "                                      author  \\\n",
       "12694  Writtenby:DorotaGuzik,DominikaTkaczyk   \n",
       "47675                Writtenby:EdgarAllanPoe   \n",
       "87121                        Writtenby:高橋御山人   \n",
       "12579           Writtenby:MelitaCameron-Wood   \n",
       "\n",
       "                                                narrator               time  \\\n",
       "12694  Narratedby:LaraKalenik,TadeuszZ.Wolański,Maybe...  3 hrs and 38 mins   \n",
       "47675                            Narratedby:ArndtSchmöle            51 mins   \n",
       "87121                                   Narratedby:高橋御山人            26 mins   \n",
       "12579  Narratedby:DavidIngram,ElisaMoolecherry,Melita...    1 hr and 4 mins   \n",
       "\n",
       "      releasedate  language                     stars   price  \n",
       "12694    27-03-18   English  5 out of 5 stars1 rating  401.00  \n",
       "47675    21-09-21    german             Not rated yet  166.00  \n",
       "87121    15-05-18  japanese             Not rated yet  418.00  \n",
       "12579    30-03-22    german             Not rated yet  501.00  "
      ]
     },
     "execution_count": 6,
     "metadata": {},
     "output_type": "execute_result"
    }
   ],
   "source": [
    "#filter out all book names containing any special characters\n",
    "booknames_special_chars = audible_data[audible_data.name.str.contains(r'[@#$%+/*]')].drop_duplicates()\n",
    "#number of books that contain special characters- 592 books\n",
    "booknames_special_chars.shape"
   ]
  },
  {
   "cell_type": "code",
   "execution_count": 8,
   "id": "5ed851c8",
   "metadata": {},
   "outputs": [
    {
     "data": {
      "text/plain": [
       "(592, 8)"
      ]
     },
     "execution_count": 8,
     "metadata": {},
     "output_type": "execute_result"
    }
   ],
   "source": [
    "booknames_special_chars.sample(4)"
   ]
  },
  {
   "cell_type": "code",
   "execution_count": 9,
   "id": "c6f9bf1d",
   "metadata": {},
   "outputs": [],
   "source": [
    "#Author column\n",
    "#remove the phrase \"Writtenby:\"\n",
    "audible_data['author'] = audible_data['author'].str.replace(pat = \"Writtenby:\", repl = \"\")"
   ]
  },
  {
   "cell_type": "code",
   "execution_count": 10,
   "id": "aa95eff2",
   "metadata": {},
   "outputs": [
    {
     "data": {
      "text/plain": [
       "0        GeronimoStilton\n",
       "1            RickRiordan\n",
       "2             JeffKinney\n",
       "3            RickRiordan\n",
       "4            RickRiordan\n",
       "              ...       \n",
       "87484       ChrisStewart\n",
       "87485      StephenO'Shea\n",
       "87486          MarkTwain\n",
       "87487     LaurenceSterne\n",
       "87488      MarkKurlansky\n",
       "Name: author, Length: 87489, dtype: object"
      ]
     },
     "execution_count": 10,
     "metadata": {},
     "output_type": "execute_result"
    }
   ],
   "source": [
    "audible_data.author"
   ]
  },
  {
   "cell_type": "markdown",
   "id": "cb811c9d",
   "metadata": {},
   "source": [
    "Stack overflow thread to understand the Regex: [SO](https://stackoverflow.com/questions/199059/a-pythonic-way-to-insert-a-space-before-capital-letters)"
   ]
  },
  {
   "cell_type": "code",
   "execution_count": 11,
   "id": "bdc1bdf7",
   "metadata": {},
   "outputs": [],
   "source": [
    "#Add space between the first, middle and last names of Authors.\n",
    "#e.g. JaneAustin becomes Jane Austin\n",
    "audible_data['author'] = audible_data['author'].str.replace(pat = r\"(\\w)([A-Z])\", repl = r\"\\1 \\2\", regex = True)"
   ]
  },
  {
   "cell_type": "markdown",
   "id": "e146ea44",
   "metadata": {},
   "source": [
    "Some books have multiple authors. So, below the 'author' column has been split into multiple columns with author1, author2, author3..etc. each column with a single name.  \n",
    "Separator \",\" has been used to split the column."
   ]
  },
  {
   "cell_type": "code",
   "execution_count": 12,
   "id": "91c8531e",
   "metadata": {},
   "outputs": [],
   "source": [
    "audible_data2 = pd.concat( [audible_data['name'], \n",
    "                            audible_data['author'].str.split(',', expand = True).add_prefix('author'),\n",
    "                            audible_data.loc[:,['narrator', 'time', 'releasedate', 'language', 'stars', 'price']]], \n",
    "                            axis = 1)"
   ]
  },
  {
   "cell_type": "code",
   "execution_count": 13,
   "id": "9a639456",
   "metadata": {},
   "outputs": [
    {
     "data": {
      "text/html": [
       "<div>\n",
       "<style scoped>\n",
       "    .dataframe tbody tr th:only-of-type {\n",
       "        vertical-align: middle;\n",
       "    }\n",
       "\n",
       "    .dataframe tbody tr th {\n",
       "        vertical-align: top;\n",
       "    }\n",
       "\n",
       "    .dataframe thead th {\n",
       "        text-align: right;\n",
       "    }\n",
       "</style>\n",
       "<table border=\"1\" class=\"dataframe\">\n",
       "  <thead>\n",
       "    <tr style=\"text-align: right;\">\n",
       "      <th></th>\n",
       "      <th>name</th>\n",
       "      <th>author0</th>\n",
       "      <th>author1</th>\n",
       "      <th>author2</th>\n",
       "      <th>author3</th>\n",
       "      <th>narrator</th>\n",
       "      <th>time</th>\n",
       "      <th>releasedate</th>\n",
       "      <th>language</th>\n",
       "      <th>stars</th>\n",
       "      <th>price</th>\n",
       "    </tr>\n",
       "  </thead>\n",
       "  <tbody>\n",
       "    <tr>\n",
       "      <th>83472</th>\n",
       "      <td>Gumdrop Angel</td>\n",
       "      <td>Scott Cawthon</td>\n",
       "      <td>Andrea Waggener</td>\n",
       "      <td>None</td>\n",
       "      <td>None</td>\n",
       "      <td>Narratedby:SuzanneEliseFreeman</td>\n",
       "      <td>6 hrs and 26 mins</td>\n",
       "      <td>04-05-21</td>\n",
       "      <td>English</td>\n",
       "      <td>Not rated yet</td>\n",
       "      <td>492.00</td>\n",
       "    </tr>\n",
       "    <tr>\n",
       "      <th>32821</th>\n",
       "      <td>Organflüstern - Wie wir verdauen</td>\n",
       "      <td>Ewald Kliegel</td>\n",
       "      <td>Abbas Schirmohammadi</td>\n",
       "      <td>None</td>\n",
       "      <td>None</td>\n",
       "      <td>Narratedby:EwaldKliegel</td>\n",
       "      <td>59 mins</td>\n",
       "      <td>11-10-21</td>\n",
       "      <td>german</td>\n",
       "      <td>Not rated yet</td>\n",
       "      <td>233.00</td>\n",
       "    </tr>\n",
       "    <tr>\n",
       "      <th>31571</th>\n",
       "      <td>Vietnam - Kultur und Kommunikation</td>\n",
       "      <td>Frank Brinkmann</td>\n",
       "      <td>Ulrich Leifeld</td>\n",
       "      <td>None</td>\n",
       "      <td>None</td>\n",
       "      <td>Narratedby:AndreasHerrler</td>\n",
       "      <td>36 mins</td>\n",
       "      <td>04-04-19</td>\n",
       "      <td>german</td>\n",
       "      <td>Not rated yet</td>\n",
       "      <td>65.00</td>\n",
       "    </tr>\n",
       "    <tr>\n",
       "      <th>21741</th>\n",
       "      <td>Sink ‘Em All</td>\n",
       "      <td>Charles A.Lockwood</td>\n",
       "      <td>None</td>\n",
       "      <td>None</td>\n",
       "      <td>None</td>\n",
       "      <td>Narratedby:EricMartin</td>\n",
       "      <td>16 hrs and 5 mins</td>\n",
       "      <td>03-07-18</td>\n",
       "      <td>English</td>\n",
       "      <td>Not rated yet</td>\n",
       "      <td>1,003.00</td>\n",
       "    </tr>\n",
       "  </tbody>\n",
       "</table>\n",
       "</div>"
      ],
      "text/plain": [
       "                                     name             author0  \\\n",
       "83472                       Gumdrop Angel       Scott Cawthon   \n",
       "32821    Organflüstern - Wie wir verdauen       Ewald Kliegel   \n",
       "31571  Vietnam - Kultur und Kommunikation     Frank Brinkmann   \n",
       "21741                        Sink ‘Em All  Charles A.Lockwood   \n",
       "\n",
       "                    author1 author2 author3                        narrator  \\\n",
       "83472       Andrea Waggener    None    None  Narratedby:SuzanneEliseFreeman   \n",
       "32821  Abbas Schirmohammadi    None    None         Narratedby:EwaldKliegel   \n",
       "31571        Ulrich Leifeld    None    None       Narratedby:AndreasHerrler   \n",
       "21741                  None    None    None           Narratedby:EricMartin   \n",
       "\n",
       "                    time releasedate language          stars     price  \n",
       "83472  6 hrs and 26 mins    04-05-21  English  Not rated yet    492.00  \n",
       "32821            59 mins    11-10-21   german  Not rated yet    233.00  \n",
       "31571            36 mins    04-04-19   german  Not rated yet     65.00  \n",
       "21741  16 hrs and 5 mins    03-07-18  English  Not rated yet  1,003.00  "
      ]
     },
     "execution_count": 13,
     "metadata": {},
     "output_type": "execute_result"
    }
   ],
   "source": [
    "audible_data2.sample(4)"
   ]
  },
  {
   "cell_type": "markdown",
   "id": "46b933b8",
   "metadata": {},
   "source": [
    "In the following code, I just wanted to check how many of the new author name columns- author1, author2, author3 contain null values.  \n",
    "If most of the rows are vacant, then there's no point creating additional columns for the same."
   ]
  },
  {
   "cell_type": "code",
   "execution_count": 14,
   "id": "8b506376",
   "metadata": {
    "scrolled": true
   },
   "outputs": [
    {
     "data": {
      "text/plain": [
       "author0        0\n",
       "author1    73762\n",
       "author2    85135\n",
       "author3    86713\n",
       "dtype: int64"
      ]
     },
     "execution_count": 14,
     "metadata": {},
     "output_type": "execute_result"
    }
   ],
   "source": [
    "#number of missing values in author columns\n",
    "audible_data2.loc[:,['author0','author1','author2','author3']].isnull().sum()"
   ]
  },
  {
   "cell_type": "code",
   "execution_count": 15,
   "id": "1a326bd3",
   "metadata": {},
   "outputs": [],
   "source": [
    "#remove \"Narratedby:\" from Narrator column\n",
    "audible_data2['narrator'] = audible_data2['narrator'].str.replace(pat = \"Narratedby:\", repl = \"\")"
   ]
  },
  {
   "cell_type": "code",
   "execution_count": 16,
   "id": "62bfab0f",
   "metadata": {},
   "outputs": [],
   "source": [
    "#add space between first and last name of the Narrator\n",
    "#e.g. JaneAustin becomes Jane Austin\n",
    "audible_data2['narrator'] = audible_data2['narrator'].str.replace(pat = r\"(\\w)([A-Z])\", repl = r\"\\1 \\2\", regex = True)"
   ]
  },
  {
   "cell_type": "code",
   "execution_count": 17,
   "id": "5bedeba8",
   "metadata": {},
   "outputs": [
    {
     "data": {
      "text/html": [
       "<div>\n",
       "<style scoped>\n",
       "    .dataframe tbody tr th:only-of-type {\n",
       "        vertical-align: middle;\n",
       "    }\n",
       "\n",
       "    .dataframe tbody tr th {\n",
       "        vertical-align: top;\n",
       "    }\n",
       "\n",
       "    .dataframe thead th {\n",
       "        text-align: right;\n",
       "    }\n",
       "</style>\n",
       "<table border=\"1\" class=\"dataframe\">\n",
       "  <thead>\n",
       "    <tr style=\"text-align: right;\">\n",
       "      <th></th>\n",
       "      <th>name</th>\n",
       "      <th>author0</th>\n",
       "      <th>author1</th>\n",
       "      <th>author2</th>\n",
       "      <th>author3</th>\n",
       "      <th>narrator</th>\n",
       "      <th>time</th>\n",
       "      <th>releasedate</th>\n",
       "      <th>language</th>\n",
       "      <th>stars</th>\n",
       "      <th>price</th>\n",
       "    </tr>\n",
       "  </thead>\n",
       "  <tbody>\n",
       "    <tr>\n",
       "      <th>30026</th>\n",
       "      <td>Crypto Economy</td>\n",
       "      <td>Aries Wang</td>\n",
       "      <td>None</td>\n",
       "      <td>None</td>\n",
       "      <td>None</td>\n",
       "      <td>Mike Lenz</td>\n",
       "      <td>3 hrs and 45 mins</td>\n",
       "      <td>03-08-21</td>\n",
       "      <td>English</td>\n",
       "      <td>4 out of 5 stars1 rating</td>\n",
       "      <td>422.00</td>\n",
       "    </tr>\n",
       "    <tr>\n",
       "      <th>40527</th>\n",
       "      <td>A More Perfect Union</td>\n",
       "      <td>Adam Russell Taylor</td>\n",
       "      <td>John Lewis-foreword</td>\n",
       "      <td>None</td>\n",
       "      <td>None</td>\n",
       "      <td>Terrence Kidd</td>\n",
       "      <td>10 hrs and 1 min</td>\n",
       "      <td>19-10-21</td>\n",
       "      <td>English</td>\n",
       "      <td>Not rated yet</td>\n",
       "      <td>586.00</td>\n",
       "    </tr>\n",
       "    <tr>\n",
       "      <th>24578</th>\n",
       "      <td>Love Isn't Supposed to Hurt</td>\n",
       "      <td>Christi Paul</td>\n",
       "      <td>None</td>\n",
       "      <td>None</td>\n",
       "      <td>None</td>\n",
       "      <td>Christi Paul</td>\n",
       "      <td>6 hrs and 55 mins</td>\n",
       "      <td>18-06-12</td>\n",
       "      <td>English</td>\n",
       "      <td>Not rated yet</td>\n",
       "      <td>797.00</td>\n",
       "    </tr>\n",
       "    <tr>\n",
       "      <th>6235</th>\n",
       "      <td>A Day at the Beach</td>\n",
       "      <td>Lissa Rovetch</td>\n",
       "      <td>None</td>\n",
       "      <td>None</td>\n",
       "      <td>None</td>\n",
       "      <td>Highlightsfor Children</td>\n",
       "      <td>1 min</td>\n",
       "      <td>20-08-18</td>\n",
       "      <td>English</td>\n",
       "      <td>Not rated yet</td>\n",
       "      <td>46.00</td>\n",
       "    </tr>\n",
       "    <tr>\n",
       "      <th>10518</th>\n",
       "      <td>A Prescription for Change</td>\n",
       "      <td>Michael Kinch</td>\n",
       "      <td>None</td>\n",
       "      <td>None</td>\n",
       "      <td>None</td>\n",
       "      <td>William Hughes</td>\n",
       "      <td>13 hrs and 27 mins</td>\n",
       "      <td>07-11-16</td>\n",
       "      <td>English</td>\n",
       "      <td>5 out of 5 stars2 ratings</td>\n",
       "      <td>820.00</td>\n",
       "    </tr>\n",
       "  </tbody>\n",
       "</table>\n",
       "</div>"
      ],
      "text/plain": [
       "                              name              author0              author1  \\\n",
       "30026               Crypto Economy           Aries Wang                 None   \n",
       "40527         A More Perfect Union  Adam Russell Taylor  John Lewis-foreword   \n",
       "24578  Love Isn't Supposed to Hurt         Christi Paul                 None   \n",
       "6235            A Day at the Beach        Lissa Rovetch                 None   \n",
       "10518    A Prescription for Change        Michael Kinch                 None   \n",
       "\n",
       "      author2 author3                narrator                time releasedate  \\\n",
       "30026    None    None               Mike Lenz   3 hrs and 45 mins    03-08-21   \n",
       "40527    None    None           Terrence Kidd    10 hrs and 1 min    19-10-21   \n",
       "24578    None    None            Christi Paul   6 hrs and 55 mins    18-06-12   \n",
       "6235     None    None  Highlightsfor Children               1 min    20-08-18   \n",
       "10518    None    None          William Hughes  13 hrs and 27 mins    07-11-16   \n",
       "\n",
       "      language                      stars   price  \n",
       "30026  English   4 out of 5 stars1 rating  422.00  \n",
       "40527  English              Not rated yet  586.00  \n",
       "24578  English              Not rated yet  797.00  \n",
       "6235   English              Not rated yet   46.00  \n",
       "10518  English  5 out of 5 stars2 ratings  820.00  "
      ]
     },
     "execution_count": 17,
     "metadata": {},
     "output_type": "execute_result"
    }
   ],
   "source": [
    "audible_data2.sample(5)"
   ]
  },
  {
   "cell_type": "markdown",
   "id": "7b2b70e7",
   "metadata": {},
   "source": [
    "#### Time column"
   ]
  },
  {
   "cell_type": "code",
   "execution_count": 25,
   "id": "b4f9a542",
   "metadata": {},
   "outputs": [],
   "source": [
    "#make a copy of time column to understand all kind of formats in which data is present\n",
    "time_column = audible_data2['time']\n",
    "time_column_copy = time_column"
   ]
  },
  {
   "cell_type": "markdown",
   "id": "2689d389",
   "metadata": {},
   "source": [
    "Since the 'time' column is of char type, first we need to see all distinct formats in which time has been mentioned.  \n",
    "For example, some rows might have a format- '7 hrs 22 mins' while others with '7 hr 22 mins' (note the missing 's' in hr), '9 hrs' and so on..  \n",
    "Depending on all formats, we figure out steps to be taken to clean this column.  \n",
    "The objective is to convert these values to the form **hh:mm**. "
   ]
  },
  {
   "cell_type": "code",
   "execution_count": 26,
   "id": "df200c3c",
   "metadata": {
    "scrolled": true
   },
   "outputs": [
    {
     "data": {
      "text/plain": [
       "33256              mins\n",
       "38150     hrs and  mins\n",
       "45664     hrs and  mins\n",
       "Name: time, dtype: object"
      ]
     },
     "execution_count": 26,
     "metadata": {},
     "output_type": "execute_result"
    }
   ],
   "source": [
    "#replace all numbers with blanks\n",
    "time_column_copy = time_column_copy.str.replace(pat = r'[0-9]', repl = '', regex = True)\n",
    "time_column_copy.sample(3)"
   ]
  },
  {
   "cell_type": "code",
   "execution_count": 27,
   "id": "52adf417",
   "metadata": {},
   "outputs": [
    {
     "data": {
      "text/plain": [
       "0           hrs and  mins\n",
       "4                     hrs\n",
       "12           hrs and  min\n",
       "29           hr and  mins\n",
       "53                   mins\n",
       "227                    hr\n",
       "255           hr and  min\n",
       "1203                  min\n",
       "1401    Less than  minute\n",
       "Name: time, dtype: object"
      ]
     },
     "execution_count": 27,
     "metadata": {},
     "output_type": "execute_result"
    }
   ],
   "source": [
    "#keep only unique patterns\n",
    "time_column_copy = time_column_copy.drop_duplicates()\n",
    "time_column_copy"
   ]
  },
  {
   "cell_type": "markdown",
   "id": "80162f1b",
   "metadata": {},
   "source": [
    "'Time' column contains following formats:  \n",
    "1. 7 hrs and 54 mins\n",
    "2. 9 hrs\n",
    "3. 7 mins"
   ]
  },
  {
   "cell_type": "code",
   "execution_count": null,
   "id": "e08d2bc2",
   "metadata": {},
   "outputs": [],
   "source": []
  }
 ],
 "metadata": {
  "kernelspec": {
   "display_name": "Python 3 (ipykernel)",
   "language": "python",
   "name": "python3"
  },
  "language_info": {
   "codemirror_mode": {
    "name": "ipython",
    "version": 3
   },
   "file_extension": ".py",
   "mimetype": "text/x-python",
   "name": "python",
   "nbconvert_exporter": "python",
   "pygments_lexer": "ipython3",
   "version": "3.10.0"
  }
 },
 "nbformat": 4,
 "nbformat_minor": 5
}

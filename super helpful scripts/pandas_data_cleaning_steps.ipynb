{
 "cells": [
  {
   "cell_type": "markdown",
   "id": "3b3b1331-b325-4ec6-b9a5-2f74c8012b33",
   "metadata": {},
   "source": [
    "### Introduction\n",
    "Last Update- Jan 7, 2024  \n",
    "Author- Shefali C."
   ]
  },
  {
   "cell_type": "markdown",
   "id": "d230ebc8-a66f-48eb-b5af-7ba165034ef1",
   "metadata": {},
   "source": [
    "This notebook:  \n",
    "- takes a table copied from a blog,\n",
    "- converts it to a Pandas dataframe after a series of steps,\n",
    "- then cleans and stores it in a csv file."
   ]
  },
  {
   "cell_type": "code",
   "execution_count": 1,
   "id": "673664f4-5917-4199-9f55-6cda4855758b",
   "metadata": {},
   "outputs": [],
   "source": [
    "import pandas as pd\n",
    "import numpy as np\n",
    "import matplotlib.pyplot as plt"
   ]
  },
  {
   "cell_type": "code",
   "execution_count": 2,
   "id": "2b0b9fe9-189d-4230-9528-802eada52256",
   "metadata": {},
   "outputs": [],
   "source": [
    "#table copied from: URL- https://www.w3schools.com/python/pandas/pandas_cleaning.asp\n",
    "table_data = \"\"\"\n",
    "    Duration          Date  Pulse  Maxpulse  Calories\n",
    "  60  '2020/12/01'    110       130     409.1\n",
    "  60  '2020/12/02'    117       145     479.0\n",
    "  60  '2020/12/03'    103       135     340.0\n",
    "  45  '2020/12/04'    109       175     282.4\n",
    "  45  '2020/12/05'    117       148     406.0\n",
    "  60  '2020/12/06'    102       127     300.0\n",
    "  60  '2020/12/07'    110       136     374.0\n",
    "  450  '2020/12/08'    104       134     253.3\n",
    "  30  '2020/12/09'    109       133     195.1\n",
    "  60  '2020/12/10'     98       124     269.0\n",
    "  60  '2020/12/11'    103       147     329.3\n",
    "  60  '2020/12/12'    100       120     250.7\n",
    "  60  '2020/12/12'    100       120     250.7\n",
    "  60  '2020/12/13'    106       128     345.3\n",
    "  60  '2020/12/14'    104       132     379.3\n",
    "  60  '2020/12/15'     98       123     275.0\n",
    "  60  '2020/12/16'     98       120     215.2\n",
    "  60  '2020/12/17'    100       120     300.0\n",
    "  45  '2020/12/18'     90       112       NaN\n",
    "  60  '2020/12/19'    103       123     323.0\n",
    "  45  '2020/12/20'     97       125     243.0\n",
    "  60  '2020/12/21'    108       131     364.2\n",
    "  45           NaN    100       119     282.0\n",
    "  60  '2020/12/23'    130       101     300.0\n",
    "  45  '2020/12/24'    105       132     246.0\n",
    "  60  '2020/12/25'    102       126     334.5\n",
    "  60    2020/12/26    100       120     250.0\n",
    "  60  '2020/12/27'     92       118     241.0\n",
    "  60  '2020/12/28'    103       132       NaN\n",
    "  60  '2020/12/29'    100       132     280.0\n",
    "  60  '2020/12/30'    102       129     380.3\n",
    "  60  '2020/12/31'     92       115     243.0\n",
    "  \"\"\""
   ]
  },
  {
   "cell_type": "code",
   "execution_count": 3,
   "id": "df4c6a97-1beb-40e0-9c02-74324d8b84f4",
   "metadata": {},
   "outputs": [],
   "source": [
    "list_of_rows = table_data.strip().splitlines()"
   ]
  },
  {
   "cell_type": "code",
   "execution_count": 4,
   "id": "8546a900-408a-4637-a966-25739ef7e390",
   "metadata": {},
   "outputs": [
    {
     "data": {
      "text/plain": [
       "['Duration          Date  Pulse  Maxpulse  Calories',\n",
       " \"  60  '2020/12/01'    110       130     409.1\",\n",
       " \"  60  '2020/12/02'    117       145     479.0\",\n",
       " \"  60  '2020/12/03'    103       135     340.0\",\n",
       " \"  45  '2020/12/04'    109       175     282.4\",\n",
       " \"  45  '2020/12/05'    117       148     406.0\",\n",
       " \"  60  '2020/12/06'    102       127     300.0\",\n",
       " \"  60  '2020/12/07'    110       136     374.0\",\n",
       " \"  450  '2020/12/08'    104       134     253.3\",\n",
       " \"  30  '2020/12/09'    109       133     195.1\",\n",
       " \"  60  '2020/12/10'     98       124     269.0\",\n",
       " \"  60  '2020/12/11'    103       147     329.3\",\n",
       " \"  60  '2020/12/12'    100       120     250.7\",\n",
       " \"  60  '2020/12/12'    100       120     250.7\",\n",
       " \"  60  '2020/12/13'    106       128     345.3\",\n",
       " \"  60  '2020/12/14'    104       132     379.3\",\n",
       " \"  60  '2020/12/15'     98       123     275.0\",\n",
       " \"  60  '2020/12/16'     98       120     215.2\",\n",
       " \"  60  '2020/12/17'    100       120     300.0\",\n",
       " \"  45  '2020/12/18'     90       112       NaN\",\n",
       " \"  60  '2020/12/19'    103       123     323.0\",\n",
       " \"  45  '2020/12/20'     97       125     243.0\",\n",
       " \"  60  '2020/12/21'    108       131     364.2\",\n",
       " '  45           NaN    100       119     282.0',\n",
       " \"  60  '2020/12/23'    130       101     300.0\",\n",
       " \"  45  '2020/12/24'    105       132     246.0\",\n",
       " \"  60  '2020/12/25'    102       126     334.5\",\n",
       " '  60    2020/12/26    100       120     250.0',\n",
       " \"  60  '2020/12/27'     92       118     241.0\",\n",
       " \"  60  '2020/12/28'    103       132       NaN\",\n",
       " \"  60  '2020/12/29'    100       132     280.0\",\n",
       " \"  60  '2020/12/30'    102       129     380.3\",\n",
       " \"  60  '2020/12/31'     92       115     243.0\"]"
      ]
     },
     "execution_count": 4,
     "metadata": {},
     "output_type": "execute_result"
    }
   ],
   "source": [
    "list_of_rows"
   ]
  },
  {
   "cell_type": "code",
   "execution_count": 5,
   "id": "acca83a7-3807-421d-99bf-05aa432a1e57",
   "metadata": {},
   "outputs": [],
   "source": [
    "#take out the first row which will form column name\n",
    "colnames = list_of_rows[0].split()"
   ]
  },
  {
   "cell_type": "code",
   "execution_count": 6,
   "id": "385abd13-7c3c-4638-a415-525e876918f1",
   "metadata": {},
   "outputs": [
    {
     "data": {
      "text/plain": [
       "['Duration', 'Date', 'Pulse', 'Maxpulse', 'Calories']"
      ]
     },
     "execution_count": 6,
     "metadata": {},
     "output_type": "execute_result"
    }
   ],
   "source": [
    "colnames"
   ]
  },
  {
   "cell_type": "code",
   "execution_count": 7,
   "id": "65d0a271-c64d-4a0d-968f-5977c8a3353c",
   "metadata": {},
   "outputs": [],
   "source": [
    "#take each row from 2nd row onwards and split them into individual lists\n",
    "data_rows = [row.split(maxsplit = len(colnames)-1) for row in list_of_rows[1:]]"
   ]
  },
  {
   "cell_type": "code",
   "execution_count": 8,
   "id": "37a2cc7e-e10c-49a3-b0c3-83656b88e6f3",
   "metadata": {},
   "outputs": [
    {
     "data": {
      "text/plain": [
       "[['60', \"'2020/12/01'\", '110', '130', '409.1'],\n",
       " ['60', \"'2020/12/02'\", '117', '145', '479.0'],\n",
       " ['60', \"'2020/12/03'\", '103', '135', '340.0'],\n",
       " ['45', \"'2020/12/04'\", '109', '175', '282.4'],\n",
       " ['45', \"'2020/12/05'\", '117', '148', '406.0'],\n",
       " ['60', \"'2020/12/06'\", '102', '127', '300.0']]"
      ]
     },
     "execution_count": 8,
     "metadata": {},
     "output_type": "execute_result"
    }
   ],
   "source": [
    "#display sample of the output\n",
    "data_rows[0:6] #NOTE: each value is surrounded by single quotes, these will be removed in cleaning steps."
   ]
  },
  {
   "cell_type": "code",
   "execution_count": 9,
   "id": "b29933ff-aa5b-4d50-bd00-5ea5819ff8f2",
   "metadata": {},
   "outputs": [],
   "source": [
    "#Transpose these rows into columns\n",
    "#this clubs corresponding values in each row into 1 column.\n",
    "#e.g. 60, 50, 60, 45, .. gets clubbed into one tuple, dates get clubbed into 1 tuple\n",
    "# each tuple representing one column-to-be in our dataframe\n",
    "t_data_rows = list(zip(*data_rows))"
   ]
  },
  {
   "cell_type": "code",
   "execution_count": 10,
   "id": "c5b9403d-30dc-461f-9b64-88d71c0ab625",
   "metadata": {},
   "outputs": [],
   "source": [
    "#display\n",
    "#t_data_rows"
   ]
  },
  {
   "cell_type": "code",
   "execution_count": 11,
   "id": "91a31760-5527-4eda-bb33-7ea72c33eeae",
   "metadata": {},
   "outputs": [],
   "source": [
    "#Form a dictionary of column-name with these columns created above.\n",
    "#Take one column name from \"colnames\", make it key.\n",
    "#take one corresponding indexed tuple from \"t_data_rows\" and make it value.\n",
    "dict_data = {colnames[i] : list(t_data_rows[i]) for i in range(len(colnames))}"
   ]
  },
  {
   "cell_type": "code",
   "execution_count": 12,
   "id": "1d09f73c-1b7f-4c52-8ee6-82699446285a",
   "metadata": {},
   "outputs": [
    {
     "name": "stdout",
     "output_type": "stream",
     "text": [
      "['60', '60', '60', '45', '45', '60', '60', '450', '30', '60', '60', '60', '60', '60', '60', '60', '60', '60', '45', '60', '45', '60', '45', '60', '45', '60', '60', '60', '60', '60', '60', '60']\n"
     ]
    }
   ],
   "source": [
    "#View the dictionary\n",
    "print(dict_data[\"Duration\"])"
   ]
  },
  {
   "cell_type": "code",
   "execution_count": 13,
   "id": "2f04a81c-e3f7-4fc3-a3f7-5d76e409562b",
   "metadata": {},
   "outputs": [],
   "source": [
    "#convert this dictionary to dataframe\n",
    "df = pd.DataFrame(dict_data)"
   ]
  },
  {
   "cell_type": "code",
   "execution_count": 14,
   "id": "7a0728d1-3674-4a3e-b993-288a370c7eee",
   "metadata": {},
   "outputs": [
    {
     "data": {
      "text/html": [
       "<div>\n",
       "<style scoped>\n",
       "    .dataframe tbody tr th:only-of-type {\n",
       "        vertical-align: middle;\n",
       "    }\n",
       "\n",
       "    .dataframe tbody tr th {\n",
       "        vertical-align: top;\n",
       "    }\n",
       "\n",
       "    .dataframe thead th {\n",
       "        text-align: right;\n",
       "    }\n",
       "</style>\n",
       "<table border=\"1\" class=\"dataframe\">\n",
       "  <thead>\n",
       "    <tr style=\"text-align: right;\">\n",
       "      <th></th>\n",
       "      <th>Duration</th>\n",
       "      <th>Date</th>\n",
       "      <th>Pulse</th>\n",
       "      <th>Maxpulse</th>\n",
       "      <th>Calories</th>\n",
       "    </tr>\n",
       "  </thead>\n",
       "  <tbody>\n",
       "    <tr>\n",
       "      <th>0</th>\n",
       "      <td>60</td>\n",
       "      <td>'2020/12/01'</td>\n",
       "      <td>110</td>\n",
       "      <td>130</td>\n",
       "      <td>409.1</td>\n",
       "    </tr>\n",
       "    <tr>\n",
       "      <th>1</th>\n",
       "      <td>60</td>\n",
       "      <td>'2020/12/02'</td>\n",
       "      <td>117</td>\n",
       "      <td>145</td>\n",
       "      <td>479.0</td>\n",
       "    </tr>\n",
       "    <tr>\n",
       "      <th>2</th>\n",
       "      <td>60</td>\n",
       "      <td>'2020/12/03'</td>\n",
       "      <td>103</td>\n",
       "      <td>135</td>\n",
       "      <td>340.0</td>\n",
       "    </tr>\n",
       "    <tr>\n",
       "      <th>3</th>\n",
       "      <td>45</td>\n",
       "      <td>'2020/12/04'</td>\n",
       "      <td>109</td>\n",
       "      <td>175</td>\n",
       "      <td>282.4</td>\n",
       "    </tr>\n",
       "  </tbody>\n",
       "</table>\n",
       "</div>"
      ],
      "text/plain": [
       "  Duration          Date Pulse Maxpulse Calories\n",
       "0       60  '2020/12/01'   110      130    409.1\n",
       "1       60  '2020/12/02'   117      145    479.0\n",
       "2       60  '2020/12/03'   103      135    340.0\n",
       "3       45  '2020/12/04'   109      175    282.4"
      ]
     },
     "execution_count": 14,
     "metadata": {},
     "output_type": "execute_result"
    }
   ],
   "source": [
    "#View the dataframe\n",
    "df.head(4)"
   ]
  },
  {
   "cell_type": "code",
   "execution_count": 15,
   "id": "a05b1743-d362-4daa-b0ac-750e7b055678",
   "metadata": {},
   "outputs": [
    {
     "name": "stdout",
     "output_type": "stream",
     "text": [
      "<class 'pandas.core.frame.DataFrame'>\n",
      "RangeIndex: 32 entries, 0 to 31\n",
      "Data columns (total 5 columns):\n",
      " #   Column    Non-Null Count  Dtype \n",
      "---  ------    --------------  ----- \n",
      " 0   Duration  32 non-null     object\n",
      " 1   Date      32 non-null     object\n",
      " 2   Pulse     32 non-null     object\n",
      " 3   Maxpulse  32 non-null     object\n",
      " 4   Calories  32 non-null     object\n",
      "dtypes: object(5)\n",
      "memory usage: 1.4+ KB\n"
     ]
    }
   ],
   "source": [
    "#Check the datatype of each column\n",
    "df.info() #all are string type"
   ]
  },
  {
   "cell_type": "markdown",
   "id": "0c34ece7-fdbb-415c-b237-ba54421bb039",
   "metadata": {},
   "source": [
    "### Fix Data Types of Columns"
   ]
  },
  {
   "cell_type": "code",
   "execution_count": 16,
   "id": "fdffa987-589f-4156-966f-5f307fa3e8ec",
   "metadata": {},
   "outputs": [],
   "source": [
    "#Duration- convert to integer type\n",
    "df.Duration = df.Duration.astype(int)"
   ]
  },
  {
   "cell_type": "code",
   "execution_count": 17,
   "id": "68c1fdc2-5000-42cf-b7ee-3d796a5915c8",
   "metadata": {},
   "outputs": [],
   "source": [
    "# Date- convert to datetime type\n",
    "\n",
    "#remove the single quotes from date values\n",
    "df.Date = df.Date.astype(str).str.strip(\"'\")"
   ]
  },
  {
   "cell_type": "code",
   "execution_count": 18,
   "id": "7d1cfa7f-8af4-40e7-b4c9-3103b8106ce3",
   "metadata": {},
   "outputs": [],
   "source": [
    "#convert to datetime type\n",
    "df.Date = pd.to_datetime(df.Date, format=\"%Y/%m/%d\")"
   ]
  },
  {
   "cell_type": "code",
   "execution_count": 19,
   "id": "76e51d45-2b8c-412f-a437-b5c6062dfc12",
   "metadata": {},
   "outputs": [
    {
     "name": "stdout",
     "output_type": "stream",
     "text": [
      "0   2020-12-01\n",
      "1   2020-12-02\n",
      "2   2020-12-03\n",
      "3   2020-12-04\n",
      "4   2020-12-05\n",
      "5   2020-12-06\n",
      "6   2020-12-07\n",
      "Name: Date, dtype: datetime64[ns]\n"
     ]
    }
   ],
   "source": [
    "#View the date column values\n",
    "print(df.Date[:7])"
   ]
  },
  {
   "cell_type": "code",
   "execution_count": 20,
   "id": "e3043da5-8d5b-423d-8316-913289a8fdd2",
   "metadata": {},
   "outputs": [],
   "source": [
    "#Pulse- convert to int\n",
    "df.Pulse = df.Pulse.astype(int)"
   ]
  },
  {
   "cell_type": "code",
   "execution_count": 21,
   "id": "7249eee1-62ed-4252-adf7-3ea8d331db3c",
   "metadata": {},
   "outputs": [],
   "source": [
    "#Maxpulse- convert to int\n",
    "df.Maxpulse = df.Maxpulse.astype(int)"
   ]
  },
  {
   "cell_type": "code",
   "execution_count": 22,
   "id": "188e3339-b26c-4a16-bab1-13ab6537616c",
   "metadata": {},
   "outputs": [],
   "source": [
    "#Calories- convert to Float\n",
    "df.Calories = df.Calories.astype(float)"
   ]
  },
  {
   "cell_type": "markdown",
   "id": "62148c6b-a285-4aea-ba7a-7e45da2c4672",
   "metadata": {},
   "source": [
    "### Check for Missing Values"
   ]
  },
  {
   "cell_type": "code",
   "execution_count": 23,
   "id": "88afe8ae-f1ba-4c4f-9d34-b7be6ef900b4",
   "metadata": {},
   "outputs": [
    {
     "data": {
      "text/plain": [
       "Duration    0\n",
       "Date        1\n",
       "Pulse       0\n",
       "Maxpulse    0\n",
       "Calories    2\n",
       "dtype: int64"
      ]
     },
     "execution_count": 23,
     "metadata": {},
     "output_type": "execute_result"
    }
   ],
   "source": [
    "#missing values in entire dataframe\n",
    "df.isna().sum()"
   ]
  },
  {
   "cell_type": "code",
   "execution_count": 24,
   "id": "7a8ba435-8bcc-4c63-a73c-a7ff6139616f",
   "metadata": {},
   "outputs": [
    {
     "data": {
      "text/html": [
       "<div>\n",
       "<style scoped>\n",
       "    .dataframe tbody tr th:only-of-type {\n",
       "        vertical-align: middle;\n",
       "    }\n",
       "\n",
       "    .dataframe tbody tr th {\n",
       "        vertical-align: top;\n",
       "    }\n",
       "\n",
       "    .dataframe thead th {\n",
       "        text-align: right;\n",
       "    }\n",
       "</style>\n",
       "<table border=\"1\" class=\"dataframe\">\n",
       "  <thead>\n",
       "    <tr style=\"text-align: right;\">\n",
       "      <th></th>\n",
       "      <th>Duration</th>\n",
       "      <th>Date</th>\n",
       "      <th>Pulse</th>\n",
       "      <th>Maxpulse</th>\n",
       "      <th>Calories</th>\n",
       "    </tr>\n",
       "  </thead>\n",
       "  <tbody>\n",
       "    <tr>\n",
       "      <th>22</th>\n",
       "      <td>45</td>\n",
       "      <td>NaT</td>\n",
       "      <td>100</td>\n",
       "      <td>119</td>\n",
       "      <td>282.0</td>\n",
       "    </tr>\n",
       "  </tbody>\n",
       "</table>\n",
       "</div>"
      ],
      "text/plain": [
       "    Duration Date  Pulse  Maxpulse  Calories\n",
       "22        45  NaT    100       119     282.0"
      ]
     },
     "execution_count": 24,
     "metadata": {},
     "output_type": "execute_result"
    }
   ],
   "source": [
    "#Check the row with NaT in Date column\n",
    "df[df.Date.isna()]"
   ]
  },
  {
   "cell_type": "code",
   "execution_count": 25,
   "id": "deea3c8b-2320-4a5e-81dd-5ee7bd142c10",
   "metadata": {},
   "outputs": [],
   "source": [
    "#Impute this NaT with Dec 1, 2020. (all dates in this dummy dataset are days in December 2020)\n",
    "df.fillna({'Date': pd.Timestamp('2020-12-01')}, inplace=True)"
   ]
  },
  {
   "cell_type": "code",
   "execution_count": 26,
   "id": "662ed8cd-055d-4630-95bd-583cc0314466",
   "metadata": {},
   "outputs": [
    {
     "data": {
      "text/plain": [
       "Duration                     45\n",
       "Date        2020-12-01 00:00:00\n",
       "Pulse                       100\n",
       "Maxpulse                    119\n",
       "Calories                  282.0\n",
       "Name: 22, dtype: object"
      ]
     },
     "execution_count": 26,
     "metadata": {},
     "output_type": "execute_result"
    }
   ],
   "source": [
    "#check row 22 again\n",
    "df.loc[22,:]"
   ]
  },
  {
   "cell_type": "code",
   "execution_count": 27,
   "id": "ad6a8c19-8665-49e5-8d4c-39ae136628dc",
   "metadata": {},
   "outputs": [],
   "source": [
    "#Replace 2 NaN values in Calories with the median value.\n",
    "#find the median\n",
    "median_cals = df['Calories'].median()\n",
    "df.fillna({'Calories':median_cals}, inplace=True)"
   ]
  },
  {
   "cell_type": "code",
   "execution_count": 28,
   "id": "714706d8-2fd6-404a-b0b2-d8c936fb9f1f",
   "metadata": {},
   "outputs": [
    {
     "data": {
      "text/plain": [
       "Duration    0\n",
       "Date        0\n",
       "Pulse       0\n",
       "Maxpulse    0\n",
       "Calories    0\n",
       "dtype: int64"
      ]
     },
     "execution_count": 28,
     "metadata": {},
     "output_type": "execute_result"
    }
   ],
   "source": [
    "#check for NA's now in the df\n",
    "df.isna().sum()"
   ]
  },
  {
   "cell_type": "markdown",
   "id": "e502d9f8-93c1-4aa9-96fc-ddd9d355fa62",
   "metadata": {},
   "source": [
    "### Check for anomalies"
   ]
  },
  {
   "cell_type": "code",
   "execution_count": 29,
   "id": "181f6384-53f5-46b9-ad99-72321dc7d624",
   "metadata": {},
   "outputs": [
    {
     "data": {
      "text/html": [
       "<div>\n",
       "<style scoped>\n",
       "    .dataframe tbody tr th:only-of-type {\n",
       "        vertical-align: middle;\n",
       "    }\n",
       "\n",
       "    .dataframe tbody tr th {\n",
       "        vertical-align: top;\n",
       "    }\n",
       "\n",
       "    .dataframe thead th {\n",
       "        text-align: right;\n",
       "    }\n",
       "</style>\n",
       "<table border=\"1\" class=\"dataframe\">\n",
       "  <thead>\n",
       "    <tr style=\"text-align: right;\">\n",
       "      <th></th>\n",
       "      <th>Duration</th>\n",
       "      <th>Pulse</th>\n",
       "      <th>Maxpulse</th>\n",
       "      <th>Calories</th>\n",
       "    </tr>\n",
       "  </thead>\n",
       "  <tbody>\n",
       "    <tr>\n",
       "      <th>count</th>\n",
       "      <td>32.000000</td>\n",
       "      <td>32.000000</td>\n",
       "      <td>32.000000</td>\n",
       "      <td>32.000000</td>\n",
       "    </tr>\n",
       "    <tr>\n",
       "      <th>mean</th>\n",
       "      <td>68.437500</td>\n",
       "      <td>103.500000</td>\n",
       "      <td>128.500000</td>\n",
       "      <td>303.837500</td>\n",
       "    </tr>\n",
       "    <tr>\n",
       "      <th>std</th>\n",
       "      <td>70.039591</td>\n",
       "      <td>7.832933</td>\n",
       "      <td>12.998759</td>\n",
       "      <td>63.925152</td>\n",
       "    </tr>\n",
       "    <tr>\n",
       "      <th>min</th>\n",
       "      <td>30.000000</td>\n",
       "      <td>90.000000</td>\n",
       "      <td>101.000000</td>\n",
       "      <td>195.100000</td>\n",
       "    </tr>\n",
       "    <tr>\n",
       "      <th>25%</th>\n",
       "      <td>60.000000</td>\n",
       "      <td>100.000000</td>\n",
       "      <td>120.000000</td>\n",
       "      <td>250.700000</td>\n",
       "    </tr>\n",
       "    <tr>\n",
       "      <th>50%</th>\n",
       "      <td>60.000000</td>\n",
       "      <td>102.500000</td>\n",
       "      <td>127.500000</td>\n",
       "      <td>291.200000</td>\n",
       "    </tr>\n",
       "    <tr>\n",
       "      <th>75%</th>\n",
       "      <td>60.000000</td>\n",
       "      <td>106.500000</td>\n",
       "      <td>132.250000</td>\n",
       "      <td>341.325000</td>\n",
       "    </tr>\n",
       "    <tr>\n",
       "      <th>max</th>\n",
       "      <td>450.000000</td>\n",
       "      <td>130.000000</td>\n",
       "      <td>175.000000</td>\n",
       "      <td>479.000000</td>\n",
       "    </tr>\n",
       "  </tbody>\n",
       "</table>\n",
       "</div>"
      ],
      "text/plain": [
       "         Duration       Pulse    Maxpulse    Calories\n",
       "count   32.000000   32.000000   32.000000   32.000000\n",
       "mean    68.437500  103.500000  128.500000  303.837500\n",
       "std     70.039591    7.832933   12.998759   63.925152\n",
       "min     30.000000   90.000000  101.000000  195.100000\n",
       "25%     60.000000  100.000000  120.000000  250.700000\n",
       "50%     60.000000  102.500000  127.500000  291.200000\n",
       "75%     60.000000  106.500000  132.250000  341.325000\n",
       "max    450.000000  130.000000  175.000000  479.000000"
      ]
     },
     "execution_count": 29,
     "metadata": {},
     "output_type": "execute_result"
    }
   ],
   "source": [
    "df.drop('Date', axis=1).describe()"
   ]
  },
  {
   "cell_type": "markdown",
   "id": "13ce8028-bad5-458e-902f-fdc1febcacdf",
   "metadata": {},
   "source": [
    "#### 1. Duration Column- Max value is 450!\n",
    "\n",
    "Seems like a data-entry error"
   ]
  },
  {
   "cell_type": "code",
   "execution_count": 30,
   "id": "7823c08d-dfdc-4d43-94c1-618767daa68c",
   "metadata": {},
   "outputs": [
    {
     "data": {
      "image/png": "[encoded data removed]",
      "text/plain": [
       "<Figure size 600x300 with 1 Axes>"
      ]
     },
     "metadata": {},
     "output_type": "display_data"
    }
   ],
   "source": [
    "#Creating boxplot for 1st column- the max value is way beyond 75th percentile.\n",
    "#create color maps for far-off points\n",
    "colors = ['red' if x > 60 else 'blue' for x in df['Duration']]\n",
    "##plot\n",
    "plt.figure(figsize = (6,3))\n",
    "plt.scatter(range(len(df)), df['Duration'], c=colors)\n",
    "plt.title('Spread of \"duration\" values')\n",
    "plt.show()"
   ]
  },
  {
   "cell_type": "code",
   "execution_count": 31,
   "id": "aa7cf4cb-3567-4639-a327-5973d37bb667",
   "metadata": {},
   "outputs": [
    {
     "data": {
      "text/html": [
       "<div>\n",
       "<style scoped>\n",
       "    .dataframe tbody tr th:only-of-type {\n",
       "        vertical-align: middle;\n",
       "    }\n",
       "\n",
       "    .dataframe tbody tr th {\n",
       "        vertical-align: top;\n",
       "    }\n",
       "\n",
       "    .dataframe thead th {\n",
       "        text-align: right;\n",
       "    }\n",
       "</style>\n",
       "<table border=\"1\" class=\"dataframe\">\n",
       "  <thead>\n",
       "    <tr style=\"text-align: right;\">\n",
       "      <th></th>\n",
       "      <th>Duration</th>\n",
       "      <th>Date</th>\n",
       "      <th>Pulse</th>\n",
       "      <th>Maxpulse</th>\n",
       "      <th>Calories</th>\n",
       "    </tr>\n",
       "  </thead>\n",
       "  <tbody>\n",
       "    <tr>\n",
       "      <th>7</th>\n",
       "      <td>450</td>\n",
       "      <td>2020-12-08</td>\n",
       "      <td>104</td>\n",
       "      <td>134</td>\n",
       "      <td>253.3</td>\n",
       "    </tr>\n",
       "  </tbody>\n",
       "</table>\n",
       "</div>"
      ],
      "text/plain": [
       "   Duration       Date  Pulse  Maxpulse  Calories\n",
       "7       450 2020-12-08    104       134     253.3"
      ]
     },
     "execution_count": 31,
     "metadata": {},
     "output_type": "execute_result"
    }
   ],
   "source": [
    "#Find out index of rows where duration > 60 \n",
    "df[df['Duration'] > 60]"
   ]
  },
  {
   "cell_type": "code",
   "execution_count": 32,
   "id": "5e754aa8-0dd8-426c-be6f-349b229d7059",
   "metadata": {},
   "outputs": [],
   "source": [
    "#Replace duration value at index 7 with 45\n",
    "df.loc[7, 'Duration'] = 45"
   ]
  },
  {
   "cell_type": "code",
   "execution_count": 33,
   "id": "6ab357a6-2289-4139-bace-efffe7ec6997",
   "metadata": {},
   "outputs": [
    {
     "data": {
      "text/plain": [
       "Duration                     45\n",
       "Date        2020-12-08 00:00:00\n",
       "Pulse                       104\n",
       "Maxpulse                    134\n",
       "Calories                  253.3\n",
       "Name: 7, dtype: object"
      ]
     },
     "execution_count": 33,
     "metadata": {},
     "output_type": "execute_result"
    }
   ],
   "source": [
    "#check the value of this row again..\n",
    "df.loc[7,:]"
   ]
  },
  {
   "cell_type": "markdown",
   "id": "e29fa2e2-bd1a-4237-8472-84de84375537",
   "metadata": {},
   "source": [
    "#### 2. Column- Pulse"
   ]
  },
  {
   "cell_type": "code",
   "execution_count": 34,
   "id": "41aacf05-3ef9-49b4-8449-b6508534b294",
   "metadata": {},
   "outputs": [
    {
     "data": {
      "image/png": "[encoded data removed]",
      "text/plain": [
       "<Figure size 600x200 with 1 Axes>"
      ]
     },
     "metadata": {},
     "output_type": "display_data"
    }
   ],
   "source": [
    "plt.figure(figsize = (6, 2))\n",
    "plt.boxplot(df.Pulse, vert=False)\n",
    "plt.show()"
   ]
  },
  {
   "cell_type": "markdown",
   "id": "b020a678-618b-46cd-bd98-82e3f4d63832",
   "metadata": {},
   "source": [
    "#### 3. Column- Maxpulse"
   ]
  },
  {
   "cell_type": "code",
   "execution_count": 35,
   "id": "6e7bf498-1588-4bf4-bc28-dcc64095e060",
   "metadata": {},
   "outputs": [
    {
     "data": {
      "image/png": "[encoded data removed]",
      "text/plain": [
       "<Figure size 600x200 with 1 Axes>"
      ]
     },
     "metadata": {},
     "output_type": "display_data"
    }
   ],
   "source": [
    "plt.figure(figsize = (6,2))\n",
    "plt.boxplot(df.Maxpulse, vert=False)\n",
    "plt.show()"
   ]
  },
  {
   "cell_type": "markdown",
   "id": "d41c07fd-f940-4166-9afb-c900adf9f810",
   "metadata": {},
   "source": [
    "#### 4. Column- Calories"
   ]
  },
  {
   "cell_type": "code",
   "execution_count": 36,
   "id": "39afe7e2-e94b-4c92-b530-e6f6c552369a",
   "metadata": {},
   "outputs": [
    {
     "data": {
      "image/png": "[encoded data removed]",
      "text/plain": [
       "<Figure size 600x200 with 1 Axes>"
      ]
     },
     "metadata": {},
     "output_type": "display_data"
    }
   ],
   "source": [
    "plt.figure(figsize = (6,2))\n",
    "plt.boxplot(df.Calories, vert=False)\n",
    "plt.show()"
   ]
  },
  {
   "cell_type": "markdown",
   "id": "1f438b6d-bb26-4209-8ed8-82ba39965c92",
   "metadata": {},
   "source": [
    "### Duplicate Rows"
   ]
  },
  {
   "cell_type": "markdown",
   "id": "266a29a6-4e61-4644-a6da-66b835a272da",
   "metadata": {},
   "source": [
    "**`keep=False`** makes sure all duplicate rows get included, not just 1 copy of the row.  \n",
    "- Default value of keep is **\"first\"** which only marks second or more occurances as duplicates, excludes the first.\n",
    "- So, if requirement is to see all copies, then use **keep=False**"
   ]
  },
  {
   "cell_type": "code",
   "execution_count": 37,
   "id": "935969ab-7d3c-4704-8cb9-8a9349c71b7d",
   "metadata": {},
   "outputs": [
    {
     "data": {
      "text/html": [
       "<div>\n",
       "<style scoped>\n",
       "    .dataframe tbody tr th:only-of-type {\n",
       "        vertical-align: middle;\n",
       "    }\n",
       "\n",
       "    .dataframe tbody tr th {\n",
       "        vertical-align: top;\n",
       "    }\n",
       "\n",
       "    .dataframe thead th {\n",
       "        text-align: right;\n",
       "    }\n",
       "</style>\n",
       "<table border=\"1\" class=\"dataframe\">\n",
       "  <thead>\n",
       "    <tr style=\"text-align: right;\">\n",
       "      <th></th>\n",
       "      <th>Duration</th>\n",
       "      <th>Date</th>\n",
       "      <th>Pulse</th>\n",
       "      <th>Maxpulse</th>\n",
       "      <th>Calories</th>\n",
       "    </tr>\n",
       "  </thead>\n",
       "  <tbody>\n",
       "    <tr>\n",
       "      <th>11</th>\n",
       "      <td>60</td>\n",
       "      <td>2020-12-12</td>\n",
       "      <td>100</td>\n",
       "      <td>120</td>\n",
       "      <td>250.7</td>\n",
       "    </tr>\n",
       "    <tr>\n",
       "      <th>12</th>\n",
       "      <td>60</td>\n",
       "      <td>2020-12-12</td>\n",
       "      <td>100</td>\n",
       "      <td>120</td>\n",
       "      <td>250.7</td>\n",
       "    </tr>\n",
       "  </tbody>\n",
       "</table>\n",
       "</div>"
      ],
      "text/plain": [
       "    Duration       Date  Pulse  Maxpulse  Calories\n",
       "11        60 2020-12-12    100       120     250.7\n",
       "12        60 2020-12-12    100       120     250.7"
      ]
     },
     "execution_count": 37,
     "metadata": {},
     "output_type": "execute_result"
    }
   ],
   "source": [
    "#check for duplicate rows\n",
    "df[df.duplicated(keep=False)]"
   ]
  },
  {
   "cell_type": "code",
   "execution_count": 38,
   "id": "3a604fc8-a985-4e4b-979b-9ee6b4ec564d",
   "metadata": {},
   "outputs": [],
   "source": [
    "#remove the second duplicate row\n",
    "df.drop_duplicates(inplace=True)"
   ]
  },
  {
   "cell_type": "code",
   "execution_count": 39,
   "id": "f1c59159-50dd-4ef9-b448-c31604b06aa8",
   "metadata": {},
   "outputs": [
    {
     "data": {
      "text/html": [
       "<div>\n",
       "<style scoped>\n",
       "    .dataframe tbody tr th:only-of-type {\n",
       "        vertical-align: middle;\n",
       "    }\n",
       "\n",
       "    .dataframe tbody tr th {\n",
       "        vertical-align: top;\n",
       "    }\n",
       "\n",
       "    .dataframe thead th {\n",
       "        text-align: right;\n",
       "    }\n",
       "</style>\n",
       "<table border=\"1\" class=\"dataframe\">\n",
       "  <thead>\n",
       "    <tr style=\"text-align: right;\">\n",
       "      <th></th>\n",
       "      <th>Duration</th>\n",
       "      <th>Date</th>\n",
       "      <th>Pulse</th>\n",
       "      <th>Maxpulse</th>\n",
       "      <th>Calories</th>\n",
       "    </tr>\n",
       "  </thead>\n",
       "  <tbody>\n",
       "  </tbody>\n",
       "</table>\n",
       "</div>"
      ],
      "text/plain": [
       "Empty DataFrame\n",
       "Columns: [Duration, Date, Pulse, Maxpulse, Calories]\n",
       "Index: []"
      ]
     },
     "execution_count": 39,
     "metadata": {},
     "output_type": "execute_result"
    }
   ],
   "source": [
    "#check again--none\n",
    "df[df.duplicated(keep=False)]"
   ]
  },
  {
   "cell_type": "code",
   "execution_count": 40,
   "id": "317f45e0-e78b-4d68-932e-df757d2280a6",
   "metadata": {},
   "outputs": [],
   "source": [
    "#save the dataframe as csv\n",
    "df.to_csv('sample_data.csv')"
   ]
  }
 ],
 "metadata": {
  "kernelspec": {
   "display_name": "Python 3 (ipykernel)",
   "language": "python",
   "name": "python3"
  },
  "language_info": {
   "codemirror_mode": {
    "name": "ipython",
    "version": 3
   },
   "file_extension": ".py",
   "mimetype": "text/x-python",
   "name": "python",
   "nbconvert_exporter": "python",
   "pygments_lexer": "ipython3",
   "version": "3.11.8"
  }
 },
 "nbformat": 4,
 "nbformat_minor": 5
}

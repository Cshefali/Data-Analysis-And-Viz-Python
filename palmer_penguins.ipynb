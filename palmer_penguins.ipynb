{
 "cells": [
  {
   "cell_type": "markdown",
   "id": "b511a058-6936-4c96-9e09-03c9552c48fe",
   "metadata": {},
   "source": [
    "## Introduction"
   ]
  },
  {
   "cell_type": "markdown",
   "id": "b57b88ec-4893-443f-af7a-8d3ea13da73f",
   "metadata": {},
   "source": [
    "The objectives of this notebook are:  \n",
    "1. Understanding data manipulation in Pandas.\n",
    "2. Learning the internal working of matplotlib library.\n",
    "3. Understanding Standard Deviation, Variance through examples.\n",
    "4. Visualizing all statistical features like Z-scores etc.\n",
    "5. Feature transformation:\n",
    "       a. Standardization\n",
    "       b. Normalization\n",
    "       c. Log Transformations"
   ]
  },
  {
   "cell_type": "code",
   "execution_count": 1,
   "id": "32a37241",
   "metadata": {},
   "outputs": [],
   "source": [
    "import pandas as pd\n",
    "import palmerpenguins as pp\n",
    "from sklearn.preprocessing import StandardScaler\n",
    "##to see the package details\n",
    "#!pip show palmerpenguins"
   ]
  },
  {
   "cell_type": "code",
   "execution_count": 2,
   "id": "2c210096-f11f-4b3e-95dd-528314a31ef8",
   "metadata": {},
   "outputs": [],
   "source": [
    "#set the display format of float numbers \n",
    "#used to override the scientific notation.\n",
    "pd.options.display.float_format = '{:.3f}'.format"
   ]
  },
  {
   "cell_type": "code",
   "execution_count": 3,
   "id": "4379e2a3-73df-42d4-95a9-5aa8272f80fe",
   "metadata": {},
   "outputs": [
    {
     "data": {
      "text/plain": [
       "['__author__',\n",
       " '__builtins__',\n",
       " '__cached__',\n",
       " '__doc__',\n",
       " '__file__',\n",
       " '__loader__',\n",
       " '__name__',\n",
       " '__package__',\n",
       " '__path__',\n",
       " '__spec__',\n",
       " '__version__',\n",
       " 'load_penguins',\n",
       " 'load_penguins_raw',\n",
       " 'penguins']"
      ]
     },
     "execution_count": 3,
     "metadata": {},
     "output_type": "execute_result"
    }
   ],
   "source": [
    "#checking what all present in palmerpenguins library.\n",
    "dir(pp)"
   ]
  },
  {
   "cell_type": "code",
   "execution_count": 4,
   "id": "7a0078d3-d122-4105-88a5-4ffda8077c4d",
   "metadata": {},
   "outputs": [],
   "source": [
    "#load the dataset\n",
    "penguin_data = pp.load_penguins()"
   ]
  },
  {
   "cell_type": "code",
   "execution_count": 5,
   "id": "deeb0b10-90ad-4b66-adb4-1a705e18d2a8",
   "metadata": {},
   "outputs": [
    {
     "data": {
      "text/html": [
       "<div>\n",
       "<style scoped>\n",
       "    .dataframe tbody tr th:only-of-type {\n",
       "        vertical-align: middle;\n",
       "    }\n",
       "\n",
       "    .dataframe tbody tr th {\n",
       "        vertical-align: top;\n",
       "    }\n",
       "\n",
       "    .dataframe thead th {\n",
       "        text-align: right;\n",
       "    }\n",
       "</style>\n",
       "<table border=\"1\" class=\"dataframe\">\n",
       "  <thead>\n",
       "    <tr style=\"text-align: right;\">\n",
       "      <th></th>\n",
       "      <th>species</th>\n",
       "      <th>island</th>\n",
       "      <th>bill_length_mm</th>\n",
       "      <th>bill_depth_mm</th>\n",
       "      <th>flipper_length_mm</th>\n",
       "      <th>body_mass_g</th>\n",
       "      <th>sex</th>\n",
       "      <th>year</th>\n",
       "    </tr>\n",
       "  </thead>\n",
       "  <tbody>\n",
       "    <tr>\n",
       "      <th>0</th>\n",
       "      <td>Adelie</td>\n",
       "      <td>Torgersen</td>\n",
       "      <td>39.100</td>\n",
       "      <td>18.700</td>\n",
       "      <td>181.000</td>\n",
       "      <td>3750.000</td>\n",
       "      <td>male</td>\n",
       "      <td>2007</td>\n",
       "    </tr>\n",
       "    <tr>\n",
       "      <th>1</th>\n",
       "      <td>Adelie</td>\n",
       "      <td>Torgersen</td>\n",
       "      <td>39.500</td>\n",
       "      <td>17.400</td>\n",
       "      <td>186.000</td>\n",
       "      <td>3800.000</td>\n",
       "      <td>female</td>\n",
       "      <td>2007</td>\n",
       "    </tr>\n",
       "    <tr>\n",
       "      <th>2</th>\n",
       "      <td>Adelie</td>\n",
       "      <td>Torgersen</td>\n",
       "      <td>40.300</td>\n",
       "      <td>18.000</td>\n",
       "      <td>195.000</td>\n",
       "      <td>3250.000</td>\n",
       "      <td>female</td>\n",
       "      <td>2007</td>\n",
       "    </tr>\n",
       "  </tbody>\n",
       "</table>\n",
       "</div>"
      ],
      "text/plain": [
       "  species     island  bill_length_mm  bill_depth_mm  flipper_length_mm  \\\n",
       "0  Adelie  Torgersen          39.100         18.700            181.000   \n",
       "1  Adelie  Torgersen          39.500         17.400            186.000   \n",
       "2  Adelie  Torgersen          40.300         18.000            195.000   \n",
       "\n",
       "   body_mass_g     sex  year  \n",
       "0     3750.000    male  2007  \n",
       "1     3800.000  female  2007  \n",
       "2     3250.000  female  2007  "
      ]
     },
     "execution_count": 5,
     "metadata": {},
     "output_type": "execute_result"
    }
   ],
   "source": [
    "penguin_data.head(3)"
   ]
  },
  {
   "cell_type": "code",
   "execution_count": 6,
   "id": "29cb5f8e-01c8-493c-84b5-e2bf54fca617",
   "metadata": {},
   "outputs": [
    {
     "name": "stdout",
     "output_type": "stream",
     "text": [
      "<class 'pandas.core.frame.DataFrame'>\n",
      "RangeIndex: 344 entries, 0 to 343\n",
      "Data columns (total 8 columns):\n",
      " #   Column             Non-Null Count  Dtype  \n",
      "---  ------             --------------  -----  \n",
      " 0   species            344 non-null    object \n",
      " 1   island             344 non-null    object \n",
      " 2   bill_length_mm     342 non-null    float64\n",
      " 3   bill_depth_mm      342 non-null    float64\n",
      " 4   flipper_length_mm  342 non-null    float64\n",
      " 5   body_mass_g        342 non-null    float64\n",
      " 6   sex                333 non-null    object \n",
      " 7   year               344 non-null    int64  \n",
      "dtypes: float64(4), int64(1), object(3)\n",
      "memory usage: 21.6+ KB\n"
     ]
    }
   ],
   "source": [
    "penguin_data.info()"
   ]
  },
  {
   "cell_type": "code",
   "execution_count": 7,
   "id": "b9197d79-cb46-49d8-bffa-9e3a366e69c6",
   "metadata": {},
   "outputs": [
    {
     "data": {
      "text/plain": [
       "np.int64(0)"
      ]
     },
     "execution_count": 7,
     "metadata": {},
     "output_type": "execute_result"
    }
   ],
   "source": [
    "#check for duplicate rows--None\n",
    "penguin_data.duplicated().sum()"
   ]
  },
  {
   "cell_type": "code",
   "execution_count": 8,
   "id": "a05599cf-2fe5-4a4b-b430-8589643f01d3",
   "metadata": {},
   "outputs": [
    {
     "data": {
      "text/plain": [
       "species               0\n",
       "island                0\n",
       "bill_length_mm        2\n",
       "bill_depth_mm         2\n",
       "flipper_length_mm     2\n",
       "body_mass_g           2\n",
       "sex                  11\n",
       "year                  0\n",
       "dtype: int64"
      ]
     },
     "execution_count": 8,
     "metadata": {},
     "output_type": "execute_result"
    }
   ],
   "source": [
    "#check number of missing values in each column\n",
    "penguin_data.isnull().sum()"
   ]
  },
  {
   "cell_type": "code",
   "execution_count": 9,
   "id": "36c8f194-e31d-4726-b89d-550a1b1c7fd9",
   "metadata": {},
   "outputs": [
    {
     "data": {
      "text/html": [
       "<div>\n",
       "<style scoped>\n",
       "    .dataframe tbody tr th:only-of-type {\n",
       "        vertical-align: middle;\n",
       "    }\n",
       "\n",
       "    .dataframe tbody tr th {\n",
       "        vertical-align: top;\n",
       "    }\n",
       "\n",
       "    .dataframe thead th {\n",
       "        text-align: right;\n",
       "    }\n",
       "</style>\n",
       "<table border=\"1\" class=\"dataframe\">\n",
       "  <thead>\n",
       "    <tr style=\"text-align: right;\">\n",
       "      <th></th>\n",
       "      <th>species</th>\n",
       "      <th>island</th>\n",
       "      <th>bill_length_mm</th>\n",
       "      <th>bill_depth_mm</th>\n",
       "      <th>flipper_length_mm</th>\n",
       "      <th>body_mass_g</th>\n",
       "      <th>sex</th>\n",
       "      <th>year</th>\n",
       "    </tr>\n",
       "  </thead>\n",
       "  <tbody>\n",
       "    <tr>\n",
       "      <th>3</th>\n",
       "      <td>Adelie</td>\n",
       "      <td>Torgersen</td>\n",
       "      <td>NaN</td>\n",
       "      <td>NaN</td>\n",
       "      <td>NaN</td>\n",
       "      <td>NaN</td>\n",
       "      <td>NaN</td>\n",
       "      <td>2007</td>\n",
       "    </tr>\n",
       "    <tr>\n",
       "      <th>8</th>\n",
       "      <td>Adelie</td>\n",
       "      <td>Torgersen</td>\n",
       "      <td>34.100</td>\n",
       "      <td>18.100</td>\n",
       "      <td>193.000</td>\n",
       "      <td>3475.000</td>\n",
       "      <td>NaN</td>\n",
       "      <td>2007</td>\n",
       "    </tr>\n",
       "    <tr>\n",
       "      <th>9</th>\n",
       "      <td>Adelie</td>\n",
       "      <td>Torgersen</td>\n",
       "      <td>42.000</td>\n",
       "      <td>20.200</td>\n",
       "      <td>190.000</td>\n",
       "      <td>4250.000</td>\n",
       "      <td>NaN</td>\n",
       "      <td>2007</td>\n",
       "    </tr>\n",
       "    <tr>\n",
       "      <th>10</th>\n",
       "      <td>Adelie</td>\n",
       "      <td>Torgersen</td>\n",
       "      <td>37.800</td>\n",
       "      <td>17.100</td>\n",
       "      <td>186.000</td>\n",
       "      <td>3300.000</td>\n",
       "      <td>NaN</td>\n",
       "      <td>2007</td>\n",
       "    </tr>\n",
       "    <tr>\n",
       "      <th>11</th>\n",
       "      <td>Adelie</td>\n",
       "      <td>Torgersen</td>\n",
       "      <td>37.800</td>\n",
       "      <td>17.300</td>\n",
       "      <td>180.000</td>\n",
       "      <td>3700.000</td>\n",
       "      <td>NaN</td>\n",
       "      <td>2007</td>\n",
       "    </tr>\n",
       "    <tr>\n",
       "      <th>47</th>\n",
       "      <td>Adelie</td>\n",
       "      <td>Dream</td>\n",
       "      <td>37.500</td>\n",
       "      <td>18.900</td>\n",
       "      <td>179.000</td>\n",
       "      <td>2975.000</td>\n",
       "      <td>NaN</td>\n",
       "      <td>2007</td>\n",
       "    </tr>\n",
       "    <tr>\n",
       "      <th>178</th>\n",
       "      <td>Gentoo</td>\n",
       "      <td>Biscoe</td>\n",
       "      <td>44.500</td>\n",
       "      <td>14.300</td>\n",
       "      <td>216.000</td>\n",
       "      <td>4100.000</td>\n",
       "      <td>NaN</td>\n",
       "      <td>2007</td>\n",
       "    </tr>\n",
       "    <tr>\n",
       "      <th>218</th>\n",
       "      <td>Gentoo</td>\n",
       "      <td>Biscoe</td>\n",
       "      <td>46.200</td>\n",
       "      <td>14.400</td>\n",
       "      <td>214.000</td>\n",
       "      <td>4650.000</td>\n",
       "      <td>NaN</td>\n",
       "      <td>2008</td>\n",
       "    </tr>\n",
       "    <tr>\n",
       "      <th>256</th>\n",
       "      <td>Gentoo</td>\n",
       "      <td>Biscoe</td>\n",
       "      <td>47.300</td>\n",
       "      <td>13.800</td>\n",
       "      <td>216.000</td>\n",
       "      <td>4725.000</td>\n",
       "      <td>NaN</td>\n",
       "      <td>2009</td>\n",
       "    </tr>\n",
       "    <tr>\n",
       "      <th>268</th>\n",
       "      <td>Gentoo</td>\n",
       "      <td>Biscoe</td>\n",
       "      <td>44.500</td>\n",
       "      <td>15.700</td>\n",
       "      <td>217.000</td>\n",
       "      <td>4875.000</td>\n",
       "      <td>NaN</td>\n",
       "      <td>2009</td>\n",
       "    </tr>\n",
       "    <tr>\n",
       "      <th>271</th>\n",
       "      <td>Gentoo</td>\n",
       "      <td>Biscoe</td>\n",
       "      <td>NaN</td>\n",
       "      <td>NaN</td>\n",
       "      <td>NaN</td>\n",
       "      <td>NaN</td>\n",
       "      <td>NaN</td>\n",
       "      <td>2009</td>\n",
       "    </tr>\n",
       "  </tbody>\n",
       "</table>\n",
       "</div>"
      ],
      "text/plain": [
       "    species     island  bill_length_mm  bill_depth_mm  flipper_length_mm  \\\n",
       "3    Adelie  Torgersen             NaN            NaN                NaN   \n",
       "8    Adelie  Torgersen          34.100         18.100            193.000   \n",
       "9    Adelie  Torgersen          42.000         20.200            190.000   \n",
       "10   Adelie  Torgersen          37.800         17.100            186.000   \n",
       "11   Adelie  Torgersen          37.800         17.300            180.000   \n",
       "47   Adelie      Dream          37.500         18.900            179.000   \n",
       "178  Gentoo     Biscoe          44.500         14.300            216.000   \n",
       "218  Gentoo     Biscoe          46.200         14.400            214.000   \n",
       "256  Gentoo     Biscoe          47.300         13.800            216.000   \n",
       "268  Gentoo     Biscoe          44.500         15.700            217.000   \n",
       "271  Gentoo     Biscoe             NaN            NaN                NaN   \n",
       "\n",
       "     body_mass_g  sex  year  \n",
       "3            NaN  NaN  2007  \n",
       "8       3475.000  NaN  2007  \n",
       "9       4250.000  NaN  2007  \n",
       "10      3300.000  NaN  2007  \n",
       "11      3700.000  NaN  2007  \n",
       "47      2975.000  NaN  2007  \n",
       "178     4100.000  NaN  2007  \n",
       "218     4650.000  NaN  2008  \n",
       "256     4725.000  NaN  2009  \n",
       "268     4875.000  NaN  2009  \n",
       "271          NaN  NaN  2009  "
      ]
     },
     "execution_count": 9,
     "metadata": {},
     "output_type": "execute_result"
    }
   ],
   "source": [
    "#see all rows where at least 1 missing value present.\n",
    "penguin_data[penguin_data.isnull().any(axis=1)]"
   ]
  },
  {
   "cell_type": "code",
   "execution_count": 10,
   "id": "011989bc-638a-400d-9a38-120e8119e974",
   "metadata": {},
   "outputs": [],
   "source": [
    "#drop all NA values\n",
    "penguin_data.dropna(inplace = True)"
   ]
  },
  {
   "cell_type": "code",
   "execution_count": 11,
   "id": "c6180a3c-eded-4f34-9ab8-aa87f2288ad7",
   "metadata": {},
   "outputs": [],
   "source": [
    "#make a copy of dataframe for further manipulation\n",
    "data2 = penguin_data.copy()"
   ]
  },
  {
   "cell_type": "code",
   "execution_count": 12,
   "id": "d950c155-4957-484a-bf56-82f7a6cba1c8",
   "metadata": {},
   "outputs": [
    {
     "data": {
      "text/plain": [
       "['species', 'island', 'sex', 'year']"
      ]
     },
     "execution_count": 12,
     "metadata": {},
     "output_type": "execute_result"
    }
   ],
   "source": [
    "#check for all unique values in 'species', 'island', 'sex' and 'year'\n",
    "categorical_columns = data2.select_dtypes(exclude = \"float\").columns.tolist()\n",
    "categorical_columns"
   ]
  },
  {
   "cell_type": "code",
   "execution_count": 13,
   "id": "56b2d5a4-01bd-4563-8da4-5650fbf82bb0",
   "metadata": {},
   "outputs": [
    {
     "name": "stdout",
     "output_type": "stream",
     "text": [
      "species :  ['Adelie' 'Gentoo' 'Chinstrap']\n",
      "island :  ['Torgersen' 'Biscoe' 'Dream']\n",
      "sex :  ['male' 'female']\n",
      "year :  [2007 2008 2009]\n"
     ]
    }
   ],
   "source": [
    "#View all unique values in these columns\n",
    "for i in categorical_columns:\n",
    "    unique_categories = data2[i].unique()\n",
    "    print(i, \": \", unique_categories)"
   ]
  },
  {
   "cell_type": "code",
   "execution_count": 14,
   "id": "3af160dd-8f36-4826-987f-471d63fdfa2a",
   "metadata": {},
   "outputs": [
    {
     "data": {
      "text/html": [
       "<div>\n",
       "<style scoped>\n",
       "    .dataframe tbody tr th:only-of-type {\n",
       "        vertical-align: middle;\n",
       "    }\n",
       "\n",
       "    .dataframe tbody tr th {\n",
       "        vertical-align: top;\n",
       "    }\n",
       "\n",
       "    .dataframe thead th {\n",
       "        text-align: right;\n",
       "    }\n",
       "</style>\n",
       "<table border=\"1\" class=\"dataframe\">\n",
       "  <thead>\n",
       "    <tr style=\"text-align: right;\">\n",
       "      <th></th>\n",
       "      <th>bill_length_mm</th>\n",
       "      <th>bill_depth_mm</th>\n",
       "      <th>flipper_length_mm</th>\n",
       "      <th>body_mass_g</th>\n",
       "    </tr>\n",
       "  </thead>\n",
       "  <tbody>\n",
       "    <tr>\n",
       "      <th>count</th>\n",
       "      <td>333.000</td>\n",
       "      <td>333.000</td>\n",
       "      <td>333.000</td>\n",
       "      <td>333.000</td>\n",
       "    </tr>\n",
       "    <tr>\n",
       "      <th>mean</th>\n",
       "      <td>43.993</td>\n",
       "      <td>17.165</td>\n",
       "      <td>200.967</td>\n",
       "      <td>4207.057</td>\n",
       "    </tr>\n",
       "    <tr>\n",
       "      <th>std</th>\n",
       "      <td>5.469</td>\n",
       "      <td>1.969</td>\n",
       "      <td>14.016</td>\n",
       "      <td>805.216</td>\n",
       "    </tr>\n",
       "    <tr>\n",
       "      <th>min</th>\n",
       "      <td>32.100</td>\n",
       "      <td>13.100</td>\n",
       "      <td>172.000</td>\n",
       "      <td>2700.000</td>\n",
       "    </tr>\n",
       "    <tr>\n",
       "      <th>25%</th>\n",
       "      <td>39.500</td>\n",
       "      <td>15.600</td>\n",
       "      <td>190.000</td>\n",
       "      <td>3550.000</td>\n",
       "    </tr>\n",
       "    <tr>\n",
       "      <th>50%</th>\n",
       "      <td>44.500</td>\n",
       "      <td>17.300</td>\n",
       "      <td>197.000</td>\n",
       "      <td>4050.000</td>\n",
       "    </tr>\n",
       "    <tr>\n",
       "      <th>75%</th>\n",
       "      <td>48.600</td>\n",
       "      <td>18.700</td>\n",
       "      <td>213.000</td>\n",
       "      <td>4775.000</td>\n",
       "    </tr>\n",
       "    <tr>\n",
       "      <th>max</th>\n",
       "      <td>59.600</td>\n",
       "      <td>21.500</td>\n",
       "      <td>231.000</td>\n",
       "      <td>6300.000</td>\n",
       "    </tr>\n",
       "  </tbody>\n",
       "</table>\n",
       "</div>"
      ],
      "text/plain": [
       "       bill_length_mm  bill_depth_mm  flipper_length_mm  body_mass_g\n",
       "count         333.000        333.000            333.000      333.000\n",
       "mean           43.993         17.165            200.967     4207.057\n",
       "std             5.469          1.969             14.016      805.216\n",
       "min            32.100         13.100            172.000     2700.000\n",
       "25%            39.500         15.600            190.000     3550.000\n",
       "50%            44.500         17.300            197.000     4050.000\n",
       "75%            48.600         18.700            213.000     4775.000\n",
       "max            59.600         21.500            231.000     6300.000"
      ]
     },
     "execution_count": 14,
     "metadata": {},
     "output_type": "execute_result"
    }
   ],
   "source": [
    "#Statistical summary of numeric columns\n",
    "data2.drop(columns = ['year']).describe()"
   ]
  },
  {
   "cell_type": "markdown",
   "id": "ac505a46-5f59-4314-9582-72d0240707dc",
   "metadata": {},
   "source": [
    "### Standardize the numerical features\n",
    "\n",
    "1. StandardScaler() is sensitive to outliers. So, it is essential to remove outliers before.\n",
    "   It computes the Z-score using mean and standard-deviation.\n",
    "   And mean is affected by outliers."
   ]
  },
  {
   "cell_type": "code",
   "execution_count": 15,
   "id": "d109f5b4-f89e-471b-beba-797a1afc94ba",
   "metadata": {},
   "outputs": [],
   "source": [
    "#Scale all numerical features.\n",
    "scaler = StandardScaler()"
   ]
  },
  {
   "cell_type": "code",
   "execution_count": 16,
   "id": "aff2e987-9fe7-405b-8a67-ee10c053b9eb",
   "metadata": {},
   "outputs": [],
   "source": [
    "#To see all the functions present in scaler\n",
    "#dir(scaler)"
   ]
  },
  {
   "cell_type": "code",
   "execution_count": 17,
   "id": "94393651-c66d-46e4-ae48-11758e174bb5",
   "metadata": {},
   "outputs": [
    {
     "data": {
      "text/plain": [
       "Index(['bill_length_mm', 'bill_depth_mm', 'flipper_length_mm', 'body_mass_g'], dtype='object')"
      ]
     },
     "execution_count": 17,
     "metadata": {},
     "output_type": "execute_result"
    }
   ],
   "source": [
    "#take only float features\n",
    "float_features = data2.select_dtypes(include = \"float\").columns\n",
    "float_features"
   ]
  },
  {
   "cell_type": "code",
   "execution_count": 18,
   "id": "a1e6c940-d433-4a92-95fb-9ccbb96d78cf",
   "metadata": {},
   "outputs": [],
   "source": [
    "#transform the featuers.\n",
    "data2[float_features] = scaler.fit_transform(data2[float_features])"
   ]
  },
  {
   "cell_type": "code",
   "execution_count": 19,
   "id": "fce8eb1b-20aa-4b87-8832-dcf64607ed17",
   "metadata": {},
   "outputs": [
    {
     "data": {
      "text/html": [
       "<div>\n",
       "<style scoped>\n",
       "    .dataframe tbody tr th:only-of-type {\n",
       "        vertical-align: middle;\n",
       "    }\n",
       "\n",
       "    .dataframe tbody tr th {\n",
       "        vertical-align: top;\n",
       "    }\n",
       "\n",
       "    .dataframe thead th {\n",
       "        text-align: right;\n",
       "    }\n",
       "</style>\n",
       "<table border=\"1\" class=\"dataframe\">\n",
       "  <thead>\n",
       "    <tr style=\"text-align: right;\">\n",
       "      <th></th>\n",
       "      <th>bill_length_mm</th>\n",
       "      <th>bill_depth_mm</th>\n",
       "      <th>flipper_length_mm</th>\n",
       "      <th>body_mass_g</th>\n",
       "    </tr>\n",
       "  </thead>\n",
       "  <tbody>\n",
       "    <tr>\n",
       "      <th>count</th>\n",
       "      <td>333.000</td>\n",
       "      <td>333.000</td>\n",
       "      <td>333.000</td>\n",
       "      <td>333.000</td>\n",
       "    </tr>\n",
       "    <tr>\n",
       "      <th>mean</th>\n",
       "      <td>-0.000</td>\n",
       "      <td>-0.000</td>\n",
       "      <td>0.000</td>\n",
       "      <td>-0.000</td>\n",
       "    </tr>\n",
       "    <tr>\n",
       "      <th>std</th>\n",
       "      <td>1.002</td>\n",
       "      <td>1.002</td>\n",
       "      <td>1.002</td>\n",
       "      <td>1.002</td>\n",
       "    </tr>\n",
       "    <tr>\n",
       "      <th>min</th>\n",
       "      <td>-2.178</td>\n",
       "      <td>-2.067</td>\n",
       "      <td>-2.070</td>\n",
       "      <td>-1.874</td>\n",
       "    </tr>\n",
       "    <tr>\n",
       "      <th>25%</th>\n",
       "      <td>-0.823</td>\n",
       "      <td>-0.796</td>\n",
       "      <td>-0.784</td>\n",
       "      <td>-0.817</td>\n",
       "    </tr>\n",
       "    <tr>\n",
       "      <th>50%</th>\n",
       "      <td>0.093</td>\n",
       "      <td>0.069</td>\n",
       "      <td>-0.283</td>\n",
       "      <td>-0.195</td>\n",
       "    </tr>\n",
       "    <tr>\n",
       "      <th>75%</th>\n",
       "      <td>0.844</td>\n",
       "      <td>0.781</td>\n",
       "      <td>0.860</td>\n",
       "      <td>0.706</td>\n",
       "    </tr>\n",
       "    <tr>\n",
       "      <th>max</th>\n",
       "      <td>2.858</td>\n",
       "      <td>2.205</td>\n",
       "      <td>2.146</td>\n",
       "      <td>2.603</td>\n",
       "    </tr>\n",
       "  </tbody>\n",
       "</table>\n",
       "</div>"
      ],
      "text/plain": [
       "       bill_length_mm  bill_depth_mm  flipper_length_mm  body_mass_g\n",
       "count         333.000        333.000            333.000      333.000\n",
       "mean           -0.000         -0.000              0.000       -0.000\n",
       "std             1.002          1.002              1.002        1.002\n",
       "min            -2.178         -2.067             -2.070       -1.874\n",
       "25%            -0.823         -0.796             -0.784       -0.817\n",
       "50%             0.093          0.069             -0.283       -0.195\n",
       "75%             0.844          0.781              0.860        0.706\n",
       "max             2.858          2.205              2.146        2.603"
      ]
     },
     "execution_count": 19,
     "metadata": {},
     "output_type": "execute_result"
    }
   ],
   "source": [
    "#check Summary stats now\n",
    "data2[float_features].describe()"
   ]
  }
 ],
 "metadata": {
  "kernelspec": {
   "display_name": "Python 3 (ipykernel)",
   "language": "python",
   "name": "python3"
  },
  "language_info": {
   "codemirror_mode": {
    "name": "ipython",
    "version": 3
   },
   "file_extension": ".py",
   "mimetype": "text/x-python",
   "name": "python",
   "nbconvert_exporter": "python",
   "pygments_lexer": "ipython3",
   "version": "3.11.8"
  }
 },
 "nbformat": 4,
 "nbformat_minor": 5
}

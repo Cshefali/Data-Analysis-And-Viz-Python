{
 "cells": [
  {
   "cell_type": "code",
   "execution_count": 1,
   "id": "32a37241",
   "metadata": {},
   "outputs": [],
   "source": [
    "import pandas as pd"
   ]
  },
  {
   "cell_type": "code",
   "execution_count": 3,
   "id": "9984b876",
   "metadata": {},
   "outputs": [
    {
     "name": "stdout",
     "output_type": "stream",
     "text": [
      "Name: palmerpenguins\n",
      "Version: 0.1.4\n",
      "Summary: A python package for the palmer penguins dataset \n",
      "Home-page: https://github.com/mcnakhaee/palmerpenguins\n",
      "Author: Muhammad Chenariyan Nakhaee\n",
      "Author-email: UNKNOWN\n",
      "License: UNKNOWN\n",
      "Location: C:\\Users\\shefa\\AppData\\Local\\Programs\\Python\\Python311\\Lib\\site-packages\n",
      "Requires: numpy, pandas\n",
      "Required-by: \n"
     ]
    }
   ],
   "source": [
    "!pip show palmerpenguins"
   ]
  },
  {
   "cell_type": "code",
   "execution_count": 5,
   "id": "7cb3456c",
   "metadata": {},
   "outputs": [],
   "source": [
    "import sys"
   ]
  },
  {
   "cell_type": "code",
   "execution_count": 6,
   "id": "704ee349",
   "metadata": {},
   "outputs": [
    {
     "name": "stdout",
     "output_type": "stream",
     "text": [
      "C:\\Users\\shefa\\AppData\\Local\\Programs\\Python\\Python310\\python.exe\n"
     ]
    }
   ],
   "source": [
    "print(sys.executable)"
   ]
  },
  {
   "cell_type": "code",
   "execution_count": 9,
   "id": "4fff16a5",
   "metadata": {},
   "outputs": [
    {
     "name": "stdout",
     "output_type": "stream",
     "text": [
      "Name: palmerpenguins\n",
      "Version: 0.1.4\n",
      "Summary: A python package for the palmer penguins dataset \n",
      "Home-page: https://github.com/mcnakhaee/palmerpenguins\n",
      "Author: Muhammad Chenariyan Nakhaee\n",
      "Author-email: UNKNOWN\n",
      "License: UNKNOWN\n",
      "Location: C:\\Users\\shefa\\AppData\\Local\\Programs\\Python\\Python311\\Lib\\site-packages\n",
      "Requires: numpy, pandas\n",
      "Required-by: \n"
     ]
    }
   ],
   "source": [
    "!pip show palmerpenguins"
   ]
  }
 ],
 "metadata": {
  "kernelspec": {
   "display_name": "Python 3 (ipykernel)",
   "language": "python",
   "name": "python3"
  },
  "language_info": {
   "codemirror_mode": {
    "name": "ipython",
    "version": 3
   },
   "file_extension": ".py",
   "mimetype": "text/x-python",
   "name": "python",
   "nbconvert_exporter": "python",
   "pygments_lexer": "ipython3",
   "version": "3.10.0"
  }
 },
 "nbformat": 4,
 "nbformat_minor": 5
}

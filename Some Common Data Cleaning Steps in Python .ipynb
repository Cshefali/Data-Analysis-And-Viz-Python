{
 "cells": [
  {
   "cell_type": "code",
   "execution_count": 131,
   "id": "2d7603b5",
   "metadata": {},
   "outputs": [],
   "source": [
    "import pandas as pd\n",
    "import numpy as np\n",
    "import random"
   ]
  },
  {
   "cell_type": "code",
   "execution_count": 132,
   "id": "5d5141f8",
   "metadata": {},
   "outputs": [],
   "source": [
    "#increase number of rows displayed by default in jupyter notebook\n",
    "pd.options.display.max_rows = 50000"
   ]
  },
  {
   "cell_type": "code",
   "execution_count": 133,
   "id": "5ca7a280",
   "metadata": {},
   "outputs": [],
   "source": [
    "#read data\n",
    "audible_data = pd.read_csv(\"data/audible_dataset/audible_uncleaned.csv\")"
   ]
  },
  {
   "cell_type": "code",
   "execution_count": 134,
   "id": "5e4386ea",
   "metadata": {},
   "outputs": [
    {
     "data": {
      "text/html": [
       "<div>\n",
       "<style scoped>\n",
       "    .dataframe tbody tr th:only-of-type {\n",
       "        vertical-align: middle;\n",
       "    }\n",
       "\n",
       "    .dataframe tbody tr th {\n",
       "        vertical-align: top;\n",
       "    }\n",
       "\n",
       "    .dataframe thead th {\n",
       "        text-align: right;\n",
       "    }\n",
       "</style>\n",
       "<table border=\"1\" class=\"dataframe\">\n",
       "  <thead>\n",
       "    <tr style=\"text-align: right;\">\n",
       "      <th></th>\n",
       "      <th>name</th>\n",
       "      <th>author</th>\n",
       "      <th>narrator</th>\n",
       "      <th>time</th>\n",
       "      <th>releasedate</th>\n",
       "      <th>language</th>\n",
       "      <th>stars</th>\n",
       "      <th>price</th>\n",
       "    </tr>\n",
       "  </thead>\n",
       "  <tbody>\n",
       "    <tr>\n",
       "      <th>6211</th>\n",
       "      <td>Skies Over Sweetwater</td>\n",
       "      <td>Writtenby:JuliaMoberg</td>\n",
       "      <td>Narratedby:SuzyMyers</td>\n",
       "      <td>5 hrs and 15 mins</td>\n",
       "      <td>17-09-08</td>\n",
       "      <td>English</td>\n",
       "      <td>Not rated yet</td>\n",
       "      <td>434.00</td>\n",
       "    </tr>\n",
       "    <tr>\n",
       "      <th>75938</th>\n",
       "      <td>Beauty and the Baller</td>\n",
       "      <td>Writtenby:IlsaMadden-Mills</td>\n",
       "      <td>Narratedby:SebastianYork,SavannahPeachwood</td>\n",
       "      <td>10 hrs and 10 mins</td>\n",
       "      <td>29-03-22</td>\n",
       "      <td>English</td>\n",
       "      <td>Not rated yet</td>\n",
       "      <td>1,008.00</td>\n",
       "    </tr>\n",
       "    <tr>\n",
       "      <th>38793</th>\n",
       "      <td>人をあるく　北条氏五代と小田原城</td>\n",
       "      <td>Writtenby:山口博</td>\n",
       "      <td>Narratedby:岡ゆかり</td>\n",
       "      <td>5 hrs and 48 mins</td>\n",
       "      <td>01-12-21</td>\n",
       "      <td>japanese</td>\n",
       "      <td>Not rated yet</td>\n",
       "      <td>837.00</td>\n",
       "    </tr>\n",
       "    <tr>\n",
       "      <th>50060</th>\n",
       "      <td>Void Moon</td>\n",
       "      <td>Writtenby:MichaelConnelly</td>\n",
       "      <td>Narratedby:L.J.Ganser</td>\n",
       "      <td>10 hrs and 59 mins</td>\n",
       "      <td>01-09-09</td>\n",
       "      <td>English</td>\n",
       "      <td>Not rated yet</td>\n",
       "      <td>500.00</td>\n",
       "    </tr>\n",
       "  </tbody>\n",
       "</table>\n",
       "</div>"
      ],
      "text/plain": [
       "                        name                      author  \\\n",
       "6211   Skies Over Sweetwater       Writtenby:JuliaMoberg   \n",
       "75938  Beauty and the Baller  Writtenby:IlsaMadden-Mills   \n",
       "38793       人をあるく　北条氏五代と小田原城               Writtenby:山口博   \n",
       "50060              Void Moon   Writtenby:MichaelConnelly   \n",
       "\n",
       "                                         narrator                time  \\\n",
       "6211                         Narratedby:SuzyMyers   5 hrs and 15 mins   \n",
       "75938  Narratedby:SebastianYork,SavannahPeachwood  10 hrs and 10 mins   \n",
       "38793                             Narratedby:岡ゆかり   5 hrs and 48 mins   \n",
       "50060                       Narratedby:L.J.Ganser  10 hrs and 59 mins   \n",
       "\n",
       "      releasedate  language          stars     price  \n",
       "6211     17-09-08   English  Not rated yet    434.00  \n",
       "75938    29-03-22   English  Not rated yet  1,008.00  \n",
       "38793    01-12-21  japanese  Not rated yet    837.00  \n",
       "50060    01-09-09   English  Not rated yet    500.00  "
      ]
     },
     "execution_count": 134,
     "metadata": {},
     "output_type": "execute_result"
    }
   ],
   "source": [
    "#preview of the data\n",
    "audible_data.sample(4)"
   ]
  },
  {
   "cell_type": "code",
   "execution_count": 135,
   "id": "45b3b711",
   "metadata": {},
   "outputs": [
    {
     "name": "stdout",
     "output_type": "stream",
     "text": [
      "<class 'pandas.core.frame.DataFrame'>\n",
      "RangeIndex: 87489 entries, 0 to 87488\n",
      "Data columns (total 8 columns):\n",
      " #   Column       Non-Null Count  Dtype \n",
      "---  ------       --------------  ----- \n",
      " 0   name         87489 non-null  object\n",
      " 1   author       87489 non-null  object\n",
      " 2   narrator     87489 non-null  object\n",
      " 3   time         87489 non-null  object\n",
      " 4   releasedate  87489 non-null  object\n",
      " 5   language     87489 non-null  object\n",
      " 6   stars        87489 non-null  object\n",
      " 7   price        87489 non-null  object\n",
      "dtypes: object(8)\n",
      "memory usage: 5.3+ MB\n"
     ]
    }
   ],
   "source": [
    "#information about the data\n",
    "audible_data.info()"
   ]
  },
  {
   "cell_type": "code",
   "execution_count": 136,
   "id": "f62bf21b",
   "metadata": {},
   "outputs": [
    {
     "data": {
      "text/html": [
       "<div>\n",
       "<style scoped>\n",
       "    .dataframe tbody tr th:only-of-type {\n",
       "        vertical-align: middle;\n",
       "    }\n",
       "\n",
       "    .dataframe tbody tr th {\n",
       "        vertical-align: top;\n",
       "    }\n",
       "\n",
       "    .dataframe thead th {\n",
       "        text-align: right;\n",
       "    }\n",
       "</style>\n",
       "<table border=\"1\" class=\"dataframe\">\n",
       "  <thead>\n",
       "    <tr style=\"text-align: right;\">\n",
       "      <th></th>\n",
       "      <th>name</th>\n",
       "      <th>author</th>\n",
       "      <th>narrator</th>\n",
       "      <th>time</th>\n",
       "      <th>releasedate</th>\n",
       "      <th>language</th>\n",
       "      <th>stars</th>\n",
       "      <th>price</th>\n",
       "    </tr>\n",
       "  </thead>\n",
       "  <tbody>\n",
       "    <tr>\n",
       "      <th>count</th>\n",
       "      <td>87489</td>\n",
       "      <td>87489</td>\n",
       "      <td>87489</td>\n",
       "      <td>87489</td>\n",
       "      <td>87489</td>\n",
       "      <td>87489</td>\n",
       "      <td>87489</td>\n",
       "      <td>87489</td>\n",
       "    </tr>\n",
       "    <tr>\n",
       "      <th>unique</th>\n",
       "      <td>82767</td>\n",
       "      <td>48374</td>\n",
       "      <td>29717</td>\n",
       "      <td>2284</td>\n",
       "      <td>5058</td>\n",
       "      <td>36</td>\n",
       "      <td>665</td>\n",
       "      <td>1011</td>\n",
       "    </tr>\n",
       "    <tr>\n",
       "      <th>top</th>\n",
       "      <td>The Art of War</td>\n",
       "      <td>Writtenby:矢島雅弘,石橋遊</td>\n",
       "      <td>Narratedby:anonymous</td>\n",
       "      <td>2 mins</td>\n",
       "      <td>16-05-18</td>\n",
       "      <td>English</td>\n",
       "      <td>Not rated yet</td>\n",
       "      <td>586.00</td>\n",
       "    </tr>\n",
       "    <tr>\n",
       "      <th>freq</th>\n",
       "      <td>20</td>\n",
       "      <td>874</td>\n",
       "      <td>1034</td>\n",
       "      <td>372</td>\n",
       "      <td>773</td>\n",
       "      <td>61884</td>\n",
       "      <td>72417</td>\n",
       "      <td>5533</td>\n",
       "    </tr>\n",
       "  </tbody>\n",
       "</table>\n",
       "</div>"
      ],
      "text/plain": [
       "                  name              author              narrator    time  \\\n",
       "count            87489               87489                 87489   87489   \n",
       "unique           82767               48374                 29717    2284   \n",
       "top     The Art of War  Writtenby:矢島雅弘,石橋遊  Narratedby:anonymous  2 mins   \n",
       "freq                20                 874                  1034     372   \n",
       "\n",
       "       releasedate language          stars   price  \n",
       "count        87489    87489          87489   87489  \n",
       "unique        5058       36            665    1011  \n",
       "top       16-05-18  English  Not rated yet  586.00  \n",
       "freq           773    61884          72417    5533  "
      ]
     },
     "execution_count": 136,
     "metadata": {},
     "output_type": "execute_result"
    }
   ],
   "source": [
    "#stats\n",
    "audible_data.describe()"
   ]
  },
  {
   "cell_type": "markdown",
   "id": "36adfef4",
   "metadata": {},
   "source": [
    "### 1. How to check total count of each category?"
   ]
  },
  {
   "cell_type": "code",
   "execution_count": 137,
   "id": "af0ac7f7",
   "metadata": {},
   "outputs": [
    {
     "data": {
      "text/plain": [
       "The Art of War                 20\n",
       "Sterling Biographies           19\n",
       "The Odyssey                    16\n",
       "Sterling Point Books           16\n",
       "Hamlet                         15\n",
       "The Prophet                    14\n",
       "Pride and Prejudice            14\n",
       "A Christmas Carol              14\n",
       "The Iliad                      13\n",
       "As a Man Thinketh              13\n",
       "The Science of Getting Rich    13\n",
       "The Picture of Dorian Gray     12\n",
       "Abraham Lincoln                12\n",
       "Meditations                    11\n",
       "The Richest Man in Babylon     11\n",
       "The Raven                      11\n",
       "The Prince                     11\n",
       "Unstoppable                    10\n",
       "Name: name, dtype: int64"
      ]
     },
     "execution_count": 137,
     "metadata": {},
     "output_type": "execute_result"
    }
   ],
   "source": [
    "#checking number of occurances of books\n",
    "book_counts = audible_data['name'].value_counts()\n",
    "book_counts[book_counts >= 10]"
   ]
  },
  {
   "cell_type": "markdown",
   "id": "347148c4",
   "metadata": {},
   "source": [
    "### 2. How to check number of duplicate rows?"
   ]
  },
  {
   "cell_type": "code",
   "execution_count": 138,
   "id": "a09ef411",
   "metadata": {},
   "outputs": [
    {
     "data": {
      "text/plain": [
       "0"
      ]
     },
     "execution_count": 138,
     "metadata": {},
     "output_type": "execute_result"
    }
   ],
   "source": [
    "#check for duplicate rows\n",
    "audible_data.duplicated().sum()"
   ]
  },
  {
   "cell_type": "code",
   "execution_count": null,
   "id": "f203c675",
   "metadata": {},
   "outputs": [],
   "source": [
    "#filter out all book names containing any special characters\n",
    "#booknames_special_chars = audible_data[audible_data.name.str.contains(r'[@#\\$%\\+\\*]')].drop_duplicates()\n",
    "#number of books that contain special characters- 592 books\n",
    "#booknames_special_chars.shape"
   ]
  },
  {
   "cell_type": "markdown",
   "id": "1a4d5e52",
   "metadata": {},
   "source": [
    "#### Column 1: Author"
   ]
  },
  {
   "cell_type": "markdown",
   "id": "dbdd98f3",
   "metadata": {},
   "source": [
    "### 3. How to remove a string pattern?"
   ]
  },
  {
   "cell_type": "code",
   "execution_count": 139,
   "id": "ed04750e",
   "metadata": {},
   "outputs": [],
   "source": [
    "#Author column\n",
    "#remove the phrase \"Writtenby:\"\n",
    "audible_data['author'] = audible_data['author'].str.replace(pat = \"Writtenby:\", repl = \"\")"
   ]
  },
  {
   "cell_type": "code",
   "execution_count": 140,
   "id": "44d1cd67",
   "metadata": {},
   "outputs": [
    {
     "data": {
      "text/plain": [
       "26967                         FrancesMayes\n",
       "38034          PhilipMatyszak,MichaelBayer\n",
       "53866                        GasparaStampa\n",
       "29384    JasonFried,DavidHeinemeierHansson\n",
       "32503                                 OSHO\n",
       "Name: author, dtype: object"
      ]
     },
     "execution_count": 140,
     "metadata": {},
     "output_type": "execute_result"
    }
   ],
   "source": [
    "#after removing \"Written By\", author column looks like:\n",
    "audible_data.author.sample(5)"
   ]
  },
  {
   "cell_type": "markdown",
   "id": "7b60f32b",
   "metadata": {},
   "source": [
    "### 4. How to add space between 2 or more word blocks? (here first, middle, last name)"
   ]
  },
  {
   "cell_type": "code",
   "execution_count": 141,
   "id": "12ee4ae6",
   "metadata": {},
   "outputs": [],
   "source": [
    "#Add space between the first, middle and last names of Authors.\n",
    "#e.g. JaneAustin becomes Jane Austin\n",
    "audible_data['author'] = audible_data['author'].str.replace(pat = r\"(\\w)([A-Z])\", repl = r\"\\1 \\2\", regex = True)"
   ]
  },
  {
   "cell_type": "code",
   "execution_count": 142,
   "id": "e4723106",
   "metadata": {},
   "outputs": [
    {
     "data": {
      "text/plain": [
       "30747               Brynne Conroy\n",
       "27685    Douglas Max,Robert Bacal\n",
       "81438            Erin Mc Kittrick\n",
       "67782                Russell Targ\n",
       "41880             Arrigo Cipriani\n",
       "Name: author, dtype: object"
      ]
     },
     "execution_count": 142,
     "metadata": {},
     "output_type": "execute_result"
    }
   ],
   "source": [
    "audible_data.author.sample(5)"
   ]
  },
  {
   "cell_type": "markdown",
   "id": "abafad49",
   "metadata": {},
   "source": [
    "### 5. How to split a value into multiple columns and assign column name with prefix/suffix?"
   ]
  },
  {
   "cell_type": "code",
   "execution_count": 143,
   "id": "c9d39961",
   "metadata": {},
   "outputs": [],
   "source": [
    "audible_data2 = pd.concat( [audible_data['name'], \n",
    "                            audible_data['author'].str.split(',', expand = True).add_prefix('author'),\n",
    "                            audible_data.loc[:,['narrator', 'time', 'releasedate', 'language', 'stars', 'price']]], \n",
    "                            axis = 1)"
   ]
  },
  {
   "cell_type": "markdown",
   "id": "2492630e",
   "metadata": {},
   "source": [
    "### 6. How to find total number of NA in some specific columns?"
   ]
  },
  {
   "cell_type": "code",
   "execution_count": 144,
   "id": "5d12af59",
   "metadata": {},
   "outputs": [
    {
     "data": {
      "text/plain": [
       "author0        0\n",
       "author1    73762\n",
       "author2    85135\n",
       "author3    86713\n",
       "dtype: int64"
      ]
     },
     "execution_count": 144,
     "metadata": {},
     "output_type": "execute_result"
    }
   ],
   "source": [
    "#number of missing values in author columns\n",
    "audible_data2.loc[:,['author0','author1','author2','author3']].isnull().sum()"
   ]
  },
  {
   "cell_type": "code",
   "execution_count": 145,
   "id": "f42c1193",
   "metadata": {},
   "outputs": [],
   "source": [
    "#remove \"Narratedby:\" from Narrator column\n",
    "audible_data2['narrator'] = audible_data2['narrator'].str.replace(pat = \"Narratedby:\", repl = \"\")"
   ]
  },
  {
   "cell_type": "code",
   "execution_count": 146,
   "id": "bb392fda",
   "metadata": {},
   "outputs": [],
   "source": [
    "#add space between first and last name of the Narrator\n",
    "#e.g. JaneAustin becomes Jane Austin\n",
    "audible_data2['narrator'] = audible_data2['narrator'].str.replace(pat = r\"(\\w)([A-Z])\", repl = r\"\\1 \\2\", regex = True)"
   ]
  },
  {
   "cell_type": "code",
   "execution_count": 147,
   "id": "0eea7a15",
   "metadata": {},
   "outputs": [
    {
     "data": {
      "text/html": [
       "<div>\n",
       "<style scoped>\n",
       "    .dataframe tbody tr th:only-of-type {\n",
       "        vertical-align: middle;\n",
       "    }\n",
       "\n",
       "    .dataframe tbody tr th {\n",
       "        vertical-align: top;\n",
       "    }\n",
       "\n",
       "    .dataframe thead th {\n",
       "        text-align: right;\n",
       "    }\n",
       "</style>\n",
       "<table border=\"1\" class=\"dataframe\">\n",
       "  <thead>\n",
       "    <tr style=\"text-align: right;\">\n",
       "      <th></th>\n",
       "      <th>name</th>\n",
       "      <th>author0</th>\n",
       "      <th>author1</th>\n",
       "      <th>author2</th>\n",
       "      <th>author3</th>\n",
       "      <th>narrator</th>\n",
       "      <th>time</th>\n",
       "      <th>releasedate</th>\n",
       "      <th>language</th>\n",
       "      <th>stars</th>\n",
       "      <th>price</th>\n",
       "    </tr>\n",
       "  </thead>\n",
       "  <tbody>\n",
       "    <tr>\n",
       "      <th>57733</th>\n",
       "      <td>Über Leben</td>\n",
       "      <td>Dirk Steffens</td>\n",
       "      <td>Fritz Habekuß</td>\n",
       "      <td>None</td>\n",
       "      <td>None</td>\n",
       "      <td>Dirk Steffens,Fritz Habekuß</td>\n",
       "      <td>6 hrs and 25 mins</td>\n",
       "      <td>11-05-20</td>\n",
       "      <td>german</td>\n",
       "      <td>Not rated yet</td>\n",
       "      <td>468.00</td>\n",
       "    </tr>\n",
       "    <tr>\n",
       "      <th>45308</th>\n",
       "      <td>The Winds of Darkover [International Edition]</td>\n",
       "      <td>Marion Zimmer Bradley</td>\n",
       "      <td>None</td>\n",
       "      <td>None</td>\n",
       "      <td>None</td>\n",
       "      <td>Pete Bradbury</td>\n",
       "      <td>5 hrs and 29 mins</td>\n",
       "      <td>16-11-21</td>\n",
       "      <td>English</td>\n",
       "      <td>Not rated yet</td>\n",
       "      <td>703.00</td>\n",
       "    </tr>\n",
       "    <tr>\n",
       "      <th>78074</th>\n",
       "      <td>The Hardest Route</td>\n",
       "      <td>A.S.Teague</td>\n",
       "      <td>None</td>\n",
       "      <td>None</td>\n",
       "      <td>None</td>\n",
       "      <td>Elizabeth Hart,Alex Kydd</td>\n",
       "      <td>8 hrs and 58 mins</td>\n",
       "      <td>16-07-19</td>\n",
       "      <td>English</td>\n",
       "      <td>Not rated yet</td>\n",
       "      <td>586.00</td>\n",
       "    </tr>\n",
       "    <tr>\n",
       "      <th>28137</th>\n",
       "      <td>Shine</td>\n",
       "      <td>Carley Hauck</td>\n",
       "      <td>None</td>\n",
       "      <td>None</td>\n",
       "      <td>None</td>\n",
       "      <td>Carley Hauck</td>\n",
       "      <td>8 hrs and 58 mins</td>\n",
       "      <td>23-02-21</td>\n",
       "      <td>English</td>\n",
       "      <td>Not rated yet</td>\n",
       "      <td>703.00</td>\n",
       "    </tr>\n",
       "    <tr>\n",
       "      <th>4536</th>\n",
       "      <td>Maxima von Abundancia</td>\n",
       "      <td>Viola Sonntag</td>\n",
       "      <td>None</td>\n",
       "      <td>None</td>\n",
       "      <td>None</td>\n",
       "      <td>Viola Sonntag</td>\n",
       "      <td>2 hrs and 23 mins</td>\n",
       "      <td>29-03-22</td>\n",
       "      <td>german</td>\n",
       "      <td>Not rated yet</td>\n",
       "      <td>367.00</td>\n",
       "    </tr>\n",
       "  </tbody>\n",
       "</table>\n",
       "</div>"
      ],
      "text/plain": [
       "                                                name                author0  \\\n",
       "57733                                     Über Leben          Dirk Steffens   \n",
       "45308  The Winds of Darkover [International Edition]  Marion Zimmer Bradley   \n",
       "78074                              The Hardest Route             A.S.Teague   \n",
       "28137                                          Shine           Carley Hauck   \n",
       "4536                           Maxima von Abundancia          Viola Sonntag   \n",
       "\n",
       "             author1 author2 author3                     narrator  \\\n",
       "57733  Fritz Habekuß    None    None  Dirk Steffens,Fritz Habekuß   \n",
       "45308           None    None    None                Pete Bradbury   \n",
       "78074           None    None    None     Elizabeth Hart,Alex Kydd   \n",
       "28137           None    None    None                 Carley Hauck   \n",
       "4536            None    None    None                Viola Sonntag   \n",
       "\n",
       "                    time releasedate language          stars   price  \n",
       "57733  6 hrs and 25 mins    11-05-20   german  Not rated yet  468.00  \n",
       "45308  5 hrs and 29 mins    16-11-21  English  Not rated yet  703.00  \n",
       "78074  8 hrs and 58 mins    16-07-19  English  Not rated yet  586.00  \n",
       "28137  8 hrs and 58 mins    23-02-21  English  Not rated yet  703.00  \n",
       "4536   2 hrs and 23 mins    29-03-22   german  Not rated yet  367.00  "
      ]
     },
     "execution_count": 147,
     "metadata": {},
     "output_type": "execute_result"
    }
   ],
   "source": [
    "audible_data2.sample(5)"
   ]
  },
  {
   "cell_type": "code",
   "execution_count": 148,
   "id": "c76307ee",
   "metadata": {},
   "outputs": [],
   "source": [
    "#make a copy of time column to understand all kind of formats in which data is present\n",
    "time_column = audible_data2['time']\n",
    "#time_column_copy = time_column.copy()"
   ]
  },
  {
   "cell_type": "code",
   "execution_count": 149,
   "id": "2883b802",
   "metadata": {},
   "outputs": [
    {
     "data": {
      "text/plain": [
       "0           hrs and  mins\n",
       "4                     hrs\n",
       "12           hrs and  min\n",
       "29           hr and  mins\n",
       "53                   mins\n",
       "227                    hr\n",
       "255           hr and  min\n",
       "1203                  min\n",
       "1401    Less than  minute\n",
       "Name: time, dtype: object"
      ]
     },
     "execution_count": 149,
     "metadata": {},
     "output_type": "execute_result"
    }
   ],
   "source": [
    "#replace all numbers with blanks\n",
    "time_column = time_column.str.replace(pat = r'[0-9]', repl = '', regex = True)\n",
    "#keep only unique patterns\n",
    "time_column.drop_duplicates()"
   ]
  },
  {
   "cell_type": "code",
   "execution_count": 150,
   "id": "94a166f7",
   "metadata": {},
   "outputs": [
    {
     "data": {
      "text/plain": [
       "1401    Less than 1 minute\n",
       "Name: time, dtype: object"
      ]
     },
     "execution_count": 150,
     "metadata": {},
     "output_type": "execute_result"
    }
   ],
   "source": [
    "#find rows with \"less than x minute\" values in audiobook duration\n",
    "less_than_duration = audible_data2[audible_data2.time.str.contains(pat = 'less than', case = False)].index\n",
    "#check all unique values with 'less than' pattern\n",
    "audible_data2.time[less_than_duration].drop_duplicates()"
   ]
  },
  {
   "cell_type": "code",
   "execution_count": 151,
   "id": "a93334b2",
   "metadata": {},
   "outputs": [],
   "source": [
    "#create 2 columns- 1 for hour component and the other for minute component.\n",
    "audible_data2['hour_component'] = 0\n",
    "audible_data2['min_component'] = 0"
   ]
  },
  {
   "cell_type": "markdown",
   "id": "14884ae6",
   "metadata": {},
   "source": [
    "### 7. How to extract digits before a specifc word?"
   ]
  },
  {
   "cell_type": "code",
   "execution_count": 152,
   "id": "691d1612",
   "metadata": {},
   "outputs": [],
   "source": [
    "#Extract the hour component of audiobook duration into hour column and minute into min_component column\n",
    "audible_data2['hour_component'] = audible_data2.time.str.extract(pat = r'^(\\d+) hr')\n",
    "audible_data2['min_component'] = audible_data2.time.str.extract(pat = r'(\\d+) min')"
   ]
  },
  {
   "cell_type": "code",
   "execution_count": 153,
   "id": "0e75fdf0",
   "metadata": {},
   "outputs": [
    {
     "data": {
      "text/html": [
       "<div>\n",
       "<style scoped>\n",
       "    .dataframe tbody tr th:only-of-type {\n",
       "        vertical-align: middle;\n",
       "    }\n",
       "\n",
       "    .dataframe tbody tr th {\n",
       "        vertical-align: top;\n",
       "    }\n",
       "\n",
       "    .dataframe thead th {\n",
       "        text-align: right;\n",
       "    }\n",
       "</style>\n",
       "<table border=\"1\" class=\"dataframe\">\n",
       "  <thead>\n",
       "    <tr style=\"text-align: right;\">\n",
       "      <th></th>\n",
       "      <th>time</th>\n",
       "      <th>hour_component</th>\n",
       "      <th>min_component</th>\n",
       "    </tr>\n",
       "  </thead>\n",
       "  <tbody>\n",
       "    <tr>\n",
       "      <th>65382</th>\n",
       "      <td>2 hrs and 8 mins</td>\n",
       "      <td>2</td>\n",
       "      <td>8</td>\n",
       "    </tr>\n",
       "    <tr>\n",
       "      <th>54447</th>\n",
       "      <td>11 hrs and 33 mins</td>\n",
       "      <td>11</td>\n",
       "      <td>33</td>\n",
       "    </tr>\n",
       "    <tr>\n",
       "      <th>16823</th>\n",
       "      <td>1 hr and 16 mins</td>\n",
       "      <td>1</td>\n",
       "      <td>16</td>\n",
       "    </tr>\n",
       "    <tr>\n",
       "      <th>85144</th>\n",
       "      <td>8 hrs and 35 mins</td>\n",
       "      <td>8</td>\n",
       "      <td>35</td>\n",
       "    </tr>\n",
       "    <tr>\n",
       "      <th>10221</th>\n",
       "      <td>4 mins</td>\n",
       "      <td>NaN</td>\n",
       "      <td>4</td>\n",
       "    </tr>\n",
       "    <tr>\n",
       "      <th>18810</th>\n",
       "      <td>5 hrs and 58 mins</td>\n",
       "      <td>5</td>\n",
       "      <td>58</td>\n",
       "    </tr>\n",
       "  </tbody>\n",
       "</table>\n",
       "</div>"
      ],
      "text/plain": [
       "                     time hour_component min_component\n",
       "65382    2 hrs and 8 mins              2             8\n",
       "54447  11 hrs and 33 mins             11            33\n",
       "16823    1 hr and 16 mins              1            16\n",
       "85144   8 hrs and 35 mins              8            35\n",
       "10221              4 mins            NaN             4\n",
       "18810   5 hrs and 58 mins              5            58"
      ]
     },
     "execution_count": 153,
     "metadata": {},
     "output_type": "execute_result"
    }
   ],
   "source": [
    "random.seed(10)\n",
    "audible_data2.loc[:,['time', 'hour_component', 'min_component']].sample(6)"
   ]
  },
  {
   "cell_type": "markdown",
   "id": "202abd9c",
   "metadata": {},
   "source": [
    "### 8. How to convert NaN values to 0?"
   ]
  },
  {
   "cell_type": "code",
   "execution_count": 154,
   "id": "9eb8ba32",
   "metadata": {},
   "outputs": [],
   "source": [
    "#convert all NaN values in hour and minute component column to 0\n",
    "audible_data2['hour_component'] = audible_data2['hour_component'].fillna(0)\n",
    "audible_data2['min_component'] = audible_data2['min_component'].fillna(0)"
   ]
  },
  {
   "cell_type": "code",
   "execution_count": 155,
   "id": "531c63c8",
   "metadata": {},
   "outputs": [
    {
     "data": {
      "text/html": [
       "<div>\n",
       "<style scoped>\n",
       "    .dataframe tbody tr th:only-of-type {\n",
       "        vertical-align: middle;\n",
       "    }\n",
       "\n",
       "    .dataframe tbody tr th {\n",
       "        vertical-align: top;\n",
       "    }\n",
       "\n",
       "    .dataframe thead th {\n",
       "        text-align: right;\n",
       "    }\n",
       "</style>\n",
       "<table border=\"1\" class=\"dataframe\">\n",
       "  <thead>\n",
       "    <tr style=\"text-align: right;\">\n",
       "      <th></th>\n",
       "      <th>time</th>\n",
       "      <th>hour_component</th>\n",
       "      <th>min_component</th>\n",
       "    </tr>\n",
       "  </thead>\n",
       "  <tbody>\n",
       "    <tr>\n",
       "      <th>328</th>\n",
       "      <td>11 mins</td>\n",
       "      <td>0</td>\n",
       "      <td>11</td>\n",
       "    </tr>\n",
       "    <tr>\n",
       "      <th>5532</th>\n",
       "      <td>12 mins</td>\n",
       "      <td>0</td>\n",
       "      <td>12</td>\n",
       "    </tr>\n",
       "    <tr>\n",
       "      <th>1583</th>\n",
       "      <td>5 mins</td>\n",
       "      <td>0</td>\n",
       "      <td>5</td>\n",
       "    </tr>\n",
       "  </tbody>\n",
       "</table>\n",
       "</div>"
      ],
      "text/plain": [
       "         time hour_component min_component\n",
       "328   11 mins              0            11\n",
       "5532  12 mins              0            12\n",
       "1583   5 mins              0             5"
      ]
     },
     "execution_count": 155,
     "metadata": {},
     "output_type": "execute_result"
    }
   ],
   "source": [
    "#sample preview\n",
    "audible_data2.loc[[328,5532,1583], ['time', 'hour_component', 'min_component']]"
   ]
  },
  {
   "cell_type": "markdown",
   "id": "b5de8e6d",
   "metadata": {},
   "source": [
    "### 9. How to change the datatype of multiple columns?"
   ]
  },
  {
   "cell_type": "code",
   "execution_count": 156,
   "id": "f5c458d1",
   "metadata": {},
   "outputs": [],
   "source": [
    "#convert the hour and min column to int type\n",
    "audible_data2 = audible_data2.astype({'hour_component':'int','min_component':'int'})"
   ]
  },
  {
   "cell_type": "code",
   "execution_count": 158,
   "id": "cc9abf66",
   "metadata": {},
   "outputs": [
    {
     "name": "stdout",
     "output_type": "stream",
     "text": [
      "<class 'pandas.core.frame.DataFrame'>\n",
      "RangeIndex: 87489 entries, 0 to 87488\n",
      "Data columns (total 13 columns):\n",
      " #   Column          Non-Null Count  Dtype \n",
      "---  ------          --------------  ----- \n",
      " 0   name            87489 non-null  object\n",
      " 1   author0         87489 non-null  object\n",
      " 2   author1         13727 non-null  object\n",
      " 3   author2         2354 non-null   object\n",
      " 4   author3         776 non-null    object\n",
      " 5   narrator        87489 non-null  object\n",
      " 6   time            87489 non-null  object\n",
      " 7   releasedate     87489 non-null  object\n",
      " 8   language        87489 non-null  object\n",
      " 9   stars           87489 non-null  object\n",
      " 10  price           87489 non-null  object\n",
      " 11  hour_component  87489 non-null  int32 \n",
      " 12  min_component   87489 non-null  int32 \n",
      "dtypes: int32(2), object(11)\n",
      "memory usage: 8.0+ MB\n"
     ]
    }
   ],
   "source": [
    "audible_data2.info()"
   ]
  },
  {
   "cell_type": "code",
   "execution_count": 159,
   "id": "c0528f24",
   "metadata": {},
   "outputs": [
    {
     "data": {
      "text/plain": [
       "0        04-08-08\n",
       "1        01-05-18\n",
       "2        06-11-20\n",
       "3        05-10-21\n",
       "4        13-01-10\n",
       "           ...   \n",
       "87484    09-03-17\n",
       "87485    21-02-17\n",
       "87486    30-12-16\n",
       "87487    23-02-11\n",
       "87488    07-03-17\n",
       "Name: releasedate, Length: 87489, dtype: object"
      ]
     },
     "execution_count": 159,
     "metadata": {},
     "output_type": "execute_result"
    }
   ],
   "source": [
    "audible_data2.releasedate"
   ]
  },
  {
   "cell_type": "markdown",
   "id": "3033e3ec",
   "metadata": {},
   "source": [
    "### 10. How to check for inconsistencies in date column stored as a string?"
   ]
  },
  {
   "cell_type": "code",
   "execution_count": 164,
   "id": "d3f2f4f6",
   "metadata": {},
   "outputs": [
    {
     "data": {
      "text/html": [
       "<div>\n",
       "<style scoped>\n",
       "    .dataframe tbody tr th:only-of-type {\n",
       "        vertical-align: middle;\n",
       "    }\n",
       "\n",
       "    .dataframe tbody tr th {\n",
       "        vertical-align: top;\n",
       "    }\n",
       "\n",
       "    .dataframe thead th {\n",
       "        text-align: right;\n",
       "    }\n",
       "</style>\n",
       "<table border=\"1\" class=\"dataframe\">\n",
       "  <thead>\n",
       "    <tr style=\"text-align: right;\">\n",
       "      <th></th>\n",
       "      <th>0</th>\n",
       "    </tr>\n",
       "  </thead>\n",
       "  <tbody>\n",
       "    <tr>\n",
       "      <th>0</th>\n",
       "      <td>08</td>\n",
       "    </tr>\n",
       "    <tr>\n",
       "      <th>1</th>\n",
       "      <td>05</td>\n",
       "    </tr>\n",
       "    <tr>\n",
       "      <th>2</th>\n",
       "      <td>11</td>\n",
       "    </tr>\n",
       "    <tr>\n",
       "      <th>3</th>\n",
       "      <td>10</td>\n",
       "    </tr>\n",
       "    <tr>\n",
       "      <th>4</th>\n",
       "      <td>01</td>\n",
       "    </tr>\n",
       "    <tr>\n",
       "      <th>9</th>\n",
       "      <td>09</td>\n",
       "    </tr>\n",
       "    <tr>\n",
       "      <th>14</th>\n",
       "      <td>06</td>\n",
       "    </tr>\n",
       "    <tr>\n",
       "      <th>15</th>\n",
       "      <td>02</td>\n",
       "    </tr>\n",
       "    <tr>\n",
       "      <th>16</th>\n",
       "      <td>12</td>\n",
       "    </tr>\n",
       "    <tr>\n",
       "      <th>21</th>\n",
       "      <td>04</td>\n",
       "    </tr>\n",
       "    <tr>\n",
       "      <th>30</th>\n",
       "      <td>07</td>\n",
       "    </tr>\n",
       "    <tr>\n",
       "      <th>39</th>\n",
       "      <td>03</td>\n",
       "    </tr>\n",
       "  </tbody>\n",
       "</table>\n",
       "</div>"
      ],
      "text/plain": [
       "     0\n",
       "0   08\n",
       "1   05\n",
       "2   11\n",
       "3   10\n",
       "4   01\n",
       "9   09\n",
       "14  06\n",
       "15  02\n",
       "16  12\n",
       "21  04\n",
       "30  07\n",
       "39  03"
      ]
     },
     "execution_count": 164,
     "metadata": {},
     "output_type": "execute_result"
    }
   ],
   "source": [
    "#check for inconsistencies in month of release date\n",
    "#Check to see whether middle values (months) contain any number > 12\n",
    "#all unique months. \n",
    "audible_data2.releasedate.str.extract(pat = r'-(\\d+)-').drop_duplicates()"
   ]
  },
  {
   "cell_type": "code",
   "execution_count": 165,
   "id": "855aee97",
   "metadata": {},
   "outputs": [
    {
     "data": {
      "text/html": [
       "<div>\n",
       "<style scoped>\n",
       "    .dataframe tbody tr th:only-of-type {\n",
       "        vertical-align: middle;\n",
       "    }\n",
       "\n",
       "    .dataframe tbody tr th {\n",
       "        vertical-align: top;\n",
       "    }\n",
       "\n",
       "    .dataframe thead th {\n",
       "        text-align: right;\n",
       "    }\n",
       "</style>\n",
       "<table border=\"1\" class=\"dataframe\">\n",
       "  <thead>\n",
       "    <tr style=\"text-align: right;\">\n",
       "      <th></th>\n",
       "      <th>0</th>\n",
       "    </tr>\n",
       "  </thead>\n",
       "  <tbody>\n",
       "    <tr>\n",
       "      <th>0</th>\n",
       "      <td>08</td>\n",
       "    </tr>\n",
       "    <tr>\n",
       "      <th>1</th>\n",
       "      <td>18</td>\n",
       "    </tr>\n",
       "    <tr>\n",
       "      <th>2</th>\n",
       "      <td>20</td>\n",
       "    </tr>\n",
       "    <tr>\n",
       "      <th>3</th>\n",
       "      <td>21</td>\n",
       "    </tr>\n",
       "    <tr>\n",
       "      <th>4</th>\n",
       "      <td>10</td>\n",
       "    </tr>\n",
       "    <tr>\n",
       "      <th>6</th>\n",
       "      <td>14</td>\n",
       "    </tr>\n",
       "    <tr>\n",
       "      <th>7</th>\n",
       "      <td>17</td>\n",
       "    </tr>\n",
       "    <tr>\n",
       "      <th>9</th>\n",
       "      <td>19</td>\n",
       "    </tr>\n",
       "    <tr>\n",
       "      <th>11</th>\n",
       "      <td>11</td>\n",
       "    </tr>\n",
       "    <tr>\n",
       "      <th>16</th>\n",
       "      <td>04</td>\n",
       "    </tr>\n",
       "    <tr>\n",
       "      <th>21</th>\n",
       "      <td>09</td>\n",
       "    </tr>\n",
       "    <tr>\n",
       "      <th>22</th>\n",
       "      <td>13</td>\n",
       "    </tr>\n",
       "    <tr>\n",
       "      <th>25</th>\n",
       "      <td>03</td>\n",
       "    </tr>\n",
       "    <tr>\n",
       "      <th>31</th>\n",
       "      <td>05</td>\n",
       "    </tr>\n",
       "    <tr>\n",
       "      <th>37</th>\n",
       "      <td>16</td>\n",
       "    </tr>\n",
       "    <tr>\n",
       "      <th>39</th>\n",
       "      <td>15</td>\n",
       "    </tr>\n",
       "    <tr>\n",
       "      <th>61</th>\n",
       "      <td>22</td>\n",
       "    </tr>\n",
       "    <tr>\n",
       "      <th>64</th>\n",
       "      <td>12</td>\n",
       "    </tr>\n",
       "    <tr>\n",
       "      <th>84</th>\n",
       "      <td>07</td>\n",
       "    </tr>\n",
       "    <tr>\n",
       "      <th>343</th>\n",
       "      <td>06</td>\n",
       "    </tr>\n",
       "    <tr>\n",
       "      <th>968</th>\n",
       "      <td>00</td>\n",
       "    </tr>\n",
       "    <tr>\n",
       "      <th>2328</th>\n",
       "      <td>02</td>\n",
       "    </tr>\n",
       "    <tr>\n",
       "      <th>2812</th>\n",
       "      <td>99</td>\n",
       "    </tr>\n",
       "    <tr>\n",
       "      <th>3715</th>\n",
       "      <td>01</td>\n",
       "    </tr>\n",
       "    <tr>\n",
       "      <th>23039</th>\n",
       "      <td>98</td>\n",
       "    </tr>\n",
       "    <tr>\n",
       "      <th>50810</th>\n",
       "      <td>23</td>\n",
       "    </tr>\n",
       "    <tr>\n",
       "      <th>82791</th>\n",
       "      <td>24</td>\n",
       "    </tr>\n",
       "    <tr>\n",
       "      <th>82959</th>\n",
       "      <td>25</td>\n",
       "    </tr>\n",
       "  </tbody>\n",
       "</table>\n",
       "</div>"
      ],
      "text/plain": [
       "        0\n",
       "0      08\n",
       "1      18\n",
       "2      20\n",
       "3      21\n",
       "4      10\n",
       "6      14\n",
       "7      17\n",
       "9      19\n",
       "11     11\n",
       "16     04\n",
       "21     09\n",
       "22     13\n",
       "25     03\n",
       "31     05\n",
       "37     16\n",
       "39     15\n",
       "61     22\n",
       "64     12\n",
       "84     07\n",
       "343    06\n",
       "968    00\n",
       "2328   02\n",
       "2812   99\n",
       "3715   01\n",
       "23039  98\n",
       "50810  23\n",
       "82791  24\n",
       "82959  25"
      ]
     },
     "execution_count": 165,
     "metadata": {},
     "output_type": "execute_result"
    }
   ],
   "source": [
    "#check inconsistencies in year value of release date\n",
    "#future release date is also present, hence values 25 for year 2025, 24 for year 2024...\n",
    "audible_data2.releasedate.str.extract(pat = r'-(\\d+)$').drop_duplicates()"
   ]
  },
  {
   "cell_type": "code",
   "execution_count": 166,
   "id": "469db1ab",
   "metadata": {},
   "outputs": [
    {
     "data": {
      "text/plain": [
       "False"
      ]
     },
     "execution_count": 166,
     "metadata": {},
     "output_type": "execute_result"
    }
   ],
   "source": [
    "#in day value\n",
    "#check if any value in day part > 31.\n",
    "any(audible_data2.releasedate.str.extract(pat = r'^(\\d+)-').drop_duplicates().astype(int) > 31)"
   ]
  },
  {
   "cell_type": "markdown",
   "id": "e8bd449c",
   "metadata": {},
   "source": [
    "### 11. How to convert date stored as string to 'date' type? \n",
    "\n",
    "Note: Check the separator used between day, month and year.  \n",
    "\n",
    "- If date is like- 02/10/2023, use the format- **%d/%m/%Y**.  \n",
    "- If date is like- 02-10-2023, use the format- **%d-%m-%Y**.  \n",
    "- If year has 2 digits as in 02-10-23, use format- **%d-%m-%y**.  \n",
    "- If year has 4 digits as in 02-10-2023, use Y in capital- **%d-%m-%Y**."
   ]
  },
  {
   "cell_type": "code",
   "execution_count": 167,
   "id": "094693e7",
   "metadata": {},
   "outputs": [],
   "source": [
    "#convert release-date from string to date type\n",
    "audible_data2.releasedate = pd.to_datetime(audible_data2.releasedate, format = '%d-%m-%y')"
   ]
  },
  {
   "cell_type": "code",
   "execution_count": 168,
   "id": "a019a914",
   "metadata": {
    "scrolled": true
   },
   "outputs": [
    {
     "name": "stdout",
     "output_type": "stream",
     "text": [
      "<class 'pandas.core.frame.DataFrame'>\n",
      "RangeIndex: 87489 entries, 0 to 87488\n",
      "Data columns (total 13 columns):\n",
      " #   Column          Non-Null Count  Dtype         \n",
      "---  ------          --------------  -----         \n",
      " 0   name            87489 non-null  object        \n",
      " 1   author0         87489 non-null  object        \n",
      " 2   author1         13727 non-null  object        \n",
      " 3   author2         2354 non-null   object        \n",
      " 4   author3         776 non-null    object        \n",
      " 5   narrator        87489 non-null  object        \n",
      " 6   time            87489 non-null  object        \n",
      " 7   releasedate     87489 non-null  datetime64[ns]\n",
      " 8   language        87489 non-null  object        \n",
      " 9   stars           87489 non-null  object        \n",
      " 10  price           87489 non-null  object        \n",
      " 11  hour_component  87489 non-null  int32         \n",
      " 12  min_component   87489 non-null  int32         \n",
      "dtypes: datetime64[ns](1), int32(2), object(10)\n",
      "memory usage: 8.0+ MB\n"
     ]
    }
   ],
   "source": [
    "audible_data2.info()"
   ]
  },
  {
   "cell_type": "markdown",
   "id": "1e221410",
   "metadata": {},
   "source": [
    "### 12. How to convert text to one uniform case? "
   ]
  },
  {
   "cell_type": "code",
   "execution_count": 171,
   "id": "e9598654",
   "metadata": {},
   "outputs": [
    {
     "name": "stdout",
     "output_type": "stream",
     "text": [
      "['English', 'Hindi', 'Spanish', 'German', 'French', 'Catalan', 'Swedish', 'Italian', 'Danish', 'Finnish', 'Dutch', 'Hebrew', 'Russian', 'Polish', 'Galician', 'Afrikaans', 'Icelandic', 'Romanian', 'Japanese', 'Tamil', 'Portuguese', 'Urdu', 'Hungarian', 'Czech', 'Bulgarian', 'Mandarin_Chinese', 'Basque', 'Korean', 'Arabic', 'Greek', 'Turkish', 'Ukrainian', 'Slovene', 'Norwegian', 'Telugu', 'Lithuanian']\n"
     ]
    }
   ],
   "source": [
    "#language column\n",
    "print(audible_data2.language.drop_duplicates().tolist())"
   ]
  },
  {
   "cell_type": "code",
   "execution_count": 170,
   "id": "fbde56f3",
   "metadata": {},
   "outputs": [],
   "source": [
    "#make language names uniform by capitalizing the first letter.\n",
    "audible_data2.language = audible_data2.language.str.title()"
   ]
  },
  {
   "cell_type": "markdown",
   "id": "4ee0de64",
   "metadata": {},
   "source": [
    "### 13. How to split a text column with a specific word acting as separator?"
   ]
  },
  {
   "cell_type": "markdown",
   "id": "66d37055",
   "metadata": {},
   "source": [
    "The objective is to create 2 columns out of the stars column:  \n",
    "- **`stars_out_of_5`-** will contain numeric values like 2, 4.5 etc.  \n",
    "- **`total_ratings`-** total number of reviews received on the particular audiobook.   \n",
    "\n",
    "\n",
    "\n",
    "- This column will be split after the word 'stars'.  \n",
    "- Then the first number before 'out' will be extracted and converted to int type.  \n",
    "- In the `total_ratings` column, \"ratings\" will be removed and values will be converted to int type.  "
   ]
  },
  {
   "cell_type": "code",
   "execution_count": 172,
   "id": "760854d2",
   "metadata": {},
   "outputs": [
    {
     "data": {
      "text/plain": [
       "25955               Not rated yet\n",
       "60409               Not rated yet\n",
       "44213               Not rated yet\n",
       "85258    5 out of 5 stars1 rating\n",
       "40042               Not rated yet\n",
       "Name: stars, dtype: object"
      ]
     },
     "execution_count": 172,
     "metadata": {},
     "output_type": "execute_result"
    }
   ],
   "source": [
    "#unique stars\n",
    "audible_data2.stars.sample(5)"
   ]
  },
  {
   "cell_type": "code",
   "execution_count": 173,
   "id": "1e68b657",
   "metadata": {},
   "outputs": [],
   "source": [
    "#split stars column into 2\n",
    "audible_data2[['stars_out_of_5', 'total_ratings']] = audible_data2.stars.str.split('stars', expand = True)"
   ]
  },
  {
   "cell_type": "code",
   "execution_count": 174,
   "id": "f55e14ee",
   "metadata": {},
   "outputs": [
    {
     "data": {
      "text/html": [
       "<div>\n",
       "<style scoped>\n",
       "    .dataframe tbody tr th:only-of-type {\n",
       "        vertical-align: middle;\n",
       "    }\n",
       "\n",
       "    .dataframe tbody tr th {\n",
       "        vertical-align: top;\n",
       "    }\n",
       "\n",
       "    .dataframe thead th {\n",
       "        text-align: right;\n",
       "    }\n",
       "</style>\n",
       "<table border=\"1\" class=\"dataframe\">\n",
       "  <thead>\n",
       "    <tr style=\"text-align: right;\">\n",
       "      <th></th>\n",
       "      <th>name</th>\n",
       "      <th>author0</th>\n",
       "      <th>author1</th>\n",
       "      <th>author2</th>\n",
       "      <th>author3</th>\n",
       "      <th>narrator</th>\n",
       "      <th>time</th>\n",
       "      <th>releasedate</th>\n",
       "      <th>language</th>\n",
       "      <th>stars</th>\n",
       "      <th>price</th>\n",
       "      <th>hour_component</th>\n",
       "      <th>min_component</th>\n",
       "      <th>stars_out_of_5</th>\n",
       "      <th>total_ratings</th>\n",
       "    </tr>\n",
       "  </thead>\n",
       "  <tbody>\n",
       "    <tr>\n",
       "      <th>13602</th>\n",
       "      <td>Serbian - Hindi. A complete method</td>\n",
       "      <td>J.M.Gardner</td>\n",
       "      <td>None</td>\n",
       "      <td>None</td>\n",
       "      <td>None</td>\n",
       "      <td>Dunja,Tulika</td>\n",
       "      <td>4 hrs and 19 mins</td>\n",
       "      <td>2020-11-13</td>\n",
       "      <td>English</td>\n",
       "      <td>Not rated yet</td>\n",
       "      <td>376.00</td>\n",
       "      <td>4</td>\n",
       "      <td>19</td>\n",
       "      <td>Not rated yet</td>\n",
       "      <td>None</td>\n",
       "    </tr>\n",
       "    <tr>\n",
       "      <th>23190</th>\n",
       "      <td>Reminiscences of a Stock Operator (Wiley Tradi...</td>\n",
       "      <td>Edwin Lefevre</td>\n",
       "      <td>None</td>\n",
       "      <td>None</td>\n",
       "      <td>None</td>\n",
       "      <td>uncredited</td>\n",
       "      <td>2 hrs and 28 mins</td>\n",
       "      <td>2013-10-29</td>\n",
       "      <td>English</td>\n",
       "      <td>4.5 out of 5 stars36 ratings</td>\n",
       "      <td>233.00</td>\n",
       "      <td>2</td>\n",
       "      <td>28</td>\n",
       "      <td>4.5 out of 5</td>\n",
       "      <td>36 ratings</td>\n",
       "    </tr>\n",
       "    <tr>\n",
       "      <th>34242</th>\n",
       "      <td>Unsavory Truth</td>\n",
       "      <td>Marion Nestle</td>\n",
       "      <td>None</td>\n",
       "      <td>None</td>\n",
       "      <td>None</td>\n",
       "      <td>Norah Tocci</td>\n",
       "      <td>9 hrs and 39 mins</td>\n",
       "      <td>2018-11-07</td>\n",
       "      <td>English</td>\n",
       "      <td>5 out of 5 stars1 rating</td>\n",
       "      <td>500.00</td>\n",
       "      <td>9</td>\n",
       "      <td>39</td>\n",
       "      <td>5 out of 5</td>\n",
       "      <td>1 rating</td>\n",
       "    </tr>\n",
       "    <tr>\n",
       "      <th>1577</th>\n",
       "      <td>P'tit Loup visite une ferme</td>\n",
       "      <td>Orianne Lallemand</td>\n",
       "      <td>None</td>\n",
       "      <td>None</td>\n",
       "      <td>None</td>\n",
       "      <td>Will Production</td>\n",
       "      <td>3 mins</td>\n",
       "      <td>2022-01-28</td>\n",
       "      <td>French</td>\n",
       "      <td>Not rated yet</td>\n",
       "      <td>74.00</td>\n",
       "      <td>0</td>\n",
       "      <td>3</td>\n",
       "      <td>Not rated yet</td>\n",
       "      <td>None</td>\n",
       "    </tr>\n",
       "  </tbody>\n",
       "</table>\n",
       "</div>"
      ],
      "text/plain": [
       "                                                    name            author0  \\\n",
       "13602                 Serbian - Hindi. A complete method        J.M.Gardner   \n",
       "23190  Reminiscences of a Stock Operator (Wiley Tradi...      Edwin Lefevre   \n",
       "34242                                     Unsavory Truth      Marion Nestle   \n",
       "1577                         P'tit Loup visite une ferme  Orianne Lallemand   \n",
       "\n",
       "      author1 author2 author3         narrator               time releasedate  \\\n",
       "13602    None    None    None     Dunja,Tulika  4 hrs and 19 mins  2020-11-13   \n",
       "23190    None    None    None       uncredited  2 hrs and 28 mins  2013-10-29   \n",
       "34242    None    None    None      Norah Tocci  9 hrs and 39 mins  2018-11-07   \n",
       "1577     None    None    None  Will Production             3 mins  2022-01-28   \n",
       "\n",
       "      language                         stars   price  hour_component  \\\n",
       "13602  English                 Not rated yet  376.00               4   \n",
       "23190  English  4.5 out of 5 stars36 ratings  233.00               2   \n",
       "34242  English      5 out of 5 stars1 rating  500.00               9   \n",
       "1577    French                 Not rated yet   74.00               0   \n",
       "\n",
       "       min_component stars_out_of_5 total_ratings  \n",
       "13602             19  Not rated yet          None  \n",
       "23190             28  4.5 out of 5     36 ratings  \n",
       "34242             39    5 out of 5       1 rating  \n",
       "1577               3  Not rated yet          None  "
      ]
     },
     "execution_count": 174,
     "metadata": {},
     "output_type": "execute_result"
    }
   ],
   "source": [
    "audible_data2.sample(4)"
   ]
  },
  {
   "cell_type": "code",
   "execution_count": 175,
   "id": "14ab2de6",
   "metadata": {},
   "outputs": [],
   "source": [
    "audible_data2_copy = audible_data2.copy()"
   ]
  },
  {
   "cell_type": "code",
   "execution_count": 178,
   "id": "ac5503a1",
   "metadata": {},
   "outputs": [],
   "source": [
    "#replace 'Not rated yet' rows with NA\n",
    "\n",
    "#rows with not yet rated value\n",
    "not_rated_rows = audible_data2[audible_data2.stars_out_of_5.str.contains(pat = 'Not rated yet', case = False)].index\n",
    "#replace 'Not yet rated' and 'None' with NA\n",
    "audible_data2.loc[not_rated_rows,['stars_out_of_5', 'total_ratings']] = np.nan"
   ]
  },
  {
   "cell_type": "code",
   "execution_count": 179,
   "id": "4bc9467d",
   "metadata": {},
   "outputs": [],
   "source": [
    "#remove 'out of 5' part\n",
    "audible_data2.stars_out_of_5 = audible_data2.stars.str.extract(pat = r'^(\\d+)')"
   ]
  },
  {
   "cell_type": "code",
   "execution_count": 182,
   "id": "8980d325",
   "metadata": {},
   "outputs": [],
   "source": [
    "temp = audible_data2.copy()"
   ]
  },
  {
   "cell_type": "code",
   "execution_count": 187,
   "id": "07ed6cdb",
   "metadata": {
    "scrolled": true
   },
   "outputs": [
    {
     "data": {
      "text/html": [
       "<div>\n",
       "<style scoped>\n",
       "    .dataframe tbody tr th:only-of-type {\n",
       "        vertical-align: middle;\n",
       "    }\n",
       "\n",
       "    .dataframe tbody tr th {\n",
       "        vertical-align: top;\n",
       "    }\n",
       "\n",
       "    .dataframe thead th {\n",
       "        text-align: right;\n",
       "    }\n",
       "</style>\n",
       "<table border=\"1\" class=\"dataframe\">\n",
       "  <thead>\n",
       "    <tr style=\"text-align: right;\">\n",
       "      <th></th>\n",
       "      <th>stars_out_of_5</th>\n",
       "      <th>out_of_5</th>\n",
       "    </tr>\n",
       "  </thead>\n",
       "  <tbody>\n",
       "    <tr>\n",
       "      <th>0</th>\n",
       "      <td>5 out of 5</td>\n",
       "      <td>5</td>\n",
       "    </tr>\n",
       "    <tr>\n",
       "      <th>1</th>\n",
       "      <td>4.5 out of 5</td>\n",
       "      <td>4</td>\n",
       "    </tr>\n",
       "    <tr>\n",
       "      <th>2</th>\n",
       "      <td>4.5 out of 5</td>\n",
       "      <td>4</td>\n",
       "    </tr>\n",
       "    <tr>\n",
       "      <th>3</th>\n",
       "      <td>4.5 out of 5</td>\n",
       "      <td>4</td>\n",
       "    </tr>\n",
       "    <tr>\n",
       "      <th>4</th>\n",
       "      <td>4.5 out of 5</td>\n",
       "      <td>4</td>\n",
       "    </tr>\n",
       "    <tr>\n",
       "      <th>5</th>\n",
       "      <td>5 out of 5</td>\n",
       "      <td>5</td>\n",
       "    </tr>\n",
       "    <tr>\n",
       "      <th>6</th>\n",
       "      <td>5 out of 5</td>\n",
       "      <td>5</td>\n",
       "    </tr>\n",
       "    <tr>\n",
       "      <th>7</th>\n",
       "      <td>5 out of 5</td>\n",
       "      <td>5</td>\n",
       "    </tr>\n",
       "    <tr>\n",
       "      <th>8</th>\n",
       "      <td>5 out of 5</td>\n",
       "      <td>5</td>\n",
       "    </tr>\n",
       "    <tr>\n",
       "      <th>9</th>\n",
       "      <td>5 out of 5</td>\n",
       "      <td>5</td>\n",
       "    </tr>\n",
       "  </tbody>\n",
       "</table>\n",
       "</div>"
      ],
      "text/plain": [
       "  stars_out_of_5 out_of_5\n",
       "0    5 out of 5         5\n",
       "1  4.5 out of 5         4\n",
       "2  4.5 out of 5         4\n",
       "3  4.5 out of 5         4\n",
       "4  4.5 out of 5         4\n",
       "5    5 out of 5         5\n",
       "6    5 out of 5         5\n",
       "7    5 out of 5         5\n",
       "8    5 out of 5         5\n",
       "9    5 out of 5         5"
      ]
     },
     "execution_count": 187,
     "metadata": {},
     "output_type": "execute_result"
    }
   ],
   "source": [
    "temp['out_of_5'] = temp.stars_out_of_5.str.extract(pat = r'^(\\d+|\\d{1}\\.\\d{1})')\n",
    "temp.loc[:,['stars_out_of_5', 'out_of_5']].head(10)"
   ]
  }
 ],
 "metadata": {
  "kernelspec": {
   "display_name": "Python 3 (ipykernel)",
   "language": "python",
   "name": "python3"
  },
  "language_info": {
   "codemirror_mode": {
    "name": "ipython",
    "version": 3
   },
   "file_extension": ".py",
   "mimetype": "text/x-python",
   "name": "python",
   "nbconvert_exporter": "python",
   "pygments_lexer": "ipython3",
   "version": "3.10.0"
  }
 },
 "nbformat": 4,
 "nbformat_minor": 5
}

{
 "cells": [
  {
   "cell_type": "markdown",
   "id": "97e62fcb-d9e5-4943-87f6-56199ebf5398",
   "metadata": {},
   "source": [
    "<div style=\"background-color: #f5e6a9; border-radius:5px;border:1px solid black;padding:2px;margin:0;\">\n",
    "<h3 style=\"margin:0;padding:5px;\">Introduction</h3>\n",
    "<i style=\"font-size:12px;\">(Last update: Feb 27, 2025)</i>\n",
    "</div>"
   ]
  },
  {
   "cell_type": "markdown",
   "id": "874c9bc0-313b-42a0-8a86-76ff9a315ce3",
   "metadata": {},
   "source": [
    "<p style=\"background-color: #fffbe6; border-radius:5px;border:1px solid black;padding:10px;margin:0;\">This notebook is a quick reference guide for accessing Kaggle dataset via Kaggle API.</p>"
   ]
  },
  {
   "cell_type": "code",
   "execution_count": 1,
   "id": "5e412cd5-7e4c-44e7-a682-0ba33a228353",
   "metadata": {},
   "outputs": [],
   "source": [
    "#pip install kaggle\n",
    "#!pip install jupyterthemes"
   ]
  },
  {
   "cell_type": "code",
   "execution_count": 2,
   "id": "af144c31-f412-4a4b-8977-3df1b25f7d3e",
   "metadata": {},
   "outputs": [],
   "source": [
    "from kaggle.api.kaggle_api_extended import KaggleApi"
   ]
  },
  {
   "cell_type": "code",
   "execution_count": 3,
   "id": "43ec6459-50ca-40ff-a3de-4f50bf372d56",
   "metadata": {},
   "outputs": [],
   "source": [
    "#to load the json files.\n",
    "import json\n",
    "#for a neat display of json output\n",
    "import pprint"
   ]
  },
  {
   "cell_type": "markdown",
   "id": "de1f9004-90af-49bd-93b1-234831360dcd",
   "metadata": {},
   "source": [
    "<h4 style=\"background-color: #f5e6a9; border-radius:5px;border:1px solid black;padding:10px;margin:0;display: inline-block;\">1. Instantiation and Authentication</h4>"
   ]
  },
  {
   "cell_type": "markdown",
   "id": "8af962f4-ae46-4dda-a53e-353a75f4b279",
   "metadata": {},
   "source": [
    "<div style=\"background-color: #fffbe6; border-radius:5px;border:1px solid black;padding:7px;margin:0;\">\n",
    "<ul>\n",
    "    <li><b><code>KaggleApi()</code>: </b> creates an instance of KaggleApi class, basically an empty client for the Kaggle server.</li>\n",
    "    <li><b><code>api.authenticate()</code>: </b> finds the api-key json file in <b>\".kaggle/kaggle.json\"</b> path (Windows) and authenticate with the server.</li>\n",
    "</ul>\n",
    "</div>"
   ]
  },
  {
   "cell_type": "code",
   "execution_count": 4,
   "id": "f32cac54-32c3-42b1-aae7-b35f52167a6e",
   "metadata": {},
   "outputs": [],
   "source": [
    "#make an instance of the api-class, this is an empty client right now\n",
    "api = KaggleApi()\n",
    "#start the authentication process.\n",
    "api.authenticate()"
   ]
  },
  {
   "cell_type": "markdown",
   "id": "48c97377-e4b9-4c6c-8d5a-c51423ea3f7f",
   "metadata": {},
   "source": [
    "<div style=\"background-color: #fffbe6; border-radius:5px;border:1px solid black;padding:10px;margin:0;\">\n",
    "<h4>2. See the dataset slugs without visiting Kaggle website</h4>\n",
    "<ul>\n",
    "    <li><b><code>api.dataset_list()</code>: </b>several filters can be added in the query along with keyword.</li>\n",
    "    <li><b><code>search=\"customer\"</code>: </b>mention the keyword of choice.</li>\n",
    "    <li>Returns a list of all dataset-slugs for all kaggle datasets containing this keyword.</li>\n",
    "</ul>\n",
    "</div>"
   ]
  },
  {
   "cell_type": "code",
   "execution_count": 5,
   "id": "076018f9-6cd4-4c74-8f72-e6c17192a767",
   "metadata": {},
   "outputs": [],
   "source": [
    "#searching for all dataset slugs with \"customer\" keyword\n",
    "customer_datasets = api.dataset_list(search=\"customer\")"
   ]
  },
  {
   "cell_type": "code",
   "execution_count": 6,
   "id": "e12269b0-5808-4835-93e1-b0b3f4ede359",
   "metadata": {},
   "outputs": [
    {
     "data": {
      "text/plain": [
       "kaggle.models.kaggle_models_extended.Dataset"
      ]
     },
     "execution_count": 6,
     "metadata": {},
     "output_type": "execute_result"
    }
   ],
   "source": [
    "type(customer_datasets[1])"
   ]
  },
  {
   "cell_type": "code",
   "execution_count": 7,
   "id": "31ba667f-c24f-4d2b-b77d-16555768cb98",
   "metadata": {},
   "outputs": [
    {
     "name": "stdout",
     "output_type": "stream",
     "text": [
      "1. imakash3011/customer-personality-analysis\n",
      "2. blastchar/telco-customer-churn\n",
      "3. vetrirah/customer\n",
      "4. datascientistanna/customers-dataset\n",
      "5. barun2104/telecom-churn\n",
      "6. vjchoudhary7/customer-segmentation-tutorial-in-python\n",
      "7. iamsouravbanerjee/customer-shopping-trends-dataset\n",
      "8. sakshigoyal7/credit-card-customers\n",
      "9. abisheksudarshan/customer-segmentation\n",
      "10. abhinav89/telecom-customer\n",
      "11. radheshyamkollipara/bank-customer-churn\n",
      "12. kaushiksuresh147/customer-segmentation\n",
      "13. mahirahmzh/starbucks-customer-retention-malaysia-survey\n",
      "14. dev0914sharma/customer-clustering\n",
      "15. sjleshrac/airlines-customer-satisfaction\n",
      "16. thoughtvector/customer-support-on-twitter\n",
      "17. muhammadshahidazeem/customer-churn-dataset\n",
      "18. hanaksoy/customer-purchasing-behaviors\n",
      "19. ihormuliar/starbucks-customer-data\n",
      "20. joebeachcapital/customer-segmentation\n"
     ]
    }
   ],
   "source": [
    "#print each slug\n",
    "for index, dataset in enumerate(customer_datasets):\n",
    "    print(f\"{index+1}. {dataset}\")"
   ]
  },
  {
   "cell_type": "markdown",
   "id": "17db09d5-2644-4c55-8783-127a09415482",
   "metadata": {},
   "source": [
    "<div style=\"background-color: #fffbe6; border-radius:10px;border:1px solid black;padding:5px;margin:0;\">\n",
    "Each dataset in the list is <b>not</b> of type string.<br>\n",
    "Each dataset is an object with properties like <code style=\"background-color:yellow; padding:2px 5px;\">dataset.<b>title</b></code>, <code style=\"background-color:yellow; padding:2px 5px;\">dataset.<b>ref</b></code> etc.\n",
    "</div>"
   ]
  },
  {
   "cell_type": "markdown",
   "id": "1dd12499-1c57-453b-87cd-526204566ecb",
   "metadata": {},
   "source": [
    "<h4 style=\"background-color: #f5e6a9; border-radius:5px;border:1px solid black;padding:10px;margin:0;display: inline-block;\">3. Download the dataset using the slug.</h4>"
   ]
  },
  {
   "cell_type": "code",
   "execution_count": 8,
   "id": "087ba191-6069-427c-a9b9-3c0a8a7ac768",
   "metadata": {},
   "outputs": [
    {
     "name": "stdout",
     "output_type": "stream",
     "text": [
      "Dataset URL: https://www.kaggle.com/datasets/imakash3011/customer-personality-analysis\n"
     ]
    }
   ],
   "source": [
    "#download one dataset\n",
    "api.dataset_download_files('imakash3011/customer-personality-analysis', path='./', unzip=True)"
   ]
  },
  {
   "cell_type": "markdown",
   "id": "745bec33-8d9f-4cbb-903b-4c0e9756cbc7",
   "metadata": {},
   "source": [
    "<div style=\"background-color: #fffbe6; border-radius:5px;border:1px solid black;padding:6px;margin:0;\">\n",
    "<ul>\n",
    "    <li><b><code>path=\"./\"<code>: </b> downloads the dataset in current directory.</li>\n",
    "    <li><b><code>unzip=True</code>: </b> unzips the dataset after download.</li>\n",
    "</ul>\n",
    "</div>"
   ]
  },
  {
   "cell_type": "markdown",
   "id": "e87c968e-ca7a-4189-a4cd-766de1360108",
   "metadata": {},
   "source": [
    "<h4 style=\"background-color: #f5e6a9; border-radius:5px;border:1px solid black;padding:10px;margin:0;display: inline-block;\">4. Download the metadata (json file)</h4>"
   ]
  },
  {
   "cell_type": "code",
   "execution_count": 9,
   "id": "26bfe10c-2faf-4fad-8215-8bdceed588fe",
   "metadata": {},
   "outputs": [],
   "source": [
    "#downloads a json file with details about a dataset- owner, size etc.\n",
    "dt_metadata = api.dataset_metadata('imakash3011/customer-personality-analysis', path='./')"
   ]
  },
  {
   "cell_type": "code",
   "execution_count": 10,
   "id": "34448b89-fdef-4232-8b35-c669c0b584cf",
   "metadata": {},
   "outputs": [
    {
     "name": "stdout",
     "output_type": "stream",
     "text": [
      "./dataset-metadata.json\n"
     ]
    }
   ],
   "source": [
    "print(dt_metadata)"
   ]
  },
  {
   "cell_type": "markdown",
   "id": "cf19fa04-82e2-4937-9ea5-f038de56cb3d",
   "metadata": {},
   "source": [
    "<h4 style=\"background-color: #f5e6a9; border-radius:5px;border:1px solid black;padding:10px;margin:0;display: inline-block;\">5. Open the metadata file</h4>"
   ]
  },
  {
   "cell_type": "code",
   "execution_count": 11,
   "id": "c83b83dd-1b1f-446e-a521-853441b4bcaa",
   "metadata": {},
   "outputs": [],
   "source": [
    "#open the downloaded metadata\n",
    "with open(\"./dataset-metadata.json\", \"r\") as file:\n",
    "    metadata = json.load(file)"
   ]
  },
  {
   "cell_type": "code",
   "execution_count": 12,
   "id": "383ab1a8-5685-488f-8847-1153d6e2b45b",
   "metadata": {},
   "outputs": [],
   "source": [
    "#Print the metadata\n",
    "#pprint.pprint(metadata[:10])"
   ]
  },
  {
   "cell_type": "markdown",
   "id": "4d928618-d8bb-4008-a478-0501f23f7906",
   "metadata": {},
   "source": [
    "<h4 style=\"background-color: #f5e6a9; border-radius:5px;border:1px solid black;padding:10px;margin:0;display: inline-block;\">6. Checking for multiple files within a dataset</h4>"
   ]
  },
  {
   "cell_type": "code",
   "execution_count": 13,
   "id": "9d11e7b1-c097-4dac-b23a-a5feacec4a6a",
   "metadata": {},
   "outputs": [
    {
     "name": "stdout",
     "output_type": "stream",
     "text": [
      "1. imakash3011/customer-personality-analysis: number of files in it = 1\n",
      "    * marketing_campaign.csv (215KB)\n",
      "2. blastchar/telco-customer-churn: number of files in it = 1\n",
      "    * WA_Fn-UseC_-Telco-Customer-Churn.csv (955KB)\n",
      "3. vetrirah/customer: number of files in it = 3\n",
      "    * Test.csv (130KB)\n",
      "    * Train.csv (415KB)\n",
      "    * sample_submission.csv (23KB)\n",
      "4. datascientistanna/customers-dataset: number of files in it = 1\n",
      "    * Customers.csv (73KB)\n",
      "5. barun2104/telecom-churn: number of files in it = 1\n",
      "    * telecom_churn.csv (126KB)\n"
     ]
    }
   ],
   "source": [
    "#checking all files present in 5 datasets.\n",
    "for index, dataset in enumerate(customer_datasets[:5]):\n",
    "    #only extract the slug from dataset object\n",
    "    dataset_slug = dataset.ref\n",
    "    files = api.dataset_list_files(dataset_slug)\n",
    "    print(f\"{index+1}. {dataset}: number of files in it = {len(files.files)}\")\n",
    "    #print name of each file inside them\n",
    "    for file in files.files:\n",
    "        print(f\"    * {file.name} ({file.size})\")\n"
   ]
  }
 ],
 "metadata": {
  "kernelspec": {
   "display_name": "Python 3 (ipykernel)",
   "language": "python",
   "name": "python3"
  },
  "language_info": {
   "codemirror_mode": {
    "name": "ipython",
    "version": 3
   },
   "file_extension": ".py",
   "mimetype": "text/x-python",
   "name": "python",
   "nbconvert_exporter": "python",
   "pygments_lexer": "ipython3",
   "version": "3.11.8"
  }
 },
 "nbformat": 4,
 "nbformat_minor": 5
}

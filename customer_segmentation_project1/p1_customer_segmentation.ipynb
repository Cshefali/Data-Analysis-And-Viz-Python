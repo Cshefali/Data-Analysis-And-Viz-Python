{
 "cells": [
  {
   "cell_type": "code",
   "execution_count": 1,
   "id": "f2bf4c52-9cb1-4b68-a81a-06d10103d06e",
   "metadata": {},
   "outputs": [],
   "source": [
    "#from kaggle.api.kaggle_api_extended import KaggleApi\n",
    "import pandas as pd\n",
    "import matplotlib.pyplot as plt"
   ]
  },
  {
   "cell_type": "markdown",
   "id": "21b28128-a486-4f69-be71-00826888925e",
   "metadata": {},
   "source": [
    "<div>\n",
    "    <h5>Download dataset (first time access)</h5>\n",
    "    <p>Comment out all lines for kaggle-dataset download, when running notebook next time.</p>\n",
    "</div>"
   ]
  },
  {
   "cell_type": "code",
   "execution_count": 5,
   "id": "89f4b138-7bab-4deb-9d5f-5419f1658c6a",
   "metadata": {},
   "outputs": [],
   "source": [
    "# create instance of KaggleApi\n",
    "#api = KaggleApi()\n",
    "# authentication with api-key\n",
    "#api.authenticate()\n",
    "# download the dataset\n",
    "#api.dataset_download_files('imakash3011/customer-personality-analysis', path='./data/', unzip=True)"
   ]
  },
  {
   "cell_type": "code",
   "execution_count": 2,
   "id": "d4985ed4-5035-4b55-8430-2f4db8d33080",
   "metadata": {},
   "outputs": [],
   "source": [
    "#read the tab-separated file\n",
    "data = pd.read_csv('data/marketing_campaign.csv', sep=\"\\t\")"
   ]
  },
  {
   "cell_type": "code",
   "execution_count": 3,
   "id": "ae9a3ae0-5c2d-4538-b323-b7b03c84db2f",
   "metadata": {},
   "outputs": [
    {
     "data": {
      "text/html": [
       "<div>\n",
       "<style scoped>\n",
       "    .dataframe tbody tr th:only-of-type {\n",
       "        vertical-align: middle;\n",
       "    }\n",
       "\n",
       "    .dataframe tbody tr th {\n",
       "        vertical-align: top;\n",
       "    }\n",
       "\n",
       "    .dataframe thead th {\n",
       "        text-align: right;\n",
       "    }\n",
       "</style>\n",
       "<table border=\"1\" class=\"dataframe\">\n",
       "  <thead>\n",
       "    <tr style=\"text-align: right;\">\n",
       "      <th></th>\n",
       "      <th>ID</th>\n",
       "      <th>Year_Birth</th>\n",
       "      <th>Education</th>\n",
       "      <th>Marital_Status</th>\n",
       "      <th>Income</th>\n",
       "      <th>Kidhome</th>\n",
       "      <th>Teenhome</th>\n",
       "      <th>Dt_Customer</th>\n",
       "      <th>Recency</th>\n",
       "      <th>MntWines</th>\n",
       "      <th>...</th>\n",
       "      <th>NumWebVisitsMonth</th>\n",
       "      <th>AcceptedCmp3</th>\n",
       "      <th>AcceptedCmp4</th>\n",
       "      <th>AcceptedCmp5</th>\n",
       "      <th>AcceptedCmp1</th>\n",
       "      <th>AcceptedCmp2</th>\n",
       "      <th>Complain</th>\n",
       "      <th>Z_CostContact</th>\n",
       "      <th>Z_Revenue</th>\n",
       "      <th>Response</th>\n",
       "    </tr>\n",
       "  </thead>\n",
       "  <tbody>\n",
       "    <tr>\n",
       "      <th>0</th>\n",
       "      <td>5524</td>\n",
       "      <td>1957</td>\n",
       "      <td>Graduation</td>\n",
       "      <td>Single</td>\n",
       "      <td>58138.0</td>\n",
       "      <td>0</td>\n",
       "      <td>0</td>\n",
       "      <td>04-09-2012</td>\n",
       "      <td>58</td>\n",
       "      <td>635</td>\n",
       "      <td>...</td>\n",
       "      <td>7</td>\n",
       "      <td>0</td>\n",
       "      <td>0</td>\n",
       "      <td>0</td>\n",
       "      <td>0</td>\n",
       "      <td>0</td>\n",
       "      <td>0</td>\n",
       "      <td>3</td>\n",
       "      <td>11</td>\n",
       "      <td>1</td>\n",
       "    </tr>\n",
       "    <tr>\n",
       "      <th>1</th>\n",
       "      <td>2174</td>\n",
       "      <td>1954</td>\n",
       "      <td>Graduation</td>\n",
       "      <td>Single</td>\n",
       "      <td>46344.0</td>\n",
       "      <td>1</td>\n",
       "      <td>1</td>\n",
       "      <td>08-03-2014</td>\n",
       "      <td>38</td>\n",
       "      <td>11</td>\n",
       "      <td>...</td>\n",
       "      <td>5</td>\n",
       "      <td>0</td>\n",
       "      <td>0</td>\n",
       "      <td>0</td>\n",
       "      <td>0</td>\n",
       "      <td>0</td>\n",
       "      <td>0</td>\n",
       "      <td>3</td>\n",
       "      <td>11</td>\n",
       "      <td>0</td>\n",
       "    </tr>\n",
       "    <tr>\n",
       "      <th>2</th>\n",
       "      <td>4141</td>\n",
       "      <td>1965</td>\n",
       "      <td>Graduation</td>\n",
       "      <td>Together</td>\n",
       "      <td>71613.0</td>\n",
       "      <td>0</td>\n",
       "      <td>0</td>\n",
       "      <td>21-08-2013</td>\n",
       "      <td>26</td>\n",
       "      <td>426</td>\n",
       "      <td>...</td>\n",
       "      <td>4</td>\n",
       "      <td>0</td>\n",
       "      <td>0</td>\n",
       "      <td>0</td>\n",
       "      <td>0</td>\n",
       "      <td>0</td>\n",
       "      <td>0</td>\n",
       "      <td>3</td>\n",
       "      <td>11</td>\n",
       "      <td>0</td>\n",
       "    </tr>\n",
       "    <tr>\n",
       "      <th>3</th>\n",
       "      <td>6182</td>\n",
       "      <td>1984</td>\n",
       "      <td>Graduation</td>\n",
       "      <td>Together</td>\n",
       "      <td>26646.0</td>\n",
       "      <td>1</td>\n",
       "      <td>0</td>\n",
       "      <td>10-02-2014</td>\n",
       "      <td>26</td>\n",
       "      <td>11</td>\n",
       "      <td>...</td>\n",
       "      <td>6</td>\n",
       "      <td>0</td>\n",
       "      <td>0</td>\n",
       "      <td>0</td>\n",
       "      <td>0</td>\n",
       "      <td>0</td>\n",
       "      <td>0</td>\n",
       "      <td>3</td>\n",
       "      <td>11</td>\n",
       "      <td>0</td>\n",
       "    </tr>\n",
       "    <tr>\n",
       "      <th>4</th>\n",
       "      <td>5324</td>\n",
       "      <td>1981</td>\n",
       "      <td>PhD</td>\n",
       "      <td>Married</td>\n",
       "      <td>58293.0</td>\n",
       "      <td>1</td>\n",
       "      <td>0</td>\n",
       "      <td>19-01-2014</td>\n",
       "      <td>94</td>\n",
       "      <td>173</td>\n",
       "      <td>...</td>\n",
       "      <td>5</td>\n",
       "      <td>0</td>\n",
       "      <td>0</td>\n",
       "      <td>0</td>\n",
       "      <td>0</td>\n",
       "      <td>0</td>\n",
       "      <td>0</td>\n",
       "      <td>3</td>\n",
       "      <td>11</td>\n",
       "      <td>0</td>\n",
       "    </tr>\n",
       "  </tbody>\n",
       "</table>\n",
       "<p>5 rows × 29 columns</p>\n",
       "</div>"
      ],
      "text/plain": [
       "     ID  Year_Birth   Education Marital_Status   Income  Kidhome  Teenhome  \\\n",
       "0  5524        1957  Graduation         Single  58138.0        0         0   \n",
       "1  2174        1954  Graduation         Single  46344.0        1         1   \n",
       "2  4141        1965  Graduation       Together  71613.0        0         0   \n",
       "3  6182        1984  Graduation       Together  26646.0        1         0   \n",
       "4  5324        1981         PhD        Married  58293.0        1         0   \n",
       "\n",
       "  Dt_Customer  Recency  MntWines  ...  NumWebVisitsMonth  AcceptedCmp3  \\\n",
       "0  04-09-2012       58       635  ...                  7             0   \n",
       "1  08-03-2014       38        11  ...                  5             0   \n",
       "2  21-08-2013       26       426  ...                  4             0   \n",
       "3  10-02-2014       26        11  ...                  6             0   \n",
       "4  19-01-2014       94       173  ...                  5             0   \n",
       "\n",
       "   AcceptedCmp4  AcceptedCmp5  AcceptedCmp1  AcceptedCmp2  Complain  \\\n",
       "0             0             0             0             0         0   \n",
       "1             0             0             0             0         0   \n",
       "2             0             0             0             0         0   \n",
       "3             0             0             0             0         0   \n",
       "4             0             0             0             0         0   \n",
       "\n",
       "   Z_CostContact  Z_Revenue  Response  \n",
       "0              3         11         1  \n",
       "1              3         11         0  \n",
       "2              3         11         0  \n",
       "3              3         11         0  \n",
       "4              3         11         0  \n",
       "\n",
       "[5 rows x 29 columns]"
      ]
     },
     "execution_count": 3,
     "metadata": {},
     "output_type": "execute_result"
    }
   ],
   "source": [
    "data.head(5)"
   ]
  },
  {
   "cell_type": "code",
   "execution_count": 4,
   "id": "4c487d34-3b42-4d03-99cc-ecdd4658b3f5",
   "metadata": {},
   "outputs": [
    {
     "name": "stdout",
     "output_type": "stream",
     "text": [
      "<class 'pandas.core.frame.DataFrame'>\n",
      "RangeIndex: 2240 entries, 0 to 2239\n",
      "Data columns (total 29 columns):\n",
      " #   Column               Non-Null Count  Dtype  \n",
      "---  ------               --------------  -----  \n",
      " 0   ID                   2240 non-null   int64  \n",
      " 1   Year_Birth           2240 non-null   int64  \n",
      " 2   Education            2240 non-null   object \n",
      " 3   Marital_Status       2240 non-null   object \n",
      " 4   Income               2216 non-null   float64\n",
      " 5   Kidhome              2240 non-null   int64  \n",
      " 6   Teenhome             2240 non-null   int64  \n",
      " 7   Dt_Customer          2240 non-null   object \n",
      " 8   Recency              2240 non-null   int64  \n",
      " 9   MntWines             2240 non-null   int64  \n",
      " 10  MntFruits            2240 non-null   int64  \n",
      " 11  MntMeatProducts      2240 non-null   int64  \n",
      " 12  MntFishProducts      2240 non-null   int64  \n",
      " 13  MntSweetProducts     2240 non-null   int64  \n",
      " 14  MntGoldProds         2240 non-null   int64  \n",
      " 15  NumDealsPurchases    2240 non-null   int64  \n",
      " 16  NumWebPurchases      2240 non-null   int64  \n",
      " 17  NumCatalogPurchases  2240 non-null   int64  \n",
      " 18  NumStorePurchases    2240 non-null   int64  \n",
      " 19  NumWebVisitsMonth    2240 non-null   int64  \n",
      " 20  AcceptedCmp3         2240 non-null   int64  \n",
      " 21  AcceptedCmp4         2240 non-null   int64  \n",
      " 22  AcceptedCmp5         2240 non-null   int64  \n",
      " 23  AcceptedCmp1         2240 non-null   int64  \n",
      " 24  AcceptedCmp2         2240 non-null   int64  \n",
      " 25  Complain             2240 non-null   int64  \n",
      " 26  Z_CostContact        2240 non-null   int64  \n",
      " 27  Z_Revenue            2240 non-null   int64  \n",
      " 28  Response             2240 non-null   int64  \n",
      "dtypes: float64(1), int64(25), object(3)\n",
      "memory usage: 507.6+ KB\n"
     ]
    }
   ],
   "source": [
    "#basic info\n",
    "data.info()"
   ]
  },
  {
   "cell_type": "code",
   "execution_count": 3,
   "id": "1634ed21-2e7c-4711-affb-d01753511d12",
   "metadata": {},
   "outputs": [
    {
     "data": {
      "text/plain": [
       "['Education', 'Marital_Status', 'Dt_Customer']"
      ]
     },
     "execution_count": 3,
     "metadata": {},
     "output_type": "execute_result"
    }
   ],
   "source": [
    "#list of all categorical column-names\n",
    "categorical_colnames = data.select_dtypes(include=['object']).columns.tolist()\n",
    "categorical_colnames"
   ]
  },
  {
   "cell_type": "code",
   "execution_count": 4,
   "id": "72c266f3-3739-489b-91be-ab1699884271",
   "metadata": {},
   "outputs": [],
   "source": [
    "#remove \"dt_customer\" from the list- those are dates when customers joined\n",
    "#inplace removal\n",
    "categorical_colnames.remove('Dt_Customer')"
   ]
  },
  {
   "cell_type": "code",
   "execution_count": 5,
   "id": "fe9362f8-94fc-4f74-ab6d-91cd72cee0c0",
   "metadata": {},
   "outputs": [
    {
     "name": "stdout",
     "output_type": "stream",
     "text": [
      "Education\n",
      "Graduation    1127\n",
      "PhD            486\n",
      "Master         370\n",
      "2n Cycle       203\n",
      "Basic           54\n",
      "Name: count, dtype: int64\n",
      "\n",
      "Marital_Status\n",
      "Married     864\n",
      "Together    580\n",
      "Single      480\n",
      "Divorced    232\n",
      "Widow        77\n",
      "Alone         3\n",
      "Absurd        2\n",
      "YOLO          2\n",
      "Name: count, dtype: int64\n",
      "\n"
     ]
    }
   ],
   "source": [
    "#find all unique values in each column\n",
    "for colname in categorical_colnames:\n",
    "    print(f\"{data[colname].value_counts()}\")\n",
    "    print()"
   ]
  },
  {
   "cell_type": "code",
   "execution_count": 6,
   "id": "6e6579ca-06d5-4c06-8add-3c5bbfcfec44",
   "metadata": {},
   "outputs": [],
   "source": [
    "#Numerical columns with important data\n",
    "num_columns = ['Income', 'Kidhome', 'Teenhome','Recency','MntWines','MntFruits','MntMeatProducts', 'MntFishProducts',\n",
    "              'MntSweetProducts','MntGoldProds', 'NumDealsPurchases', 'NumWebPurchases','NumCatalogPurchases','NumStorePurchases',\n",
    "              'NumWebVisitsMonth']"
   ]
  },
  {
   "cell_type": "code",
   "execution_count": 44,
   "id": "a32627dd-2f7f-4109-9b7f-808bee9d8605",
   "metadata": {},
   "outputs": [],
   "source": [
    "#stat-description of these columns\n",
    "#data[num_columns].describe().drop([\"count\", \"25%\", \"75%\"])"
   ]
  },
  {
   "cell_type": "markdown",
   "id": "6c296ec1-5123-40f0-9039-8f09cf02c873",
   "metadata": {},
   "source": [
    "### 2. Data Cleaning:\n",
    "\n",
    "1. Missing values- Income column has missing values; those handful of rows will be dropped.\n",
    "2. Incorrect data- Dates are in string format; will be converted to date-time format.\n",
    "3. Categorical features- they will be encoded in numerical form."
   ]
  },
  {
   "cell_type": "markdown",
   "id": "0772363f-e112-48ca-9f06-7506e46eebc5",
   "metadata": {},
   "source": [
    "#### 2.1 Missing values"
   ]
  },
  {
   "cell_type": "code",
   "execution_count": 7,
   "id": "65c1c270-a962-4980-9966-abdea55249e8",
   "metadata": {},
   "outputs": [],
   "source": [
    "#remove missing values\n",
    "data = data.dropna()"
   ]
  },
  {
   "cell_type": "code",
   "execution_count": 8,
   "id": "43d1f19f-5e74-427e-8ce4-0a6f0ae5e0fb",
   "metadata": {},
   "outputs": [
    {
     "name": "stdout",
     "output_type": "stream",
     "text": [
      "total rows in dataframe now: 2216\n"
     ]
    }
   ],
   "source": [
    "#check total number of observations left\n",
    "print(f\"total rows in dataframe now: {len(data)}\")"
   ]
  },
  {
   "cell_type": "markdown",
   "id": "7f024bfb-562d-427c-bf3f-dbea56c3ab5e",
   "metadata": {},
   "source": [
    "#### 2.2 Date of Joining column"
   ]
  },
  {
   "cell_type": "code",
   "execution_count": 9,
   "id": "a11e017f-72de-4b9e-ade5-8a6e172e59f4",
   "metadata": {},
   "outputs": [
    {
     "data": {
      "text/plain": [
       "str"
      ]
     },
     "execution_count": 9,
     "metadata": {},
     "output_type": "execute_result"
    }
   ],
   "source": [
    "#check type\n",
    "type(data.Dt_Customer[1])"
   ]
  },
  {
   "cell_type": "code",
   "execution_count": 10,
   "id": "9205d6d6-b930-4d51-b123-a288bdef5af2",
   "metadata": {},
   "outputs": [],
   "source": [
    "#convert the column to date-time\n",
    "data['Dt_Customer'] = pd.to_datetime(data['Dt_Customer'], format='%d-%m-%Y')"
   ]
  },
  {
   "cell_type": "code",
   "execution_count": 11,
   "id": "f0625259-947a-44ec-a1cf-f54a256ce864",
   "metadata": {},
   "outputs": [
    {
     "data": {
      "text/plain": [
       "count                             2216\n",
       "mean     2013-07-10 11:29:27.509025280\n",
       "min                2012-07-30 00:00:00\n",
       "25%                2013-01-16 00:00:00\n",
       "50%                2013-07-08 12:00:00\n",
       "75%                2013-12-31 00:00:00\n",
       "max                2014-06-29 00:00:00\n",
       "Name: Dt_Customer, dtype: object"
      ]
     },
     "execution_count": 11,
     "metadata": {},
     "output_type": "execute_result"
    }
   ],
   "source": [
    "data['Dt_Customer'].describe()"
   ]
  },
  {
   "cell_type": "code",
   "execution_count": 12,
   "id": "82c8a5be-3356-4f7c-b589-d79a7f09e0ee",
   "metadata": {},
   "outputs": [],
   "source": [
    "dates = []"
   ]
  },
  {
   "cell_type": "code",
   "execution_count": 13,
   "id": "87b037b5-ca6a-42b7-9a87-60411adcb809",
   "metadata": {},
   "outputs": [
    {
     "name": "stdout",
     "output_type": "stream",
     "text": [
      "Newest date of customer enrollment: 2014-06-29\n",
      "Oldest date of customer enrollment: 2012-07-30\n"
     ]
    }
   ],
   "source": [
    "for i in data['Dt_Customer']:\n",
    "    #extract only the date part from date-time format of column\n",
    "    i = i.date()\n",
    "    dates.append(i)\n",
    "#Earliest and most recent date in the dataset\n",
    "print(\"Newest date of customer enrollment:\", max(dates))\n",
    "print(\"Oldest date of customer enrollment:\", min(dates))"
   ]
  },
  {
   "cell_type": "markdown",
   "id": "3bbb2794-919f-4260-80db-00cb88c26e29",
   "metadata": {},
   "source": [
    "Now, I'll create a new feature <b>\"Customer_For\"</b> out of this <b>\"Dt_Customer\"</b>, which contains num. of days a customer has been shopping at this store (with respect to the most recent date in the dataset)."
   ]
  },
  {
   "cell_type": "code",
   "execution_count": 14,
   "id": "2f23d574-f0fa-448e-9766-5014715122cb",
   "metadata": {},
   "outputs": [],
   "source": [
    "#most recent date in database\n",
    "recent_date = max(dates)"
   ]
  },
  {
   "cell_type": "code",
   "execution_count": 15,
   "id": "978ac08b-651b-4ef4-8462-ec82999936ef",
   "metadata": {},
   "outputs": [
    {
     "name": "stdout",
     "output_type": "stream",
     "text": [
      "Number of days is of type datetime right now:  [datetime.timedelta(days=663), datetime.timedelta(days=113)]\n"
     ]
    }
   ],
   "source": [
    "#Creating \"Customer_for\" features\n",
    "#customer-for-xxx-number-of-days\n",
    "\n",
    "#list to store number of days for each customer\n",
    "days = []\n",
    "for i in dates:\n",
    "    #this wont give a date, but a timedelta object.\n",
    "    num_of_days = recent_date - i\n",
    "    #add this to the days-list\n",
    "    days.append(num_of_days)\n",
    "\n",
    "#demo of what the days list values type\n",
    "print(\"Number of days is of type datetime right now: \", days[0:2])"
   ]
  },
  {
   "cell_type": "code",
   "execution_count": 16,
   "id": "c283e7a0-226a-44dc-a007-c7529ff5494c",
   "metadata": {},
   "outputs": [],
   "source": [
    "#Add this list days-count to the dataframe\n",
    "data['Customer_For'] = days\n",
    "#values are time-delta objects, extract days out from them\n",
    "data['Customer_For'] = data['Customer_For'].dt.days\n",
    "#Convert to numeric type\n",
    "data['Customer_For'] = pd.to_numeric(data['Customer_For'])"
   ]
  },
  {
   "cell_type": "code",
   "execution_count": 17,
   "id": "48c588f2-0fe8-42cc-992b-8e998bb51656",
   "metadata": {},
   "outputs": [
    {
     "data": {
      "text/html": [
       "<div>\n",
       "<style scoped>\n",
       "    .dataframe tbody tr th:only-of-type {\n",
       "        vertical-align: middle;\n",
       "    }\n",
       "\n",
       "    .dataframe tbody tr th {\n",
       "        vertical-align: top;\n",
       "    }\n",
       "\n",
       "    .dataframe thead th {\n",
       "        text-align: right;\n",
       "    }\n",
       "</style>\n",
       "<table border=\"1\" class=\"dataframe\">\n",
       "  <thead>\n",
       "    <tr style=\"text-align: right;\">\n",
       "      <th></th>\n",
       "      <th>ID</th>\n",
       "      <th>Dt_Customer</th>\n",
       "      <th>Customer_For</th>\n",
       "    </tr>\n",
       "  </thead>\n",
       "  <tbody>\n",
       "    <tr>\n",
       "      <th>0</th>\n",
       "      <td>5524</td>\n",
       "      <td>2012-09-04</td>\n",
       "      <td>663</td>\n",
       "    </tr>\n",
       "    <tr>\n",
       "      <th>1</th>\n",
       "      <td>2174</td>\n",
       "      <td>2014-03-08</td>\n",
       "      <td>113</td>\n",
       "    </tr>\n",
       "    <tr>\n",
       "      <th>2</th>\n",
       "      <td>4141</td>\n",
       "      <td>2013-08-21</td>\n",
       "      <td>312</td>\n",
       "    </tr>\n",
       "  </tbody>\n",
       "</table>\n",
       "</div>"
      ],
      "text/plain": [
       "     ID Dt_Customer  Customer_For\n",
       "0  5524  2012-09-04           663\n",
       "1  2174  2014-03-08           113\n",
       "2  4141  2013-08-21           312"
      ]
     },
     "execution_count": 17,
     "metadata": {},
     "output_type": "execute_result"
    }
   ],
   "source": [
    "data[['ID', 'Dt_Customer', 'Customer_For']].head(3)"
   ]
  },
  {
   "cell_type": "markdown",
   "id": "32c6190c-65a9-443f-8ac8-a4916bf1623c",
   "metadata": {},
   "source": [
    "#### 2.3 Create New Features"
   ]
  },
  {
   "cell_type": "markdown",
   "id": "969ad8ab-9c93-410e-8d70-c143759bc70d",
   "metadata": {},
   "source": [
    "##### A. Age of customers"
   ]
  },
  {
   "cell_type": "code",
   "execution_count": 27,
   "id": "7a78257b-e8c0-4338-bfc8-9e3eb0ec3c25",
   "metadata": {},
   "outputs": [
    {
     "data": {
      "text/plain": [
       "int"
      ]
     },
     "execution_count": 27,
     "metadata": {},
     "output_type": "execute_result"
    }
   ],
   "source": [
    "type(recent_date.year)"
   ]
  },
  {
   "cell_type": "code",
   "execution_count": 28,
   "id": "9e2e1e8c-48f6-4ac2-b1da-cfcf0648eb4f",
   "metadata": {},
   "outputs": [],
   "source": [
    "#age will be calculated from 2014, the most recent date in dataset\n",
    "age = []\n",
    "recent_year = recent_date.year\n",
    "for i in data['Year_Birth']:\n",
    "    customer_age = recent_year - i\n",
    "    age.append(customer_age)"
   ]
  },
  {
   "cell_type": "code",
   "execution_count": 30,
   "id": "03945ab8-ffe5-4061-9343-524e06d9157a",
   "metadata": {},
   "outputs": [
    {
     "name": "stdout",
     "output_type": "stream",
     "text": [
      "maximum age 121\n",
      "minimum age 18\n"
     ]
    }
   ],
   "source": [
    "#add this list to dataframe\n",
    "data['customer_age'] = age\n",
    "print(\"maximum age\", max(data.customer_age))\n",
    "print(\"minimum age\", min(data.customer_age))"
   ]
  },
  {
   "cell_type": "markdown",
   "id": "c5566f8d-2342-48ad-9971-cd1d32d91c10",
   "metadata": {},
   "source": [
    "Maximum age of 121 seems bizarre.  \n",
    "Let's have a look at the age-distribution of all customers.  \n",
    "These discrepancies will be corrected in upcoming sections."
   ]
  },
  {
   "cell_type": "code",
   "execution_count": 32,
   "id": "5dd3a365-f4e2-409c-9bb2-4938af129016",
   "metadata": {},
   "outputs": [
    {
     "data": {
      "text/plain": [
       "count    2216.000000\n",
       "mean       45.179603\n",
       "std        11.985554\n",
       "min        18.000000\n",
       "25%        37.000000\n",
       "50%        44.000000\n",
       "75%        55.000000\n",
       "max       121.000000\n",
       "Name: customer_age, dtype: float64"
      ]
     },
     "execution_count": 32,
     "metadata": {},
     "output_type": "execute_result"
    }
   ],
   "source": [
    "data['customer_age'].describe()"
   ]
  },
  {
   "cell_type": "markdown",
   "id": "d1d92081-0524-43b2-8ea3-907ef1c13953",
   "metadata": {},
   "source": [
    "<h5>b. Total amount spent by each customer</h5>"
   ]
  },
  {
   "cell_type": "code",
   "execution_count": 33,
   "id": "451e14f0-4d98-4ce0-84b6-fc0151aaf2be",
   "metadata": {},
   "outputs": [
    {
     "data": {
      "text/plain": [
       "Index(['ID', 'Year_Birth', 'Education', 'Marital_Status', 'Income', 'Kidhome',\n",
       "       'Teenhome', 'Dt_Customer', 'Recency', 'MntWines', 'MntFruits',\n",
       "       'MntMeatProducts', 'MntFishProducts', 'MntSweetProducts',\n",
       "       'MntGoldProds', 'NumDealsPurchases', 'NumWebPurchases',\n",
       "       'NumCatalogPurchases', 'NumStorePurchases', 'NumWebVisitsMonth',\n",
       "       'AcceptedCmp3', 'AcceptedCmp4', 'AcceptedCmp5', 'AcceptedCmp1',\n",
       "       'AcceptedCmp2', 'Complain', 'Z_CostContact', 'Z_Revenue', 'Response',\n",
       "       'Customer_For', 'customer_age'],\n",
       "      dtype='object')"
      ]
     },
     "execution_count": 33,
     "metadata": {},
     "output_type": "execute_result"
    }
   ],
   "source": [
    "data.columns"
   ]
  }
 ],
 "metadata": {
  "kernelspec": {
   "display_name": "Python 3 (ipykernel)",
   "language": "python",
   "name": "python3"
  },
  "language_info": {
   "codemirror_mode": {
    "name": "ipython",
    "version": 3
   },
   "file_extension": ".py",
   "mimetype": "text/x-python",
   "name": "python",
   "nbconvert_exporter": "python",
   "pygments_lexer": "ipython3",
   "version": "3.11.8"
  }
 },
 "nbformat": 4,
 "nbformat_minor": 5
}

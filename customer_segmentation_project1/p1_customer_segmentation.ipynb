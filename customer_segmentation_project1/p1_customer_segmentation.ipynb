{
 "cells": [
  {
   "cell_type": "markdown",
   "id": "3ad46584-6517-4f74-b7e1-01b186defe73",
   "metadata": {},
   "source": [
    "<h2>Introduction</h2>\n",
    "(last update: March 3, 2025)"
   ]
  },
  {
   "cell_type": "markdown",
   "id": "520c1ae7-ef9d-4491-bb39-2c9626745121",
   "metadata": {},
   "source": [
    "<div>\n",
    "    This is first notebook in segmentation project series.<br>\n",
    "    Demonstrate different clustering algorithms.\n",
    "</div>"
   ]
  },
  {
   "cell_type": "code",
   "execution_count": 1,
   "id": "f2bf4c52-9cb1-4b68-a81a-06d10103d06e",
   "metadata": {},
   "outputs": [],
   "source": [
    "#from kaggle.api.kaggle_api_extended import KaggleApi\n",
    "import pandas as pd\n",
    "import numpy as np\n",
    "import matplotlib.pyplot as plt\n",
    "from matplotlib import colors\n",
    "import seaborn as sns\n",
    "import datetime"
   ]
  },
  {
   "cell_type": "code",
   "execution_count": 2,
   "id": "5b14d552-29e7-485a-a26b-581b6b6604a5",
   "metadata": {},
   "outputs": [],
   "source": [
    "from sklearn.preprocessing import LabelEncoder\n",
    "from sklearn.preprocessing import StandardScaler\n",
    "from sklearn.decomposition import PCA\n",
    "from sklearn.cluster import KMeans"
   ]
  },
  {
   "cell_type": "markdown",
   "id": "21b28128-a486-4f69-be71-00826888925e",
   "metadata": {},
   "source": [
    "<div>\n",
    "    <h5>Download dataset (first time access)</h5>\n",
    "    <p>Comment out all lines for kaggle-dataset download, when running notebook next time.</p>\n",
    "</div>"
   ]
  },
  {
   "cell_type": "code",
   "execution_count": 3,
   "id": "89f4b138-7bab-4deb-9d5f-5419f1658c6a",
   "metadata": {},
   "outputs": [],
   "source": [
    "# create instance of KaggleApi\n",
    "#api = KaggleApi()\n",
    "# authentication with api-key\n",
    "#api.authenticate()\n",
    "# download the dataset\n",
    "#api.dataset_download_files('imakash3011/customer-personality-analysis', path='./data/', unzip=True)"
   ]
  },
  {
   "cell_type": "code",
   "execution_count": 4,
   "id": "d4985ed4-5035-4b55-8430-2f4db8d33080",
   "metadata": {},
   "outputs": [],
   "source": [
    "#read the tab-separated file\n",
    "data = pd.read_csv('data/marketing_campaign.csv', sep=\"\\t\")"
   ]
  },
  {
   "cell_type": "code",
   "execution_count": 5,
   "id": "ae9a3ae0-5c2d-4538-b323-b7b03c84db2f",
   "metadata": {},
   "outputs": [
    {
     "data": {
      "text/html": [
       "<div>\n",
       "<style scoped>\n",
       "    .dataframe tbody tr th:only-of-type {\n",
       "        vertical-align: middle;\n",
       "    }\n",
       "\n",
       "    .dataframe tbody tr th {\n",
       "        vertical-align: top;\n",
       "    }\n",
       "\n",
       "    .dataframe thead th {\n",
       "        text-align: right;\n",
       "    }\n",
       "</style>\n",
       "<table border=\"1\" class=\"dataframe\">\n",
       "  <thead>\n",
       "    <tr style=\"text-align: right;\">\n",
       "      <th></th>\n",
       "      <th>ID</th>\n",
       "      <th>Year_Birth</th>\n",
       "      <th>Education</th>\n",
       "      <th>Marital_Status</th>\n",
       "      <th>Income</th>\n",
       "      <th>Kidhome</th>\n",
       "      <th>Teenhome</th>\n",
       "      <th>Dt_Customer</th>\n",
       "      <th>Recency</th>\n",
       "      <th>MntWines</th>\n",
       "      <th>...</th>\n",
       "      <th>NumWebVisitsMonth</th>\n",
       "      <th>AcceptedCmp3</th>\n",
       "      <th>AcceptedCmp4</th>\n",
       "      <th>AcceptedCmp5</th>\n",
       "      <th>AcceptedCmp1</th>\n",
       "      <th>AcceptedCmp2</th>\n",
       "      <th>Complain</th>\n",
       "      <th>Z_CostContact</th>\n",
       "      <th>Z_Revenue</th>\n",
       "      <th>Response</th>\n",
       "    </tr>\n",
       "  </thead>\n",
       "  <tbody>\n",
       "    <tr>\n",
       "      <th>0</th>\n",
       "      <td>5524</td>\n",
       "      <td>1957</td>\n",
       "      <td>Graduation</td>\n",
       "      <td>Single</td>\n",
       "      <td>58138.0</td>\n",
       "      <td>0</td>\n",
       "      <td>0</td>\n",
       "      <td>04-09-2012</td>\n",
       "      <td>58</td>\n",
       "      <td>635</td>\n",
       "      <td>...</td>\n",
       "      <td>7</td>\n",
       "      <td>0</td>\n",
       "      <td>0</td>\n",
       "      <td>0</td>\n",
       "      <td>0</td>\n",
       "      <td>0</td>\n",
       "      <td>0</td>\n",
       "      <td>3</td>\n",
       "      <td>11</td>\n",
       "      <td>1</td>\n",
       "    </tr>\n",
       "    <tr>\n",
       "      <th>1</th>\n",
       "      <td>2174</td>\n",
       "      <td>1954</td>\n",
       "      <td>Graduation</td>\n",
       "      <td>Single</td>\n",
       "      <td>46344.0</td>\n",
       "      <td>1</td>\n",
       "      <td>1</td>\n",
       "      <td>08-03-2014</td>\n",
       "      <td>38</td>\n",
       "      <td>11</td>\n",
       "      <td>...</td>\n",
       "      <td>5</td>\n",
       "      <td>0</td>\n",
       "      <td>0</td>\n",
       "      <td>0</td>\n",
       "      <td>0</td>\n",
       "      <td>0</td>\n",
       "      <td>0</td>\n",
       "      <td>3</td>\n",
       "      <td>11</td>\n",
       "      <td>0</td>\n",
       "    </tr>\n",
       "    <tr>\n",
       "      <th>2</th>\n",
       "      <td>4141</td>\n",
       "      <td>1965</td>\n",
       "      <td>Graduation</td>\n",
       "      <td>Together</td>\n",
       "      <td>71613.0</td>\n",
       "      <td>0</td>\n",
       "      <td>0</td>\n",
       "      <td>21-08-2013</td>\n",
       "      <td>26</td>\n",
       "      <td>426</td>\n",
       "      <td>...</td>\n",
       "      <td>4</td>\n",
       "      <td>0</td>\n",
       "      <td>0</td>\n",
       "      <td>0</td>\n",
       "      <td>0</td>\n",
       "      <td>0</td>\n",
       "      <td>0</td>\n",
       "      <td>3</td>\n",
       "      <td>11</td>\n",
       "      <td>0</td>\n",
       "    </tr>\n",
       "    <tr>\n",
       "      <th>3</th>\n",
       "      <td>6182</td>\n",
       "      <td>1984</td>\n",
       "      <td>Graduation</td>\n",
       "      <td>Together</td>\n",
       "      <td>26646.0</td>\n",
       "      <td>1</td>\n",
       "      <td>0</td>\n",
       "      <td>10-02-2014</td>\n",
       "      <td>26</td>\n",
       "      <td>11</td>\n",
       "      <td>...</td>\n",
       "      <td>6</td>\n",
       "      <td>0</td>\n",
       "      <td>0</td>\n",
       "      <td>0</td>\n",
       "      <td>0</td>\n",
       "      <td>0</td>\n",
       "      <td>0</td>\n",
       "      <td>3</td>\n",
       "      <td>11</td>\n",
       "      <td>0</td>\n",
       "    </tr>\n",
       "    <tr>\n",
       "      <th>4</th>\n",
       "      <td>5324</td>\n",
       "      <td>1981</td>\n",
       "      <td>PhD</td>\n",
       "      <td>Married</td>\n",
       "      <td>58293.0</td>\n",
       "      <td>1</td>\n",
       "      <td>0</td>\n",
       "      <td>19-01-2014</td>\n",
       "      <td>94</td>\n",
       "      <td>173</td>\n",
       "      <td>...</td>\n",
       "      <td>5</td>\n",
       "      <td>0</td>\n",
       "      <td>0</td>\n",
       "      <td>0</td>\n",
       "      <td>0</td>\n",
       "      <td>0</td>\n",
       "      <td>0</td>\n",
       "      <td>3</td>\n",
       "      <td>11</td>\n",
       "      <td>0</td>\n",
       "    </tr>\n",
       "  </tbody>\n",
       "</table>\n",
       "<p>5 rows × 29 columns</p>\n",
       "</div>"
      ],
      "text/plain": [
       "     ID  Year_Birth   Education Marital_Status   Income  Kidhome  Teenhome  \\\n",
       "0  5524        1957  Graduation         Single  58138.0        0         0   \n",
       "1  2174        1954  Graduation         Single  46344.0        1         1   \n",
       "2  4141        1965  Graduation       Together  71613.0        0         0   \n",
       "3  6182        1984  Graduation       Together  26646.0        1         0   \n",
       "4  5324        1981         PhD        Married  58293.0        1         0   \n",
       "\n",
       "  Dt_Customer  Recency  MntWines  ...  NumWebVisitsMonth  AcceptedCmp3  \\\n",
       "0  04-09-2012       58       635  ...                  7             0   \n",
       "1  08-03-2014       38        11  ...                  5             0   \n",
       "2  21-08-2013       26       426  ...                  4             0   \n",
       "3  10-02-2014       26        11  ...                  6             0   \n",
       "4  19-01-2014       94       173  ...                  5             0   \n",
       "\n",
       "   AcceptedCmp4  AcceptedCmp5  AcceptedCmp1  AcceptedCmp2  Complain  \\\n",
       "0             0             0             0             0         0   \n",
       "1             0             0             0             0         0   \n",
       "2             0             0             0             0         0   \n",
       "3             0             0             0             0         0   \n",
       "4             0             0             0             0         0   \n",
       "\n",
       "   Z_CostContact  Z_Revenue  Response  \n",
       "0              3         11         1  \n",
       "1              3         11         0  \n",
       "2              3         11         0  \n",
       "3              3         11         0  \n",
       "4              3         11         0  \n",
       "\n",
       "[5 rows x 29 columns]"
      ]
     },
     "execution_count": 5,
     "metadata": {},
     "output_type": "execute_result"
    }
   ],
   "source": [
    "data.head(5)"
   ]
  },
  {
   "cell_type": "code",
   "execution_count": 6,
   "id": "4c487d34-3b42-4d03-99cc-ecdd4658b3f5",
   "metadata": {},
   "outputs": [
    {
     "name": "stdout",
     "output_type": "stream",
     "text": [
      "<class 'pandas.core.frame.DataFrame'>\n",
      "RangeIndex: 2240 entries, 0 to 2239\n",
      "Data columns (total 29 columns):\n",
      " #   Column               Non-Null Count  Dtype  \n",
      "---  ------               --------------  -----  \n",
      " 0   ID                   2240 non-null   int64  \n",
      " 1   Year_Birth           2240 non-null   int64  \n",
      " 2   Education            2240 non-null   object \n",
      " 3   Marital_Status       2240 non-null   object \n",
      " 4   Income               2216 non-null   float64\n",
      " 5   Kidhome              2240 non-null   int64  \n",
      " 6   Teenhome             2240 non-null   int64  \n",
      " 7   Dt_Customer          2240 non-null   object \n",
      " 8   Recency              2240 non-null   int64  \n",
      " 9   MntWines             2240 non-null   int64  \n",
      " 10  MntFruits            2240 non-null   int64  \n",
      " 11  MntMeatProducts      2240 non-null   int64  \n",
      " 12  MntFishProducts      2240 non-null   int64  \n",
      " 13  MntSweetProducts     2240 non-null   int64  \n",
      " 14  MntGoldProds         2240 non-null   int64  \n",
      " 15  NumDealsPurchases    2240 non-null   int64  \n",
      " 16  NumWebPurchases      2240 non-null   int64  \n",
      " 17  NumCatalogPurchases  2240 non-null   int64  \n",
      " 18  NumStorePurchases    2240 non-null   int64  \n",
      " 19  NumWebVisitsMonth    2240 non-null   int64  \n",
      " 20  AcceptedCmp3         2240 non-null   int64  \n",
      " 21  AcceptedCmp4         2240 non-null   int64  \n",
      " 22  AcceptedCmp5         2240 non-null   int64  \n",
      " 23  AcceptedCmp1         2240 non-null   int64  \n",
      " 24  AcceptedCmp2         2240 non-null   int64  \n",
      " 25  Complain             2240 non-null   int64  \n",
      " 26  Z_CostContact        2240 non-null   int64  \n",
      " 27  Z_Revenue            2240 non-null   int64  \n",
      " 28  Response             2240 non-null   int64  \n",
      "dtypes: float64(1), int64(25), object(3)\n",
      "memory usage: 507.6+ KB\n"
     ]
    }
   ],
   "source": [
    "#basic info\n",
    "data.info()"
   ]
  },
  {
   "cell_type": "code",
   "execution_count": 7,
   "id": "1634ed21-2e7c-4711-affb-d01753511d12",
   "metadata": {},
   "outputs": [
    {
     "data": {
      "text/plain": [
       "['Education', 'Marital_Status', 'Dt_Customer']"
      ]
     },
     "execution_count": 7,
     "metadata": {},
     "output_type": "execute_result"
    }
   ],
   "source": [
    "#list of all categorical column-names\n",
    "categorical_colnames = data.select_dtypes(include=['object']).columns.tolist()\n",
    "categorical_colnames"
   ]
  },
  {
   "cell_type": "code",
   "execution_count": 8,
   "id": "72c266f3-3739-489b-91be-ab1699884271",
   "metadata": {},
   "outputs": [],
   "source": [
    "#remove \"dt_customer\" from the list- those are dates when customers joined\n",
    "#inplace removal\n",
    "categorical_colnames.remove('Dt_Customer')"
   ]
  },
  {
   "cell_type": "code",
   "execution_count": 9,
   "id": "fe9362f8-94fc-4f74-ab6d-91cd72cee0c0",
   "metadata": {},
   "outputs": [
    {
     "name": "stdout",
     "output_type": "stream",
     "text": [
      "Education\n",
      "Graduation    1127\n",
      "PhD            486\n",
      "Master         370\n",
      "2n Cycle       203\n",
      "Basic           54\n",
      "Name: count, dtype: int64\n",
      "\n",
      "Marital_Status\n",
      "Married     864\n",
      "Together    580\n",
      "Single      480\n",
      "Divorced    232\n",
      "Widow        77\n",
      "Alone         3\n",
      "Absurd        2\n",
      "YOLO          2\n",
      "Name: count, dtype: int64\n",
      "\n"
     ]
    }
   ],
   "source": [
    "#find all unique values in each column\n",
    "for colname in categorical_colnames:\n",
    "    print(f\"{data[colname].value_counts()}\")\n",
    "    print()"
   ]
  },
  {
   "cell_type": "code",
   "execution_count": 10,
   "id": "6e6579ca-06d5-4c06-8add-3c5bbfcfec44",
   "metadata": {},
   "outputs": [],
   "source": [
    "#Numerical columns with important data\n",
    "num_columns = ['Income', 'Kidhome', 'Teenhome','Recency','MntWines','MntFruits','MntMeatProducts', 'MntFishProducts',\n",
    "              'MntSweetProducts','MntGoldProds', 'NumDealsPurchases', 'NumWebPurchases','NumCatalogPurchases','NumStorePurchases',\n",
    "              'NumWebVisitsMonth']"
   ]
  },
  {
   "cell_type": "code",
   "execution_count": 11,
   "id": "a32627dd-2f7f-4109-9b7f-808bee9d8605",
   "metadata": {},
   "outputs": [],
   "source": [
    "#stat-description of these columns\n",
    "#data[num_columns].describe().drop([\"count\", \"25%\", \"75%\"])"
   ]
  },
  {
   "cell_type": "markdown",
   "id": "6c296ec1-5123-40f0-9039-8f09cf02c873",
   "metadata": {},
   "source": [
    "### 2. Data Cleaning:\n",
    "\n",
    "1. Missing values- Income column has missing values; those handful of rows will be dropped.\n",
    "2. Incorrect data- Dates are in string format; will be converted to date-time format.\n",
    "3. Categorical features- they will be encoded in numerical form."
   ]
  },
  {
   "cell_type": "markdown",
   "id": "0772363f-e112-48ca-9f06-7506e46eebc5",
   "metadata": {},
   "source": [
    "#### 2.1 Missing values"
   ]
  },
  {
   "cell_type": "code",
   "execution_count": 12,
   "id": "65c1c270-a962-4980-9966-abdea55249e8",
   "metadata": {},
   "outputs": [],
   "source": [
    "#remove missing values\n",
    "data = data.dropna()"
   ]
  },
  {
   "cell_type": "code",
   "execution_count": 13,
   "id": "43d1f19f-5e74-427e-8ce4-0a6f0ae5e0fb",
   "metadata": {},
   "outputs": [
    {
     "name": "stdout",
     "output_type": "stream",
     "text": [
      "total rows in dataframe now: 2216\n"
     ]
    }
   ],
   "source": [
    "#check total number of observations left\n",
    "print(f\"total rows in dataframe now: {len(data)}\")"
   ]
  },
  {
   "cell_type": "markdown",
   "id": "7f024bfb-562d-427c-bf3f-dbea56c3ab5e",
   "metadata": {},
   "source": [
    "#### 2.2 Date of Joining column"
   ]
  },
  {
   "cell_type": "code",
   "execution_count": 14,
   "id": "a11e017f-72de-4b9e-ade5-8a6e172e59f4",
   "metadata": {},
   "outputs": [
    {
     "data": {
      "text/plain": [
       "str"
      ]
     },
     "execution_count": 14,
     "metadata": {},
     "output_type": "execute_result"
    }
   ],
   "source": [
    "#check type\n",
    "type(data.Dt_Customer[1])"
   ]
  },
  {
   "cell_type": "code",
   "execution_count": 15,
   "id": "9205d6d6-b930-4d51-b123-a288bdef5af2",
   "metadata": {},
   "outputs": [],
   "source": [
    "#convert the column to date-time\n",
    "data['Dt_Customer'] = pd.to_datetime(data['Dt_Customer'], format='%d-%m-%Y')"
   ]
  },
  {
   "cell_type": "code",
   "execution_count": 16,
   "id": "f0625259-947a-44ec-a1cf-f54a256ce864",
   "metadata": {},
   "outputs": [
    {
     "data": {
      "text/plain": [
       "count                             2216\n",
       "mean     2013-07-10 11:29:27.509025280\n",
       "min                2012-07-30 00:00:00\n",
       "25%                2013-01-16 00:00:00\n",
       "50%                2013-07-08 12:00:00\n",
       "75%                2013-12-31 00:00:00\n",
       "max                2014-06-29 00:00:00\n",
       "Name: Dt_Customer, dtype: object"
      ]
     },
     "execution_count": 16,
     "metadata": {},
     "output_type": "execute_result"
    }
   ],
   "source": [
    "data['Dt_Customer'].describe()"
   ]
  },
  {
   "cell_type": "code",
   "execution_count": 17,
   "id": "82c8a5be-3356-4f7c-b589-d79a7f09e0ee",
   "metadata": {},
   "outputs": [],
   "source": [
    "dates = []"
   ]
  },
  {
   "cell_type": "code",
   "execution_count": 18,
   "id": "87b037b5-ca6a-42b7-9a87-60411adcb809",
   "metadata": {},
   "outputs": [
    {
     "name": "stdout",
     "output_type": "stream",
     "text": [
      "Newest date of customer enrollment: 2014-06-29\n",
      "Oldest date of customer enrollment: 2012-07-30\n"
     ]
    }
   ],
   "source": [
    "for i in data['Dt_Customer']:\n",
    "    #extract only the date part from date-time format of column\n",
    "    i = i.date()\n",
    "    dates.append(i)\n",
    "#Earliest and most recent date in the dataset\n",
    "print(\"Newest date of customer enrollment:\", max(dates))\n",
    "print(\"Oldest date of customer enrollment:\", min(dates))"
   ]
  },
  {
   "cell_type": "markdown",
   "id": "3bbb2794-919f-4260-80db-00cb88c26e29",
   "metadata": {},
   "source": [
    "Now, I'll create a new feature <b>\"Customer_For\"</b> out of this <b>\"Dt_Customer\"</b>, which contains num. of days a customer has been shopping at this store (with respect to the most recent date in the dataset)."
   ]
  },
  {
   "cell_type": "code",
   "execution_count": 19,
   "id": "2f23d574-f0fa-448e-9766-5014715122cb",
   "metadata": {},
   "outputs": [],
   "source": [
    "#most recent date in database\n",
    "recent_date = max(dates)"
   ]
  },
  {
   "cell_type": "code",
   "execution_count": 20,
   "id": "978ac08b-651b-4ef4-8462-ec82999936ef",
   "metadata": {},
   "outputs": [
    {
     "name": "stdout",
     "output_type": "stream",
     "text": [
      "Number of days is of type datetime right now:  [datetime.timedelta(days=663), datetime.timedelta(days=113)]\n"
     ]
    }
   ],
   "source": [
    "#Creating \"Customer_for\" features\n",
    "#customer-for-xxx-number-of-days\n",
    "\n",
    "#list to store number of days for each customer\n",
    "days = []\n",
    "for i in dates:\n",
    "    #this wont give a date, but a timedelta object.\n",
    "    num_of_days = recent_date - i\n",
    "    #add this to the days-list\n",
    "    days.append(num_of_days)\n",
    "\n",
    "#demo of what the days list values type\n",
    "print(\"Number of days is of type datetime right now: \", days[0:2])"
   ]
  },
  {
   "cell_type": "code",
   "execution_count": 21,
   "id": "c283e7a0-226a-44dc-a007-c7529ff5494c",
   "metadata": {},
   "outputs": [],
   "source": [
    "#Add this list days-count to the dataframe\n",
    "data['Customer_For'] = days\n",
    "#values are time-delta objects, extract days out from them\n",
    "data['Customer_For'] = data['Customer_For'].dt.days\n",
    "#Convert to numeric type\n",
    "data['Customer_For'] = pd.to_numeric(data['Customer_For'])"
   ]
  },
  {
   "cell_type": "code",
   "execution_count": 22,
   "id": "48c588f2-0fe8-42cc-992b-8e998bb51656",
   "metadata": {},
   "outputs": [
    {
     "data": {
      "text/html": [
       "<div>\n",
       "<style scoped>\n",
       "    .dataframe tbody tr th:only-of-type {\n",
       "        vertical-align: middle;\n",
       "    }\n",
       "\n",
       "    .dataframe tbody tr th {\n",
       "        vertical-align: top;\n",
       "    }\n",
       "\n",
       "    .dataframe thead th {\n",
       "        text-align: right;\n",
       "    }\n",
       "</style>\n",
       "<table border=\"1\" class=\"dataframe\">\n",
       "  <thead>\n",
       "    <tr style=\"text-align: right;\">\n",
       "      <th></th>\n",
       "      <th>ID</th>\n",
       "      <th>Dt_Customer</th>\n",
       "      <th>Customer_For</th>\n",
       "    </tr>\n",
       "  </thead>\n",
       "  <tbody>\n",
       "    <tr>\n",
       "      <th>0</th>\n",
       "      <td>5524</td>\n",
       "      <td>2012-09-04</td>\n",
       "      <td>663</td>\n",
       "    </tr>\n",
       "    <tr>\n",
       "      <th>1</th>\n",
       "      <td>2174</td>\n",
       "      <td>2014-03-08</td>\n",
       "      <td>113</td>\n",
       "    </tr>\n",
       "    <tr>\n",
       "      <th>2</th>\n",
       "      <td>4141</td>\n",
       "      <td>2013-08-21</td>\n",
       "      <td>312</td>\n",
       "    </tr>\n",
       "  </tbody>\n",
       "</table>\n",
       "</div>"
      ],
      "text/plain": [
       "     ID Dt_Customer  Customer_For\n",
       "0  5524  2012-09-04           663\n",
       "1  2174  2014-03-08           113\n",
       "2  4141  2013-08-21           312"
      ]
     },
     "execution_count": 22,
     "metadata": {},
     "output_type": "execute_result"
    }
   ],
   "source": [
    "data[['ID', 'Dt_Customer', 'Customer_For']].head(3)"
   ]
  },
  {
   "cell_type": "markdown",
   "id": "32c6190c-65a9-443f-8ac8-a4916bf1623c",
   "metadata": {},
   "source": [
    "#### 2.3 Create New Features"
   ]
  },
  {
   "cell_type": "markdown",
   "id": "969ad8ab-9c93-410e-8d70-c143759bc70d",
   "metadata": {},
   "source": [
    "##### A. Age of customers"
   ]
  },
  {
   "cell_type": "code",
   "execution_count": 23,
   "id": "7a78257b-e8c0-4338-bfc8-9e3eb0ec3c25",
   "metadata": {},
   "outputs": [
    {
     "data": {
      "text/plain": [
       "int"
      ]
     },
     "execution_count": 23,
     "metadata": {},
     "output_type": "execute_result"
    }
   ],
   "source": [
    "type(recent_date.year)"
   ]
  },
  {
   "cell_type": "code",
   "execution_count": 24,
   "id": "9e2e1e8c-48f6-4ac2-b1da-cfcf0648eb4f",
   "metadata": {},
   "outputs": [],
   "source": [
    "#age will be calculated from 2014, the most recent date in dataset\n",
    "age = []\n",
    "recent_year = recent_date.year\n",
    "for i in data['Year_Birth']:\n",
    "    customer_age = recent_year - i\n",
    "    age.append(customer_age)"
   ]
  },
  {
   "cell_type": "code",
   "execution_count": 25,
   "id": "03945ab8-ffe5-4061-9343-524e06d9157a",
   "metadata": {},
   "outputs": [
    {
     "name": "stdout",
     "output_type": "stream",
     "text": [
      "maximum age 121\n",
      "minimum age 18\n"
     ]
    }
   ],
   "source": [
    "#add this list to dataframe\n",
    "data['customer_age'] = age\n",
    "print(\"maximum age\", max(data.customer_age))\n",
    "print(\"minimum age\", min(data.customer_age))"
   ]
  },
  {
   "cell_type": "markdown",
   "id": "c5566f8d-2342-48ad-9971-cd1d32d91c10",
   "metadata": {},
   "source": [
    "Maximum age of 121 seems bizarre.  \n",
    "Let's have a look at the age-distribution of all customers.  \n",
    "These discrepancies will be corrected in upcoming sections."
   ]
  },
  {
   "cell_type": "code",
   "execution_count": 26,
   "id": "5dd3a365-f4e2-409c-9bb2-4938af129016",
   "metadata": {},
   "outputs": [
    {
     "data": {
      "text/plain": [
       "count    2216.000000\n",
       "mean       45.179603\n",
       "std        11.985554\n",
       "min        18.000000\n",
       "25%        37.000000\n",
       "50%        44.000000\n",
       "75%        55.000000\n",
       "max       121.000000\n",
       "Name: customer_age, dtype: float64"
      ]
     },
     "execution_count": 26,
     "metadata": {},
     "output_type": "execute_result"
    }
   ],
   "source": [
    "data['customer_age'].describe()"
   ]
  },
  {
   "cell_type": "markdown",
   "id": "daeecf38-c6a3-4faf-884d-14ce02f526ca",
   "metadata": {},
   "source": [
    "99% of customers in this dataset are below the age of 69.  \n",
    "There, definitely are some outliers in the dataset."
   ]
  },
  {
   "cell_type": "code",
   "execution_count": 27,
   "id": "4bafe8e0-e336-44e0-9996-44648632bbbb",
   "metadata": {},
   "outputs": [
    {
     "data": {
      "text/plain": [
       "np.float64(69.0)"
      ]
     },
     "execution_count": 27,
     "metadata": {},
     "output_type": "execute_result"
    }
   ],
   "source": [
    "#finding out the 95th percentile of age\n",
    "data['customer_age'].quantile(0.99)"
   ]
  },
  {
   "cell_type": "markdown",
   "id": "d1d92081-0524-43b2-8ea3-907ef1c13953",
   "metadata": {},
   "source": [
    "<h5>b. Total amount spent by each customer in 2 years</h5>"
   ]
  },
  {
   "cell_type": "code",
   "execution_count": 28,
   "id": "9c32108e-e6e8-424a-81ac-58c3041be00a",
   "metadata": {},
   "outputs": [
    {
     "data": {
      "text/plain": [
       "Index(['MntWines', 'MntFruits', 'MntMeatProducts', 'MntFishProducts',\n",
       "       'MntSweetProducts', 'MntGoldProds'],\n",
       "      dtype='object')"
      ]
     },
     "execution_count": 28,
     "metadata": {},
     "output_type": "execute_result"
    }
   ],
   "source": [
    "#see names of all columns starting with \"Mnt\"\n",
    "data.columns[data.columns.str.startswith('Mnt')]"
   ]
  },
  {
   "cell_type": "code",
   "execution_count": 29,
   "id": "451e14f0-4d98-4ce0-84b6-fc0151aaf2be",
   "metadata": {},
   "outputs": [],
   "source": [
    "#add values of all column starting with \"Mnt\"\n",
    "data['total_spent'] = data.loc[:, data.columns.str.startswith('Mnt')].sum(axis=1)"
   ]
  },
  {
   "cell_type": "code",
   "execution_count": 30,
   "id": "d390c132-59a1-440c-8664-9a62d2f8e653",
   "metadata": {},
   "outputs": [
    {
     "data": {
      "text/plain": [
       "count    2216.000000\n",
       "mean      607.075361\n",
       "std       602.900476\n",
       "min         5.000000\n",
       "25%        69.000000\n",
       "50%       396.500000\n",
       "75%      1048.000000\n",
       "max      2525.000000\n",
       "Name: total_spent, dtype: float64"
      ]
     },
     "execution_count": 30,
     "metadata": {},
     "output_type": "execute_result"
    }
   ],
   "source": [
    "data['total_spent'].describe()"
   ]
  },
  {
   "cell_type": "markdown",
   "id": "93e2dfb7-7ec3-42ea-ad6a-14f7a3330234",
   "metadata": {},
   "source": [
    "<h5>c. Living situation from marital status of customer</h5>"
   ]
  },
  {
   "cell_type": "code",
   "execution_count": 31,
   "id": "00c52859-4fe6-439a-867d-5d083c823ec1",
   "metadata": {},
   "outputs": [
    {
     "data": {
      "text/plain": [
       "Marital_Status\n",
       "Married     857\n",
       "Together    573\n",
       "Single      471\n",
       "Divorced    232\n",
       "Widow        76\n",
       "Alone         3\n",
       "Absurd        2\n",
       "YOLO          2\n",
       "Name: count, dtype: int64"
      ]
     },
     "execution_count": 31,
     "metadata": {},
     "output_type": "execute_result"
    }
   ],
   "source": [
    "#all unique values in the marital status column\n",
    "data['Marital_Status'].value_counts()"
   ]
  },
  {
   "cell_type": "markdown",
   "id": "056a5961-ef06-483b-87cf-8cf8f0d0b520",
   "metadata": {},
   "source": [
    "\"Married\" and \"Together\" values will be replaced with \"Partner\".  \n",
    "All other values will be replaced with \"Alone\".  \n",
    "This is being done to simplify the living-status of customer."
   ]
  },
  {
   "cell_type": "code",
   "execution_count": 32,
   "id": "059deac7-1aed-4f44-b970-8685a1989844",
   "metadata": {},
   "outputs": [],
   "source": [
    "data['living_with'] = data['Marital_Status'].replace({'Married':'Partner', \n",
    "                                                         'Together':'Partner',\n",
    "                                                        'Single':'Alone',\n",
    "                                                        'Divorced':'Alone',\n",
    "                                                        'Widow':'Alone',\n",
    "                                                        'Absurd':'Alone',\n",
    "                                                        'YOLO':'Alone'}\n",
    "                                                       )"
   ]
  },
  {
   "cell_type": "code",
   "execution_count": 33,
   "id": "3292b018-49f9-43c6-bc3e-d2dff8250b8f",
   "metadata": {},
   "outputs": [
    {
     "data": {
      "text/plain": [
       "living_with\n",
       "Partner    1430\n",
       "Alone       786\n",
       "Name: count, dtype: int64"
      ]
     },
     "execution_count": 33,
     "metadata": {},
     "output_type": "execute_result"
    }
   ],
   "source": [
    "data['living_with'].value_counts()"
   ]
  },
  {
   "cell_type": "markdown",
   "id": "ff299184-546e-4950-b747-1d90f9a4e9d7",
   "metadata": {},
   "source": [
    "<h5>d. Total children in house</h5>"
   ]
  },
  {
   "cell_type": "code",
   "execution_count": 34,
   "id": "5582eb9a-51ae-4df8-b8aa-dd0505ea62e3",
   "metadata": {},
   "outputs": [],
   "source": [
    "data['children'] = data['Kidhome'] + data['Teenhome']"
   ]
  },
  {
   "cell_type": "code",
   "execution_count": 35,
   "id": "29519297-3bd0-4c34-98e7-f7970477b355",
   "metadata": {},
   "outputs": [
    {
     "data": {
      "text/plain": [
       "children\n",
       "1    1117\n",
       "0     633\n",
       "2     416\n",
       "3      50\n",
       "Name: count, dtype: int64"
      ]
     },
     "execution_count": 35,
     "metadata": {},
     "output_type": "execute_result"
    }
   ],
   "source": [
    "data['children'].value_counts()"
   ]
  },
  {
   "cell_type": "markdown",
   "id": "0d73a456-0f56-40f1-838e-9cbe5c2c0a03",
   "metadata": {},
   "source": [
    "<h5>e. Total members in family</h5>"
   ]
  },
  {
   "cell_type": "code",
   "execution_count": 36,
   "id": "5cb12237-0e9e-4477-a352-b3940bd84bca",
   "metadata": {},
   "outputs": [
    {
     "name": "stderr",
     "output_type": "stream",
     "text": [
      "C:\\Users\\shefa\\AppData\\Local\\Temp\\ipykernel_9908\\2449182206.py:1: FutureWarning: Downcasting behavior in `replace` is deprecated and will be removed in a future version. To retain the old behavior, explicitly call `result.infer_objects(copy=False)`. To opt-in to the future behavior, set `pd.set_option('future.no_silent_downcasting', True)`\n",
      "  data['family_size'] = data['living_with'].replace({'Partner':2, 'Alone':1}).infer_objects(copy=False) + data['children']\n"
     ]
    }
   ],
   "source": [
    "data['family_size'] = data['living_with'].replace({'Partner':2, 'Alone':1}).infer_objects(copy=False) + data['children']"
   ]
  },
  {
   "cell_type": "code",
   "execution_count": 37,
   "id": "4a779089-cfb4-46c2-9d9e-aec07e0ec128",
   "metadata": {},
   "outputs": [
    {
     "data": {
      "text/plain": [
       "family_size\n",
       "3    880\n",
       "2    757\n",
       "4    296\n",
       "1    252\n",
       "5     31\n",
       "Name: count, dtype: int64"
      ]
     },
     "execution_count": 37,
     "metadata": {},
     "output_type": "execute_result"
    }
   ],
   "source": [
    "data['family_size'].value_counts()"
   ]
  },
  {
   "cell_type": "markdown",
   "id": "0f43cdd5-7944-481b-8309-069b2fa54dc6",
   "metadata": {},
   "source": [
    "<h5>f. Feature indicating parenthoood</h5>"
   ]
  },
  {
   "cell_type": "code",
   "execution_count": 38,
   "id": "f2499712-66e6-44f6-8dae-377666984dbf",
   "metadata": {},
   "outputs": [],
   "source": [
    "#1 for parenthood, 0 for none\n",
    "data['parenthood'] = (data['children'] > 0).astype(int)"
   ]
  },
  {
   "cell_type": "code",
   "execution_count": 39,
   "id": "34cbdd59-0b4c-4962-a453-6c69bd75672b",
   "metadata": {},
   "outputs": [
    {
     "data": {
      "text/html": [
       "<div>\n",
       "<style scoped>\n",
       "    .dataframe tbody tr th:only-of-type {\n",
       "        vertical-align: middle;\n",
       "    }\n",
       "\n",
       "    .dataframe tbody tr th {\n",
       "        vertical-align: top;\n",
       "    }\n",
       "\n",
       "    .dataframe thead th {\n",
       "        text-align: right;\n",
       "    }\n",
       "</style>\n",
       "<table border=\"1\" class=\"dataframe\">\n",
       "  <thead>\n",
       "    <tr style=\"text-align: right;\">\n",
       "      <th></th>\n",
       "      <th>children</th>\n",
       "      <th>parenthood</th>\n",
       "    </tr>\n",
       "  </thead>\n",
       "  <tbody>\n",
       "    <tr>\n",
       "      <th>0</th>\n",
       "      <td>0</td>\n",
       "      <td>0</td>\n",
       "    </tr>\n",
       "    <tr>\n",
       "      <th>1</th>\n",
       "      <td>2</td>\n",
       "      <td>1</td>\n",
       "    </tr>\n",
       "    <tr>\n",
       "      <th>2</th>\n",
       "      <td>0</td>\n",
       "      <td>0</td>\n",
       "    </tr>\n",
       "    <tr>\n",
       "      <th>3</th>\n",
       "      <td>1</td>\n",
       "      <td>1</td>\n",
       "    </tr>\n",
       "  </tbody>\n",
       "</table>\n",
       "</div>"
      ],
      "text/plain": [
       "   children  parenthood\n",
       "0         0           0\n",
       "1         2           1\n",
       "2         0           0\n",
       "3         1           1"
      ]
     },
     "execution_count": 39,
     "metadata": {},
     "output_type": "execute_result"
    }
   ],
   "source": [
    "data[['children', 'parenthood']].head(4)"
   ]
  },
  {
   "cell_type": "markdown",
   "id": "69f3cc31-c4d2-4481-8978-dc4d8b8087da",
   "metadata": {},
   "source": [
    "<h5>g. Create only 3 categories for Education level</h5>"
   ]
  },
  {
   "cell_type": "code",
   "execution_count": 40,
   "id": "41801b53-478c-4c43-adc0-05f599bd7951",
   "metadata": {},
   "outputs": [
    {
     "data": {
      "text/plain": [
       "Education\n",
       "Graduation    1116\n",
       "PhD            481\n",
       "Master         365\n",
       "2n Cycle       200\n",
       "Basic           54\n",
       "Name: count, dtype: int64"
      ]
     },
     "execution_count": 40,
     "metadata": {},
     "output_type": "execute_result"
    }
   ],
   "source": [
    "data['Education'].value_counts()"
   ]
  },
  {
   "cell_type": "code",
   "execution_count": 41,
   "id": "88ae149a-f162-4fc8-b4ec-db4c208b73b3",
   "metadata": {},
   "outputs": [],
   "source": [
    "data['edu_level'] = data['Education'].replace({'Basic':'Undergraduate', \n",
    "                                              '2n Cycle': 'Undergraduate',\n",
    "                                              'Graduation':'Graduate',\n",
    "                                              'Master':'Postgraduate',\n",
    "                                              'PhD':'Postgraduate'})"
   ]
  },
  {
   "cell_type": "markdown",
   "id": "16daa2d0-7c2f-4751-a239-a13ac3cbd303",
   "metadata": {},
   "source": [
    "<h5>h. Rename some columns</h5>"
   ]
  },
  {
   "cell_type": "code",
   "execution_count": 42,
   "id": "6715b236-c2f4-4269-92bf-680cfb78e3e2",
   "metadata": {},
   "outputs": [
    {
     "data": {
      "text/plain": [
       "Index(['MntWines', 'MntFruits', 'MntMeatProducts', 'MntFishProducts',\n",
       "       'MntSweetProducts', 'MntGoldProds'],\n",
       "      dtype='object')"
      ]
     },
     "execution_count": 42,
     "metadata": {},
     "output_type": "execute_result"
    }
   ],
   "source": [
    "data.columns[data.columns.str.startswith('Mnt')]"
   ]
  },
  {
   "cell_type": "code",
   "execution_count": 43,
   "id": "fa409587-1140-4fd8-a512-c7e9749e2abf",
   "metadata": {},
   "outputs": [],
   "source": [
    "data = data.rename(columns={'MntWines':'Wine', 'MntFruits':'Fruits', 'MntMeatProducts':'Meat',\n",
    "                   'MntFishProducts':'Fish','MntSweetProducts':'Sweets', 'MntGoldProds':'Gold'})"
   ]
  },
  {
   "cell_type": "markdown",
   "id": "19f9d7a6-19e1-4789-8347-e21878ee876e",
   "metadata": {},
   "source": [
    "<h5>i. Drop redundant features</h5>"
   ]
  },
  {
   "cell_type": "code",
   "execution_count": 44,
   "id": "0cea1902-1f8c-4aa8-967e-d90d616c4687",
   "metadata": {},
   "outputs": [
    {
     "data": {
      "text/plain": [
       "Index(['ID', 'Year_Birth', 'Education', 'Marital_Status', 'Income', 'Kidhome',\n",
       "       'Teenhome', 'Dt_Customer', 'Recency', 'Wine', 'Fruits', 'Meat', 'Fish',\n",
       "       'Sweets', 'Gold', 'NumDealsPurchases', 'NumWebPurchases',\n",
       "       'NumCatalogPurchases', 'NumStorePurchases', 'NumWebVisitsMonth',\n",
       "       'AcceptedCmp3', 'AcceptedCmp4', 'AcceptedCmp5', 'AcceptedCmp1',\n",
       "       'AcceptedCmp2', 'Complain', 'Z_CostContact', 'Z_Revenue', 'Response',\n",
       "       'Customer_For', 'customer_age', 'total_spent', 'living_with',\n",
       "       'children', 'family_size', 'parenthood', 'edu_level'],\n",
       "      dtype='object')"
      ]
     },
     "execution_count": 44,
     "metadata": {},
     "output_type": "execute_result"
    }
   ],
   "source": [
    "data.columns"
   ]
  },
  {
   "cell_type": "code",
   "execution_count": 45,
   "id": "b03df2a8-cda6-4ce7-be25-a07d08b680e9",
   "metadata": {},
   "outputs": [],
   "source": [
    "cols_to_drop = ['Year_Birth', 'Marital_Status', 'Dt_Customer', 'Z_CostContact','Z_Revenue', 'ID', 'Education']\n",
    "#remove these columns from dataframe\n",
    "data = data.drop(cols_to_drop, axis=1)"
   ]
  },
  {
   "cell_type": "code",
   "execution_count": 46,
   "id": "377994cc-2089-4b82-a680-4475911fe945",
   "metadata": {},
   "outputs": [
    {
     "data": {
      "text/plain": [
       "Complain\n",
       "0    2195\n",
       "1      21\n",
       "Name: count, dtype: int64"
      ]
     },
     "execution_count": 46,
     "metadata": {},
     "output_type": "execute_result"
    }
   ],
   "source": [
    "data['Complain'].value_counts()"
   ]
  },
  {
   "cell_type": "markdown",
   "id": "6aafb39c-9d53-4765-b8d5-db49db6d4359",
   "metadata": {},
   "source": [
    "<h4>4. Visual Analysis of features</h4>"
   ]
  },
  {
   "cell_type": "code",
   "execution_count": 47,
   "id": "ce5a9c28-a854-4368-af51-5e632523583a",
   "metadata": {},
   "outputs": [],
   "source": [
    "numerical_cols = ['customer_age', 'Customer_For', 'Income','total_spent', 'Recency']"
   ]
  },
  {
   "cell_type": "code",
   "execution_count": 48,
   "id": "cec92cf1-8aef-4a01-8a9b-1c880b518141",
   "metadata": {},
   "outputs": [
    {
     "data": {
      "text/html": [
       "<div>\n",
       "<style scoped>\n",
       "    .dataframe tbody tr th:only-of-type {\n",
       "        vertical-align: middle;\n",
       "    }\n",
       "\n",
       "    .dataframe tbody tr th {\n",
       "        vertical-align: top;\n",
       "    }\n",
       "\n",
       "    .dataframe thead th {\n",
       "        text-align: right;\n",
       "    }\n",
       "</style>\n",
       "<table border=\"1\" class=\"dataframe\">\n",
       "  <thead>\n",
       "    <tr style=\"text-align: right;\">\n",
       "      <th></th>\n",
       "      <th>customer_age</th>\n",
       "      <th>Customer_For</th>\n",
       "      <th>Income</th>\n",
       "      <th>total_spent</th>\n",
       "      <th>Recency</th>\n",
       "    </tr>\n",
       "  </thead>\n",
       "  <tbody>\n",
       "    <tr>\n",
       "      <th>count</th>\n",
       "      <td>2216.000000</td>\n",
       "      <td>2216.000000</td>\n",
       "      <td>2216.000000</td>\n",
       "      <td>2216.000000</td>\n",
       "      <td>2216.000000</td>\n",
       "    </tr>\n",
       "    <tr>\n",
       "      <th>mean</th>\n",
       "      <td>45.179603</td>\n",
       "      <td>353.521209</td>\n",
       "      <td>52247.251354</td>\n",
       "      <td>607.075361</td>\n",
       "      <td>49.012635</td>\n",
       "    </tr>\n",
       "    <tr>\n",
       "      <th>std</th>\n",
       "      <td>11.985554</td>\n",
       "      <td>202.434667</td>\n",
       "      <td>25173.076661</td>\n",
       "      <td>602.900476</td>\n",
       "      <td>28.948352</td>\n",
       "    </tr>\n",
       "    <tr>\n",
       "      <th>min</th>\n",
       "      <td>18.000000</td>\n",
       "      <td>0.000000</td>\n",
       "      <td>1730.000000</td>\n",
       "      <td>5.000000</td>\n",
       "      <td>0.000000</td>\n",
       "    </tr>\n",
       "    <tr>\n",
       "      <th>25%</th>\n",
       "      <td>37.000000</td>\n",
       "      <td>180.000000</td>\n",
       "      <td>35303.000000</td>\n",
       "      <td>69.000000</td>\n",
       "      <td>24.000000</td>\n",
       "    </tr>\n",
       "    <tr>\n",
       "      <th>50%</th>\n",
       "      <td>44.000000</td>\n",
       "      <td>355.500000</td>\n",
       "      <td>51381.500000</td>\n",
       "      <td>396.500000</td>\n",
       "      <td>49.000000</td>\n",
       "    </tr>\n",
       "    <tr>\n",
       "      <th>75%</th>\n",
       "      <td>55.000000</td>\n",
       "      <td>529.000000</td>\n",
       "      <td>68522.000000</td>\n",
       "      <td>1048.000000</td>\n",
       "      <td>74.000000</td>\n",
       "    </tr>\n",
       "    <tr>\n",
       "      <th>max</th>\n",
       "      <td>121.000000</td>\n",
       "      <td>699.000000</td>\n",
       "      <td>666666.000000</td>\n",
       "      <td>2525.000000</td>\n",
       "      <td>99.000000</td>\n",
       "    </tr>\n",
       "  </tbody>\n",
       "</table>\n",
       "</div>"
      ],
      "text/plain": [
       "       customer_age  Customer_For         Income  total_spent      Recency\n",
       "count   2216.000000   2216.000000    2216.000000  2216.000000  2216.000000\n",
       "mean      45.179603    353.521209   52247.251354   607.075361    49.012635\n",
       "std       11.985554    202.434667   25173.076661   602.900476    28.948352\n",
       "min       18.000000      0.000000    1730.000000     5.000000     0.000000\n",
       "25%       37.000000    180.000000   35303.000000    69.000000    24.000000\n",
       "50%       44.000000    355.500000   51381.500000   396.500000    49.000000\n",
       "75%       55.000000    529.000000   68522.000000  1048.000000    74.000000\n",
       "max      121.000000    699.000000  666666.000000  2525.000000    99.000000"
      ]
     },
     "execution_count": 48,
     "metadata": {},
     "output_type": "execute_result"
    }
   ],
   "source": [
    "data[numerical_cols].describe()"
   ]
  },
  {
   "cell_type": "markdown",
   "id": "abdab29b-0dff-4122-b701-d4701fd097e2",
   "metadata": {},
   "source": [
    "Max value in income and age of customers seems way off from the median and 75th percentile.  \n",
    "A visual analysis might help detect outliers."
   ]
  },
  {
   "cell_type": "code",
   "execution_count": 49,
   "id": "8cd31162-3d8b-41fe-8935-4f573c5f28f4",
   "metadata": {},
   "outputs": [],
   "source": [
    "#features to plot\n",
    "columns_to_plot = ['customer_age', 'Income', 'parenthood']"
   ]
  },
  {
   "cell_type": "code",
   "execution_count": 50,
   "id": "c25b854e-be4a-499a-a593-fbbd4e3edcbf",
   "metadata": {},
   "outputs": [
    {
     "data": {
      "text/plain": [
       "<Figure size 640x480 with 0 Axes>"
      ]
     },
     "metadata": {},
     "output_type": "display_data"
    },
    {
     "data": {
      "image/png": "[encoded data removed]",
      "text/plain": [
       "<Figure size 596.597x500 with 6 Axes>"
      ]
     },
     "metadata": {},
     "output_type": "display_data"
    }
   ],
   "source": [
    "#Setting up colors prefrences\n",
    "sns.set(rc={\"axes.facecolor\":\"#FFF9ED\",\"figure.facecolor\":\"#FFF9ED\"})\n",
    "#pallet = [\"#682F2F\", \"#9E726F\", \"#D6B2B1\", \"#B9C0C9\", \"#9F8A78\", \"#F3AB60\"]\n",
    "#cmap = colors.ListedColormap([\"#682F2F\", \"#9E726F\", \"#D6B2B1\", \"#B9C0C9\", \"#9F8A78\", \"#F3AB60\"])\n",
    "\n",
    "plt.figure()\n",
    "sns.pairplot(data[columns_to_plot], hue='parenthood',\n",
    "             palette= ([\"#682F2F\",\"#F3AB60\"]))\n",
    "plt.show()"
   ]
  },
  {
   "cell_type": "code",
   "execution_count": 51,
   "id": "521f141f-b43b-43fb-a15b-ae72b2e284a5",
   "metadata": {},
   "outputs": [],
   "source": [
    "#Drop rows with outliers\n",
    "\n",
    "data = data[(data[\"customer_age\"]<90)]"
   ]
  },
  {
   "cell_type": "code",
   "execution_count": 52,
   "id": "fa48cab2-24d1-4f4a-a7f4-3f71ea3ac71c",
   "metadata": {},
   "outputs": [],
   "source": [
    "data = data[(data['Income'] < 600000)]"
   ]
  },
  {
   "cell_type": "code",
   "execution_count": 53,
   "id": "031ad932-6100-42a8-bfb5-86c298532db2",
   "metadata": {},
   "outputs": [
    {
     "data": {
      "text/plain": [
       "(2212, 30)"
      ]
     },
     "execution_count": 53,
     "metadata": {},
     "output_type": "execute_result"
    }
   ],
   "source": [
    "data.shape"
   ]
  },
  {
   "cell_type": "markdown",
   "id": "ce0fd40f-7867-440b-a764-a3533e664fe7",
   "metadata": {},
   "source": [
    "<h3>3. Data Preprocessing</h3>"
   ]
  },
  {
   "cell_type": "markdown",
   "id": "46709d29-d3c3-419f-8adc-f485090b130d",
   "metadata": {},
   "source": [
    "In this section, I'll preprocess the features to perform clustering operations."
   ]
  },
  {
   "cell_type": "markdown",
   "id": "5a069661-0a89-4c2f-afeb-7e5e81e25b64",
   "metadata": {},
   "source": [
    "Following steps will be taken in this section:\n",
    "<ul>\n",
    "    <li>Feature encoding of categorical columns.</li>\n",
    "    <li>Feature scaling using standard-scalar.</li>\n",
    "    <li>Create subset dataframe for dimensionality reduction.</li>\n",
    "</ul>"
   ]
  },
  {
   "cell_type": "code",
   "execution_count": 54,
   "id": "5639c176-bba5-4d7c-b321-db4ad0fb0308",
   "metadata": {},
   "outputs": [],
   "source": [
    "s = (data.dtypes == 'object')"
   ]
  },
  {
   "cell_type": "code",
   "execution_count": 55,
   "id": "7c50df12-da91-4b62-979f-dc02952afe6d",
   "metadata": {},
   "outputs": [],
   "source": [
    "#categorical columns\n",
    "cat_columns = list(s[s].index)"
   ]
  },
  {
   "cell_type": "code",
   "execution_count": 56,
   "id": "1554817d-8206-475f-99ac-e14478de6b3f",
   "metadata": {},
   "outputs": [
    {
     "data": {
      "text/plain": [
       "['living_with', 'edu_level']"
      ]
     },
     "execution_count": 56,
     "metadata": {},
     "output_type": "execute_result"
    }
   ],
   "source": [
    "cat_columns"
   ]
  },
  {
   "cell_type": "code",
   "execution_count": 57,
   "id": "35139cfa-640c-4911-94c0-c0c9d615b25e",
   "metadata": {},
   "outputs": [],
   "source": [
    "#instantiate Label-Encoder\n",
    "le = LabelEncoder()"
   ]
  },
  {
   "cell_type": "code",
   "execution_count": 63,
   "id": "d7806610-9088-447f-9476-e79c95937509",
   "metadata": {},
   "outputs": [],
   "source": [
    "#dictionary to store values and their encoding for each column\n",
    "encoders = {}\n",
    "for col in cat_columns:\n",
    "    le = LabelEncoder()\n",
    "    data[f\"{col}_coded\"] = le.fit_transform(data[col])\n",
    "    encoders[col] = dict(zip(le.classes_, le.transform(le.classes_)))"
   ]
  },
  {
   "cell_type": "code",
   "execution_count": 72,
   "id": "6bbb7061-e8c2-455f-aad0-0517b93db890",
   "metadata": {},
   "outputs": [
    {
     "name": "stdout",
     "output_type": "stream",
     "text": [
      "living_with: {'Alone': np.int64(0), 'Partner': np.int64(1)}\n",
      "edu_level: {'Graduate': np.int64(0), 'Postgraduate': np.int64(1), 'Undergraduate': np.int64(2)}\n"
     ]
    }
   ],
   "source": [
    "#view the numbers associated to each category in each column\n",
    "for key in encoders:\n",
    "    print(f\"{key}: {encoders[key]}\")"
   ]
  },
  {
   "cell_type": "code",
   "execution_count": 78,
   "id": "e019e43b-6bff-4319-b770-3a80b3785373",
   "metadata": {},
   "outputs": [],
   "source": [
    "#make a copy of the dataframe\n",
    "data2 = data.copy()"
   ]
  },
  {
   "cell_type": "code",
   "execution_count": 97,
   "id": "73b73e8d-edb1-4729-9049-49ef3feb2d0b",
   "metadata": {},
   "outputs": [],
   "source": [
    "#create subset of the dataset by removing promotion/acceptance colummns\n",
    "accepted_cols = list(data.columns[data.columns.str.contains('Accepted', case=False)])\n",
    "drop_columns = accepted_cols + ['Complain', 'Response', 'living_with', 'edu_level']\n",
    "#remove the columns\n",
    "data_subset = data2.drop(drop_columns, axis=1)"
   ]
  },
  {
   "cell_type": "code",
   "execution_count": 98,
   "id": "4e4d7e31-1e0c-45dc-b319-fbd27d99391e",
   "metadata": {},
   "outputs": [
    {
     "name": "stdout",
     "output_type": "stream",
     "text": [
      "<class 'pandas.core.frame.DataFrame'>\n",
      "Index: 2212 entries, 0 to 2239\n",
      "Data columns (total 23 columns):\n",
      " #   Column               Non-Null Count  Dtype  \n",
      "---  ------               --------------  -----  \n",
      " 0   Income               2212 non-null   float64\n",
      " 1   Kidhome              2212 non-null   int64  \n",
      " 2   Teenhome             2212 non-null   int64  \n",
      " 3   Recency              2212 non-null   int64  \n",
      " 4   Wine                 2212 non-null   int64  \n",
      " 5   Fruits               2212 non-null   int64  \n",
      " 6   Meat                 2212 non-null   int64  \n",
      " 7   Fish                 2212 non-null   int64  \n",
      " 8   Sweets               2212 non-null   int64  \n",
      " 9   Gold                 2212 non-null   int64  \n",
      " 10  NumDealsPurchases    2212 non-null   int64  \n",
      " 11  NumWebPurchases      2212 non-null   int64  \n",
      " 12  NumCatalogPurchases  2212 non-null   int64  \n",
      " 13  NumStorePurchases    2212 non-null   int64  \n",
      " 14  NumWebVisitsMonth    2212 non-null   int64  \n",
      " 15  Customer_For         2212 non-null   int64  \n",
      " 16  customer_age         2212 non-null   int64  \n",
      " 17  total_spent          2212 non-null   int64  \n",
      " 18  children             2212 non-null   int64  \n",
      " 19  family_size          2212 non-null   int64  \n",
      " 20  parenthood           2212 non-null   int64  \n",
      " 21  living_with_coded    2212 non-null   int64  \n",
      " 22  edu_level_coded      2212 non-null   int64  \n",
      "dtypes: float64(1), int64(22)\n",
      "memory usage: 414.8 KB\n"
     ]
    }
   ],
   "source": [
    "data_subset.info()"
   ]
  },
  {
   "cell_type": "code",
   "execution_count": 99,
   "id": "27fe20dd-4ce7-4932-9517-3c55a92ece72",
   "metadata": {},
   "outputs": [
    {
     "name": "stdout",
     "output_type": "stream",
     "text": [
      "All features scaled\n"
     ]
    }
   ],
   "source": [
    "##Standardize the subset\n",
    "stan_scaler = StandardScaler()\n",
    "stan_scaler.fit(data_subset)\n",
    "scaled_ds = pd.DataFrame(stan_scaler.transform(data_subset), columns=data_subset.columns)\n",
    "print(\"All features scaled\")"
   ]
  },
  {
   "cell_type": "code",
   "execution_count": 102,
   "id": "e36e07ee-2ebf-474e-b74d-889fe45ccd3a",
   "metadata": {},
   "outputs": [
    {
     "name": "stdout",
     "output_type": "stream",
     "text": [
      "Dataframe to be used for future modelling\n"
     ]
    },
    {
     "data": {
      "text/html": [
       "<div>\n",
       "<style scoped>\n",
       "    .dataframe tbody tr th:only-of-type {\n",
       "        vertical-align: middle;\n",
       "    }\n",
       "\n",
       "    .dataframe tbody tr th {\n",
       "        vertical-align: top;\n",
       "    }\n",
       "\n",
       "    .dataframe thead th {\n",
       "        text-align: right;\n",
       "    }\n",
       "</style>\n",
       "<table border=\"1\" class=\"dataframe\">\n",
       "  <thead>\n",
       "    <tr style=\"text-align: right;\">\n",
       "      <th></th>\n",
       "      <th>Income</th>\n",
       "      <th>Kidhome</th>\n",
       "      <th>Teenhome</th>\n",
       "      <th>Recency</th>\n",
       "      <th>Wine</th>\n",
       "      <th>Fruits</th>\n",
       "      <th>Meat</th>\n",
       "      <th>Fish</th>\n",
       "      <th>Sweets</th>\n",
       "      <th>Gold</th>\n",
       "      <th>...</th>\n",
       "      <th>NumStorePurchases</th>\n",
       "      <th>NumWebVisitsMonth</th>\n",
       "      <th>Customer_For</th>\n",
       "      <th>customer_age</th>\n",
       "      <th>total_spent</th>\n",
       "      <th>children</th>\n",
       "      <th>family_size</th>\n",
       "      <th>parenthood</th>\n",
       "      <th>living_with_coded</th>\n",
       "      <th>edu_level_coded</th>\n",
       "    </tr>\n",
       "  </thead>\n",
       "  <tbody>\n",
       "    <tr>\n",
       "      <th>0</th>\n",
       "      <td>0.287105</td>\n",
       "      <td>-0.822754</td>\n",
       "      <td>-0.929699</td>\n",
       "      <td>0.310353</td>\n",
       "      <td>0.977660</td>\n",
       "      <td>1.552041</td>\n",
       "      <td>1.690293</td>\n",
       "      <td>2.453472</td>\n",
       "      <td>1.483713</td>\n",
       "      <td>0.852576</td>\n",
       "      <td>...</td>\n",
       "      <td>-0.555814</td>\n",
       "      <td>0.692181</td>\n",
       "      <td>1.527721</td>\n",
       "      <td>1.018352</td>\n",
       "      <td>1.676245</td>\n",
       "      <td>-1.264598</td>\n",
       "      <td>-1.758359</td>\n",
       "      <td>-1.581139</td>\n",
       "      <td>-1.349603</td>\n",
       "      <td>-0.893586</td>\n",
       "    </tr>\n",
       "    <tr>\n",
       "      <th>1</th>\n",
       "      <td>-0.260882</td>\n",
       "      <td>1.040021</td>\n",
       "      <td>0.908097</td>\n",
       "      <td>-0.380813</td>\n",
       "      <td>-0.872618</td>\n",
       "      <td>-0.637461</td>\n",
       "      <td>-0.718230</td>\n",
       "      <td>-0.651004</td>\n",
       "      <td>-0.634019</td>\n",
       "      <td>-0.733642</td>\n",
       "      <td>...</td>\n",
       "      <td>-1.171160</td>\n",
       "      <td>-0.132545</td>\n",
       "      <td>-1.189011</td>\n",
       "      <td>1.274785</td>\n",
       "      <td>-0.963297</td>\n",
       "      <td>1.404572</td>\n",
       "      <td>0.449070</td>\n",
       "      <td>0.632456</td>\n",
       "      <td>-1.349603</td>\n",
       "      <td>-0.893586</td>\n",
       "    </tr>\n",
       "    <tr>\n",
       "      <th>2</th>\n",
       "      <td>0.913196</td>\n",
       "      <td>-0.822754</td>\n",
       "      <td>-0.929699</td>\n",
       "      <td>-0.795514</td>\n",
       "      <td>0.357935</td>\n",
       "      <td>0.570540</td>\n",
       "      <td>-0.178542</td>\n",
       "      <td>1.339513</td>\n",
       "      <td>-0.147184</td>\n",
       "      <td>-0.037254</td>\n",
       "      <td>...</td>\n",
       "      <td>1.290224</td>\n",
       "      <td>-0.544908</td>\n",
       "      <td>-0.206048</td>\n",
       "      <td>0.334530</td>\n",
       "      <td>0.280110</td>\n",
       "      <td>-1.264598</td>\n",
       "      <td>-0.654644</td>\n",
       "      <td>-1.581139</td>\n",
       "      <td>0.740959</td>\n",
       "      <td>-0.893586</td>\n",
       "    </tr>\n",
       "    <tr>\n",
       "      <th>3</th>\n",
       "      <td>-1.176114</td>\n",
       "      <td>1.040021</td>\n",
       "      <td>-0.929699</td>\n",
       "      <td>-0.795514</td>\n",
       "      <td>-0.872618</td>\n",
       "      <td>-0.561961</td>\n",
       "      <td>-0.655787</td>\n",
       "      <td>-0.504911</td>\n",
       "      <td>-0.585335</td>\n",
       "      <td>-0.752987</td>\n",
       "      <td>...</td>\n",
       "      <td>-0.555814</td>\n",
       "      <td>0.279818</td>\n",
       "      <td>-1.060584</td>\n",
       "      <td>-1.289547</td>\n",
       "      <td>-0.920135</td>\n",
       "      <td>0.069987</td>\n",
       "      <td>0.449070</td>\n",
       "      <td>0.632456</td>\n",
       "      <td>0.740959</td>\n",
       "      <td>-0.893586</td>\n",
       "    </tr>\n",
       "  </tbody>\n",
       "</table>\n",
       "<p>4 rows × 23 columns</p>\n",
       "</div>"
      ],
      "text/plain": [
       "     Income   Kidhome  Teenhome   Recency      Wine    Fruits      Meat  \\\n",
       "0  0.287105 -0.822754 -0.929699  0.310353  0.977660  1.552041  1.690293   \n",
       "1 -0.260882  1.040021  0.908097 -0.380813 -0.872618 -0.637461 -0.718230   \n",
       "2  0.913196 -0.822754 -0.929699 -0.795514  0.357935  0.570540 -0.178542   \n",
       "3 -1.176114  1.040021 -0.929699 -0.795514 -0.872618 -0.561961 -0.655787   \n",
       "\n",
       "       Fish    Sweets      Gold  ...  NumStorePurchases  NumWebVisitsMonth  \\\n",
       "0  2.453472  1.483713  0.852576  ...          -0.555814           0.692181   \n",
       "1 -0.651004 -0.634019 -0.733642  ...          -1.171160          -0.132545   \n",
       "2  1.339513 -0.147184 -0.037254  ...           1.290224          -0.544908   \n",
       "3 -0.504911 -0.585335 -0.752987  ...          -0.555814           0.279818   \n",
       "\n",
       "   Customer_For  customer_age  total_spent  children  family_size  parenthood  \\\n",
       "0      1.527721      1.018352     1.676245 -1.264598    -1.758359   -1.581139   \n",
       "1     -1.189011      1.274785    -0.963297  1.404572     0.449070    0.632456   \n",
       "2     -0.206048      0.334530     0.280110 -1.264598    -0.654644   -1.581139   \n",
       "3     -1.060584     -1.289547    -0.920135  0.069987     0.449070    0.632456   \n",
       "\n",
       "   living_with_coded  edu_level_coded  \n",
       "0          -1.349603        -0.893586  \n",
       "1          -1.349603        -0.893586  \n",
       "2           0.740959        -0.893586  \n",
       "3           0.740959        -0.893586  \n",
       "\n",
       "[4 rows x 23 columns]"
      ]
     },
     "execution_count": 102,
     "metadata": {},
     "output_type": "execute_result"
    }
   ],
   "source": [
    "print(\"Dataframe to be used for future modelling\")\n",
    "scaled_ds.head(4)"
   ]
  },
  {
   "cell_type": "markdown",
   "id": "29d3fd2c-1b7b-446c-8f17-aaf040f8ba78",
   "metadata": {},
   "source": [
    "<h3>Dimensionality Reduction via PCA</h3>"
   ]
  },
  {
   "cell_type": "markdown",
   "id": "7dc5c6e2-bbd3-4a10-abb8-8e3b39a04798",
   "metadata": {},
   "source": [
    "I have to reduce the number of features to 3 using Principal Component analysis."
   ]
  },
  {
   "cell_type": "code",
   "execution_count": 103,
   "id": "f725dba4-b0bc-4d4a-9542-42a5debd63a5",
   "metadata": {},
   "outputs": [],
   "source": [
    "pca = PCA(n_components = 3)"
   ]
  },
  {
   "cell_type": "code",
   "execution_count": 105,
   "id": "e1af0fcd-b018-413c-a1b4-f9e91308952a",
   "metadata": {},
   "outputs": [
    {
     "data": {
      "text/html": [
       "<style>#sk-container-id-2 {\n",
       "  /* Definition of color scheme common for light and dark mode */\n",
       "  --sklearn-color-text: black;\n",
       "  --sklearn-color-line: gray;\n",
       "  /* Definition of color scheme for unfitted estimators */\n",
       "  --sklearn-color-unfitted-level-0: #fff5e6;\n",
       "  --sklearn-color-unfitted-level-1: #f6e4d2;\n",
       "  --sklearn-color-unfitted-level-2: #ffe0b3;\n",
       "  --sklearn-color-unfitted-level-3: chocolate;\n",
       "  /* Definition of color scheme for fitted estimators */\n",
       "  --sklearn-color-fitted-level-0: #f0f8ff;\n",
       "  --sklearn-color-fitted-level-1: #d4ebff;\n",
       "  --sklearn-color-fitted-level-2: #b3dbfd;\n",
       "  --sklearn-color-fitted-level-3: cornflowerblue;\n",
       "\n",
       "  /* Specific color for light theme */\n",
       "  --sklearn-color-text-on-default-background: var(--sg-text-color, var(--theme-code-foreground, var(--jp-content-font-color1, black)));\n",
       "  --sklearn-color-background: var(--sg-background-color, var(--theme-background, var(--jp-layout-color0, white)));\n",
       "  --sklearn-color-border-box: var(--sg-text-color, var(--theme-code-foreground, var(--jp-content-font-color1, black)));\n",
       "  --sklearn-color-icon: #696969;\n",
       "\n",
       "  @media (prefers-color-scheme: dark) {\n",
       "    /* Redefinition of color scheme for dark theme */\n",
       "    --sklearn-color-text-on-default-background: var(--sg-text-color, var(--theme-code-foreground, var(--jp-content-font-color1, white)));\n",
       "    --sklearn-color-background: var(--sg-background-color, var(--theme-background, var(--jp-layout-color0, #111)));\n",
       "    --sklearn-color-border-box: var(--sg-text-color, var(--theme-code-foreground, var(--jp-content-font-color1, white)));\n",
       "    --sklearn-color-icon: #878787;\n",
       "  }\n",
       "}\n",
       "\n",
       "#sk-container-id-2 {\n",
       "  color: var(--sklearn-color-text);\n",
       "}\n",
       "\n",
       "#sk-container-id-2 pre {\n",
       "  padding: 0;\n",
       "}\n",
       "\n",
       "#sk-container-id-2 input.sk-hidden--visually {\n",
       "  border: 0;\n",
       "  clip: rect(1px 1px 1px 1px);\n",
       "  clip: rect(1px, 1px, 1px, 1px);\n",
       "  height: 1px;\n",
       "  margin: -1px;\n",
       "  overflow: hidden;\n",
       "  padding: 0;\n",
       "  position: absolute;\n",
       "  width: 1px;\n",
       "}\n",
       "\n",
       "#sk-container-id-2 div.sk-dashed-wrapped {\n",
       "  border: 1px dashed var(--sklearn-color-line);\n",
       "  margin: 0 0.4em 0.5em 0.4em;\n",
       "  box-sizing: border-box;\n",
       "  padding-bottom: 0.4em;\n",
       "  background-color: var(--sklearn-color-background);\n",
       "}\n",
       "\n",
       "#sk-container-id-2 div.sk-container {\n",
       "  /* jupyter's `normalize.less` sets `[hidden] { display: none; }`\n",
       "     but bootstrap.min.css set `[hidden] { display: none !important; }`\n",
       "     so we also need the `!important` here to be able to override the\n",
       "     default hidden behavior on the sphinx rendered scikit-learn.org.\n",
       "     See: https://github.com/scikit-learn/scikit-learn/issues/21755 */\n",
       "  display: inline-block !important;\n",
       "  position: relative;\n",
       "}\n",
       "\n",
       "#sk-container-id-2 div.sk-text-repr-fallback {\n",
       "  display: none;\n",
       "}\n",
       "\n",
       "div.sk-parallel-item,\n",
       "div.sk-serial,\n",
       "div.sk-item {\n",
       "  /* draw centered vertical line to link estimators */\n",
       "  background-image: linear-gradient(var(--sklearn-color-text-on-default-background), var(--sklearn-color-text-on-default-background));\n",
       "  background-size: 2px 100%;\n",
       "  background-repeat: no-repeat;\n",
       "  background-position: center center;\n",
       "}\n",
       "\n",
       "/* Parallel-specific style estimator block */\n",
       "\n",
       "#sk-container-id-2 div.sk-parallel-item::after {\n",
       "  content: \"\";\n",
       "  width: 100%;\n",
       "  border-bottom: 2px solid var(--sklearn-color-text-on-default-background);\n",
       "  flex-grow: 1;\n",
       "}\n",
       "\n",
       "#sk-container-id-2 div.sk-parallel {\n",
       "  display: flex;\n",
       "  align-items: stretch;\n",
       "  justify-content: center;\n",
       "  background-color: var(--sklearn-color-background);\n",
       "  position: relative;\n",
       "}\n",
       "\n",
       "#sk-container-id-2 div.sk-parallel-item {\n",
       "  display: flex;\n",
       "  flex-direction: column;\n",
       "}\n",
       "\n",
       "#sk-container-id-2 div.sk-parallel-item:first-child::after {\n",
       "  align-self: flex-end;\n",
       "  width: 50%;\n",
       "}\n",
       "\n",
       "#sk-container-id-2 div.sk-parallel-item:last-child::after {\n",
       "  align-self: flex-start;\n",
       "  width: 50%;\n",
       "}\n",
       "\n",
       "#sk-container-id-2 div.sk-parallel-item:only-child::after {\n",
       "  width: 0;\n",
       "}\n",
       "\n",
       "/* Serial-specific style estimator block */\n",
       "\n",
       "#sk-container-id-2 div.sk-serial {\n",
       "  display: flex;\n",
       "  flex-direction: column;\n",
       "  align-items: center;\n",
       "  background-color: var(--sklearn-color-background);\n",
       "  padding-right: 1em;\n",
       "  padding-left: 1em;\n",
       "}\n",
       "\n",
       "\n",
       "/* Toggleable style: style used for estimator/Pipeline/ColumnTransformer box that is\n",
       "clickable and can be expanded/collapsed.\n",
       "- Pipeline and ColumnTransformer use this feature and define the default style\n",
       "- Estimators will overwrite some part of the style using the `sk-estimator` class\n",
       "*/\n",
       "\n",
       "/* Pipeline and ColumnTransformer style (default) */\n",
       "\n",
       "#sk-container-id-2 div.sk-toggleable {\n",
       "  /* Default theme specific background. It is overwritten whether we have a\n",
       "  specific estimator or a Pipeline/ColumnTransformer */\n",
       "  background-color: var(--sklearn-color-background);\n",
       "}\n",
       "\n",
       "/* Toggleable label */\n",
       "#sk-container-id-2 label.sk-toggleable__label {\n",
       "  cursor: pointer;\n",
       "  display: block;\n",
       "  width: 100%;\n",
       "  margin-bottom: 0;\n",
       "  padding: 0.5em;\n",
       "  box-sizing: border-box;\n",
       "  text-align: center;\n",
       "}\n",
       "\n",
       "#sk-container-id-2 label.sk-toggleable__label-arrow:before {\n",
       "  /* Arrow on the left of the label */\n",
       "  content: \"▸\";\n",
       "  float: left;\n",
       "  margin-right: 0.25em;\n",
       "  color: var(--sklearn-color-icon);\n",
       "}\n",
       "\n",
       "#sk-container-id-2 label.sk-toggleable__label-arrow:hover:before {\n",
       "  color: var(--sklearn-color-text);\n",
       "}\n",
       "\n",
       "/* Toggleable content - dropdown */\n",
       "\n",
       "#sk-container-id-2 div.sk-toggleable__content {\n",
       "  max-height: 0;\n",
       "  max-width: 0;\n",
       "  overflow: hidden;\n",
       "  text-align: left;\n",
       "  /* unfitted */\n",
       "  background-color: var(--sklearn-color-unfitted-level-0);\n",
       "}\n",
       "\n",
       "#sk-container-id-2 div.sk-toggleable__content.fitted {\n",
       "  /* fitted */\n",
       "  background-color: var(--sklearn-color-fitted-level-0);\n",
       "}\n",
       "\n",
       "#sk-container-id-2 div.sk-toggleable__content pre {\n",
       "  margin: 0.2em;\n",
       "  border-radius: 0.25em;\n",
       "  color: var(--sklearn-color-text);\n",
       "  /* unfitted */\n",
       "  background-color: var(--sklearn-color-unfitted-level-0);\n",
       "}\n",
       "\n",
       "#sk-container-id-2 div.sk-toggleable__content.fitted pre {\n",
       "  /* unfitted */\n",
       "  background-color: var(--sklearn-color-fitted-level-0);\n",
       "}\n",
       "\n",
       "#sk-container-id-2 input.sk-toggleable__control:checked~div.sk-toggleable__content {\n",
       "  /* Expand drop-down */\n",
       "  max-height: 200px;\n",
       "  max-width: 100%;\n",
       "  overflow: auto;\n",
       "}\n",
       "\n",
       "#sk-container-id-2 input.sk-toggleable__control:checked~label.sk-toggleable__label-arrow:before {\n",
       "  content: \"▾\";\n",
       "}\n",
       "\n",
       "/* Pipeline/ColumnTransformer-specific style */\n",
       "\n",
       "#sk-container-id-2 div.sk-label input.sk-toggleable__control:checked~label.sk-toggleable__label {\n",
       "  color: var(--sklearn-color-text);\n",
       "  background-color: var(--sklearn-color-unfitted-level-2);\n",
       "}\n",
       "\n",
       "#sk-container-id-2 div.sk-label.fitted input.sk-toggleable__control:checked~label.sk-toggleable__label {\n",
       "  background-color: var(--sklearn-color-fitted-level-2);\n",
       "}\n",
       "\n",
       "/* Estimator-specific style */\n",
       "\n",
       "/* Colorize estimator box */\n",
       "#sk-container-id-2 div.sk-estimator input.sk-toggleable__control:checked~label.sk-toggleable__label {\n",
       "  /* unfitted */\n",
       "  background-color: var(--sklearn-color-unfitted-level-2);\n",
       "}\n",
       "\n",
       "#sk-container-id-2 div.sk-estimator.fitted input.sk-toggleable__control:checked~label.sk-toggleable__label {\n",
       "  /* fitted */\n",
       "  background-color: var(--sklearn-color-fitted-level-2);\n",
       "}\n",
       "\n",
       "#sk-container-id-2 div.sk-label label.sk-toggleable__label,\n",
       "#sk-container-id-2 div.sk-label label {\n",
       "  /* The background is the default theme color */\n",
       "  color: var(--sklearn-color-text-on-default-background);\n",
       "}\n",
       "\n",
       "/* On hover, darken the color of the background */\n",
       "#sk-container-id-2 div.sk-label:hover label.sk-toggleable__label {\n",
       "  color: var(--sklearn-color-text);\n",
       "  background-color: var(--sklearn-color-unfitted-level-2);\n",
       "}\n",
       "\n",
       "/* Label box, darken color on hover, fitted */\n",
       "#sk-container-id-2 div.sk-label.fitted:hover label.sk-toggleable__label.fitted {\n",
       "  color: var(--sklearn-color-text);\n",
       "  background-color: var(--sklearn-color-fitted-level-2);\n",
       "}\n",
       "\n",
       "/* Estimator label */\n",
       "\n",
       "#sk-container-id-2 div.sk-label label {\n",
       "  font-family: monospace;\n",
       "  font-weight: bold;\n",
       "  display: inline-block;\n",
       "  line-height: 1.2em;\n",
       "}\n",
       "\n",
       "#sk-container-id-2 div.sk-label-container {\n",
       "  text-align: center;\n",
       "}\n",
       "\n",
       "/* Estimator-specific */\n",
       "#sk-container-id-2 div.sk-estimator {\n",
       "  font-family: monospace;\n",
       "  border: 1px dotted var(--sklearn-color-border-box);\n",
       "  border-radius: 0.25em;\n",
       "  box-sizing: border-box;\n",
       "  margin-bottom: 0.5em;\n",
       "  /* unfitted */\n",
       "  background-color: var(--sklearn-color-unfitted-level-0);\n",
       "}\n",
       "\n",
       "#sk-container-id-2 div.sk-estimator.fitted {\n",
       "  /* fitted */\n",
       "  background-color: var(--sklearn-color-fitted-level-0);\n",
       "}\n",
       "\n",
       "/* on hover */\n",
       "#sk-container-id-2 div.sk-estimator:hover {\n",
       "  /* unfitted */\n",
       "  background-color: var(--sklearn-color-unfitted-level-2);\n",
       "}\n",
       "\n",
       "#sk-container-id-2 div.sk-estimator.fitted:hover {\n",
       "  /* fitted */\n",
       "  background-color: var(--sklearn-color-fitted-level-2);\n",
       "}\n",
       "\n",
       "/* Specification for estimator info (e.g. \"i\" and \"?\") */\n",
       "\n",
       "/* Common style for \"i\" and \"?\" */\n",
       "\n",
       ".sk-estimator-doc-link,\n",
       "a:link.sk-estimator-doc-link,\n",
       "a:visited.sk-estimator-doc-link {\n",
       "  float: right;\n",
       "  font-size: smaller;\n",
       "  line-height: 1em;\n",
       "  font-family: monospace;\n",
       "  background-color: var(--sklearn-color-background);\n",
       "  border-radius: 1em;\n",
       "  height: 1em;\n",
       "  width: 1em;\n",
       "  text-decoration: none !important;\n",
       "  margin-left: 1ex;\n",
       "  /* unfitted */\n",
       "  border: var(--sklearn-color-unfitted-level-1) 1pt solid;\n",
       "  color: var(--sklearn-color-unfitted-level-1);\n",
       "}\n",
       "\n",
       ".sk-estimator-doc-link.fitted,\n",
       "a:link.sk-estimator-doc-link.fitted,\n",
       "a:visited.sk-estimator-doc-link.fitted {\n",
       "  /* fitted */\n",
       "  border: var(--sklearn-color-fitted-level-1) 1pt solid;\n",
       "  color: var(--sklearn-color-fitted-level-1);\n",
       "}\n",
       "\n",
       "/* On hover */\n",
       "div.sk-estimator:hover .sk-estimator-doc-link:hover,\n",
       ".sk-estimator-doc-link:hover,\n",
       "div.sk-label-container:hover .sk-estimator-doc-link:hover,\n",
       ".sk-estimator-doc-link:hover {\n",
       "  /* unfitted */\n",
       "  background-color: var(--sklearn-color-unfitted-level-3);\n",
       "  color: var(--sklearn-color-background);\n",
       "  text-decoration: none;\n",
       "}\n",
       "\n",
       "div.sk-estimator.fitted:hover .sk-estimator-doc-link.fitted:hover,\n",
       ".sk-estimator-doc-link.fitted:hover,\n",
       "div.sk-label-container:hover .sk-estimator-doc-link.fitted:hover,\n",
       ".sk-estimator-doc-link.fitted:hover {\n",
       "  /* fitted */\n",
       "  background-color: var(--sklearn-color-fitted-level-3);\n",
       "  color: var(--sklearn-color-background);\n",
       "  text-decoration: none;\n",
       "}\n",
       "\n",
       "/* Span, style for the box shown on hovering the info icon */\n",
       ".sk-estimator-doc-link span {\n",
       "  display: none;\n",
       "  z-index: 9999;\n",
       "  position: relative;\n",
       "  font-weight: normal;\n",
       "  right: .2ex;\n",
       "  padding: .5ex;\n",
       "  margin: .5ex;\n",
       "  width: min-content;\n",
       "  min-width: 20ex;\n",
       "  max-width: 50ex;\n",
       "  color: var(--sklearn-color-text);\n",
       "  box-shadow: 2pt 2pt 4pt #999;\n",
       "  /* unfitted */\n",
       "  background: var(--sklearn-color-unfitted-level-0);\n",
       "  border: .5pt solid var(--sklearn-color-unfitted-level-3);\n",
       "}\n",
       "\n",
       ".sk-estimator-doc-link.fitted span {\n",
       "  /* fitted */\n",
       "  background: var(--sklearn-color-fitted-level-0);\n",
       "  border: var(--sklearn-color-fitted-level-3);\n",
       "}\n",
       "\n",
       ".sk-estimator-doc-link:hover span {\n",
       "  display: block;\n",
       "}\n",
       "\n",
       "/* \"?\"-specific style due to the `<a>` HTML tag */\n",
       "\n",
       "#sk-container-id-2 a.estimator_doc_link {\n",
       "  float: right;\n",
       "  font-size: 1rem;\n",
       "  line-height: 1em;\n",
       "  font-family: monospace;\n",
       "  background-color: var(--sklearn-color-background);\n",
       "  border-radius: 1rem;\n",
       "  height: 1rem;\n",
       "  width: 1rem;\n",
       "  text-decoration: none;\n",
       "  /* unfitted */\n",
       "  color: var(--sklearn-color-unfitted-level-1);\n",
       "  border: var(--sklearn-color-unfitted-level-1) 1pt solid;\n",
       "}\n",
       "\n",
       "#sk-container-id-2 a.estimator_doc_link.fitted {\n",
       "  /* fitted */\n",
       "  border: var(--sklearn-color-fitted-level-1) 1pt solid;\n",
       "  color: var(--sklearn-color-fitted-level-1);\n",
       "}\n",
       "\n",
       "/* On hover */\n",
       "#sk-container-id-2 a.estimator_doc_link:hover {\n",
       "  /* unfitted */\n",
       "  background-color: var(--sklearn-color-unfitted-level-3);\n",
       "  color: var(--sklearn-color-background);\n",
       "  text-decoration: none;\n",
       "}\n",
       "\n",
       "#sk-container-id-2 a.estimator_doc_link.fitted:hover {\n",
       "  /* fitted */\n",
       "  background-color: var(--sklearn-color-fitted-level-3);\n",
       "}\n",
       "</style><div id=\"sk-container-id-2\" class=\"sk-top-container\"><div class=\"sk-text-repr-fallback\"><pre>PCA(n_components=3)</pre><b>In a Jupyter environment, please rerun this cell to show the HTML representation or trust the notebook. <br />On GitHub, the HTML representation is unable to render, please try loading this page with nbviewer.org.</b></div><div class=\"sk-container\" hidden><div class=\"sk-item\"><div class=\"sk-estimator fitted sk-toggleable\"><input class=\"sk-toggleable__control sk-hidden--visually\" id=\"sk-estimator-id-2\" type=\"checkbox\" checked><label for=\"sk-estimator-id-2\" class=\"sk-toggleable__label fitted sk-toggleable__label-arrow fitted\">&nbsp;&nbsp;PCA<a class=\"sk-estimator-doc-link fitted\" rel=\"noreferrer\" target=\"_blank\" href=\"https://scikit-learn.org/1.5/modules/generated/sklearn.decomposition.PCA.html\">?<span>Documentation for PCA</span></a><span class=\"sk-estimator-doc-link fitted\">i<span>Fitted</span></span></label><div class=\"sk-toggleable__content fitted\"><pre>PCA(n_components=3)</pre></div> </div></div></div></div>"
      ],
      "text/plain": [
       "PCA(n_components=3)"
      ]
     },
     "execution_count": 105,
     "metadata": {},
     "output_type": "execute_result"
    }
   ],
   "source": [
    "pca.fit(scaled_ds)"
   ]
  },
  {
   "cell_type": "code",
   "execution_count": 106,
   "id": "4a8a81e7-0ed3-419c-82cc-88edfb7ae405",
   "metadata": {},
   "outputs": [],
   "source": [
    "PCA_ds = pd.DataFrame(pca.transform(scaled_ds), columns = (['col1', 'col2', 'col3']))"
   ]
  },
  {
   "cell_type": "code",
   "execution_count": 108,
   "id": "fcfb4c57-8d10-49ff-902b-d09c8322520d",
   "metadata": {},
   "outputs": [
    {
     "data": {
      "text/html": [
       "<div>\n",
       "<style scoped>\n",
       "    .dataframe tbody tr th:only-of-type {\n",
       "        vertical-align: middle;\n",
       "    }\n",
       "\n",
       "    .dataframe tbody tr th {\n",
       "        vertical-align: top;\n",
       "    }\n",
       "\n",
       "    .dataframe thead th {\n",
       "        text-align: right;\n",
       "    }\n",
       "</style>\n",
       "<table border=\"1\" class=\"dataframe\">\n",
       "  <thead>\n",
       "    <tr style=\"text-align: right;\">\n",
       "      <th></th>\n",
       "      <th>count</th>\n",
       "      <th>mean</th>\n",
       "      <th>std</th>\n",
       "      <th>min</th>\n",
       "      <th>25%</th>\n",
       "      <th>50%</th>\n",
       "      <th>75%</th>\n",
       "      <th>max</th>\n",
       "    </tr>\n",
       "  </thead>\n",
       "  <tbody>\n",
       "    <tr>\n",
       "      <th>col1</th>\n",
       "      <td>2212.0</td>\n",
       "      <td>-3.212219e-17</td>\n",
       "      <td>2.878602</td>\n",
       "      <td>-5.978124</td>\n",
       "      <td>-2.539470</td>\n",
       "      <td>-0.781595</td>\n",
       "      <td>2.386380</td>\n",
       "      <td>7.452915</td>\n",
       "    </tr>\n",
       "    <tr>\n",
       "      <th>col2</th>\n",
       "      <td>2212.0</td>\n",
       "      <td>0.000000e+00</td>\n",
       "      <td>1.709469</td>\n",
       "      <td>-4.194757</td>\n",
       "      <td>-1.323929</td>\n",
       "      <td>-0.173721</td>\n",
       "      <td>1.234851</td>\n",
       "      <td>6.168189</td>\n",
       "    </tr>\n",
       "    <tr>\n",
       "      <th>col3</th>\n",
       "      <td>2212.0</td>\n",
       "      <td>3.212219e-18</td>\n",
       "      <td>1.231687</td>\n",
       "      <td>-3.625248</td>\n",
       "      <td>-0.853713</td>\n",
       "      <td>-0.050842</td>\n",
       "      <td>0.863974</td>\n",
       "      <td>6.750458</td>\n",
       "    </tr>\n",
       "  </tbody>\n",
       "</table>\n",
       "</div>"
      ],
      "text/plain": [
       "       count          mean       std       min       25%       50%       75%  \\\n",
       "col1  2212.0 -3.212219e-17  2.878602 -5.978124 -2.539470 -0.781595  2.386380   \n",
       "col2  2212.0  0.000000e+00  1.709469 -4.194757 -1.323929 -0.173721  1.234851   \n",
       "col3  2212.0  3.212219e-18  1.231687 -3.625248 -0.853713 -0.050842  0.863974   \n",
       "\n",
       "           max  \n",
       "col1  7.452915  \n",
       "col2  6.168189  \n",
       "col3  6.750458  "
      ]
     },
     "execution_count": 108,
     "metadata": {},
     "output_type": "execute_result"
    }
   ],
   "source": [
    "PCA_ds.describe().T"
   ]
  },
  {
   "cell_type": "code",
   "execution_count": 116,
   "id": "5dc86384-3e40-4378-b812-17ac6979b824",
   "metadata": {},
   "outputs": [
    {
     "data": {
      "image/png": "[encoded data removed]",
      "text/plain": [
       "<Figure size 600x400 with 1 Axes>"
      ]
     },
     "metadata": {},
     "output_type": "display_data"
    }
   ],
   "source": [
    "#3D projection of data in reduced dimension\n",
    "x = PCA_ds['col1']\n",
    "y = PCA_ds['col2']\n",
    "z = PCA_ds['col3']\n",
    "#plot\n",
    "fig = plt.figure(figsize = (6,4))\n",
    "ax = fig.add_subplot(111, projection=\"3d\")\n",
    "ax.scatter(x,y,z, c='maroon', marker='o', s=2)\n",
    "ax.set_title('3D projection of data in reduced dimension')\n",
    "plt.show()"
   ]
  },
  {
   "cell_type": "code",
   "execution_count": null,
   "id": "a752b9fb-afd1-4d4d-b916-cd6ed2de7996",
   "metadata": {},
   "outputs": [],
   "source": []
  }
 ],
 "metadata": {
  "kernelspec": {
   "display_name": "Python 3 (ipykernel)",
   "language": "python",
   "name": "python3"
  },
  "language_info": {
   "codemirror_mode": {
    "name": "ipython",
    "version": 3
   },
   "file_extension": ".py",
   "mimetype": "text/x-python",
   "name": "python",
   "nbconvert_exporter": "python",
   "pygments_lexer": "ipython3",
   "version": "3.11.8"
  }
 },
 "nbformat": 4,
 "nbformat_minor": 5
}

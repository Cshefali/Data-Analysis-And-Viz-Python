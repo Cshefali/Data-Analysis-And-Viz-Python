{
 "cells": [
  {
   "cell_type": "markdown",
   "id": "3ad46584-6517-4f74-b7e1-01b186defe73",
   "metadata": {},
   "source": [
    "<h2>Introduction</h2>\n",
    "(last update: March 3, 2025)"
   ]
  },
  {
   "cell_type": "markdown",
   "id": "520c1ae7-ef9d-4491-bb39-2c9626745121",
   "metadata": {},
   "source": [
    "<div>\n",
    "    This is first notebook in segmentation project series.<br>\n",
    "    Demonstrate different clustering algorithms.\n",
    "</div>"
   ]
  },
  {
   "cell_type": "code",
   "execution_count": 5,
   "id": "f2bf4c52-9cb1-4b68-a81a-06d10103d06e",
   "metadata": {},
   "outputs": [],
   "source": [
    "#from kaggle.api.kaggle_api_extended import KaggleApi\n",
    "import pandas as pd\n",
    "import numpy as np\n",
    "import matplotlib.pyplot as plt\n",
    "from matplotlib import colors\n",
    "import seaborn as sns\n",
    "import datetime"
   ]
  },
  {
   "cell_type": "code",
   "execution_count": 6,
   "id": "5b14d552-29e7-485a-a26b-581b6b6604a5",
   "metadata": {},
   "outputs": [],
   "source": [
    "from sklearn.preprocessing import LabelEncoder\n",
    "from sklearn.preprocessing import StandardScaler\n",
    "from sklearn.decomposition import PCA\n",
    "from sklearn.cluster import KMeans\n"
   ]
  },
  {
   "cell_type": "markdown",
   "id": "21b28128-a486-4f69-be71-00826888925e",
   "metadata": {},
   "source": [
    "<div>\n",
    "    <h5>Download dataset (first time access)</h5>\n",
    "    <p>Comment out all lines for kaggle-dataset download, when running notebook next time.</p>\n",
    "</div>"
   ]
  },
  {
   "cell_type": "code",
   "execution_count": 7,
   "id": "89f4b138-7bab-4deb-9d5f-5419f1658c6a",
   "metadata": {},
   "outputs": [],
   "source": [
    "# create instance of KaggleApi\n",
    "#api = KaggleApi()\n",
    "# authentication with api-key\n",
    "#api.authenticate()\n",
    "# download the dataset\n",
    "#api.dataset_download_files('imakash3011/customer-personality-analysis', path='./data/', unzip=True)"
   ]
  },
  {
   "cell_type": "code",
   "execution_count": 8,
   "id": "d4985ed4-5035-4b55-8430-2f4db8d33080",
   "metadata": {},
   "outputs": [],
   "source": [
    "#read the tab-separated file\n",
    "data = pd.read_csv('data/marketing_campaign.csv', sep=\"\\t\")"
   ]
  },
  {
   "cell_type": "code",
   "execution_count": 9,
   "id": "ae9a3ae0-5c2d-4538-b323-b7b03c84db2f",
   "metadata": {},
   "outputs": [
    {
     "data": {
      "text/html": [
       "<div>\n",
       "<style scoped>\n",
       "    .dataframe tbody tr th:only-of-type {\n",
       "        vertical-align: middle;\n",
       "    }\n",
       "\n",
       "    .dataframe tbody tr th {\n",
       "        vertical-align: top;\n",
       "    }\n",
       "\n",
       "    .dataframe thead th {\n",
       "        text-align: right;\n",
       "    }\n",
       "</style>\n",
       "<table border=\"1\" class=\"dataframe\">\n",
       "  <thead>\n",
       "    <tr style=\"text-align: right;\">\n",
       "      <th></th>\n",
       "      <th>ID</th>\n",
       "      <th>Year_Birth</th>\n",
       "      <th>Education</th>\n",
       "      <th>Marital_Status</th>\n",
       "      <th>Income</th>\n",
       "      <th>Kidhome</th>\n",
       "      <th>Teenhome</th>\n",
       "      <th>Dt_Customer</th>\n",
       "      <th>Recency</th>\n",
       "      <th>MntWines</th>\n",
       "      <th>...</th>\n",
       "      <th>NumWebVisitsMonth</th>\n",
       "      <th>AcceptedCmp3</th>\n",
       "      <th>AcceptedCmp4</th>\n",
       "      <th>AcceptedCmp5</th>\n",
       "      <th>AcceptedCmp1</th>\n",
       "      <th>AcceptedCmp2</th>\n",
       "      <th>Complain</th>\n",
       "      <th>Z_CostContact</th>\n",
       "      <th>Z_Revenue</th>\n",
       "      <th>Response</th>\n",
       "    </tr>\n",
       "  </thead>\n",
       "  <tbody>\n",
       "    <tr>\n",
       "      <th>0</th>\n",
       "      <td>5524</td>\n",
       "      <td>1957</td>\n",
       "      <td>Graduation</td>\n",
       "      <td>Single</td>\n",
       "      <td>58138.0</td>\n",
       "      <td>0</td>\n",
       "      <td>0</td>\n",
       "      <td>04-09-2012</td>\n",
       "      <td>58</td>\n",
       "      <td>635</td>\n",
       "      <td>...</td>\n",
       "      <td>7</td>\n",
       "      <td>0</td>\n",
       "      <td>0</td>\n",
       "      <td>0</td>\n",
       "      <td>0</td>\n",
       "      <td>0</td>\n",
       "      <td>0</td>\n",
       "      <td>3</td>\n",
       "      <td>11</td>\n",
       "      <td>1</td>\n",
       "    </tr>\n",
       "    <tr>\n",
       "      <th>1</th>\n",
       "      <td>2174</td>\n",
       "      <td>1954</td>\n",
       "      <td>Graduation</td>\n",
       "      <td>Single</td>\n",
       "      <td>46344.0</td>\n",
       "      <td>1</td>\n",
       "      <td>1</td>\n",
       "      <td>08-03-2014</td>\n",
       "      <td>38</td>\n",
       "      <td>11</td>\n",
       "      <td>...</td>\n",
       "      <td>5</td>\n",
       "      <td>0</td>\n",
       "      <td>0</td>\n",
       "      <td>0</td>\n",
       "      <td>0</td>\n",
       "      <td>0</td>\n",
       "      <td>0</td>\n",
       "      <td>3</td>\n",
       "      <td>11</td>\n",
       "      <td>0</td>\n",
       "    </tr>\n",
       "    <tr>\n",
       "      <th>2</th>\n",
       "      <td>4141</td>\n",
       "      <td>1965</td>\n",
       "      <td>Graduation</td>\n",
       "      <td>Together</td>\n",
       "      <td>71613.0</td>\n",
       "      <td>0</td>\n",
       "      <td>0</td>\n",
       "      <td>21-08-2013</td>\n",
       "      <td>26</td>\n",
       "      <td>426</td>\n",
       "      <td>...</td>\n",
       "      <td>4</td>\n",
       "      <td>0</td>\n",
       "      <td>0</td>\n",
       "      <td>0</td>\n",
       "      <td>0</td>\n",
       "      <td>0</td>\n",
       "      <td>0</td>\n",
       "      <td>3</td>\n",
       "      <td>11</td>\n",
       "      <td>0</td>\n",
       "    </tr>\n",
       "    <tr>\n",
       "      <th>3</th>\n",
       "      <td>6182</td>\n",
       "      <td>1984</td>\n",
       "      <td>Graduation</td>\n",
       "      <td>Together</td>\n",
       "      <td>26646.0</td>\n",
       "      <td>1</td>\n",
       "      <td>0</td>\n",
       "      <td>10-02-2014</td>\n",
       "      <td>26</td>\n",
       "      <td>11</td>\n",
       "      <td>...</td>\n",
       "      <td>6</td>\n",
       "      <td>0</td>\n",
       "      <td>0</td>\n",
       "      <td>0</td>\n",
       "      <td>0</td>\n",
       "      <td>0</td>\n",
       "      <td>0</td>\n",
       "      <td>3</td>\n",
       "      <td>11</td>\n",
       "      <td>0</td>\n",
       "    </tr>\n",
       "    <tr>\n",
       "      <th>4</th>\n",
       "      <td>5324</td>\n",
       "      <td>1981</td>\n",
       "      <td>PhD</td>\n",
       "      <td>Married</td>\n",
       "      <td>58293.0</td>\n",
       "      <td>1</td>\n",
       "      <td>0</td>\n",
       "      <td>19-01-2014</td>\n",
       "      <td>94</td>\n",
       "      <td>173</td>\n",
       "      <td>...</td>\n",
       "      <td>5</td>\n",
       "      <td>0</td>\n",
       "      <td>0</td>\n",
       "      <td>0</td>\n",
       "      <td>0</td>\n",
       "      <td>0</td>\n",
       "      <td>0</td>\n",
       "      <td>3</td>\n",
       "      <td>11</td>\n",
       "      <td>0</td>\n",
       "    </tr>\n",
       "  </tbody>\n",
       "</table>\n",
       "<p>5 rows × 29 columns</p>\n",
       "</div>"
      ],
      "text/plain": [
       "     ID  Year_Birth   Education Marital_Status   Income  Kidhome  Teenhome  \\\n",
       "0  5524        1957  Graduation         Single  58138.0        0         0   \n",
       "1  2174        1954  Graduation         Single  46344.0        1         1   \n",
       "2  4141        1965  Graduation       Together  71613.0        0         0   \n",
       "3  6182        1984  Graduation       Together  26646.0        1         0   \n",
       "4  5324        1981         PhD        Married  58293.0        1         0   \n",
       "\n",
       "  Dt_Customer  Recency  MntWines  ...  NumWebVisitsMonth  AcceptedCmp3  \\\n",
       "0  04-09-2012       58       635  ...                  7             0   \n",
       "1  08-03-2014       38        11  ...                  5             0   \n",
       "2  21-08-2013       26       426  ...                  4             0   \n",
       "3  10-02-2014       26        11  ...                  6             0   \n",
       "4  19-01-2014       94       173  ...                  5             0   \n",
       "\n",
       "   AcceptedCmp4  AcceptedCmp5  AcceptedCmp1  AcceptedCmp2  Complain  \\\n",
       "0             0             0             0             0         0   \n",
       "1             0             0             0             0         0   \n",
       "2             0             0             0             0         0   \n",
       "3             0             0             0             0         0   \n",
       "4             0             0             0             0         0   \n",
       "\n",
       "   Z_CostContact  Z_Revenue  Response  \n",
       "0              3         11         1  \n",
       "1              3         11         0  \n",
       "2              3         11         0  \n",
       "3              3         11         0  \n",
       "4              3         11         0  \n",
       "\n",
       "[5 rows x 29 columns]"
      ]
     },
     "execution_count": 9,
     "metadata": {},
     "output_type": "execute_result"
    }
   ],
   "source": [
    "data.head(5)"
   ]
  },
  {
   "cell_type": "code",
   "execution_count": 10,
   "id": "4c487d34-3b42-4d03-99cc-ecdd4658b3f5",
   "metadata": {},
   "outputs": [
    {
     "name": "stdout",
     "output_type": "stream",
     "text": [
      "<class 'pandas.core.frame.DataFrame'>\n",
      "RangeIndex: 2240 entries, 0 to 2239\n",
      "Data columns (total 29 columns):\n",
      " #   Column               Non-Null Count  Dtype  \n",
      "---  ------               --------------  -----  \n",
      " 0   ID                   2240 non-null   int64  \n",
      " 1   Year_Birth           2240 non-null   int64  \n",
      " 2   Education            2240 non-null   object \n",
      " 3   Marital_Status       2240 non-null   object \n",
      " 4   Income               2216 non-null   float64\n",
      " 5   Kidhome              2240 non-null   int64  \n",
      " 6   Teenhome             2240 non-null   int64  \n",
      " 7   Dt_Customer          2240 non-null   object \n",
      " 8   Recency              2240 non-null   int64  \n",
      " 9   MntWines             2240 non-null   int64  \n",
      " 10  MntFruits            2240 non-null   int64  \n",
      " 11  MntMeatProducts      2240 non-null   int64  \n",
      " 12  MntFishProducts      2240 non-null   int64  \n",
      " 13  MntSweetProducts     2240 non-null   int64  \n",
      " 14  MntGoldProds         2240 non-null   int64  \n",
      " 15  NumDealsPurchases    2240 non-null   int64  \n",
      " 16  NumWebPurchases      2240 non-null   int64  \n",
      " 17  NumCatalogPurchases  2240 non-null   int64  \n",
      " 18  NumStorePurchases    2240 non-null   int64  \n",
      " 19  NumWebVisitsMonth    2240 non-null   int64  \n",
      " 20  AcceptedCmp3         2240 non-null   int64  \n",
      " 21  AcceptedCmp4         2240 non-null   int64  \n",
      " 22  AcceptedCmp5         2240 non-null   int64  \n",
      " 23  AcceptedCmp1         2240 non-null   int64  \n",
      " 24  AcceptedCmp2         2240 non-null   int64  \n",
      " 25  Complain             2240 non-null   int64  \n",
      " 26  Z_CostContact        2240 non-null   int64  \n",
      " 27  Z_Revenue            2240 non-null   int64  \n",
      " 28  Response             2240 non-null   int64  \n",
      "dtypes: float64(1), int64(25), object(3)\n",
      "memory usage: 507.6+ KB\n"
     ]
    }
   ],
   "source": [
    "#basic info\n",
    "data.info()"
   ]
  },
  {
   "cell_type": "code",
   "execution_count": 11,
   "id": "1634ed21-2e7c-4711-affb-d01753511d12",
   "metadata": {},
   "outputs": [
    {
     "data": {
      "text/plain": [
       "['Education', 'Marital_Status', 'Dt_Customer']"
      ]
     },
     "execution_count": 11,
     "metadata": {},
     "output_type": "execute_result"
    }
   ],
   "source": [
    "#list of all categorical column-names\n",
    "categorical_colnames = data.select_dtypes(include=['object']).columns.tolist()\n",
    "categorical_colnames"
   ]
  },
  {
   "cell_type": "code",
   "execution_count": 12,
   "id": "72c266f3-3739-489b-91be-ab1699884271",
   "metadata": {},
   "outputs": [],
   "source": [
    "#remove \"dt_customer\" from the list- those are dates when customers joined\n",
    "#inplace removal\n",
    "categorical_colnames.remove('Dt_Customer')"
   ]
  },
  {
   "cell_type": "code",
   "execution_count": 13,
   "id": "fe9362f8-94fc-4f74-ab6d-91cd72cee0c0",
   "metadata": {},
   "outputs": [
    {
     "name": "stdout",
     "output_type": "stream",
     "text": [
      "Education\n",
      "Graduation    1127\n",
      "PhD            486\n",
      "Master         370\n",
      "2n Cycle       203\n",
      "Basic           54\n",
      "Name: count, dtype: int64\n",
      "\n",
      "Marital_Status\n",
      "Married     864\n",
      "Together    580\n",
      "Single      480\n",
      "Divorced    232\n",
      "Widow        77\n",
      "Alone         3\n",
      "Absurd        2\n",
      "YOLO          2\n",
      "Name: count, dtype: int64\n",
      "\n"
     ]
    }
   ],
   "source": [
    "#find all unique values in each column\n",
    "for colname in categorical_colnames:\n",
    "    print(f\"{data[colname].value_counts()}\")\n",
    "    print()"
   ]
  },
  {
   "cell_type": "code",
   "execution_count": 14,
   "id": "6e6579ca-06d5-4c06-8add-3c5bbfcfec44",
   "metadata": {},
   "outputs": [],
   "source": [
    "#Numerical columns with important data\n",
    "num_columns = ['Income', 'Kidhome', 'Teenhome','Recency','MntWines','MntFruits','MntMeatProducts', 'MntFishProducts',\n",
    "              'MntSweetProducts','MntGoldProds', 'NumDealsPurchases', 'NumWebPurchases','NumCatalogPurchases','NumStorePurchases',\n",
    "              'NumWebVisitsMonth']"
   ]
  },
  {
   "cell_type": "code",
   "execution_count": 15,
   "id": "a32627dd-2f7f-4109-9b7f-808bee9d8605",
   "metadata": {},
   "outputs": [],
   "source": [
    "#stat-description of these columns\n",
    "#data[num_columns].describe().drop([\"count\", \"25%\", \"75%\"])"
   ]
  },
  {
   "cell_type": "markdown",
   "id": "6c296ec1-5123-40f0-9039-8f09cf02c873",
   "metadata": {},
   "source": [
    "### 2. Data Cleaning:\n",
    "\n",
    "1. Missing values- Income column has missing values; those handful of rows will be dropped.\n",
    "2. Incorrect data- Dates are in string format; will be converted to date-time format.\n",
    "3. Categorical features- they will be encoded in numerical form."
   ]
  },
  {
   "cell_type": "markdown",
   "id": "0772363f-e112-48ca-9f06-7506e46eebc5",
   "metadata": {},
   "source": [
    "#### 2.1 Missing values"
   ]
  },
  {
   "cell_type": "code",
   "execution_count": 16,
   "id": "65c1c270-a962-4980-9966-abdea55249e8",
   "metadata": {},
   "outputs": [],
   "source": [
    "#remove missing values\n",
    "data = data.dropna()"
   ]
  },
  {
   "cell_type": "code",
   "execution_count": 17,
   "id": "43d1f19f-5e74-427e-8ce4-0a6f0ae5e0fb",
   "metadata": {},
   "outputs": [
    {
     "name": "stdout",
     "output_type": "stream",
     "text": [
      "total rows in dataframe now: 2216\n"
     ]
    }
   ],
   "source": [
    "#check total number of observations left\n",
    "print(f\"total rows in dataframe now: {len(data)}\")"
   ]
  },
  {
   "cell_type": "markdown",
   "id": "7f024bfb-562d-427c-bf3f-dbea56c3ab5e",
   "metadata": {},
   "source": [
    "#### 2.2 Date of Joining column"
   ]
  },
  {
   "cell_type": "code",
   "execution_count": 18,
   "id": "a11e017f-72de-4b9e-ade5-8a6e172e59f4",
   "metadata": {},
   "outputs": [
    {
     "data": {
      "text/plain": [
       "str"
      ]
     },
     "execution_count": 18,
     "metadata": {},
     "output_type": "execute_result"
    }
   ],
   "source": [
    "#check type\n",
    "type(data.Dt_Customer[1])"
   ]
  },
  {
   "cell_type": "code",
   "execution_count": 19,
   "id": "9205d6d6-b930-4d51-b123-a288bdef5af2",
   "metadata": {},
   "outputs": [],
   "source": [
    "#convert the column to date-time\n",
    "data['Dt_Customer'] = pd.to_datetime(data['Dt_Customer'], format='%d-%m-%Y')"
   ]
  },
  {
   "cell_type": "code",
   "execution_count": 20,
   "id": "f0625259-947a-44ec-a1cf-f54a256ce864",
   "metadata": {},
   "outputs": [
    {
     "data": {
      "text/plain": [
       "count                             2216\n",
       "mean     2013-07-10 11:29:27.509025280\n",
       "min                2012-07-30 00:00:00\n",
       "25%                2013-01-16 00:00:00\n",
       "50%                2013-07-08 12:00:00\n",
       "75%                2013-12-31 00:00:00\n",
       "max                2014-06-29 00:00:00\n",
       "Name: Dt_Customer, dtype: object"
      ]
     },
     "execution_count": 20,
     "metadata": {},
     "output_type": "execute_result"
    }
   ],
   "source": [
    "data['Dt_Customer'].describe()"
   ]
  },
  {
   "cell_type": "code",
   "execution_count": 21,
   "id": "82c8a5be-3356-4f7c-b589-d79a7f09e0ee",
   "metadata": {},
   "outputs": [],
   "source": [
    "dates = []"
   ]
  },
  {
   "cell_type": "code",
   "execution_count": 22,
   "id": "87b037b5-ca6a-42b7-9a87-60411adcb809",
   "metadata": {},
   "outputs": [
    {
     "name": "stdout",
     "output_type": "stream",
     "text": [
      "Newest date of customer enrollment: 2014-06-29\n",
      "Oldest date of customer enrollment: 2012-07-30\n"
     ]
    }
   ],
   "source": [
    "for i in data['Dt_Customer']:\n",
    "    #extract only the date part from date-time format of column\n",
    "    i = i.date()\n",
    "    dates.append(i)\n",
    "#Earliest and most recent date in the dataset\n",
    "print(\"Newest date of customer enrollment:\", max(dates))\n",
    "print(\"Oldest date of customer enrollment:\", min(dates))"
   ]
  },
  {
   "cell_type": "markdown",
   "id": "3bbb2794-919f-4260-80db-00cb88c26e29",
   "metadata": {},
   "source": [
    "Now, I'll create a new feature <b>\"Customer_For\"</b> out of this <b>\"Dt_Customer\"</b>, which contains num. of days a customer has been shopping at this store (with respect to the most recent date in the dataset)."
   ]
  },
  {
   "cell_type": "code",
   "execution_count": 23,
   "id": "2f23d574-f0fa-448e-9766-5014715122cb",
   "metadata": {},
   "outputs": [],
   "source": [
    "#most recent date in database\n",
    "recent_date = max(dates)"
   ]
  },
  {
   "cell_type": "code",
   "execution_count": 24,
   "id": "978ac08b-651b-4ef4-8462-ec82999936ef",
   "metadata": {},
   "outputs": [
    {
     "name": "stdout",
     "output_type": "stream",
     "text": [
      "Number of days is of type datetime right now:  [datetime.timedelta(days=663), datetime.timedelta(days=113)]\n"
     ]
    }
   ],
   "source": [
    "#Creating \"Customer_for\" features\n",
    "#customer-for-xxx-number-of-days\n",
    "\n",
    "#list to store number of days for each customer\n",
    "days = []\n",
    "for i in dates:\n",
    "    #this wont give a date, but a timedelta object.\n",
    "    num_of_days = recent_date - i\n",
    "    #add this to the days-list\n",
    "    days.append(num_of_days)\n",
    "\n",
    "#demo of what the days list values type\n",
    "print(\"Number of days is of type datetime right now: \", days[0:2])"
   ]
  },
  {
   "cell_type": "code",
   "execution_count": 25,
   "id": "c283e7a0-226a-44dc-a007-c7529ff5494c",
   "metadata": {},
   "outputs": [],
   "source": [
    "#Add this list days-count to the dataframe\n",
    "data['Customer_For'] = days\n",
    "#values are time-delta objects, extract days out from them\n",
    "data['Customer_For'] = data['Customer_For'].dt.days\n",
    "#Convert to numeric type\n",
    "data['Customer_For'] = pd.to_numeric(data['Customer_For'])"
   ]
  },
  {
   "cell_type": "code",
   "execution_count": 26,
   "id": "48c588f2-0fe8-42cc-992b-8e998bb51656",
   "metadata": {},
   "outputs": [
    {
     "data": {
      "text/html": [
       "<div>\n",
       "<style scoped>\n",
       "    .dataframe tbody tr th:only-of-type {\n",
       "        vertical-align: middle;\n",
       "    }\n",
       "\n",
       "    .dataframe tbody tr th {\n",
       "        vertical-align: top;\n",
       "    }\n",
       "\n",
       "    .dataframe thead th {\n",
       "        text-align: right;\n",
       "    }\n",
       "</style>\n",
       "<table border=\"1\" class=\"dataframe\">\n",
       "  <thead>\n",
       "    <tr style=\"text-align: right;\">\n",
       "      <th></th>\n",
       "      <th>ID</th>\n",
       "      <th>Dt_Customer</th>\n",
       "      <th>Customer_For</th>\n",
       "    </tr>\n",
       "  </thead>\n",
       "  <tbody>\n",
       "    <tr>\n",
       "      <th>0</th>\n",
       "      <td>5524</td>\n",
       "      <td>2012-09-04</td>\n",
       "      <td>663</td>\n",
       "    </tr>\n",
       "    <tr>\n",
       "      <th>1</th>\n",
       "      <td>2174</td>\n",
       "      <td>2014-03-08</td>\n",
       "      <td>113</td>\n",
       "    </tr>\n",
       "    <tr>\n",
       "      <th>2</th>\n",
       "      <td>4141</td>\n",
       "      <td>2013-08-21</td>\n",
       "      <td>312</td>\n",
       "    </tr>\n",
       "  </tbody>\n",
       "</table>\n",
       "</div>"
      ],
      "text/plain": [
       "     ID Dt_Customer  Customer_For\n",
       "0  5524  2012-09-04           663\n",
       "1  2174  2014-03-08           113\n",
       "2  4141  2013-08-21           312"
      ]
     },
     "execution_count": 26,
     "metadata": {},
     "output_type": "execute_result"
    }
   ],
   "source": [
    "data[['ID', 'Dt_Customer', 'Customer_For']].head(3)"
   ]
  },
  {
   "cell_type": "markdown",
   "id": "32c6190c-65a9-443f-8ac8-a4916bf1623c",
   "metadata": {},
   "source": [
    "#### 2.3 Create New Features"
   ]
  },
  {
   "cell_type": "markdown",
   "id": "969ad8ab-9c93-410e-8d70-c143759bc70d",
   "metadata": {},
   "source": [
    "##### A. Age of customers"
   ]
  },
  {
   "cell_type": "code",
   "execution_count": 27,
   "id": "7a78257b-e8c0-4338-bfc8-9e3eb0ec3c25",
   "metadata": {},
   "outputs": [
    {
     "data": {
      "text/plain": [
       "int"
      ]
     },
     "execution_count": 27,
     "metadata": {},
     "output_type": "execute_result"
    }
   ],
   "source": [
    "type(recent_date.year)"
   ]
  },
  {
   "cell_type": "code",
   "execution_count": 28,
   "id": "9e2e1e8c-48f6-4ac2-b1da-cfcf0648eb4f",
   "metadata": {},
   "outputs": [],
   "source": [
    "#age will be calculated from 2014, the most recent date in dataset\n",
    "age = []\n",
    "recent_year = recent_date.year\n",
    "for i in data['Year_Birth']:\n",
    "    customer_age = recent_year - i\n",
    "    age.append(customer_age)"
   ]
  },
  {
   "cell_type": "code",
   "execution_count": 29,
   "id": "03945ab8-ffe5-4061-9343-524e06d9157a",
   "metadata": {},
   "outputs": [
    {
     "name": "stdout",
     "output_type": "stream",
     "text": [
      "maximum age 121\n",
      "minimum age 18\n"
     ]
    }
   ],
   "source": [
    "#add this list to dataframe\n",
    "data['customer_age'] = age\n",
    "print(\"maximum age\", max(data.customer_age))\n",
    "print(\"minimum age\", min(data.customer_age))"
   ]
  },
  {
   "cell_type": "markdown",
   "id": "c5566f8d-2342-48ad-9971-cd1d32d91c10",
   "metadata": {},
   "source": [
    "Maximum age of 121 seems bizarre.  \n",
    "Let's have a look at the age-distribution of all customers.  \n",
    "These discrepancies will be corrected in upcoming sections."
   ]
  },
  {
   "cell_type": "code",
   "execution_count": 30,
   "id": "5dd3a365-f4e2-409c-9bb2-4938af129016",
   "metadata": {},
   "outputs": [
    {
     "data": {
      "text/plain": [
       "count    2216.000000\n",
       "mean       45.179603\n",
       "std        11.985554\n",
       "min        18.000000\n",
       "25%        37.000000\n",
       "50%        44.000000\n",
       "75%        55.000000\n",
       "max       121.000000\n",
       "Name: customer_age, dtype: float64"
      ]
     },
     "execution_count": 30,
     "metadata": {},
     "output_type": "execute_result"
    }
   ],
   "source": [
    "data['customer_age'].describe()"
   ]
  },
  {
   "cell_type": "markdown",
   "id": "daeecf38-c6a3-4faf-884d-14ce02f526ca",
   "metadata": {},
   "source": [
    "99% of customers in this dataset are below the age of 69.  \n",
    "There, definitely are some outliers in the dataset."
   ]
  },
  {
   "cell_type": "code",
   "execution_count": 31,
   "id": "4bafe8e0-e336-44e0-9996-44648632bbbb",
   "metadata": {},
   "outputs": [
    {
     "data": {
      "text/plain": [
       "np.float64(69.0)"
      ]
     },
     "execution_count": 31,
     "metadata": {},
     "output_type": "execute_result"
    }
   ],
   "source": [
    "#finding out the 95th percentile of age\n",
    "data['customer_age'].quantile(0.99)"
   ]
  },
  {
   "cell_type": "markdown",
   "id": "d1d92081-0524-43b2-8ea3-907ef1c13953",
   "metadata": {},
   "source": [
    "<h5>b. Total amount spent by each customer in 2 years</h5>"
   ]
  },
  {
   "cell_type": "code",
   "execution_count": 32,
   "id": "9c32108e-e6e8-424a-81ac-58c3041be00a",
   "metadata": {},
   "outputs": [
    {
     "data": {
      "text/plain": [
       "Index(['MntWines', 'MntFruits', 'MntMeatProducts', 'MntFishProducts',\n",
       "       'MntSweetProducts', 'MntGoldProds'],\n",
       "      dtype='object')"
      ]
     },
     "execution_count": 32,
     "metadata": {},
     "output_type": "execute_result"
    }
   ],
   "source": [
    "#see names of all columns starting with \"Mnt\"\n",
    "data.columns[data.columns.str.startswith('Mnt')]"
   ]
  },
  {
   "cell_type": "code",
   "execution_count": 33,
   "id": "451e14f0-4d98-4ce0-84b6-fc0151aaf2be",
   "metadata": {},
   "outputs": [],
   "source": [
    "#add values of all column starting with \"Mnt\"\n",
    "data['total_spent'] = data.loc[:, data.columns.str.startswith('Mnt')].sum(axis=1)"
   ]
  },
  {
   "cell_type": "code",
   "execution_count": 34,
   "id": "d390c132-59a1-440c-8664-9a62d2f8e653",
   "metadata": {},
   "outputs": [
    {
     "data": {
      "text/plain": [
       "count    2216.000000\n",
       "mean      607.075361\n",
       "std       602.900476\n",
       "min         5.000000\n",
       "25%        69.000000\n",
       "50%       396.500000\n",
       "75%      1048.000000\n",
       "max      2525.000000\n",
       "Name: total_spent, dtype: float64"
      ]
     },
     "execution_count": 34,
     "metadata": {},
     "output_type": "execute_result"
    }
   ],
   "source": [
    "data['total_spent'].describe()"
   ]
  },
  {
   "cell_type": "markdown",
   "id": "93e2dfb7-7ec3-42ea-ad6a-14f7a3330234",
   "metadata": {},
   "source": [
    "<h5>c. Living situation from marital status of customer</h5>"
   ]
  },
  {
   "cell_type": "code",
   "execution_count": 35,
   "id": "00c52859-4fe6-439a-867d-5d083c823ec1",
   "metadata": {},
   "outputs": [
    {
     "data": {
      "text/plain": [
       "Marital_Status\n",
       "Married     857\n",
       "Together    573\n",
       "Single      471\n",
       "Divorced    232\n",
       "Widow        76\n",
       "Alone         3\n",
       "Absurd        2\n",
       "YOLO          2\n",
       "Name: count, dtype: int64"
      ]
     },
     "execution_count": 35,
     "metadata": {},
     "output_type": "execute_result"
    }
   ],
   "source": [
    "#all unique values in the marital status column\n",
    "data['Marital_Status'].value_counts()"
   ]
  },
  {
   "cell_type": "markdown",
   "id": "056a5961-ef06-483b-87cf-8cf8f0d0b520",
   "metadata": {},
   "source": [
    "\"Married\" and \"Together\" values will be replaced with \"Partner\".  \n",
    "All other values will be replaced with \"Alone\".  \n",
    "This is being done to simplify the living-status of customer."
   ]
  },
  {
   "cell_type": "code",
   "execution_count": 36,
   "id": "059deac7-1aed-4f44-b970-8685a1989844",
   "metadata": {},
   "outputs": [],
   "source": [
    "data['living_with'] = data['Marital_Status'].replace({'Married':'Partner', \n",
    "                                                         'Together':'Partner',\n",
    "                                                        'Single':'Alone',\n",
    "                                                        'Divorced':'Alone',\n",
    "                                                        'Widow':'Alone',\n",
    "                                                        'Absurd':'Alone',\n",
    "                                                        'YOLO':'Alone'}\n",
    "                                                       )"
   ]
  },
  {
   "cell_type": "code",
   "execution_count": 37,
   "id": "3292b018-49f9-43c6-bc3e-d2dff8250b8f",
   "metadata": {},
   "outputs": [
    {
     "data": {
      "text/plain": [
       "living_with\n",
       "Partner    1430\n",
       "Alone       786\n",
       "Name: count, dtype: int64"
      ]
     },
     "execution_count": 37,
     "metadata": {},
     "output_type": "execute_result"
    }
   ],
   "source": [
    "data['living_with'].value_counts()"
   ]
  },
  {
   "cell_type": "markdown",
   "id": "ff299184-546e-4950-b747-1d90f9a4e9d7",
   "metadata": {},
   "source": [
    "<h5>d. Total children in house</h5>"
   ]
  },
  {
   "cell_type": "code",
   "execution_count": 38,
   "id": "5582eb9a-51ae-4df8-b8aa-dd0505ea62e3",
   "metadata": {},
   "outputs": [],
   "source": [
    "data['children'] = data['Kidhome'] + data['Teenhome']"
   ]
  },
  {
   "cell_type": "code",
   "execution_count": 39,
   "id": "29519297-3bd0-4c34-98e7-f7970477b355",
   "metadata": {},
   "outputs": [
    {
     "data": {
      "text/plain": [
       "children\n",
       "1    1117\n",
       "0     633\n",
       "2     416\n",
       "3      50\n",
       "Name: count, dtype: int64"
      ]
     },
     "execution_count": 39,
     "metadata": {},
     "output_type": "execute_result"
    }
   ],
   "source": [
    "data['children'].value_counts()"
   ]
  },
  {
   "cell_type": "markdown",
   "id": "0d73a456-0f56-40f1-838e-9cbe5c2c0a03",
   "metadata": {},
   "source": [
    "<h5>e. Total members in family</h5>"
   ]
  },
  {
   "cell_type": "code",
   "execution_count": 40,
   "id": "5cb12237-0e9e-4477-a352-b3940bd84bca",
   "metadata": {},
   "outputs": [
    {
     "name": "stderr",
     "output_type": "stream",
     "text": [
      "C:\\Users\\shefa\\AppData\\Local\\Temp\\ipykernel_8280\\2449182206.py:1: FutureWarning: Downcasting behavior in `replace` is deprecated and will be removed in a future version. To retain the old behavior, explicitly call `result.infer_objects(copy=False)`. To opt-in to the future behavior, set `pd.set_option('future.no_silent_downcasting', True)`\n",
      "  data['family_size'] = data['living_with'].replace({'Partner':2, 'Alone':1}).infer_objects(copy=False) + data['children']\n"
     ]
    }
   ],
   "source": [
    "data['family_size'] = data['living_with'].replace({'Partner':2, 'Alone':1}).infer_objects(copy=False) + data['children']"
   ]
  },
  {
   "cell_type": "code",
   "execution_count": 41,
   "id": "4a779089-cfb4-46c2-9d9e-aec07e0ec128",
   "metadata": {},
   "outputs": [
    {
     "data": {
      "text/plain": [
       "family_size\n",
       "3    880\n",
       "2    757\n",
       "4    296\n",
       "1    252\n",
       "5     31\n",
       "Name: count, dtype: int64"
      ]
     },
     "execution_count": 41,
     "metadata": {},
     "output_type": "execute_result"
    }
   ],
   "source": [
    "data['family_size'].value_counts()"
   ]
  },
  {
   "cell_type": "markdown",
   "id": "0f43cdd5-7944-481b-8309-069b2fa54dc6",
   "metadata": {},
   "source": [
    "<h5>f. Feature indicating parenthoood</h5>"
   ]
  },
  {
   "cell_type": "code",
   "execution_count": 42,
   "id": "f2499712-66e6-44f6-8dae-377666984dbf",
   "metadata": {},
   "outputs": [],
   "source": [
    "#1 for parenthood, 0 for none\n",
    "data['parenthood'] = (data['children'] > 0).astype(int)"
   ]
  },
  {
   "cell_type": "code",
   "execution_count": 43,
   "id": "34cbdd59-0b4c-4962-a453-6c69bd75672b",
   "metadata": {},
   "outputs": [
    {
     "data": {
      "text/html": [
       "<div>\n",
       "<style scoped>\n",
       "    .dataframe tbody tr th:only-of-type {\n",
       "        vertical-align: middle;\n",
       "    }\n",
       "\n",
       "    .dataframe tbody tr th {\n",
       "        vertical-align: top;\n",
       "    }\n",
       "\n",
       "    .dataframe thead th {\n",
       "        text-align: right;\n",
       "    }\n",
       "</style>\n",
       "<table border=\"1\" class=\"dataframe\">\n",
       "  <thead>\n",
       "    <tr style=\"text-align: right;\">\n",
       "      <th></th>\n",
       "      <th>children</th>\n",
       "      <th>parenthood</th>\n",
       "    </tr>\n",
       "  </thead>\n",
       "  <tbody>\n",
       "    <tr>\n",
       "      <th>0</th>\n",
       "      <td>0</td>\n",
       "      <td>0</td>\n",
       "    </tr>\n",
       "    <tr>\n",
       "      <th>1</th>\n",
       "      <td>2</td>\n",
       "      <td>1</td>\n",
       "    </tr>\n",
       "    <tr>\n",
       "      <th>2</th>\n",
       "      <td>0</td>\n",
       "      <td>0</td>\n",
       "    </tr>\n",
       "    <tr>\n",
       "      <th>3</th>\n",
       "      <td>1</td>\n",
       "      <td>1</td>\n",
       "    </tr>\n",
       "  </tbody>\n",
       "</table>\n",
       "</div>"
      ],
      "text/plain": [
       "   children  parenthood\n",
       "0         0           0\n",
       "1         2           1\n",
       "2         0           0\n",
       "3         1           1"
      ]
     },
     "execution_count": 43,
     "metadata": {},
     "output_type": "execute_result"
    }
   ],
   "source": [
    "data[['children', 'parenthood']].head(4)"
   ]
  },
  {
   "cell_type": "markdown",
   "id": "69f3cc31-c4d2-4481-8978-dc4d8b8087da",
   "metadata": {},
   "source": [
    "<h5>g. Create only 3 categories for Education level</h5>"
   ]
  },
  {
   "cell_type": "code",
   "execution_count": 44,
   "id": "41801b53-478c-4c43-adc0-05f599bd7951",
   "metadata": {},
   "outputs": [
    {
     "data": {
      "text/plain": [
       "Education\n",
       "Graduation    1116\n",
       "PhD            481\n",
       "Master         365\n",
       "2n Cycle       200\n",
       "Basic           54\n",
       "Name: count, dtype: int64"
      ]
     },
     "execution_count": 44,
     "metadata": {},
     "output_type": "execute_result"
    }
   ],
   "source": [
    "data['Education'].value_counts()"
   ]
  },
  {
   "cell_type": "code",
   "execution_count": 45,
   "id": "88ae149a-f162-4fc8-b4ec-db4c208b73b3",
   "metadata": {},
   "outputs": [],
   "source": [
    "data['edu_level'] = data['Education'].replace({'Basic':'Undergraduate', \n",
    "                                              '2n Cycle': 'Undergraduate',\n",
    "                                              'Graduation':'Graduate',\n",
    "                                              'Master':'Postgraduate',\n",
    "                                              'PhD':'Postgraduate'})"
   ]
  },
  {
   "cell_type": "markdown",
   "id": "16daa2d0-7c2f-4751-a239-a13ac3cbd303",
   "metadata": {},
   "source": [
    "<h5>h. Rename some columns</h5>"
   ]
  },
  {
   "cell_type": "code",
   "execution_count": 46,
   "id": "6715b236-c2f4-4269-92bf-680cfb78e3e2",
   "metadata": {},
   "outputs": [
    {
     "data": {
      "text/plain": [
       "Index(['MntWines', 'MntFruits', 'MntMeatProducts', 'MntFishProducts',\n",
       "       'MntSweetProducts', 'MntGoldProds'],\n",
       "      dtype='object')"
      ]
     },
     "execution_count": 46,
     "metadata": {},
     "output_type": "execute_result"
    }
   ],
   "source": [
    "data.columns[data.columns.str.startswith('Mnt')]"
   ]
  },
  {
   "cell_type": "code",
   "execution_count": 47,
   "id": "fa409587-1140-4fd8-a512-c7e9749e2abf",
   "metadata": {},
   "outputs": [],
   "source": [
    "data = data.rename(columns={'MntWines':'Wine', 'MntFruits':'Fruits', 'MntMeatProducts':'Meat',\n",
    "                   'MntFishProducts':'Fish','MntSweetProducts':'Sweets', 'MntGoldProds':'Gold'})"
   ]
  },
  {
   "cell_type": "markdown",
   "id": "19f9d7a6-19e1-4789-8347-e21878ee876e",
   "metadata": {},
   "source": [
    "<h5>i. Drop redundant features</h5>"
   ]
  },
  {
   "cell_type": "code",
   "execution_count": 48,
   "id": "0cea1902-1f8c-4aa8-967e-d90d616c4687",
   "metadata": {},
   "outputs": [
    {
     "data": {
      "text/plain": [
       "Index(['ID', 'Year_Birth', 'Education', 'Marital_Status', 'Income', 'Kidhome',\n",
       "       'Teenhome', 'Dt_Customer', 'Recency', 'Wine', 'Fruits', 'Meat', 'Fish',\n",
       "       'Sweets', 'Gold', 'NumDealsPurchases', 'NumWebPurchases',\n",
       "       'NumCatalogPurchases', 'NumStorePurchases', 'NumWebVisitsMonth',\n",
       "       'AcceptedCmp3', 'AcceptedCmp4', 'AcceptedCmp5', 'AcceptedCmp1',\n",
       "       'AcceptedCmp2', 'Complain', 'Z_CostContact', 'Z_Revenue', 'Response',\n",
       "       'Customer_For', 'customer_age', 'total_spent', 'living_with',\n",
       "       'children', 'family_size', 'parenthood', 'edu_level'],\n",
       "      dtype='object')"
      ]
     },
     "execution_count": 48,
     "metadata": {},
     "output_type": "execute_result"
    }
   ],
   "source": [
    "data.columns"
   ]
  },
  {
   "cell_type": "code",
   "execution_count": 49,
   "id": "b03df2a8-cda6-4ce7-be25-a07d08b680e9",
   "metadata": {},
   "outputs": [],
   "source": [
    "cols_to_drop = ['Year_Birth', 'Marital_Status', 'Dt_Customer', 'Z_CostContact','Z_Revenue', 'ID', 'Education']\n",
    "#remove these columns from dataframe\n",
    "data = data.drop(cols_to_drop, axis=1)"
   ]
  },
  {
   "cell_type": "code",
   "execution_count": 50,
   "id": "377994cc-2089-4b82-a680-4475911fe945",
   "metadata": {},
   "outputs": [
    {
     "data": {
      "text/plain": [
       "Complain\n",
       "0    2195\n",
       "1      21\n",
       "Name: count, dtype: int64"
      ]
     },
     "execution_count": 50,
     "metadata": {},
     "output_type": "execute_result"
    }
   ],
   "source": [
    "data['Complain'].value_counts()"
   ]
  },
  {
   "cell_type": "markdown",
   "id": "6aafb39c-9d53-4765-b8d5-db49db6d4359",
   "metadata": {},
   "source": [
    "<h4>4. Visual Analysis of features</h4>"
   ]
  },
  {
   "cell_type": "code",
   "execution_count": 51,
   "id": "ce5a9c28-a854-4368-af51-5e632523583a",
   "metadata": {},
   "outputs": [],
   "source": [
    "numerical_cols = ['customer_age', 'Customer_For', 'Income','total_spent', 'Recency']"
   ]
  },
  {
   "cell_type": "code",
   "execution_count": 52,
   "id": "cec92cf1-8aef-4a01-8a9b-1c880b518141",
   "metadata": {},
   "outputs": [
    {
     "data": {
      "text/html": [
       "<div>\n",
       "<style scoped>\n",
       "    .dataframe tbody tr th:only-of-type {\n",
       "        vertical-align: middle;\n",
       "    }\n",
       "\n",
       "    .dataframe tbody tr th {\n",
       "        vertical-align: top;\n",
       "    }\n",
       "\n",
       "    .dataframe thead th {\n",
       "        text-align: right;\n",
       "    }\n",
       "</style>\n",
       "<table border=\"1\" class=\"dataframe\">\n",
       "  <thead>\n",
       "    <tr style=\"text-align: right;\">\n",
       "      <th></th>\n",
       "      <th>customer_age</th>\n",
       "      <th>Customer_For</th>\n",
       "      <th>Income</th>\n",
       "      <th>total_spent</th>\n",
       "      <th>Recency</th>\n",
       "    </tr>\n",
       "  </thead>\n",
       "  <tbody>\n",
       "    <tr>\n",
       "      <th>count</th>\n",
       "      <td>2216.000000</td>\n",
       "      <td>2216.000000</td>\n",
       "      <td>2216.000000</td>\n",
       "      <td>2216.000000</td>\n",
       "      <td>2216.000000</td>\n",
       "    </tr>\n",
       "    <tr>\n",
       "      <th>mean</th>\n",
       "      <td>45.179603</td>\n",
       "      <td>353.521209</td>\n",
       "      <td>52247.251354</td>\n",
       "      <td>607.075361</td>\n",
       "      <td>49.012635</td>\n",
       "    </tr>\n",
       "    <tr>\n",
       "      <th>std</th>\n",
       "      <td>11.985554</td>\n",
       "      <td>202.434667</td>\n",
       "      <td>25173.076661</td>\n",
       "      <td>602.900476</td>\n",
       "      <td>28.948352</td>\n",
       "    </tr>\n",
       "    <tr>\n",
       "      <th>min</th>\n",
       "      <td>18.000000</td>\n",
       "      <td>0.000000</td>\n",
       "      <td>1730.000000</td>\n",
       "      <td>5.000000</td>\n",
       "      <td>0.000000</td>\n",
       "    </tr>\n",
       "    <tr>\n",
       "      <th>25%</th>\n",
       "      <td>37.000000</td>\n",
       "      <td>180.000000</td>\n",
       "      <td>35303.000000</td>\n",
       "      <td>69.000000</td>\n",
       "      <td>24.000000</td>\n",
       "    </tr>\n",
       "    <tr>\n",
       "      <th>50%</th>\n",
       "      <td>44.000000</td>\n",
       "      <td>355.500000</td>\n",
       "      <td>51381.500000</td>\n",
       "      <td>396.500000</td>\n",
       "      <td>49.000000</td>\n",
       "    </tr>\n",
       "    <tr>\n",
       "      <th>75%</th>\n",
       "      <td>55.000000</td>\n",
       "      <td>529.000000</td>\n",
       "      <td>68522.000000</td>\n",
       "      <td>1048.000000</td>\n",
       "      <td>74.000000</td>\n",
       "    </tr>\n",
       "    <tr>\n",
       "      <th>max</th>\n",
       "      <td>121.000000</td>\n",
       "      <td>699.000000</td>\n",
       "      <td>666666.000000</td>\n",
       "      <td>2525.000000</td>\n",
       "      <td>99.000000</td>\n",
       "    </tr>\n",
       "  </tbody>\n",
       "</table>\n",
       "</div>"
      ],
      "text/plain": [
       "       customer_age  Customer_For         Income  total_spent      Recency\n",
       "count   2216.000000   2216.000000    2216.000000  2216.000000  2216.000000\n",
       "mean      45.179603    353.521209   52247.251354   607.075361    49.012635\n",
       "std       11.985554    202.434667   25173.076661   602.900476    28.948352\n",
       "min       18.000000      0.000000    1730.000000     5.000000     0.000000\n",
       "25%       37.000000    180.000000   35303.000000    69.000000    24.000000\n",
       "50%       44.000000    355.500000   51381.500000   396.500000    49.000000\n",
       "75%       55.000000    529.000000   68522.000000  1048.000000    74.000000\n",
       "max      121.000000    699.000000  666666.000000  2525.000000    99.000000"
      ]
     },
     "execution_count": 52,
     "metadata": {},
     "output_type": "execute_result"
    }
   ],
   "source": [
    "data[numerical_cols].describe()"
   ]
  },
  {
   "cell_type": "markdown",
   "id": "abdab29b-0dff-4122-b701-d4701fd097e2",
   "metadata": {},
   "source": [
    "Max value in income and age of customers seems way off from the median and 75th percentile.  \n",
    "A visual analysis might help detect outliers."
   ]
  },
  {
   "cell_type": "code",
   "execution_count": 53,
   "id": "8cd31162-3d8b-41fe-8935-4f573c5f28f4",
   "metadata": {},
   "outputs": [],
   "source": [
    "#features to plot\n",
    "columns_to_plot = ['customer_age', 'Income', 'parenthood']"
   ]
  },
  {
   "cell_type": "code",
   "execution_count": 54,
   "id": "c25b854e-be4a-499a-a593-fbbd4e3edcbf",
   "metadata": {},
   "outputs": [
    {
     "data": {
      "text/plain": [
       "<Figure size 640x480 with 0 Axes>"
      ]
     },
     "metadata": {},
     "output_type": "display_data"
    },
    {
     "data": {
      "image/png": "[encoded data removed]",
      "text/plain": [
       "<Figure size 596.597x500 with 6 Axes>"
      ]
     },
     "metadata": {},
     "output_type": "display_data"
    }
   ],
   "source": [
    "#Setting up colors prefrences\n",
    "sns.set(rc={\"axes.facecolor\":\"#FFF9ED\",\"figure.facecolor\":\"#FFF9ED\"})\n",
    "#pallet = [\"#682F2F\", \"#9E726F\", \"#D6B2B1\", \"#B9C0C9\", \"#9F8A78\", \"#F3AB60\"]\n",
    "#cmap = colors.ListedColormap([\"#682F2F\", \"#9E726F\", \"#D6B2B1\", \"#B9C0C9\", \"#9F8A78\", \"#F3AB60\"])\n",
    "\n",
    "plt.figure()\n",
    "sns.pairplot(data[columns_to_plot], hue='parenthood',\n",
    "             palette= ([\"#682F2F\",\"#F3AB60\"]))\n",
    "plt.show()"
   ]
  },
  {
   "cell_type": "code",
   "execution_count": 55,
   "id": "521f141f-b43b-43fb-a15b-ae72b2e284a5",
   "metadata": {},
   "outputs": [],
   "source": [
    "#Drop rows with outliers\n",
    "\n",
    "data = data[(data[\"customer_age\"]<90)]"
   ]
  },
  {
   "cell_type": "code",
   "execution_count": 56,
   "id": "fa48cab2-24d1-4f4a-a7f4-3f71ea3ac71c",
   "metadata": {},
   "outputs": [],
   "source": [
    "data = data[(data['Income'] < 600000)]"
   ]
  },
  {
   "cell_type": "code",
   "execution_count": 57,
   "id": "031ad932-6100-42a8-bfb5-86c298532db2",
   "metadata": {},
   "outputs": [
    {
     "data": {
      "text/plain": [
       "(2212, 30)"
      ]
     },
     "execution_count": 57,
     "metadata": {},
     "output_type": "execute_result"
    }
   ],
   "source": [
    "data.shape"
   ]
  },
  {
   "cell_type": "markdown",
   "id": "ce0fd40f-7867-440b-a764-a3533e664fe7",
   "metadata": {},
   "source": [
    "<h3>3. Data Preprocessing</h3>"
   ]
  },
  {
   "cell_type": "markdown",
   "id": "46709d29-d3c3-419f-8adc-f485090b130d",
   "metadata": {},
   "source": [
    "In this section, I'll preprocess the features to perform clustering operations."
   ]
  },
  {
   "cell_type": "markdown",
   "id": "5a069661-0a89-4c2f-afeb-7e5e81e25b64",
   "metadata": {},
   "source": [
    "Following steps will be taken in this section:\n",
    "<ul>\n",
    "    <li>Feature encoding of categorical columns.</li>\n",
    "    <li>Feature scaling using standard-scalar.</li>\n",
    "    <li>Create subset dataframe for dimensionality reduction.</li>\n",
    "</ul>"
   ]
  },
  {
   "cell_type": "code",
   "execution_count": 58,
   "id": "5639c176-bba5-4d7c-b321-db4ad0fb0308",
   "metadata": {},
   "outputs": [],
   "source": [
    "s = (data.dtypes == 'object')"
   ]
  },
  {
   "cell_type": "code",
   "execution_count": 59,
   "id": "7c50df12-da91-4b62-979f-dc02952afe6d",
   "metadata": {},
   "outputs": [],
   "source": [
    "#categorical columns\n",
    "cat_columns = list(s[s].index)"
   ]
  },
  {
   "cell_type": "code",
   "execution_count": 62,
   "id": "1554817d-8206-475f-99ac-e14478de6b3f",
   "metadata": {},
   "outputs": [
    {
     "data": {
      "text/plain": [
       "['living_with', 'edu_level']"
      ]
     },
     "execution_count": 62,
     "metadata": {},
     "output_type": "execute_result"
    }
   ],
   "source": [
    "cat_columns"
   ]
  },
  {
   "cell_type": "code",
   "execution_count": 67,
   "id": "35139cfa-640c-4911-94c0-c0c9d615b25e",
   "metadata": {},
   "outputs": [],
   "source": [
    "#instantiate Label-Encoder\n",
    "le = LabelEncoder()\n",
    "for i in cat_columns:\n",
    "    data[i] = data[[i]].apply(le.fit_transform)"
   ]
  }
 ],
 "metadata": {
  "kernelspec": {
   "display_name": "Python 3 (ipykernel)",
   "language": "python",
   "name": "python3"
  },
  "language_info": {
   "codemirror_mode": {
    "name": "ipython",
    "version": 3
   },
   "file_extension": ".py",
   "mimetype": "text/x-python",
   "name": "python",
   "nbconvert_exporter": "python",
   "pygments_lexer": "ipython3",
   "version": "3.11.8"
  }
 },
 "nbformat": 4,
 "nbformat_minor": 5
}

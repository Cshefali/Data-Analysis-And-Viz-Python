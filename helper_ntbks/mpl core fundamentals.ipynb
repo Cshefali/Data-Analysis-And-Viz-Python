{
 "cells": [
  {
   "cell_type": "markdown",
   "id": "de227ad3-8988-4eea-861a-002238a03b97",
   "metadata": {},
   "source": [
    "## Introduction"
   ]
  },
  {
   "cell_type": "markdown",
   "id": "84d5fce5-67a0-446f-a43e-50a94bda7fc0",
   "metadata": {},
   "source": [
    "**[This, here on kaggle](https://www.kaggle.com/code/bextuychiev/how-to-touch-into-heart-of-matplotlib-a-create)** is a great article on the internal workings of matplotlib.  \n",
    "A sound understanding of underlying ___Artist layer___ will help in tweaking each component of a plot, from a single dot to entire containers.  \n",
    "Refer this and keep adding more notes to this notebook."
   ]
  },
  {
   "cell_type": "code",
   "execution_count": 1,
   "id": "e118a5bc-e0b3-4d7d-92a8-6c168bbf43dc",
   "metadata": {},
   "outputs": [],
   "source": [
    "import numpy as np\n",
    "import matplotlib.pyplot as plt\n"
   ]
  },
  {
   "cell_type": "markdown",
   "id": "d2b5d1ac-0886-417d-a9a3-d147d7b41215",
   "metadata": {},
   "source": [
    "### 1. Blank plot"
   ]
  },
  {
   "cell_type": "code",
   "execution_count": 5,
   "id": "d61f7c95-2df4-492d-a2b4-11baa80eb55f",
   "metadata": {},
   "outputs": [
    {
     "data": {
      "image/png": "[encoded data removed]",
      "text/plain": [
       "<Figure size 400x200 with 1 Axes>"
      ]
     },
     "metadata": {},
     "output_type": "display_data"
    }
   ],
   "source": [
    "#creates a blank container for a plot\n",
    "#fig = plt.figure()\n",
    "#used to add blank X-Y lines\n",
    "#ax = fig.add_axes()\n",
    "fig, ax = plt.subplots(figsize = (4,2))\n",
    "plt.show()"
   ]
  },
  {
   "cell_type": "markdown",
   "id": "d1afdb17-3c88-4dce-bf15-9d956e60b620",
   "metadata": {},
   "source": [
    "- Each object in matplotlib like figure container (fig), X-Y coordinates object (ax), dots in scatter plot etc. contains several functions.\n",
    "- The entire list can be seen using the function **`dir(object-name)`**.\n",
    "- The **`get_*()`** functions are used to control each component of this object.\n",
    "- For e.g. **`fig.get_axes()`** can be used to get the X-Y axes of the plot."
   ]
  },
  {
   "cell_type": "markdown",
   "id": "2622ba8d-987f-4d9b-9424-b69beaf3baed",
   "metadata": {},
   "source": [
    "### 2. How to check all available attributes & functions for MPL object?"
   ]
  },
  {
   "cell_type": "code",
   "execution_count": 33,
   "id": "93017fed-03fe-48a1-8a76-f1a053d0b031",
   "metadata": {
    "scrolled": true
   },
   "outputs": [
    {
     "name": "stdout",
     "output_type": "stream",
     "text": [
      "['__class__', '__delattr__', '__dict__', '__dir__', '__doc__', '__eq__', '__format__', '__ge__', '__getattribute__', '__getstate__', '__gt__', '__hash__', '__init__', '__init_subclass__', '__le__', '__lt__', '__module__', '__ne__', '__new__', '__reduce__', '__reduce_ex__', '__repr__', '__setattr__', '__setstate__', '__sizeof__', '__str__', '__subclasshook__', '__weakref__', '_add_axes_internal', '_agg_filter', '_align_label_groups', '_alpha', '_animated', '_axobservers', '_axstack', '_button_pick_id', '_callbacks', '_canvas_callbacks', '_check_layout_engines_compat', '_clipon', '_clippath', '_cm_set', '_different_canvas', '_dpi']\n"
     ]
    }
   ],
   "source": [
    "#to see all functions available in fig class\n",
    "#total 243 functions & attributes available. View only first 45\n",
    "print(dir(fig)[1:45])"
   ]
  },
  {
   "cell_type": "code",
   "execution_count": 35,
   "id": "400204e8-2566-4cfe-904d-0ed3b546d770",
   "metadata": {},
   "outputs": [
    {
     "name": "stdout",
     "output_type": "stream",
     "text": [
      "['_AxesBase__clear', '_PROPERTIES_EXCLUDED_FROM_SET', '__class__', '__delattr__', '__dict__', '__dir__', '__doc__', '__eq__', '__format__', '__ge__', '__getattribute__', '__getstate__', '__gt__', '__hash__', '__init__', '__init_subclass__', '__le__', '__lt__', '__module__', '__ne__', '__new__', '__reduce__', '__reduce_ex__', '__repr__', '__setattr__', '__setstate__', '__sizeof__', '__str__', '__subclasshook__', '__weakref__', '_add_text', '_adjustable', '_agg_filter', '_alias_map', '_alpha', '_anchor', '_animated', '_aspect', '_autotitlepos', '_axes', '_axes_locator', '_axis_map', '_axis_names', '_axisbelow']\n"
     ]
    }
   ],
   "source": [
    "#all attributes and functions available for \"ax\"\n",
    "#printing only first 25 (there are 445)\n",
    "print(dir(ax)[1:45])"
   ]
  },
  {
   "cell_type": "markdown",
   "id": "2e75f11a-c0af-425f-ac93-ba684e06968f",
   "metadata": {},
   "source": [
    "### 3. Dummy Plot"
   ]
  },
  {
   "cell_type": "code",
   "execution_count": 39,
   "id": "442569bc-7976-4ffc-8197-74be91a4e9bc",
   "metadata": {},
   "outputs": [],
   "source": [
    "# Create the data to plot\n",
    "X = np.linspace(0.5, 3.5, 100)\n",
    "Y1 = 3 + np.cos(X)\n",
    "Y2 = 1 + np.cos(1 + X / 0.75) / 2\n",
    "Y3 = np.random.uniform(Y1, Y2, len(X))"
   ]
  },
  {
   "cell_type": "code",
   "execution_count": 45,
   "id": "2bba2189-f6e2-41b1-9e4c-71a4c0d7a965",
   "metadata": {},
   "outputs": [
    {
     "data": {
      "image/png": "[encoded data removed]",
      "text/plain": [
       "<Figure size 300x300 with 1 Axes>"
      ]
     },
     "metadata": {},
     "output_type": "display_data"
    }
   ],
   "source": [
    "#demo plot\n",
    "fig, ax = plt.subplots(1,1, figsize = (3,3))\n",
    "ax.scatter(X, Y3, s=10)\n",
    "ax.plot(X, Y1)\n",
    "ax.plot(X, Y2)\n",
    "plt.show()"
   ]
  },
  {
   "cell_type": "markdown",
   "id": "8bc55554-6885-41f2-973b-d336adfc0395",
   "metadata": {},
   "source": [
    "### 4. How to see all available features/arguments for an object? \n",
    "___(Here, fig and ax refers to the plot above.)___"
   ]
  },
  {
   "cell_type": "markdown",
   "id": "f7c8329d-ff78-4057-9ece-8167aac952f5",
   "metadata": {},
   "source": [
    "#### 4a. Figure container features"
   ]
  },
  {
   "cell_type": "code",
   "execution_count": 41,
   "id": "b6fa72eb-404a-4603-9697-ca873faf9614",
   "metadata": {},
   "outputs": [
    {
     "name": "stdout",
     "output_type": "stream",
     "text": [
      "  agg_filter: a filter function, which takes a (m, n, 3) float array and a dpi value, and returns a (m, n, 3) array and two offsets from the bottom left corner of the image\n",
      "  alpha: scalar or None\n",
      "  animated: bool\n",
      "  canvas: FigureCanvas\n",
      "  clip_box: `~matplotlib.transforms.BboxBase` or None\n",
      "  clip_on: bool\n",
      "  clip_path: Patch or (Path, Transform) or None\n",
      "  constrained_layout: unknown\n",
      "  constrained_layout_pads: unknown\n",
      "  dpi: float\n",
      "  edgecolor: :mpltype:`color`\n",
      "  facecolor: :mpltype:`color`\n",
      "  figheight: float\n",
      "  figure: `~matplotlib.figure.Figure`\n",
      "  figwidth: float\n",
      "  frameon: bool\n",
      "  gid: str\n",
      "  in_layout: bool\n",
      "  label: object\n",
      "  layout_engine: {'constrained', 'compressed', 'tight', 'none', `.LayoutEngine`, None}\n",
      "  linewidth: number\n",
      "  mouseover: bool\n",
      "  path_effects: list of `.AbstractPathEffect`\n",
      "  picker: None or bool or float or callable\n",
      "  rasterized: bool\n",
      "  size_inches: (float, float) or float\n",
      "  sketch_params: (scale: float, length: float, randomness: float)\n",
      "  snap: bool or None\n",
      "  tight_layout: unknown\n",
      "  transform: `~matplotlib.transforms.Transform`\n",
      "  url: str\n",
      "  visible: bool\n",
      "  zorder: float\n"
     ]
    }
   ],
   "source": [
    "#Important function to see all available arguments in an object\n",
    "plt.setp(fig)"
   ]
  },
  {
   "cell_type": "markdown",
   "id": "91b56009-ca55-4eb0-bff2-cfdd74e0c821",
   "metadata": {},
   "source": [
    "#### 4b. X-Y axis features"
   ]
  },
  {
   "cell_type": "code",
   "execution_count": 42,
   "id": "5f4feeed-129f-470e-88c1-cae00e0cdf72",
   "metadata": {},
   "outputs": [
    {
     "name": "stdout",
     "output_type": "stream",
     "text": [
      "  adjustable: {'box', 'datalim'}\n",
      "  agg_filter: a filter function, which takes a (m, n, 3) float array and a dpi value, and returns a (m, n, 3) array and two offsets from the bottom left corner of the image\n",
      "  alpha: scalar or None\n",
      "  anchor: (float, float) or {'C', 'SW', 'S', 'SE', 'E', 'NE', ...}\n",
      "  animated: bool\n",
      "  aspect: {'auto', 'equal'} or float\n",
      "  autoscale_on: bool\n",
      "  autoscalex_on: unknown\n",
      "  autoscaley_on: unknown\n",
      "  axes_locator: Callable[[Axes, Renderer], Bbox]\n",
      "  axisbelow: bool or 'line'\n",
      "  box_aspect: float or None\n",
      "  clip_box: `~matplotlib.transforms.BboxBase` or None\n",
      "  clip_on: bool\n",
      "  clip_path: Patch or (Path, Transform) or None\n",
      "  facecolor or fc: :mpltype:`color`\n",
      "  figure: `~matplotlib.figure.Figure`\n",
      "  forward_navigation_events: bool or \"auto\"\n",
      "  frame_on: bool\n",
      "  gid: str\n",
      "  in_layout: bool\n",
      "  label: object\n",
      "  mouseover: bool\n",
      "  navigate: bool\n",
      "  navigate_mode: unknown\n",
      "  path_effects: list of `.AbstractPathEffect`\n",
      "  picker: None or bool or float or callable\n",
      "  position: [left, bottom, width, height] or `~matplotlib.transforms.Bbox`\n",
      "  prop_cycle: `~cycler.Cycler`\n",
      "  rasterization_zorder: float or None\n",
      "  rasterized: bool\n",
      "  sketch_params: (scale: float, length: float, randomness: float)\n",
      "  snap: bool or None\n",
      "  subplotspec: unknown\n",
      "  title: str\n",
      "  transform: `~matplotlib.transforms.Transform`\n",
      "  url: str\n",
      "  visible: bool\n",
      "  xbound: (lower: float, upper: float)\n",
      "  xlabel: str\n",
      "  xlim: (left: float, right: float)\n",
      "  xmargin: float greater than -0.5\n",
      "  xscale: unknown\n",
      "  xticklabels: unknown\n",
      "  xticks: unknown\n",
      "  ybound: (lower: float, upper: float)\n",
      "  ylabel: str\n",
      "  ylim: (bottom: float, top: float)\n",
      "  ymargin: float greater than -0.5\n",
      "  yscale: unknown\n",
      "  yticklabels: unknown\n",
      "  yticks: unknown\n",
      "  zorder: float\n"
     ]
    }
   ],
   "source": [
    "#to see all available options\n",
    "plt.setp(ax)"
   ]
  },
  {
   "cell_type": "markdown",
   "id": "d099d606-ae16-4811-85ff-16e59f299dc2",
   "metadata": {},
   "source": [
    "### 5. How to extract feature-values of current figure's components?"
   ]
  },
  {
   "cell_type": "markdown",
   "id": "7bfeb8df-4c01-4dab-a517-c6cb6572e021",
   "metadata": {},
   "source": [
    "#### 5a. Current X-axis extent"
   ]
  },
  {
   "cell_type": "code",
   "execution_count": 43,
   "id": "6f02a349-c510-430c-8b58-0b17f6613d8d",
   "metadata": {},
   "outputs": [
    {
     "data": {
      "text/plain": [
       "(np.float64(0.35), np.float64(3.65))"
      ]
     },
     "execution_count": 43,
     "metadata": {},
     "output_type": "execute_result"
    }
   ],
   "source": [
    "#what is the current extent of x-axis?\n",
    "plt.getp(ax, \"xlim\")"
   ]
  },
  {
   "cell_type": "markdown",
   "id": "4940a0c6-c8f8-422e-9dd1-f19115c983b2",
   "metadata": {},
   "source": [
    "#### 5b. Current Y-axis extent"
   ]
  },
  {
   "cell_type": "code",
   "execution_count": 44,
   "id": "7e718dab-ffaa-40f3-b9cd-1030967673d2",
   "metadata": {},
   "outputs": [
    {
     "data": {
      "text/plain": [
       "(np.float64(0.3312261153683853), np.float64(4.0464566783914195))"
      ]
     },
     "execution_count": 44,
     "metadata": {},
     "output_type": "execute_result"
    }
   ],
   "source": [
    "#current extent of y-axis?\n",
    "plt.getp(ax, \"ylim\")"
   ]
  },
  {
   "cell_type": "markdown",
   "id": "29824c13-6b32-4f2b-88fe-c90467bf1c9d",
   "metadata": {},
   "source": [
    "### 6. Set custom values to the plot"
   ]
  },
  {
   "cell_type": "markdown",
   "id": "a1e54dfa-15e4-4751-8a32-89c4e395efec",
   "metadata": {},
   "source": [
    "#### 6a. Set title, xlabel, ylabel etc."
   ]
  },
  {
   "cell_type": "code",
   "execution_count": 46,
   "id": "ffe8d1cd-5a13-4c0d-bf5d-848b4c2b2906",
   "metadata": {},
   "outputs": [
    {
     "data": {
      "text/plain": [
       "[Text(0.5, 4.444444444444445, 'new x!'),\n",
       " Text(4.444444444444445, 0.5, 'new y!'),\n",
       " Text(0.5, 1.0, 'dummy title for dummy plot'),\n",
       " 0.0,\n",
       " 4.0,\n",
       " 0.0,\n",
       " 5.0]"
      ]
     },
     "execution_count": 46,
     "metadata": {},
     "output_type": "execute_result"
    }
   ],
   "source": [
    "plt.setp(\n",
    "    ax,\n",
    "    xlabel = \"new x!\",\n",
    "    ylabel = \"new y!\",\n",
    "    title = \"dummy title for dummy plot\",\n",
    "    xlim = (0,4),\n",
    "    ylim = (0,5)\n",
    ")"
   ]
  },
  {
   "cell_type": "markdown",
   "id": "c4e89b8a-631b-4381-973f-02c8298f69aa",
   "metadata": {},
   "source": [
    "#### 6b. See the plot with updated settings"
   ]
  },
  {
   "cell_type": "code",
   "execution_count": 47,
   "id": "43d95b97-b7aa-4889-9a3b-9b73a54458a7",
   "metadata": {},
   "outputs": [
    {
     "data": {
      "image/png": "[encoded data removed]",
      "text/plain": [
       "<Figure size 300x300 with 1 Axes>"
      ]
     },
     "execution_count": 47,
     "metadata": {},
     "output_type": "execute_result"
    }
   ],
   "source": [
    "fig.get_figure()"
   ]
  },
  {
   "cell_type": "code",
   "execution_count": null,
   "id": "b7866629-db9d-49a0-b664-a746bd524241",
   "metadata": {},
   "outputs": [],
   "source": []
  }
 ],
 "metadata": {
  "kernelspec": {
   "display_name": "Python 3 (ipykernel)",
   "language": "python",
   "name": "python3"
  },
  "language_info": {
   "codemirror_mode": {
    "name": "ipython",
    "version": 3
   },
   "file_extension": ".py",
   "mimetype": "text/x-python",
   "name": "python",
   "nbconvert_exporter": "python",
   "pygments_lexer": "ipython3",
   "version": "3.11.8"
  }
 },
 "nbformat": 4,
 "nbformat_minor": 5
}
